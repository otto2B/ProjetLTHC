{
  "nbformat": 4,
  "nbformat_minor": 0,
  "metadata": {
    "colab": {
      "name": "SemesterProject.ipynb",
      "provenance": [],
      "collapsed_sections": []
    },
    "kernelspec": {
      "name": "python3",
      "display_name": "Python 3"
    },
    "language_info": {
      "name": "python"
    }
  },
  "cells": [
    {
      "cell_type": "code",
      "metadata": {
        "colab": {
          "base_uri": "https://localhost:8080/"
        },
        "id": "YoKtb8flrG6C",
        "outputId": "9e892b33-ed06-4da4-b244-9451c57193df"
      },
      "source": [
        "!git clone https://github.com/antoinexp/SemesterProject.git"
      ],
      "execution_count": null,
      "outputs": [
        {
          "output_type": "stream",
          "text": [
            "fatal: destination path 'SemesterProject' already exists and is not an empty directory.\n"
          ],
          "name": "stdout"
        }
      ]
    },
    {
      "cell_type": "code",
      "metadata": {
        "colab": {
          "base_uri": "https://localhost:8080/"
        },
        "id": "q_FRFeM6rI4j",
        "outputId": "38eca751-4aa0-4823-bf2b-f841fecf081b"
      },
      "source": [
        "%cd \"./SemesterProject/PROJECT\""
      ],
      "execution_count": null,
      "outputs": [
        {
          "output_type": "stream",
          "text": [
            "/content/SemesterProject/PROJECT\n"
          ],
          "name": "stdout"
        }
      ]
    },
    {
      "cell_type": "code",
      "metadata": {
        "id": "OXYbLlNRrPck"
      },
      "source": [
        "import torch\n",
        "import numpy as np\n",
        "import util as f\n",
        "import gradient_descent as gd\n",
        "import matplotlib.pyplot as plt"
      ],
      "execution_count": null,
      "outputs": []
    },
    {
      "cell_type": "code",
      "metadata": {
        "id": "l1KEPCwSsU_0"
      },
      "source": [
        "#Size of the matrix Y\n",
        "N = 100\n",
        "M = N\n",
        "\n",
        "#\n",
        "lambda_ = 20.\n",
        "\n",
        "#temperatures\n",
        "beta_u = float(\"inf\")\n",
        "beta_v = beta_u\n",
        "\n",
        "#learning rates\n",
        "lambda_1 = 1\n",
        "lambda_2 = lambda_1\n",
        "\n",
        "# Pas de temps\n",
        "dt = 1/100"
      ],
      "execution_count": null,
      "outputs": []
    },
    {
      "cell_type": "code",
      "metadata": {
        "id": "4RGsUIpyxssA"
      },
      "source": [
        "u_ = f.generate_vector(N)\n",
        "v_ = f.generate_vector(M)\n",
        "\n",
        "Y = f.generate_Y(u_,v_, lambda_)\n",
        "\n",
        "# Conditions initiales\n",
        "\n",
        "u_p = f.generate_vector(N)\n",
        "v_p = f.generate_vector(M)\n"
      ],
      "execution_count": null,
      "outputs": []
    },
    {
      "cell_type": "code",
      "metadata": {
        "colab": {
          "base_uri": "https://localhost:8080/"
        },
        "id": "0W7lnFbgy5Ca",
        "outputId": "d7c6753d-2463-4058-b2d1-fa13b132292c"
      },
      "source": [
        "(f.overlap(u_,u_p,N), f.overlap(v_,v_p,M) )"
      ],
      "execution_count": null,
      "outputs": [
        {
          "output_type": "execute_result",
          "data": {
            "text/plain": [
              "(tensor([[-0.0136]]), tensor([[0.0587]]))"
            ]
          },
          "metadata": {
            "tags": []
          },
          "execution_count": 36
        }
      ]
    },
    {
      "cell_type": "code",
      "metadata": {
        "id": "1d0LgClyvAHz"
      },
      "source": [
        "def main_gradient_2_sans_proj_normalisation(u_p, v_p, Y, u_, v_, N, M, lambda_, beta_u, beta_v, lambda_1, lambda_2, dt):\n",
        "    res = []\n",
        "\n",
        "    iteration = 100\n",
        "    for i in range(iteration):\n",
        "      if i%10==0:\n",
        "        print(f\"progress {100*i/iteration:.2f}%\")\n",
        "      sqrt_dt = torch.tensor(np.sqrt(dt))\n",
        "\n",
        "      u_1 = (1/lambda_1) * f.gradient_u_2(u_p,v_p,Y,lambda_) * dt\n",
        "      u_2 = torch.sqrt(torch.tensor(2/(lambda_1*beta_u))) * torch.normal(0, sqrt_dt, size=(1, N))\n",
        "      u_3 = ((N-1)/(N*lambda_1*beta_u))*u_p*dt\n",
        "\n",
        "\n",
        "      u_n = u_p - u_1 + u_2 - u_3\n",
        "\n",
        "      v_1 = 1/lambda_2 * f.gradient_v_2(u_p,v_p,Y,lambda_) * dt\n",
        "      v_2 = torch.sqrt(torch.tensor(2/(lambda_2*beta_v))) * torch.normal(0, sqrt_dt, size=(1, M))\n",
        "      v_3 = ((M-1)/(M*lambda_2*beta_v))*v_p*dt\n",
        "      v_n = v_p - v_1 + v_2 - v_3\n",
        "\n",
        "      u_n = u_n / torch.linalg.norm(u_n)\n",
        "      v_n = v_n / torch.linalg.norm(v_n)\n",
        "      u_n = u_n * torch.sqrt(torch.tensor(N))\n",
        "      v_n = v_n * torch.sqrt(torch.tensor(N))\n",
        "\n",
        "      res.append( (f.overlap(u_,u_n,N), f.overlap(v_,v_n,M)) )\n",
        "\n",
        "      u_p = u_n\n",
        "      v_p = v_n\n",
        "    \n",
        "    res_u = f.overlap(u_,u_n,N)\n",
        "    res_v = f.overlap(v_,v_n,M)\n",
        "    print(\"g2_u_norm: \", res_u, \"g2_v_norm: \", res_v)\n",
        "\n",
        "    return np.array(res)"
      ],
      "execution_count": null,
      "outputs": []
    },
    {
      "cell_type": "code",
      "metadata": {
        "colab": {
          "base_uri": "https://localhost:8080/"
        },
        "id": "2NpUaP8CvCOd",
        "outputId": "f082b359-6ab0-442e-eb8a-6490e998515a"
      },
      "source": [
        "res = main_gradient_2_sans_proj_normalisation(u_p, v_p, Y, u_, v_, N, M, lambda_, beta_u, beta_v, lambda_1, lambda_2, dt)"
      ],
      "execution_count": null,
      "outputs": [
        {
          "output_type": "stream",
          "text": [
            "progress 0.00%\n",
            "progress 10.00%\n",
            "progress 20.00%\n",
            "progress 30.00%\n",
            "progress 40.00%\n",
            "progress 50.00%\n",
            "progress 60.00%\n",
            "progress 70.00%\n",
            "progress 80.00%\n",
            "progress 90.00%\n",
            "g2_u_norm:  tensor([[0.9791]]) g2_v_norm:  tensor([[0.9786]])\n"
          ],
          "name": "stdout"
        }
      ]
    },
    {
      "cell_type": "code",
      "metadata": {
        "colab": {
          "base_uri": "https://localhost:8080/",
          "height": 279
        },
        "id": "EzfV5GlAsuQy",
        "outputId": "868f9c45-3784-4a1a-e939-531817be06b4"
      },
      "source": [
        "plt.plot(res)\n",
        "plt.grid()\n",
        "plt.xlabel(\"iteration\")\n",
        "plt.ylabel(\"overlaps\")\n",
        "plt.ylim(-1.1,1.1)\n",
        "plt.show()"
      ],
      "execution_count": null,
      "outputs": [
        {
          "output_type": "display_data",
          "data": {
            "image/png": "[encoded data removed]",
            "text/plain": [
              "<Figure size 432x288 with 1 Axes>"
            ]
          },
          "metadata": {
            "tags": [],
            "needs_background": "light"
          }
        }
      ]
    },
    {
      "cell_type": "code",
      "metadata": {
        "id": "tfaDL7OQzspU"
      },
      "source": [
        ""
      ],
      "execution_count": null,
      "outputs": []
    }
  ]
}