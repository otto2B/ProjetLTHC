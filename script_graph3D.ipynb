{
 "cells": [
  {
   "cell_type": "code",
   "execution_count": 9,
   "metadata": {},
   "outputs": [],
   "source": [
    "import torch\n",
    "import numpy as np\n",
    "import matplotlib.pyplot as plt\n",
    "import PROJECT.util as f\n",
    "from matplotlib.pyplot import cm\n",
    "from mpl_toolkits import mplot3d\n",
    "import plotly.graph_objects as go\n",
    "import pandas as pd"
   ]
  },
  {
   "cell_type": "code",
   "execution_count": 10,
   "metadata": {},
   "outputs": [],
   "source": [
    "# Pour des vecteurs u* et v*,\n",
    "# les overlaps obtenus sont soit les deux positifs ou les deux négatifs, on a:\n",
    "# overlap(u*)= -x et overlap(v*)= -y ou overlap(u*)= x et overlap(v*)= y.\n",
    "# on prend donc le min(u-x, u+x):\n",
    "\n",
    "# si u est positif et x est positif:\n",
    "# min(u-x, u+x) -> u-x est bon\n",
    "\n",
    "# si u est positif et x est négatif:\n",
    "# min(u-(-x), u+(-x)) -> u+(-x) =u-x est bon\n",
    "\n",
    "# si u est négatif et x est positif:\n",
    "# min(-u-x, -u+x) -> -u+x =x-u est bon\n",
    "\n",
    "# si u est négatif et x est négatif:\n",
    "# min(-u-(-x), -u+(-x)) -> -u-(-x) =x-u est bon\n",
    "\n",
    "def mse(x,y):\n",
    "    a=torch.pow((x-y),2).mean(0)\n",
    "    b=torch.pow((x+y),2).mean(0)\n",
    "    return torch.min(a,b)"
   ]
  },
  {
   "cell_type": "code",
   "execution_count": 11,
   "metadata": {},
   "outputs": [],
   "source": [
    "def main_gradient_2_sans_proj_normalisation(iteration, u_p, v_p, Y, u_, v_, N, M, lambda_, beta_u, beta_v, lambda_1, lambda_2, dt):\n",
    "\n",
    "    res = []\n",
    "    res_mse= []\n",
    "    \n",
    "    mod = iteration*0.1\n",
    "    \n",
    "    stabilisation_check=np.empty((0,2))\n",
    "\n",
    "    for i in range(iteration):\n",
    "\n",
    "        # Computation\n",
    "        sqrt_dt = torch.sqrt(dt)\n",
    "\n",
    "        u_1 = (1/lambda_1) * f.gradient_u_2(N, M, u_p,v_p,Y,lambda_) * dt\n",
    "        u_2 = torch.sqrt(2/(lambda_1*beta_u)) * torch.empty(N).normal_(mean=0,std=sqrt_dt)\n",
    "        u_3 = ((N-1)/(N*lambda_1*beta_u))*u_p*dt\n",
    "        u_n = u_p - u_1 + u_2 - u_3\n",
    "\n",
    "        v_1 = 1/lambda_2 * f.gradient_v_2(N,M,u_p,v_p,Y,lambda_) * dt\n",
    "        v_2 = torch.sqrt(2/(lambda_2*beta_v)) * torch.empty(M).normal_(mean=0,std=sqrt_dt)\n",
    "        v_3 = ((M-1)/(M*lambda_2*beta_v))*v_p*dt\n",
    "        v_n = v_p - v_1 + v_2 - v_3\n",
    "\n",
    "        # Normalisation\n",
    "        u_n = u_n / torch.linalg.norm(u_n)\n",
    "        v_n = v_n / torch.linalg.norm(v_n)\n",
    "        u_n = u_n * torch.sqrt(N)\n",
    "        v_n = v_n * torch.sqrt(M)\n",
    "\n",
    "        # Re-asign for the loop\n",
    "        u_p = u_n\n",
    "        v_p = v_n\n",
    "    \n",
    "        res_u = torch.abs(f.overlap(u_,u_n,N))\n",
    "        res_v = torch.abs(f.overlap(v_,v_n,M))\n",
    "        res.append((res_u,res_v))\n",
    "        \n",
    "        res_mse.append((mse(u_,u_n), mse(v_,v_n)))\n",
    "        \n",
    "        if i%mod==0:\n",
    "            print(f\"progress {100*i/iteration:.2f}%\", end=\"\\r\")\n",
    "        if i==iteration-1:\n",
    "            print(f\"overlap(u, v): ({res_u}; {res_v})\")\n",
    "\n",
    "    return np.array(res), np.array(res_mse)"
   ]
  },
  {
   "cell_type": "code",
   "execution_count": null,
   "metadata": {},
   "outputs": [],
   "source": []
  },
  {
   "cell_type": "code",
   "execution_count": 90,
   "metadata": {},
   "outputs": [],
   "source": [
    "def one_run(lambda_=2, N=100, M=100, beta_u=2, beta_v=2, lambda_1=1,\n",
    "        lambda_2=0.1, dt=1/100, iteration=1000):\n",
    "      #Size of the matrix Y\n",
    "    N = torch.tensor(N)\n",
    "    M = torch.tensor(M)\n",
    "\n",
    "    # lambda\n",
    "    lambda_ = torch.tensor(lambda_)\n",
    "\n",
    "    #temperatures\n",
    "    beta_u = torch.tensor(beta_u)\n",
    "    beta_v = torch.tensor(beta_v)\n",
    "\n",
    "    #learning rates\n",
    "    lambda_1 = torch.tensor(lambda_1)\n",
    "    lambda_2 = torch.tensor(lambda_2)\n",
    "\n",
    "    # Pas de temps\n",
    "    dt = torch.tensor(dt)\n",
    "\n",
    "    u_ = f.generate_vector(N)\n",
    "    v_ = f.generate_vector(M)\n",
    "\n",
    "    Y = f.generate_Y(N, M, u_,v_, lambda_)\n",
    "    #print(Y)\n",
    "\n",
    "    # Conditions initiales\n",
    "    u_p = f.generate_vector(N)\n",
    "    v_p = f.generate_vector(M)\n",
    "\n",
    "    # Perform the gradient descent\n",
    "    (res, res_mse) = main_gradient_2_sans_proj_normalisation(iteration, u_p, v_p, Y, u_, v_, N, M, lambda_, beta_u, beta_v, lambda_1, lambda_2, dt)\n",
    "    \n",
    "    return res, res_mse\n"
   ]
  },
  {
   "cell_type": "code",
   "execution_count": 91,
   "metadata": {},
   "outputs": [],
   "source": [
    "# MAIN METHOD:\n",
    "\n",
    "def main(size_of_one_sample, list_value_1, list_value_2):\n",
    "    \n",
    "    all_overlap_iterations=[]\n",
    "    all_final_overlaps=[]\n",
    "    \n",
    "    all_mse_iterations=[]\n",
    "    all_final_mse=[]\n",
    "    \n",
    "    for value_to_test_1 in list_value_1:\n",
    "        \n",
    "        for value_to_test_2 in list_value_2:\n",
    "        \n",
    "            one_run_overlap_iterations=[]\n",
    "            one_run_mse_iterations=[]\n",
    "\n",
    "            # Calculation\n",
    "            for _ in range(size_of_one_sample):\n",
    "                (current_uv_overlap,current_uv_mse)=one_run(beta_u=value_to_test_1, beta_v=value_to_test_2)\n",
    "                # Store the overlap at the end of each iterations:\n",
    "                one_run_overlap_iterations.append(current_uv_overlap)\n",
    "                # Store the mse at the end of each iterations:\n",
    "                one_run_mse_iterations.append(current_uv_mse)\n",
    "\n",
    "            # Store the overlap/mse at the final iteration:\n",
    "            one_run_final_overlap = np.array([x[-1] for x in one_run_overlap_iterations])\n",
    "            one_run_final_mse = np.array([x[-1] for x in one_run_mse_iterations])\n",
    "\n",
    "            # Add the results of this specific run to the global array:\n",
    "            # overlap at all iterations:\n",
    "            all_overlap_iterations.append(one_run_overlap_iterations)\n",
    "            # overlap at the final iteration:\n",
    "            all_final_overlaps.append(one_run_final_overlap)\n",
    "            # mse at all iterations:\n",
    "            all_mse_iterations.append(one_run_mse_iterations)\n",
    "            # mse at the final iteration:\n",
    "            all_final_mse.append(one_run_final_mse)\n",
    "            \n",
    "    return np.array(all_overlap_iterations), np.array(all_final_overlaps), np.array(all_mse_iterations), np.array(all_final_mse)"
   ]
  },
  {
   "cell_type": "code",
   "execution_count": 1,
   "metadata": {},
   "outputs": [
    {
     "ename": "NameError",
     "evalue": "name 'np' is not defined",
     "output_type": "error",
     "traceback": [
      "\u001b[1;31m---------------------------------------------------------------------------\u001b[0m",
      "\u001b[1;31mNameError\u001b[0m                                 Traceback (most recent call last)",
      "\u001b[1;32m<ipython-input-1-da03ee732224>\u001b[0m in \u001b[0;36m<module>\u001b[1;34m\u001b[0m\n\u001b[0;32m      1\u001b[0m \u001b[1;31m# MAIN CELL: DO THE COMPUTATION\u001b[0m\u001b[1;33m\u001b[0m\u001b[1;33m\u001b[0m\u001b[1;33m\u001b[0m\u001b[0m\n\u001b[0;32m      2\u001b[0m \u001b[1;33m\u001b[0m\u001b[0m\n\u001b[1;32m----> 3\u001b[1;33m \u001b[0mlist_value_1\u001b[0m \u001b[1;33m=\u001b[0m \u001b[0mnp\u001b[0m\u001b[1;33m.\u001b[0m\u001b[0mlogspace\u001b[0m\u001b[1;33m(\u001b[0m\u001b[1;33m-\u001b[0m\u001b[1;36m1\u001b[0m\u001b[1;33m,\u001b[0m\u001b[1;36m0.5\u001b[0m\u001b[1;33m,\u001b[0m \u001b[1;36m10\u001b[0m\u001b[1;33m)\u001b[0m\u001b[1;33m\u001b[0m\u001b[1;33m\u001b[0m\u001b[0m\n\u001b[0m\u001b[0;32m      4\u001b[0m \u001b[1;31m#list_value_1 = np.arange(0.1, 1, 0.1)\u001b[0m\u001b[1;33m\u001b[0m\u001b[1;33m\u001b[0m\u001b[1;33m\u001b[0m\u001b[0m\n\u001b[0;32m      5\u001b[0m \u001b[1;31m#list_value_1 = np.array([1])\u001b[0m\u001b[1;33m\u001b[0m\u001b[1;33m\u001b[0m\u001b[1;33m\u001b[0m\u001b[0m\n",
      "\u001b[1;31mNameError\u001b[0m: name 'np' is not defined"
     ]
    }
   ],
   "source": [
    "# MAIN CELL: DO THE COMPUTATION\n",
    "\n",
    "list_value_1 = np.logspace(-1,0.5, 10)\n",
    "#list_value_1 = np.arange(0.1, 1, 0.1)\n",
    "#list_value_1 = np.array([1])\n",
    "\n",
    "list_value_2 = np.logspace(-1,0.5, 10)\n",
    "#list_value_2 = np.arange(0.1, 1, 0.1)\n",
    "#list_value_2 = np.array([1])\n",
    "\n",
    "size_of_one_sample=10\n",
    "\n",
    "(overlap_at_each_iterations, overlap_at_final_iteration,\n",
    " mse_at_each_iterations, mse_at_final_iteration) = main(size_of_one_sample, list_value_1, list_value_2)"
   ]
  },
  {
   "cell_type": "code",
   "execution_count": 110,
   "metadata": {},
   "outputs": [],
   "source": [
    "name_value_1=\"beta_u\"\n",
    "name_value_2=\"beta_v\"\n",
    "\n",
    "# var = mean(abs(a - a.mean())**2)."
   ]
  },
  {
   "cell_type": "code",
   "execution_count": 2,
   "metadata": {},
   "outputs": [
    {
     "ename": "NameError",
     "evalue": "name 'np' is not defined",
     "output_type": "error",
     "traceback": [
      "\u001b[1;31m---------------------------------------------------------------------------\u001b[0m",
      "\u001b[1;31mNameError\u001b[0m                                 Traceback (most recent call last)",
      "\u001b[1;32m<ipython-input-2-9289138bc0c1>\u001b[0m in \u001b[0;36m<module>\u001b[1;34m\u001b[0m\n\u001b[0;32m      3\u001b[0m \u001b[0mselected_run\u001b[0m\u001b[1;33m=\u001b[0m\u001b[1;36m0\u001b[0m\u001b[1;33m\u001b[0m\u001b[1;33m\u001b[0m\u001b[0m\n\u001b[0;32m      4\u001b[0m \u001b[1;33m\u001b[0m\u001b[0m\n\u001b[1;32m----> 5\u001b[1;33m \u001b[0mvar_u\u001b[0m\u001b[1;33m,\u001b[0m\u001b[0mvar_v\u001b[0m\u001b[1;33m=\u001b[0m\u001b[0mnp\u001b[0m\u001b[1;33m.\u001b[0m\u001b[0mvar\u001b[0m\u001b[1;33m(\u001b[0m\u001b[0moverlap_at_each_iterations\u001b[0m\u001b[1;33m[\u001b[0m\u001b[0mselected_run\u001b[0m\u001b[1;33m]\u001b[0m\u001b[1;33m,\u001b[0m \u001b[0maxis\u001b[0m\u001b[1;33m=\u001b[0m\u001b[1;36m0\u001b[0m\u001b[1;33m)\u001b[0m\u001b[1;33m.\u001b[0m\u001b[0mT\u001b[0m\u001b[1;33m\u001b[0m\u001b[1;33m\u001b[0m\u001b[0m\n\u001b[0m\u001b[0;32m      6\u001b[0m \u001b[0moverlap_u\u001b[0m\u001b[1;33m,\u001b[0m\u001b[0moverlap_v\u001b[0m\u001b[1;33m=\u001b[0m\u001b[0moverlap_at_each_iterations\u001b[0m\u001b[1;33m.\u001b[0m\u001b[0mmean\u001b[0m\u001b[1;33m(\u001b[0m\u001b[1;36m1\u001b[0m\u001b[1;33m)\u001b[0m\u001b[1;33m[\u001b[0m\u001b[0mselected_run\u001b[0m\u001b[1;33m]\u001b[0m\u001b[1;33m.\u001b[0m\u001b[0mT\u001b[0m\u001b[1;33m\u001b[0m\u001b[1;33m\u001b[0m\u001b[0m\n\u001b[0;32m      7\u001b[0m \u001b[1;33m\u001b[0m\u001b[0m\n",
      "\u001b[1;31mNameError\u001b[0m: name 'np' is not defined"
     ]
    }
   ],
   "source": [
    "# STABILISATION OVERLAP AVEC PLOTLY\n",
    "# CHANGER SELECTED_RUN !\n",
    "selected_run=0\n",
    "\n",
    "var_u,var_v=np.var(overlap_at_each_iterations[selected_run], axis=0).T\n",
    "overlap_u,overlap_v=overlap_at_each_iterations.mean(1)[selected_run].T\n",
    "\n",
    "x=[i for i in range(len(overlap_u))]\n",
    "\n",
    "fig=go.Figure(data=[go.Scatter(\n",
    "        x=x,\n",
    "        y=overlap_u,\n",
    "        error_y=dict(\n",
    "            type='data', # value of error bar given in data coordinates\n",
    "            array=var_u,\n",
    "            visible=True),\n",
    "        name=\"u overlap\"\n",
    "    ),\n",
    "      go.Scatter(\n",
    "        x=x,\n",
    "        y=overlap_v,\n",
    "        error_y=dict(\n",
    "            type='data', # value of error bar given in data coordinates\n",
    "            array=var_v,\n",
    "            visible=True),\n",
    "        name=\"v overlap\"     \n",
    "      )])\n",
    "\n",
    "fig.update_layout(\n",
    "    title=\"Stabilisation overlap pour: \"+f\"{name_value_1}={list_value_1[selected_run//len(list_value_2)]}\"\n",
    "                    + f\" & {name_value_2}={list_value_2[selected_run%len(list_value_2)]}\",\n",
    "    xaxis_title=\"Iterations\",\n",
    "    yaxis_title=\"Overlap\",\n",
    ")\n",
    "\n",
    "fig.show()"
   ]
  },
  {
   "cell_type": "code",
   "execution_count": 3,
   "metadata": {},
   "outputs": [
    {
     "ename": "NameError",
     "evalue": "name 'np' is not defined",
     "output_type": "error",
     "traceback": [
      "\u001b[1;31m---------------------------------------------------------------------------\u001b[0m",
      "\u001b[1;31mNameError\u001b[0m                                 Traceback (most recent call last)",
      "\u001b[1;32m<ipython-input-3-bb00734e3f26>\u001b[0m in \u001b[0;36m<module>\u001b[1;34m\u001b[0m\n\u001b[0;32m      3\u001b[0m \u001b[0mselected_run\u001b[0m\u001b[1;33m=\u001b[0m\u001b[1;36m0\u001b[0m\u001b[1;33m\u001b[0m\u001b[1;33m\u001b[0m\u001b[0m\n\u001b[0;32m      4\u001b[0m \u001b[1;33m\u001b[0m\u001b[0m\n\u001b[1;32m----> 5\u001b[1;33m \u001b[0mvar_u\u001b[0m\u001b[1;33m,\u001b[0m\u001b[0mvar_v\u001b[0m\u001b[1;33m=\u001b[0m\u001b[0mnp\u001b[0m\u001b[1;33m.\u001b[0m\u001b[0mvar\u001b[0m\u001b[1;33m(\u001b[0m\u001b[0mmse_at_each_iterations\u001b[0m\u001b[1;33m[\u001b[0m\u001b[0mselected_run\u001b[0m\u001b[1;33m]\u001b[0m\u001b[1;33m,\u001b[0m \u001b[0maxis\u001b[0m\u001b[1;33m=\u001b[0m\u001b[1;36m0\u001b[0m\u001b[1;33m)\u001b[0m\u001b[1;33m.\u001b[0m\u001b[0mT\u001b[0m\u001b[1;33m\u001b[0m\u001b[1;33m\u001b[0m\u001b[0m\n\u001b[0m\u001b[0;32m      6\u001b[0m \u001b[0mmse_u\u001b[0m\u001b[1;33m,\u001b[0m\u001b[0mmse_v\u001b[0m\u001b[1;33m=\u001b[0m\u001b[0mmse_at_each_iterations\u001b[0m\u001b[1;33m.\u001b[0m\u001b[0mmean\u001b[0m\u001b[1;33m(\u001b[0m\u001b[1;36m1\u001b[0m\u001b[1;33m)\u001b[0m\u001b[1;33m[\u001b[0m\u001b[0mselected_run\u001b[0m\u001b[1;33m]\u001b[0m\u001b[1;33m.\u001b[0m\u001b[0mT\u001b[0m\u001b[1;33m\u001b[0m\u001b[1;33m\u001b[0m\u001b[0m\n\u001b[0;32m      7\u001b[0m \u001b[1;33m\u001b[0m\u001b[0m\n",
      "\u001b[1;31mNameError\u001b[0m: name 'np' is not defined"
     ]
    }
   ],
   "source": [
    "# STABILISATION MSE AVEC PLOTLY\n",
    "# CHANGER SELECTED_RUN !\n",
    "selected_run=0\n",
    "\n",
    "var_u,var_v=np.var(mse_at_each_iterations[selected_run], axis=0).T\n",
    "mse_u,mse_v=mse_at_each_iterations.mean(1)[selected_run].T\n",
    "\n",
    "x=[i for i in range(len(mse_u))]\n",
    "\n",
    "fig=go.Figure(data=[go.Scatter(\n",
    "        x=x,\n",
    "        y=mse_u,\n",
    "        error_y=dict(\n",
    "            type='data', # value of error bar given in data coordinates\n",
    "            array=var_u,\n",
    "            visible=True),\n",
    "        name=\"u mse\"\n",
    "    ),\n",
    "      go.Scatter(\n",
    "        x=x,\n",
    "        y=mse_v,\n",
    "        error_y=dict(\n",
    "            type='data', # value of error bar given in data coordinates\n",
    "            array=var_v,\n",
    "            visible=True),\n",
    "        name=\"v mse\"     \n",
    "      )])\n",
    "\n",
    "fig.update_layout(\n",
    "    title=\"Stabilisation mse pour: \"+f\"{name_value_1}={list_value_1[selected_run//len(list_value_2)]}\"\n",
    "                    + f\" & {name_value_2}={list_value_2[selected_run%len(list_value_2)]}\",\n",
    "    xaxis_title=\"Iterations\",\n",
    "    yaxis_title=\"MSE\",\n",
    ")\n",
    "\n",
    "fig.show()"
   ]
  },
  {
   "cell_type": "code",
   "execution_count": 4,
   "metadata": {},
   "outputs": [
    {
     "ename": "NameError",
     "evalue": "name 'np' is not defined",
     "output_type": "error",
     "traceback": [
      "\u001b[1;31m---------------------------------------------------------------------------\u001b[0m",
      "\u001b[1;31mNameError\u001b[0m                                 Traceback (most recent call last)",
      "\u001b[1;32m<ipython-input-4-7a7931f7c05d>\u001b[0m in \u001b[0;36m<module>\u001b[1;34m\u001b[0m\n\u001b[0;32m      1\u001b[0m \u001b[1;31m######################### 3D PLOT OVERLAP\u001b[0m\u001b[1;33m\u001b[0m\u001b[1;33m\u001b[0m\u001b[1;33m\u001b[0m\u001b[0m\n\u001b[1;32m----> 2\u001b[1;33m \u001b[0mx\u001b[0m\u001b[1;33m,\u001b[0m \u001b[0my\u001b[0m \u001b[1;33m=\u001b[0m \u001b[0mnp\u001b[0m\u001b[1;33m.\u001b[0m\u001b[0mmeshgrid\u001b[0m\u001b[1;33m(\u001b[0m\u001b[0mlist_value_2\u001b[0m\u001b[1;33m,\u001b[0m\u001b[0mlist_value_1\u001b[0m\u001b[1;33m)\u001b[0m\u001b[1;33m\u001b[0m\u001b[1;33m\u001b[0m\u001b[0m\n\u001b[0m\u001b[0;32m      3\u001b[0m \u001b[0moverlap_mean\u001b[0m\u001b[1;33m=\u001b[0m\u001b[0moverlap_at_final_iteration\u001b[0m\u001b[1;33m.\u001b[0m\u001b[0mmean\u001b[0m\u001b[1;33m(\u001b[0m\u001b[0maxis\u001b[0m\u001b[1;33m=\u001b[0m\u001b[1;36m1\u001b[0m\u001b[1;33m)\u001b[0m\u001b[1;33m.\u001b[0m\u001b[0mmean\u001b[0m\u001b[1;33m(\u001b[0m\u001b[0maxis\u001b[0m\u001b[1;33m=\u001b[0m\u001b[1;36m1\u001b[0m\u001b[1;33m)\u001b[0m\u001b[1;33m\u001b[0m\u001b[1;33m\u001b[0m\u001b[0m\n\u001b[0;32m      4\u001b[0m \u001b[0moverlap_mean\u001b[0m\u001b[1;33m=\u001b[0m\u001b[0moverlap_mean\u001b[0m\u001b[1;33m.\u001b[0m\u001b[0mreshape\u001b[0m\u001b[1;33m(\u001b[0m\u001b[0mlen\u001b[0m\u001b[1;33m(\u001b[0m\u001b[0mlist_value_1\u001b[0m\u001b[1;33m)\u001b[0m\u001b[1;33m,\u001b[0m\u001b[0mlen\u001b[0m\u001b[1;33m(\u001b[0m\u001b[0mlist_value_2\u001b[0m\u001b[1;33m)\u001b[0m\u001b[1;33m)\u001b[0m\u001b[1;33m\u001b[0m\u001b[1;33m\u001b[0m\u001b[0m\n\u001b[0;32m      5\u001b[0m \u001b[1;33m\u001b[0m\u001b[0m\n",
      "\u001b[1;31mNameError\u001b[0m: name 'np' is not defined"
     ]
    }
   ],
   "source": [
    "######################### 3D PLOT OVERLAP\n",
    "x, y = np.meshgrid(list_value_2,list_value_1)\n",
    "overlap_mean=overlap_at_final_iteration.mean(axis=1).mean(axis=1)\n",
    "overlap_mean=overlap_mean.reshape(len(list_value_1),len(list_value_2))\n",
    "\n",
    "fig=plt.figure(facecolor='white')\n",
    "ax=plt.axes(projection='3d')\n",
    "ax.contour3D(x,y,overlap_mean, 50)\n",
    "\n",
    "ax.set_title(\"OVERLAP\")\n",
    "ax.set_xlabel(f\"{name_value_2}\")\n",
    "ax.set_ylabel(f\"{name_value_1}\")\n",
    "\n",
    "plt.show()"
   ]
  },
  {
   "cell_type": "code",
   "execution_count": 5,
   "metadata": {},
   "outputs": [
    {
     "ename": "NameError",
     "evalue": "name 'go' is not defined",
     "output_type": "error",
     "traceback": [
      "\u001b[1;31m---------------------------------------------------------------------------\u001b[0m",
      "\u001b[1;31mNameError\u001b[0m                                 Traceback (most recent call last)",
      "\u001b[1;32m<ipython-input-5-35d73eea2dbd>\u001b[0m in \u001b[0;36m<module>\u001b[1;34m\u001b[0m\n\u001b[0;32m      1\u001b[0m \u001b[1;31m######################### 3D PLOT OVERLAP AVEC PLOTLY\u001b[0m\u001b[1;33m\u001b[0m\u001b[1;33m\u001b[0m\u001b[1;33m\u001b[0m\u001b[0m\n\u001b[1;32m----> 2\u001b[1;33m \u001b[0mfig\u001b[0m \u001b[1;33m=\u001b[0m \u001b[0mgo\u001b[0m\u001b[1;33m.\u001b[0m\u001b[0mFigure\u001b[0m\u001b[1;33m(\u001b[0m\u001b[0mdata\u001b[0m\u001b[1;33m=\u001b[0m\u001b[1;33m[\u001b[0m\u001b[0mgo\u001b[0m\u001b[1;33m.\u001b[0m\u001b[0mSurface\u001b[0m\u001b[1;33m(\u001b[0m\u001b[0mz\u001b[0m\u001b[1;33m=\u001b[0m\u001b[0moverlap_mean\u001b[0m\u001b[1;33m,\u001b[0m \u001b[0mx\u001b[0m\u001b[1;33m=\u001b[0m\u001b[0mlist_value_2\u001b[0m\u001b[1;33m,\u001b[0m \u001b[0my\u001b[0m\u001b[1;33m=\u001b[0m\u001b[0mlist_value_1\u001b[0m\u001b[1;33m)\u001b[0m\u001b[1;33m]\u001b[0m\u001b[1;33m)\u001b[0m\u001b[1;33m\u001b[0m\u001b[1;33m\u001b[0m\u001b[0m\n\u001b[0m\u001b[0;32m      3\u001b[0m \u001b[1;33m\u001b[0m\u001b[0m\n\u001b[0;32m      4\u001b[0m fig.update_layout(\n\u001b[0;32m      5\u001b[0m     \u001b[0mtitle\u001b[0m\u001b[1;33m=\u001b[0m\u001b[1;34m\"OVERLAP: \"\u001b[0m\u001b[1;33m+\u001b[0m\u001b[1;34mf\"{name_value_1}={list_value_1[selected_run//len(list_value_2)]}\"\u001b[0m\u001b[1;33m\u001b[0m\u001b[1;33m\u001b[0m\u001b[0m\n",
      "\u001b[1;31mNameError\u001b[0m: name 'go' is not defined"
     ]
    }
   ],
   "source": [
    "######################### 3D PLOT OVERLAP AVEC PLOTLY\n",
    "fig = go.Figure(data=[go.Surface(z=overlap_mean, x=list_value_2, y=list_value_1)])\n",
    "\n",
    "fig.update_layout(\n",
    "    title=\"OVERLAP: \"+f\"{name_value_1}={list_value_1[selected_run//len(list_value_2)]}\"\n",
    "                    + f\" & {name_value_2}={list_value_2[selected_run%len(list_value_2)]}\",\n",
    ")\n",
    "fig.update_layout(scene = dict(\n",
    "                    xaxis_title=name_value_2,\n",
    "                    yaxis_title=name_value_1,\n",
    "                    zaxis_title=\"overlap\"))\n",
    "\n",
    "fig.show()\n",
    "fig.write_html(\"C:/Users/Admin/Desktop/overlap.html\")"
   ]
  },
  {
   "cell_type": "code",
   "execution_count": 6,
   "metadata": {},
   "outputs": [
    {
     "ename": "NameError",
     "evalue": "name 'overlap_at_final_iteration' is not defined",
     "output_type": "error",
     "traceback": [
      "\u001b[1;31m---------------------------------------------------------------------------\u001b[0m",
      "\u001b[1;31mNameError\u001b[0m                                 Traceback (most recent call last)",
      "\u001b[1;32m<ipython-input-6-1f231733fc7a>\u001b[0m in \u001b[0;36m<module>\u001b[1;34m\u001b[0m\n\u001b[0;32m      1\u001b[0m \u001b[1;31m######################### 3D PLOT OVERLAP AVEC PLOTLY\u001b[0m\u001b[1;33m\u001b[0m\u001b[1;33m\u001b[0m\u001b[1;33m\u001b[0m\u001b[0m\n\u001b[0;32m      2\u001b[0m \u001b[1;31m# U et V séparés!\u001b[0m\u001b[1;33m\u001b[0m\u001b[1;33m\u001b[0m\u001b[1;33m\u001b[0m\u001b[0m\n\u001b[1;32m----> 3\u001b[1;33m \u001b[0marray_u\u001b[0m\u001b[1;33m,\u001b[0m \u001b[0marray_v\u001b[0m\u001b[1;33m=\u001b[0m\u001b[0moverlap_at_final_iteration\u001b[0m\u001b[1;33m.\u001b[0m\u001b[0mmean\u001b[0m\u001b[1;33m(\u001b[0m\u001b[0maxis\u001b[0m\u001b[1;33m=\u001b[0m\u001b[1;36m1\u001b[0m\u001b[1;33m)\u001b[0m\u001b[1;33m.\u001b[0m\u001b[0mT\u001b[0m\u001b[1;33m\u001b[0m\u001b[1;33m\u001b[0m\u001b[0m\n\u001b[0m\u001b[0;32m      4\u001b[0m \u001b[1;33m\u001b[0m\u001b[0m\n\u001b[0;32m      5\u001b[0m \u001b[0marray_u\u001b[0m\u001b[1;33m=\u001b[0m\u001b[0marray_u\u001b[0m\u001b[1;33m.\u001b[0m\u001b[0mreshape\u001b[0m\u001b[1;33m(\u001b[0m\u001b[0mlen\u001b[0m\u001b[1;33m(\u001b[0m\u001b[0mlist_value_1\u001b[0m\u001b[1;33m)\u001b[0m\u001b[1;33m,\u001b[0m\u001b[0mlen\u001b[0m\u001b[1;33m(\u001b[0m\u001b[0mlist_value_2\u001b[0m\u001b[1;33m)\u001b[0m\u001b[1;33m)\u001b[0m\u001b[1;33m\u001b[0m\u001b[1;33m\u001b[0m\u001b[0m\n",
      "\u001b[1;31mNameError\u001b[0m: name 'overlap_at_final_iteration' is not defined"
     ]
    }
   ],
   "source": [
    "######################### 3D PLOT OVERLAP AVEC PLOTLY\n",
    "# U et V séparés!\n",
    "array_u, array_v=overlap_at_final_iteration.mean(axis=1).T\n",
    "\n",
    "array_u=array_u.reshape(len(list_value_1),len(list_value_2))\n",
    "array_v=array_v.reshape(len(list_value_1),len(list_value_2))\n",
    "array_v=array_v+0.1\n",
    "\n",
    "fig = go.Figure(data=[\n",
    "    go.Surface(z=array_u,x=list_value_1, y=list_value_2),\n",
    "    go.Surface(z=array_v,x=list_value_1, y=list_value_2,showscale=False, opacity=0.9)])\n",
    "\n",
    "fig.update_layout(\n",
    "    title=\"OVERLAP: \"+f\"{name_value_1}={list_value_1[selected_run//len(list_value_2)]}\"\n",
    "                    + f\" & {name_value_2}={list_value_2[selected_run%len(list_value_2)]}\",\n",
    ")\n",
    "fig.update_layout(scene = dict(\n",
    "                    xaxis_title=name_value_2,\n",
    "                    yaxis_title=name_value_1,\n",
    "                    zaxis_title=\"overlap\"))\n",
    "\n",
    "fig.show()\n",
    "fig.write_html(\"C:/Users/Admin/Desktop/overlap_uv.html\")"
   ]
  },
  {
   "cell_type": "code",
   "execution_count": 7,
   "metadata": {},
   "outputs": [
    {
     "ename": "NameError",
     "evalue": "name 'mse_at_final_iteration' is not defined",
     "output_type": "error",
     "traceback": [
      "\u001b[1;31m---------------------------------------------------------------------------\u001b[0m",
      "\u001b[1;31mNameError\u001b[0m                                 Traceback (most recent call last)",
      "\u001b[1;32m<ipython-input-7-79a39d88f188>\u001b[0m in \u001b[0;36m<module>\u001b[1;34m\u001b[0m\n\u001b[0;32m      1\u001b[0m \u001b[1;31m######################### 3D PLOT MSE AVEC PLOTLY\u001b[0m\u001b[1;33m\u001b[0m\u001b[1;33m\u001b[0m\u001b[1;33m\u001b[0m\u001b[0m\n\u001b[1;32m----> 2\u001b[1;33m \u001b[0mmse_mean\u001b[0m\u001b[1;33m=\u001b[0m\u001b[0mmse_at_final_iteration\u001b[0m\u001b[1;33m.\u001b[0m\u001b[0mmean\u001b[0m\u001b[1;33m(\u001b[0m\u001b[0maxis\u001b[0m\u001b[1;33m=\u001b[0m\u001b[1;36m1\u001b[0m\u001b[1;33m)\u001b[0m\u001b[1;33m.\u001b[0m\u001b[0mmean\u001b[0m\u001b[1;33m(\u001b[0m\u001b[0maxis\u001b[0m\u001b[1;33m=\u001b[0m\u001b[1;36m1\u001b[0m\u001b[1;33m)\u001b[0m\u001b[1;33m\u001b[0m\u001b[1;33m\u001b[0m\u001b[0m\n\u001b[0m\u001b[0;32m      3\u001b[0m \u001b[0mx\u001b[0m\u001b[1;33m,\u001b[0m \u001b[0my\u001b[0m \u001b[1;33m=\u001b[0m \u001b[0mnp\u001b[0m\u001b[1;33m.\u001b[0m\u001b[0mmeshgrid\u001b[0m\u001b[1;33m(\u001b[0m\u001b[0mlist_value_2\u001b[0m\u001b[1;33m,\u001b[0m\u001b[0mlist_value_1\u001b[0m\u001b[1;33m)\u001b[0m\u001b[1;33m\u001b[0m\u001b[1;33m\u001b[0m\u001b[0m\n\u001b[0;32m      4\u001b[0m \u001b[0mmse_mean\u001b[0m\u001b[1;33m=\u001b[0m\u001b[0mmse_mean\u001b[0m\u001b[1;33m.\u001b[0m\u001b[0mreshape\u001b[0m\u001b[1;33m(\u001b[0m\u001b[0mlen\u001b[0m\u001b[1;33m(\u001b[0m\u001b[0mlist_value_1\u001b[0m\u001b[1;33m)\u001b[0m\u001b[1;33m,\u001b[0m\u001b[0mlen\u001b[0m\u001b[1;33m(\u001b[0m\u001b[0mlist_value_2\u001b[0m\u001b[1;33m)\u001b[0m\u001b[1;33m)\u001b[0m\u001b[1;33m\u001b[0m\u001b[1;33m\u001b[0m\u001b[0m\n\u001b[0;32m      5\u001b[0m \u001b[1;33m\u001b[0m\u001b[0m\n",
      "\u001b[1;31mNameError\u001b[0m: name 'mse_at_final_iteration' is not defined"
     ]
    }
   ],
   "source": [
    "######################### 3D PLOT MSE AVEC PLOTLY\n",
    "mse_mean=mse_at_final_iteration.mean(axis=1).mean(axis=1)\n",
    "x, y = np.meshgrid(list_value_2,list_value_1)\n",
    "mse_mean=mse_mean.reshape(len(list_value_1),len(list_value_2))\n",
    "\n",
    "fig = go.Figure(data=[go.Surface(z=mse_mean, x=list_value_2, y=list_value_1)])\n",
    "\n",
    "fig.update_layout(\n",
    "    title=\"MSE: \"+f\"{name_value_1}={list_value_1[selected_run//len(list_value_2)]}\"\n",
    "                    + f\" & {name_value_2}={list_value_2[selected_run%len(list_value_2)]}\",\n",
    ")\n",
    "fig.update_layout(scene = dict(\n",
    "                    xaxis_title=name_value_2,\n",
    "                    yaxis_title=name_value_1,\n",
    "                    zaxis_title=\"mse\"))\n",
    "\n",
    "fig.show()\n",
    "fig.write_html(\"C:/Users/Admin/Desktop/mse.html\")"
   ]
  },
  {
   "cell_type": "code",
   "execution_count": 8,
   "metadata": {},
   "outputs": [
    {
     "ename": "NameError",
     "evalue": "name 'mse_at_final_iteration' is not defined",
     "output_type": "error",
     "traceback": [
      "\u001b[1;31m---------------------------------------------------------------------------\u001b[0m",
      "\u001b[1;31mNameError\u001b[0m                                 Traceback (most recent call last)",
      "\u001b[1;32m<ipython-input-8-17fe471046e4>\u001b[0m in \u001b[0;36m<module>\u001b[1;34m\u001b[0m\n\u001b[0;32m      1\u001b[0m \u001b[1;31m######################### 3D PLOT MSE AVEC PLOTLY\u001b[0m\u001b[1;33m\u001b[0m\u001b[1;33m\u001b[0m\u001b[1;33m\u001b[0m\u001b[0m\n\u001b[0;32m      2\u001b[0m \u001b[1;31m# U et V séparés!\u001b[0m\u001b[1;33m\u001b[0m\u001b[1;33m\u001b[0m\u001b[1;33m\u001b[0m\u001b[0m\n\u001b[1;32m----> 3\u001b[1;33m \u001b[0marray_u\u001b[0m\u001b[1;33m,\u001b[0m \u001b[0marray_v\u001b[0m\u001b[1;33m=\u001b[0m\u001b[0mmse_at_final_iteration\u001b[0m\u001b[1;33m.\u001b[0m\u001b[0mmean\u001b[0m\u001b[1;33m(\u001b[0m\u001b[0maxis\u001b[0m\u001b[1;33m=\u001b[0m\u001b[1;36m1\u001b[0m\u001b[1;33m)\u001b[0m\u001b[1;33m.\u001b[0m\u001b[0mT\u001b[0m\u001b[1;33m\u001b[0m\u001b[1;33m\u001b[0m\u001b[0m\n\u001b[0m\u001b[0;32m      4\u001b[0m \u001b[1;33m\u001b[0m\u001b[0m\n\u001b[0;32m      5\u001b[0m \u001b[0marray_u\u001b[0m\u001b[1;33m=\u001b[0m\u001b[0marray_u\u001b[0m\u001b[1;33m.\u001b[0m\u001b[0mreshape\u001b[0m\u001b[1;33m(\u001b[0m\u001b[0mlen\u001b[0m\u001b[1;33m(\u001b[0m\u001b[0mlist_value_1\u001b[0m\u001b[1;33m)\u001b[0m\u001b[1;33m,\u001b[0m\u001b[0mlen\u001b[0m\u001b[1;33m(\u001b[0m\u001b[0mlist_value_2\u001b[0m\u001b[1;33m)\u001b[0m\u001b[1;33m)\u001b[0m\u001b[1;33m\u001b[0m\u001b[1;33m\u001b[0m\u001b[0m\n",
      "\u001b[1;31mNameError\u001b[0m: name 'mse_at_final_iteration' is not defined"
     ]
    }
   ],
   "source": [
    "######################### 3D PLOT MSE AVEC PLOTLY\n",
    "# U et V séparés!\n",
    "array_u, array_v=mse_at_final_iteration.mean(axis=1).T\n",
    "\n",
    "array_u=array_u.reshape(len(list_value_1),len(list_value_2))\n",
    "array_v=array_v.reshape(len(list_value_1),len(list_value_2))\n",
    "array_v=array_v+0.1\n",
    "\n",
    "fig = go.Figure(data=[\n",
    "    go.Surface(z=array_u,x=list_value_1, y=list_value_2),\n",
    "    go.Surface(z=array_v,x=list_value_1, y=list_value_2,showscale=False, opacity=0.9)])\n",
    "\n",
    "fig.update_layout(\n",
    "    title=\"MSE: \"+f\"{name_value_1}={list_value_1[selected_run//len(list_value_2)]}\"\n",
    "                    + f\" & {name_value_2}={list_value_2[selected_run%len(list_value_2)]}\",\n",
    ")\n",
    "fig.update_layout(scene = dict(\n",
    "                    xaxis_title=name_value_2,\n",
    "                    yaxis_title=name_value_1,\n",
    "                    zaxis_title=\"mse\"))\n",
    "\n",
    "fig.show()\n",
    "fig.write_html(\"C:/Users/Admin/Desktop/mse_uv.html\")"
   ]
  },
  {
   "cell_type": "code",
   "execution_count": null,
   "metadata": {},
   "outputs": [],
   "source": [
    "# GRAPH STABILISATION DES OVERLAPS\n",
    "fig, axs = plt.subplots(len(list_value_1)*len(list_value_2), figsize=(20,200), facecolor='white')\n",
    "fig.tight_layout()\n",
    "\n",
    "for i in range(len(list_value_1)*len(list_value_2)):\n",
    "    axs[i].grid()\n",
    "    axs[i].set_ylabel(\"overlap\")\n",
    "    axs[i].set_title(f\"{name_value_1}={list_value_1[i//len(list_value_2)]}\"\n",
    "                    + f\" & {name_value_2}={list_value_2[i%len(list_value_2)]}\")\n",
    "    #for run_in_on_sample in range(size_of_one_sample):\n",
    "    axs[i].plot(overlap_at_each_iterations.mean(1)[i])"
   ]
  },
  {
   "cell_type": "code",
   "execution_count": null,
   "metadata": {},
   "outputs": [],
   "source": [
    "# GRAPH STABILISATION DES MEAN SQUARRE ERRORS\n",
    "fig, axs = plt.subplots(len(list_value_1)*len(list_value_2), figsize=(20,200), facecolor='white')\n",
    "fig.tight_layout()\n",
    "\n",
    "for i in range(len(list_value_1)*len(list_value_2)):\n",
    "    axs[i].grid()\n",
    "    axs[i].set_ylabel(\"mse\")\n",
    "    axs[i].set_title(f\"{name_value_1}={list_value_1[i//len(list_value_2)]}\"\n",
    "                    + f\" & {name_value_2}={list_value_2[i%len(list_value_2)]}\")\n",
    "    for run_in_on_sample in range(size_of_one_sample):\n",
    "        axs[i].plot(mse_at_each_iterations[i][run_in_on_sample])"
   ]
  },
  {
   "cell_type": "code",
   "execution_count": 2,
   "metadata": {},
   "outputs": [
    {
     "ename": "NameError",
     "evalue": "name 'np' is not defined",
     "output_type": "error",
     "traceback": [
      "\u001b[1;31m---------------------------------------------------------------------------\u001b[0m",
      "\u001b[1;31mNameError\u001b[0m                                 Traceback (most recent call last)",
      "\u001b[1;32m<ipython-input-2-d1348aff74f7>\u001b[0m in \u001b[0;36m<module>\u001b[1;34m\u001b[0m\n\u001b[1;32m----> 1\u001b[1;33m \u001b[0mx\u001b[0m\u001b[1;33m,\u001b[0m \u001b[0my\u001b[0m \u001b[1;33m=\u001b[0m \u001b[0mnp\u001b[0m\u001b[1;33m.\u001b[0m\u001b[0mmeshgrid\u001b[0m\u001b[1;33m(\u001b[0m\u001b[0mlist_value_2\u001b[0m\u001b[1;33m,\u001b[0m\u001b[0mlist_value_1\u001b[0m\u001b[1;33m)\u001b[0m\u001b[1;33m\u001b[0m\u001b[1;33m\u001b[0m\u001b[0m\n\u001b[0m\u001b[0;32m      2\u001b[0m \u001b[0moverlap_mean\u001b[0m\u001b[1;33m=\u001b[0m\u001b[0moverlap_at_final_iteration\u001b[0m\u001b[1;33m.\u001b[0m\u001b[0mmean\u001b[0m\u001b[1;33m(\u001b[0m\u001b[0maxis\u001b[0m\u001b[1;33m=\u001b[0m\u001b[1;36m1\u001b[0m\u001b[1;33m)\u001b[0m\u001b[1;33m.\u001b[0m\u001b[0mmean\u001b[0m\u001b[1;33m(\u001b[0m\u001b[0maxis\u001b[0m\u001b[1;33m=\u001b[0m\u001b[1;36m1\u001b[0m\u001b[1;33m)\u001b[0m\u001b[1;33m\u001b[0m\u001b[1;33m\u001b[0m\u001b[0m\n\u001b[0;32m      3\u001b[0m \u001b[0moverlap_mean\u001b[0m\u001b[1;33m=\u001b[0m\u001b[0moverlap_mean\u001b[0m\u001b[1;33m.\u001b[0m\u001b[0mreshape\u001b[0m\u001b[1;33m(\u001b[0m\u001b[0mlen\u001b[0m\u001b[1;33m(\u001b[0m\u001b[0mlist_value_1\u001b[0m\u001b[1;33m)\u001b[0m\u001b[1;33m,\u001b[0m\u001b[0mlen\u001b[0m\u001b[1;33m(\u001b[0m\u001b[0mlist_value_2\u001b[0m\u001b[1;33m)\u001b[0m\u001b[1;33m)\u001b[0m\u001b[1;33m\u001b[0m\u001b[1;33m\u001b[0m\u001b[0m\n\u001b[0;32m      4\u001b[0m \u001b[1;33m\u001b[0m\u001b[0m\n\u001b[0;32m      5\u001b[0m \u001b[0mfig\u001b[0m\u001b[1;33m,\u001b[0m\u001b[0max\u001b[0m\u001b[1;33m=\u001b[0m\u001b[0mplt\u001b[0m\u001b[1;33m.\u001b[0m\u001b[0msubplots\u001b[0m\u001b[1;33m(\u001b[0m\u001b[1;36m1\u001b[0m\u001b[1;33m,\u001b[0m\u001b[1;36m1\u001b[0m\u001b[1;33m,\u001b[0m \u001b[0mfacecolor\u001b[0m\u001b[1;33m=\u001b[0m\u001b[1;34m'white'\u001b[0m\u001b[1;33m)\u001b[0m\u001b[1;33m\u001b[0m\u001b[1;33m\u001b[0m\u001b[0m\n",
      "\u001b[1;31mNameError\u001b[0m: name 'np' is not defined"
     ]
    }
   ],
   "source": [
    "############ OVERLAP:\n",
    "x, y = np.meshgrid(list_value_2,list_value_1)\n",
    "overlap_mean=overlap_at_final_iteration.mean(axis=1).mean(axis=1)\n",
    "overlap_mean=overlap_mean.reshape(len(list_value_1),len(list_value_2))\n",
    "\n",
    "fig,ax=plt.subplots(1,1, facecolor='white')\n",
    "plt.contourf(x,y,overlap_mean, 20)\n",
    "\n",
    "ax.set_title(\"OVERLAP\")\n",
    "ax.set_xlabel(f\"{name_value_2}\")\n",
    "ax.set_ylabel(f\"{name_value_1}\")\n",
    "\n",
    "# specify levels from vmim to vmax\n",
    "levels = np.linspace(overlap_mean.min(), overlap_mean.max(), 10)\n",
    "plt.colorbar(ticks=levels)\n",
    "plt.show()"
   ]
  },
  {
   "cell_type": "code",
   "execution_count": 1,
   "metadata": {},
   "outputs": [
    {
     "ename": "NameError",
     "evalue": "name 'plt' is not defined",
     "output_type": "error",
     "traceback": [
      "\u001b[0;31m---------------------------------------------------------------------------\u001b[0m",
      "\u001b[0;31mNameError\u001b[0m                                 Traceback (most recent call last)",
      "\u001b[0;32m<ipython-input-1-634919c64580>\u001b[0m in \u001b[0;36m<module>\u001b[0;34m\u001b[0m\n\u001b[0;32m----> 1\u001b[0;31m \u001b[0mfig\u001b[0m\u001b[0;34m,\u001b[0m\u001b[0max\u001b[0m\u001b[0;34m=\u001b[0m\u001b[0mplt\u001b[0m\u001b[0;34m.\u001b[0m\u001b[0msubplots\u001b[0m\u001b[0;34m(\u001b[0m\u001b[0;36m1\u001b[0m\u001b[0;34m,\u001b[0m\u001b[0;36m1\u001b[0m\u001b[0;34m,\u001b[0m \u001b[0mfacecolor\u001b[0m\u001b[0;34m=\u001b[0m\u001b[0;34m'white'\u001b[0m\u001b[0;34m)\u001b[0m\u001b[0;34m\u001b[0m\u001b[0;34m\u001b[0m\u001b[0m\n\u001b[0m\u001b[1;32m      2\u001b[0m \u001b[0;34m\u001b[0m\u001b[0m\n\u001b[1;32m      3\u001b[0m \u001b[0max\u001b[0m\u001b[0;34m.\u001b[0m\u001b[0mset_title\u001b[0m\u001b[0;34m(\u001b[0m\u001b[0;34m\"OVERLAP\"\u001b[0m\u001b[0;34m)\u001b[0m\u001b[0;34m\u001b[0m\u001b[0;34m\u001b[0m\u001b[0m\n\u001b[1;32m      4\u001b[0m \u001b[0max\u001b[0m\u001b[0;34m.\u001b[0m\u001b[0mset_xlabel\u001b[0m\u001b[0;34m(\u001b[0m\u001b[0;34mf\"{name_value_2}\"\u001b[0m\u001b[0;34m)\u001b[0m\u001b[0;34m\u001b[0m\u001b[0;34m\u001b[0m\u001b[0m\n\u001b[1;32m      5\u001b[0m \u001b[0max\u001b[0m\u001b[0;34m.\u001b[0m\u001b[0mset_ylabel\u001b[0m\u001b[0;34m(\u001b[0m\u001b[0;34mf\"{name_value_1}\"\u001b[0m\u001b[0;34m)\u001b[0m\u001b[0;34m\u001b[0m\u001b[0;34m\u001b[0m\u001b[0m\n",
      "\u001b[0;31mNameError\u001b[0m: name 'plt' is not defined"
     ]
    }
   ],
   "source": [
    "fig,ax=plt.subplots(1,1, facecolor='white')\n",
    "\n",
    "ax.set_title(\"OVERLAP\")\n",
    "ax.set_xlabel(f\"{name_value_2}\")\n",
    "ax.set_ylabel(f\"{name_value_1}\")\n",
    "\n",
    "# contour noir sur le graph\n",
    "cnt = ax.contour(x,y,overlap_mean, 20, origin='lower', colors='black')\n",
    "ax.clabel(cnt, fontsize=8)\n",
    "\n",
    "# graph avec shading\n",
    "pcm=ax.pcolormesh(x, y, overlap_mean, shading=\"gouraud\")\n",
    "\n",
    "fig.colorbar(pcm)"
   ]
  },
  {
   "cell_type": "code",
   "execution_count": 1,
   "metadata": {},
   "outputs": [
    {
     "ename": "NameError",
     "evalue": "name 'plt' is not defined",
     "output_type": "error",
     "traceback": [
      "\u001b[1;31m---------------------------------------------------------------------------\u001b[0m",
      "\u001b[1;31mNameError\u001b[0m                                 Traceback (most recent call last)",
      "\u001b[1;32m<ipython-input-1-ceea85300880>\u001b[0m in \u001b[0;36m<module>\u001b[1;34m\u001b[0m\n\u001b[1;32m----> 1\u001b[1;33m \u001b[0mfig\u001b[0m\u001b[1;33m,\u001b[0m\u001b[0max\u001b[0m\u001b[1;33m=\u001b[0m\u001b[0mplt\u001b[0m\u001b[1;33m.\u001b[0m\u001b[0msubplots\u001b[0m\u001b[1;33m(\u001b[0m\u001b[1;36m1\u001b[0m\u001b[1;33m,\u001b[0m\u001b[1;36m1\u001b[0m\u001b[1;33m,\u001b[0m \u001b[0mfacecolor\u001b[0m\u001b[1;33m=\u001b[0m\u001b[1;34m'white'\u001b[0m\u001b[1;33m)\u001b[0m\u001b[1;33m\u001b[0m\u001b[1;33m\u001b[0m\u001b[0m\n\u001b[0m\u001b[0;32m      2\u001b[0m \u001b[0mplt\u001b[0m\u001b[1;33m.\u001b[0m\u001b[0mcontour\u001b[0m\u001b[1;33m(\u001b[0m\u001b[0mx\u001b[0m\u001b[1;33m,\u001b[0m\u001b[0my\u001b[0m\u001b[1;33m,\u001b[0m\u001b[0moverlap_mean\u001b[0m\u001b[1;33m)\u001b[0m\u001b[1;33m\u001b[0m\u001b[1;33m\u001b[0m\u001b[0m\n\u001b[0;32m      3\u001b[0m \u001b[1;33m\u001b[0m\u001b[0m\n\u001b[0;32m      4\u001b[0m \u001b[0max\u001b[0m\u001b[1;33m.\u001b[0m\u001b[0mset_title\u001b[0m\u001b[1;33m(\u001b[0m\u001b[1;34m\"OVERLAP\"\u001b[0m\u001b[1;33m)\u001b[0m\u001b[1;33m\u001b[0m\u001b[1;33m\u001b[0m\u001b[0m\n\u001b[0;32m      5\u001b[0m \u001b[0max\u001b[0m\u001b[1;33m.\u001b[0m\u001b[0mset_xlabel\u001b[0m\u001b[1;33m(\u001b[0m\u001b[1;34mf\"{name_value_2}\"\u001b[0m\u001b[1;33m)\u001b[0m\u001b[1;33m\u001b[0m\u001b[1;33m\u001b[0m\u001b[0m\n",
      "\u001b[1;31mNameError\u001b[0m: name 'plt' is not defined"
     ]
    }
   ],
   "source": [
    "fig,ax=plt.subplots(1,1, facecolor='white')\n",
    "plt.contour(x,y,overlap_mean)\n",
    "\n",
    "ax.set_title(\"OVERLAP\")\n",
    "ax.set_xlabel(f\"{name_value_2}\")\n",
    "ax.set_ylabel(f\"{name_value_1}\")\n",
    "\n",
    "# specify levels from vmim to vmax\n",
    "levels = np.linspace(overlap_mean.min(), overlap_mean.max(), 10)\n",
    "plt.colorbar(ticks=levels)\n",
    "plt.show()"
   ]
  },
  {
   "cell_type": "code",
   "execution_count": 23,
   "metadata": {},
   "outputs": [],
   "source": [
    "# with: [0.20049438 0.41059345 0.49443045 0.3862359  0.52844316 0.56942856]\n",
    "\n",
    "# xx= [[0.5 1.  2. ]\n",
    "#      [0.5 1.  2. ]]\n",
    "\n",
    "# yy= [[0.5 0.5 0.5]\n",
    "#      [1.  1.  1. ]]\n",
    "\n",
    "# res= [[0.20049438 0.41059345 0.49443045]\n",
    "#       [0.3862359  0.52844316 0.56942856]]"
   ]
  },
  {
   "cell_type": "code",
   "execution_count": 3,
   "metadata": {},
   "outputs": [
    {
     "ename": "NameError",
     "evalue": "name 'mse_at_final_iteration' is not defined",
     "output_type": "error",
     "traceback": [
      "\u001b[1;31m---------------------------------------------------------------------------\u001b[0m",
      "\u001b[1;31mNameError\u001b[0m                                 Traceback (most recent call last)",
      "\u001b[1;32m<ipython-input-3-8f9a56c8c3a6>\u001b[0m in \u001b[0;36m<module>\u001b[1;34m\u001b[0m\n\u001b[0;32m      1\u001b[0m \u001b[1;31m############ MSE:\u001b[0m\u001b[1;33m\u001b[0m\u001b[1;33m\u001b[0m\u001b[1;33m\u001b[0m\u001b[0m\n\u001b[1;32m----> 2\u001b[1;33m \u001b[0mmse_mean\u001b[0m\u001b[1;33m=\u001b[0m\u001b[0mmse_at_final_iteration\u001b[0m\u001b[1;33m.\u001b[0m\u001b[0mmean\u001b[0m\u001b[1;33m(\u001b[0m\u001b[0maxis\u001b[0m\u001b[1;33m=\u001b[0m\u001b[1;36m1\u001b[0m\u001b[1;33m)\u001b[0m\u001b[1;33m.\u001b[0m\u001b[0mmean\u001b[0m\u001b[1;33m(\u001b[0m\u001b[0maxis\u001b[0m\u001b[1;33m=\u001b[0m\u001b[1;36m1\u001b[0m\u001b[1;33m)\u001b[0m\u001b[1;33m\u001b[0m\u001b[1;33m\u001b[0m\u001b[0m\n\u001b[0m\u001b[0;32m      3\u001b[0m \u001b[1;33m\u001b[0m\u001b[0m\n\u001b[0;32m      4\u001b[0m \u001b[0mx\u001b[0m\u001b[1;33m,\u001b[0m \u001b[0my\u001b[0m \u001b[1;33m=\u001b[0m \u001b[0mnp\u001b[0m\u001b[1;33m.\u001b[0m\u001b[0mmeshgrid\u001b[0m\u001b[1;33m(\u001b[0m\u001b[0mlist_value_2\u001b[0m\u001b[1;33m,\u001b[0m\u001b[0mlist_value_1\u001b[0m\u001b[1;33m)\u001b[0m\u001b[1;33m\u001b[0m\u001b[1;33m\u001b[0m\u001b[0m\n\u001b[0;32m      5\u001b[0m \u001b[1;33m\u001b[0m\u001b[0m\n",
      "\u001b[1;31mNameError\u001b[0m: name 'mse_at_final_iteration' is not defined"
     ]
    }
   ],
   "source": [
    "############ MSE:\n",
    "mse_mean=mse_at_final_iteration.mean(axis=1).mean(axis=1)\n",
    "\n",
    "x, y = np.meshgrid(list_value_2,list_value_1)\n",
    "\n",
    "mse_mean=mse_mean.reshape(len(list_value_1),len(list_value_2))\n",
    "\n",
    "fig,ax=plt.subplots(1,1, facecolor='white')\n",
    "plt.contourf(x,y,mse_mean, 10)\n",
    "\n",
    "ax.set_title(\"MSE\")\n",
    "ax.set_xlabel(f\"{name_value_2}\")\n",
    "ax.set_ylabel(f\"{name_value_1}\")\n",
    "\n",
    "# specify levels from vmim to vmax\n",
    "levels = np.linspace(mse_mean.min(), mse_mean.max(), 10)\n",
    "plt.colorbar(ticks=levels)\n",
    "plt.show()"
   ]
  },
  {
   "cell_type": "code",
   "execution_count": 4,
   "metadata": {},
   "outputs": [
    {
     "ename": "NameError",
     "evalue": "name 'plt' is not defined",
     "output_type": "error",
     "traceback": [
      "\u001b[1;31m---------------------------------------------------------------------------\u001b[0m",
      "\u001b[1;31mNameError\u001b[0m                                 Traceback (most recent call last)",
      "\u001b[1;32m<ipython-input-4-0934c91616b7>\u001b[0m in \u001b[0;36m<module>\u001b[1;34m\u001b[0m\n\u001b[1;32m----> 1\u001b[1;33m \u001b[0mfig\u001b[0m\u001b[1;33m,\u001b[0m\u001b[0max\u001b[0m\u001b[1;33m=\u001b[0m\u001b[0mplt\u001b[0m\u001b[1;33m.\u001b[0m\u001b[0msubplots\u001b[0m\u001b[1;33m(\u001b[0m\u001b[1;36m1\u001b[0m\u001b[1;33m,\u001b[0m\u001b[1;36m1\u001b[0m\u001b[1;33m,\u001b[0m \u001b[0mfacecolor\u001b[0m\u001b[1;33m=\u001b[0m\u001b[1;34m'white'\u001b[0m\u001b[1;33m)\u001b[0m\u001b[1;33m\u001b[0m\u001b[1;33m\u001b[0m\u001b[0m\n\u001b[0m\u001b[0;32m      2\u001b[0m \u001b[1;33m\u001b[0m\u001b[0m\n\u001b[0;32m      3\u001b[0m \u001b[0max\u001b[0m\u001b[1;33m.\u001b[0m\u001b[0mset_title\u001b[0m\u001b[1;33m(\u001b[0m\u001b[1;34m\"MSE\"\u001b[0m\u001b[1;33m)\u001b[0m\u001b[1;33m\u001b[0m\u001b[1;33m\u001b[0m\u001b[0m\n\u001b[0;32m      4\u001b[0m \u001b[0max\u001b[0m\u001b[1;33m.\u001b[0m\u001b[0mset_xlabel\u001b[0m\u001b[1;33m(\u001b[0m\u001b[1;34mf\"{name_value_2}\"\u001b[0m\u001b[1;33m)\u001b[0m\u001b[1;33m\u001b[0m\u001b[1;33m\u001b[0m\u001b[0m\n\u001b[0;32m      5\u001b[0m \u001b[0max\u001b[0m\u001b[1;33m.\u001b[0m\u001b[0mset_ylabel\u001b[0m\u001b[1;33m(\u001b[0m\u001b[1;34mf\"{name_value_1}\"\u001b[0m\u001b[1;33m)\u001b[0m\u001b[1;33m\u001b[0m\u001b[1;33m\u001b[0m\u001b[0m\n",
      "\u001b[1;31mNameError\u001b[0m: name 'plt' is not defined"
     ]
    }
   ],
   "source": [
    "fig,ax=plt.subplots(1,1, facecolor='white')\n",
    "\n",
    "ax.set_title(\"MSE\")\n",
    "ax.set_xlabel(f\"{name_value_2}\")\n",
    "ax.set_ylabel(f\"{name_value_1}\")\n",
    "\n",
    "# contour noir sur le graph\n",
    "cnt = ax.contour(x,y,mse_mean, origin='lower', colors='black')\n",
    "ax.clabel(cnt, fontsize=8)\n",
    "\n",
    "# graph avec shading\n",
    "pcm=ax.pcolormesh(x, y, mse_mean, shading=\"gouraud\")\n",
    "\n",
    "fig.colorbar(pcm)"
   ]
  },
  {
   "cell_type": "code",
   "execution_count": 5,
   "metadata": {},
   "outputs": [
    {
     "ename": "NameError",
     "evalue": "name 'plt' is not defined",
     "output_type": "error",
     "traceback": [
      "\u001b[1;31m---------------------------------------------------------------------------\u001b[0m",
      "\u001b[1;31mNameError\u001b[0m                                 Traceback (most recent call last)",
      "\u001b[1;32m<ipython-input-5-9f21f4ae0716>\u001b[0m in \u001b[0;36m<module>\u001b[1;34m\u001b[0m\n\u001b[1;32m----> 1\u001b[1;33m \u001b[0mfig\u001b[0m\u001b[1;33m,\u001b[0m\u001b[0max\u001b[0m\u001b[1;33m=\u001b[0m\u001b[0mplt\u001b[0m\u001b[1;33m.\u001b[0m\u001b[0msubplots\u001b[0m\u001b[1;33m(\u001b[0m\u001b[1;36m1\u001b[0m\u001b[1;33m,\u001b[0m\u001b[1;36m1\u001b[0m\u001b[1;33m,\u001b[0m \u001b[0mfacecolor\u001b[0m\u001b[1;33m=\u001b[0m\u001b[1;34m'white'\u001b[0m\u001b[1;33m)\u001b[0m\u001b[1;33m\u001b[0m\u001b[1;33m\u001b[0m\u001b[0m\n\u001b[0m\u001b[0;32m      2\u001b[0m \u001b[1;33m\u001b[0m\u001b[0m\n\u001b[0;32m      3\u001b[0m \u001b[0max\u001b[0m\u001b[1;33m.\u001b[0m\u001b[0mset_title\u001b[0m\u001b[1;33m(\u001b[0m\u001b[1;34m\"MSE\"\u001b[0m\u001b[1;33m)\u001b[0m\u001b[1;33m\u001b[0m\u001b[1;33m\u001b[0m\u001b[0m\n\u001b[0;32m      4\u001b[0m \u001b[0max\u001b[0m\u001b[1;33m.\u001b[0m\u001b[0mset_xlabel\u001b[0m\u001b[1;33m(\u001b[0m\u001b[1;34mf\"{name_value_2}\"\u001b[0m\u001b[1;33m)\u001b[0m\u001b[1;33m\u001b[0m\u001b[1;33m\u001b[0m\u001b[0m\n\u001b[0;32m      5\u001b[0m \u001b[0max\u001b[0m\u001b[1;33m.\u001b[0m\u001b[0mset_ylabel\u001b[0m\u001b[1;33m(\u001b[0m\u001b[1;34mf\"{name_value_1}\"\u001b[0m\u001b[1;33m)\u001b[0m\u001b[1;33m\u001b[0m\u001b[1;33m\u001b[0m\u001b[0m\n",
      "\u001b[1;31mNameError\u001b[0m: name 'plt' is not defined"
     ]
    }
   ],
   "source": [
    "fig,ax=plt.subplots(1,1, facecolor='white')\n",
    "\n",
    "ax.set_title(\"MSE\")\n",
    "ax.set_xlabel(f\"{name_value_2}\")\n",
    "ax.set_ylabel(f\"{name_value_1}\")\n",
    "\n",
    "plt.contour(x,y,mse_mean)\n",
    "\n",
    "# specify levels from vmim to vmax\n",
    "levels = np.linspace(mse_mean.min(), mse_mean.max(), 10)\n",
    "plt.colorbar(ticks=levels)\n",
    "plt.show()"
   ]
  },
  {
   "cell_type": "code",
   "execution_count": null,
   "metadata": {},
   "outputs": [],
   "source": [
    "###################################### OLD GRAPH:\n",
    "# GRAPH STABILISATION DES OVERLAPS\n",
    "fig, axs = plt.subplots(1, facecolor='white')\n",
    "fig.tight_layout()\n",
    "\n",
    "selected_run=0\n",
    "x=[i for i in range(len(overlap_u))]\n",
    "\n",
    "var_u,var_v=np.var(overlap_at_each_iterations[selected_run], axis=0).T\n",
    "overlap_u,overlap_v=overlap_at_each_iterations.mean(1)[selected_run].T\n",
    "\n",
    "axs.grid()\n",
    "axs.set_ylabel(\"overlap\")\n",
    "axs.set_xlabel(\"iterations\")\n",
    "axs.set_title(f\"{name_value_1}={list_value_1[selected_run//len(list_value_2)]}\"\n",
    "                    + f\" & {name_value_2}={list_value_2[selected_run%len(list_value_2)]}\")\n",
    "    #for run_in_on_sample in range(size_of_one_sample):\n",
    "axs.errorbar(x, overlap_u, yerr=var_u,capsize=2, label=\"u overlap\");\n",
    "axs.plot(overlap_u, label=\"v overlap\")\n",
    "axs.plot(overlap_v, label=\"v overlap\")\n",
    "plt.legend(loc='upper right', bbox_to_anchor=(1.3, 1))"
   ]
  },
  {
   "cell_type": "code",
   "execution_count": null,
   "metadata": {},
   "outputs": [],
   "source": [
    "###################################### OLD GRAPH:\n",
    "\n",
    "# PRINT THE OVERLAP IN FUNCTION OF THE STEP\n",
    "\n",
    "# On calcul la moyenne des overlaps à chaque itérations dans un même sample avec:\n",
    "# overlap_at_each_iterations.mean(axis=1)\n",
    "#\n",
    "# ~ moyenne_sample_1 = run_1_s1 + run_2_s2 + ... / size_of_one_sample\n",
    "# ~ moyenne_sample_2 = run_1_s2 + run_2_s2 + ... / size_of_one_sample\n",
    "# ...\n",
    "\n",
    "# On calcul la moyenne des overlaps u et v à chaque itérations pour chaque sample avec:\n",
    "# overlap_at_each_iterations.mean(axis=1)\n",
    "#\n",
    "# ~ moyenne_sample_1_uv = (moyenne_sample_1_u + moyenne_sample_1_v)/2\n",
    "# ...\n",
    "\n",
    "overlap_at_each_iterations_per_sample=overlap_at_each_iterations.mean(axis=1).mean(axis=2)\n",
    "\n",
    "plt.figure(facecolor='white')\n",
    "plt.grid()\n",
    "plt.ylabel(\"overlap\")\n",
    "plt.xlabel(\"iterations\")\n",
    "color=iter(cm.rainbow(np.linspace(0,1,len(list_value_1)*len(list_value_2))))\n",
    "\n",
    "for i in range(len(list_value_1)*len(list_value_2)):\n",
    "    c=next(color)\n",
    "    plt.plot(overlap_at_each_iterations_per_sample[i], \n",
    "             label=f\"{name_value_1}={list_value_1[i//len(list_value_2)]}\"\n",
    "            + f\" & {name_value_2}={list_value_2[i%len(list_value_2)]}\", color=c)\n",
    "plt.legend(loc='upper right', bbox_to_anchor=(2, 1))"
   ]
  },
  {
   "cell_type": "code",
   "execution_count": null,
   "metadata": {},
   "outputs": [],
   "source": [
    "###################################### OLD GRAPH:\n",
    "# PRINT THE MSE IN FUNCTION OF THE STEP\n",
    "# same as the cell above but with the men squarre error:\n",
    "\n",
    "mse_at_each_iterations_per_sample=mse_at_each_iterations.mean(axis=1).mean(axis=2)\n",
    "\n",
    "plt.figure(facecolor='white')\n",
    "plt.grid()\n",
    "plt.ylabel(\"mse\")\n",
    "plt.xlabel(\"iterations\")\n",
    "color=iter(cm.rainbow(np.linspace(0,1,len(list_value_1)*len(list_value_2))))\n",
    "\n",
    "for i in range(len(list_value_1)*len(list_value_2)):\n",
    "    c=next(color)\n",
    "    plt.plot(mse_at_each_iterations_per_sample[i], \n",
    "             label=f\"{name_value_1}={list_value_1[i//len(list_value_2)]}\"\n",
    "            + f\" & {name_value_2}={list_value_2[i%len(list_value_2)]}\", color=c)\n",
    "plt.legend(loc='upper right', bbox_to_anchor=(2, 1))\n"
   ]
  },
  {
   "cell_type": "code",
   "execution_count": null,
   "metadata": {},
   "outputs": [],
   "source": [
    "######################################:\n",
    "if len(stabilisation_check)==0:\n",
    "            #print(\"INIT\")\n",
    "            stabilisation_check=np.append(stabilisation_check, [[res_u,res_v]], axis=0)\n",
    "        elif len(stabilisation_check)==200:\n",
    "            #print(\"FINISH\")\n",
    "            print(f\"overlap(u, v): ({res_u}; {res_v})\")\n",
    "            return np.array(res), np.array(res_mse)\n",
    "        elif (np.abs(stabilisation_check-[res_u,res_v])<0.01).all():\n",
    "            #print(\"ADD\")\n",
    "            stabilisation_check=np.append(stabilisation_check, [[res_u,res_v]], axis=0)\n",
    "        else:\n",
    "            #print(\"RESET\")\n",
    "            stabilisation_check=np.empty((0,2))"
   ]
  }
 ],
 "metadata": {
  "kernelspec": {
   "display_name": "Python 3",
   "language": "python",
   "name": "python3"
  },
  "language_info": {
   "codemirror_mode": {
    "name": "ipython",
    "version": 3
   },
   "file_extension": ".py",
   "mimetype": "text/x-python",
   "name": "python",
   "nbconvert_exporter": "python",
   "pygments_lexer": "ipython3",
   "version": "3.8.5"
  }
 },
 "nbformat": 4,
 "nbformat_minor": 4
}
