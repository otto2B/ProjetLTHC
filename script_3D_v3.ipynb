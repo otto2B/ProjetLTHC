{
 "cells": [
  {
   "cell_type": "code",
   "execution_count": 48,
   "metadata": {},
   "outputs": [],
   "source": [
    "import torch\n",
    "import numpy as np\n",
    "import matplotlib.pyplot as plt\n",
    "import PROJECT.util as f\n",
    "from matplotlib.pyplot import cm\n",
    "from mpl_toolkits import mplot3d\n",
    "import plotly.graph_objects as go\n",
    "import pandas as pd"
   ]
  },
  {
   "cell_type": "code",
   "execution_count": 49,
   "metadata": {},
   "outputs": [],
   "source": [
    "# Pour des vecteurs u* et v*,\n",
    "# les overlaps obtenus sont soit les deux positifs ou les deux négatifs, on a:\n",
    "# overlap(u*)= -x et overlap(v*)= -y ou overlap(u*)= x et overlap(v*)= y.\n",
    "# on prend donc le min(u-x, u+x):\n",
    "\n",
    "# si u est positif et x est positif:\n",
    "# min(u-x, u+x) -> u-x est bon\n",
    "\n",
    "# si u est positif et x est négatif:\n",
    "# min(u-(-x), u+(-x)) -> u+(-x) =u-x est bon\n",
    "\n",
    "# si u est négatif et x est positif:\n",
    "# min(-u-x, -u+x) -> -u+x =x-u est bon\n",
    "\n",
    "# si u est négatif et x est négatif:\n",
    "# min(-u-(-x), -u+(-x)) -> -u-(-x) =x-u est bon\n",
    "def mse1(x,y):\n",
    "    ## x-y\n",
    "    a=torch.pow((x-y),2).mean(0)\n",
    "    b=torch.pow((x+y),2).mean(0)\n",
    "    return torch.min(a,b)\n",
    "def mse2(u_e, v_e, u_t, v_t, Y):\n",
    "    ## u*v*-uv\n",
    "    tmp = torch.tensordot(u_e, v_e, 0) - torch.tensordot(u_t, v_t, 0)\n",
    "    return torch.sum(torch.pow((tmp), 2))\n",
    "def mse3(u_e, v_e, u_t, v_t, Y):\n",
    "    ## Y-uv\n",
    "    tmp = Y - torch.tensordot(u_t, v_t, 0)\n",
    "    return torch.sum(torch.pow((tmp), 2))"
   ]
  },
  {
   "cell_type": "code",
   "execution_count": 61,
   "metadata": {},
   "outputs": [],
   "source": [
    "def main_gradient_2_sans_proj_normalisation(iteration, u_p, v_p, Y, u_, v_, N, M, lambda_, beta_u, beta_v, lambda_1, lambda_2, dt):\n",
    "\n",
    "    res = []\n",
    "    res_mse= []\n",
    "    \n",
    "    mod = iteration*0.1\n",
    "    \n",
    "    stabilisation_check=np.empty((0,2))\n",
    "\n",
    "    for i in range(iteration):\n",
    "\n",
    "        # Computation\n",
    "        sqrt_dt = torch.sqrt(dt)\n",
    "\n",
    "        u_1 = (1/lambda_1) * f.gradient_u_2(N, M, u_p,v_p,Y,lambda_) * dt\n",
    "        u_2 = torch.sqrt(2/(lambda_1*beta_u)) * torch.empty(N).normal_(mean=0,std=sqrt_dt)\n",
    "        u_3 = ((N-1)/(N*lambda_1*beta_u))*u_p*dt\n",
    "        u_n = u_p - u_1 + u_2 - u_3\n",
    "\n",
    "        v_1 = 1/lambda_2 * f.gradient_v_2(N,M,u_p,v_p,Y,lambda_) * dt\n",
    "        v_2 = torch.sqrt(2/(lambda_2*beta_v)) * torch.empty(M).normal_(mean=0,std=sqrt_dt)\n",
    "        v_3 = ((M-1)/(M*lambda_2*beta_v))*v_p*dt\n",
    "        v_n = v_p - v_1 + v_2 - v_3\n",
    "\n",
    "        # Normalisation\n",
    "        u_n = u_n / torch.linalg.norm(u_n)\n",
    "        v_n = v_n / torch.linalg.norm(v_n)\n",
    "        u_n = u_n * torch.sqrt(N)\n",
    "        v_n = v_n * torch.sqrt(M)\n",
    "\n",
    "        # Re-asign for the loop\n",
    "        u_p = u_n\n",
    "        v_p = v_n\n",
    "    \n",
    "        res_u = torch.abs(f.overlap(u_,u_n,N))\n",
    "        res_v = torch.abs(f.overlap(v_,v_n,M))\n",
    "        res.append((res_u,res_v))\n",
    "        \n",
    "        # CHOOSE BETWEEN MSE\n",
    "        #res_mse.append((mse(u_,u_n),mse(v_,v_n)))\n",
    "        res_mse.append((mse2(torch.abs(u_),torch.abs(v_),torch.abs(u_n),torch.abs(v_n),torch.abs(Y)),\n",
    "                        mse2(torch.abs(u_),torch.abs(v_),torch.abs(u_n),torch.abs(v_n),torch.abs(Y))))\n",
    "                       \n",
    "        if i%mod==0:\n",
    "            print(f\"progress {100*i/iteration:.2f}%\", end=\"\\r\")\n",
    "        if i==iteration-1:\n",
    "            print(f\"overlap(u, v): ({res_u}; {res_v})\")\n",
    "\n",
    "    return np.array(res), np.array(res_mse)"
   ]
  },
  {
   "cell_type": "code",
   "execution_count": null,
   "metadata": {},
   "outputs": [],
   "source": []
  },
  {
   "cell_type": "code",
   "execution_count": 65,
   "metadata": {},
   "outputs": [],
   "source": [
    "def one_run(lambda_=2, N=200, M=200, beta_u=2, beta_v=2, lambda_1=1,\n",
    "        lambda_2=1, dt=1/100, iteration=1000):\n",
    "      #Size of the matrix Y\n",
    "    N = torch.tensor(N)\n",
    "    M = torch.tensor(M)\n",
    "\n",
    "    # lambda\n",
    "    lambda_ = torch.tensor(lambda_)\n",
    "\n",
    "    #temperatures\n",
    "    beta_u = torch.tensor(beta_u)\n",
    "    beta_v = torch.tensor(beta_v)\n",
    "\n",
    "    #learning rates\n",
    "    lambda_1 = torch.tensor(lambda_1)\n",
    "    lambda_2 = torch.tensor(lambda_2)\n",
    "\n",
    "    # Pas de temps\n",
    "    dt = torch.tensor(dt)\n",
    "\n",
    "    u_ = f.generate_vector(N)\n",
    "    v_ = f.generate_vector(M)\n",
    "\n",
    "    Y = f.generate_Y(N, M, u_,v_, lambda_)\n",
    "    #print(Y)\n",
    "\n",
    "    # Conditions initiales\n",
    "    u_p = f.generate_vector(N)\n",
    "    v_p = f.generate_vector(M)\n",
    "\n",
    "    # Perform the gradient descent\n",
    "    (res, res_mse) = main_gradient_2_sans_proj_normalisation(iteration, u_p, v_p, Y, u_, v_, N, M, lambda_, beta_u, beta_v, lambda_1, lambda_2, dt)\n",
    "    \n",
    "    return res, res_mse\n"
   ]
  },
  {
   "cell_type": "code",
   "execution_count": 66,
   "metadata": {},
   "outputs": [],
   "source": [
    "# MAIN METHOD:\n",
    "\n",
    "def main(lambda_u_val, lambda_v_val, size_of_one_sample, list_value_1, list_value_2):\n",
    "    \n",
    "    all_overlap_iterations=[]\n",
    "    all_final_overlaps=[]\n",
    "    \n",
    "    all_mse_iterations=[]\n",
    "    all_final_mse=[]\n",
    "    \n",
    "    for value_to_test_1 in list_value_1:\n",
    "        \n",
    "        for value_to_test_2 in list_value_2:\n",
    "        \n",
    "            one_run_overlap_iterations=[]\n",
    "            one_run_mse_iterations=[]\n",
    "\n",
    "            # Calculation\n",
    "            for _ in range(size_of_one_sample):\n",
    "                (current_uv_overlap,current_uv_mse)=one_run(lambda_1=lambda_u_val, lambda_2=lambda_v_val,\n",
    "                                                    beta_u=value_to_test_1, beta_v=value_to_test_2)\n",
    "                # Store the overlap at the end of each iterations:\n",
    "                one_run_overlap_iterations.append(current_uv_overlap)\n",
    "                # Store the mse at the end of each iterations:\n",
    "                one_run_mse_iterations.append(current_uv_mse)\n",
    "\n",
    "            # Store the overlap/mse at the final iteration:\n",
    "            one_run_final_overlap = np.array([x[-1] for x in one_run_overlap_iterations])\n",
    "            one_run_final_mse = np.array([x[-1] for x in one_run_mse_iterations])\n",
    "\n",
    "            # Add the results of this specific run to the global array:\n",
    "            # overlap at all iterations:\n",
    "            all_overlap_iterations.append(one_run_overlap_iterations)\n",
    "            # overlap at the final iteration:\n",
    "            all_final_overlaps.append(one_run_final_overlap)\n",
    "            # mse at all iterations:\n",
    "            all_mse_iterations.append(one_run_mse_iterations)\n",
    "            # mse at the final iteration:\n",
    "            all_final_mse.append(one_run_final_mse)\n",
    "            \n",
    "    return np.array(all_overlap_iterations), np.array(all_final_overlaps), np.array(all_mse_iterations), np.array(all_final_mse)"
   ]
  },
  {
   "cell_type": "code",
   "execution_count": 69,
   "metadata": {},
   "outputs": [
    {
     "name": "stdout",
     "output_type": "stream",
     "text": [
      "overlap(u, v): (0.055075254291296005; 0.030532212927937508)\n",
      "progress 40.00%\r"
     ]
    },
    {
     "ename": "KeyboardInterrupt",
     "evalue": "",
     "output_type": "error",
     "traceback": [
      "\u001b[1;31m---------------------------------------------------------------------------\u001b[0m",
      "\u001b[1;31mKeyboardInterrupt\u001b[0m                         Traceback (most recent call last)",
      "\u001b[1;32m<ipython-input-69-72dd4af12582>\u001b[0m in \u001b[0;36m<module>\u001b[1;34m\u001b[0m\n\u001b[0;32m     15\u001b[0m \u001b[1;33m\u001b[0m\u001b[0m\n\u001b[0;32m     16\u001b[0m (overlap_at_each_iterations, overlap_at_final_iteration,\n\u001b[1;32m---> 17\u001b[1;33m  \u001b[0mmse_at_each_iterations\u001b[0m\u001b[1;33m,\u001b[0m \u001b[0mmse_at_final_iteration\u001b[0m\u001b[1;33m)\u001b[0m \u001b[1;33m=\u001b[0m \u001b[0mmain\u001b[0m\u001b[1;33m(\u001b[0m\u001b[0mlambda_u_val_1\u001b[0m\u001b[1;33m,\u001b[0m \u001b[0mlambda_v_val_1\u001b[0m\u001b[1;33m,\u001b[0m\u001b[1;33m\u001b[0m\u001b[1;33m\u001b[0m\u001b[0m\n\u001b[0m\u001b[0;32m     18\u001b[0m                                             size_of_one_sample, list_value_1, list_value_2)\n",
      "\u001b[1;32m<ipython-input-66-6580d947fa5d>\u001b[0m in \u001b[0;36mmain\u001b[1;34m(lambda_u_val, lambda_v_val, size_of_one_sample, list_value_1, list_value_2)\u001b[0m\n\u001b[0;32m     18\u001b[0m             \u001b[1;31m# Calculation\u001b[0m\u001b[1;33m\u001b[0m\u001b[1;33m\u001b[0m\u001b[1;33m\u001b[0m\u001b[0m\n\u001b[0;32m     19\u001b[0m             \u001b[1;32mfor\u001b[0m \u001b[0m_\u001b[0m \u001b[1;32min\u001b[0m \u001b[0mrange\u001b[0m\u001b[1;33m(\u001b[0m\u001b[0msize_of_one_sample\u001b[0m\u001b[1;33m)\u001b[0m\u001b[1;33m:\u001b[0m\u001b[1;33m\u001b[0m\u001b[1;33m\u001b[0m\u001b[0m\n\u001b[1;32m---> 20\u001b[1;33m                 (current_uv_overlap,current_uv_mse)=one_run(lambda_1=lambda_u_val, lambda_2=lambda_v_val,\n\u001b[0m\u001b[0;32m     21\u001b[0m                                                     beta_u=value_to_test_1, beta_v=value_to_test_2)\n\u001b[0;32m     22\u001b[0m                 \u001b[1;31m# Store the overlap at the end of each iterations:\u001b[0m\u001b[1;33m\u001b[0m\u001b[1;33m\u001b[0m\u001b[1;33m\u001b[0m\u001b[0m\n",
      "\u001b[1;32m<ipython-input-65-eddcec7f45c8>\u001b[0m in \u001b[0;36mone_run\u001b[1;34m(lambda_, N, M, beta_u, beta_v, lambda_1, lambda_2, dt, iteration)\u001b[0m\n\u001b[0;32m     30\u001b[0m \u001b[1;33m\u001b[0m\u001b[0m\n\u001b[0;32m     31\u001b[0m     \u001b[1;31m# Perform the gradient descent\u001b[0m\u001b[1;33m\u001b[0m\u001b[1;33m\u001b[0m\u001b[1;33m\u001b[0m\u001b[0m\n\u001b[1;32m---> 32\u001b[1;33m     \u001b[1;33m(\u001b[0m\u001b[0mres\u001b[0m\u001b[1;33m,\u001b[0m \u001b[0mres_mse\u001b[0m\u001b[1;33m)\u001b[0m \u001b[1;33m=\u001b[0m \u001b[0mmain_gradient_2_sans_proj_normalisation\u001b[0m\u001b[1;33m(\u001b[0m\u001b[0miteration\u001b[0m\u001b[1;33m,\u001b[0m \u001b[0mu_p\u001b[0m\u001b[1;33m,\u001b[0m \u001b[0mv_p\u001b[0m\u001b[1;33m,\u001b[0m \u001b[0mY\u001b[0m\u001b[1;33m,\u001b[0m \u001b[0mu_\u001b[0m\u001b[1;33m,\u001b[0m \u001b[0mv_\u001b[0m\u001b[1;33m,\u001b[0m \u001b[0mN\u001b[0m\u001b[1;33m,\u001b[0m \u001b[0mM\u001b[0m\u001b[1;33m,\u001b[0m \u001b[0mlambda_\u001b[0m\u001b[1;33m,\u001b[0m \u001b[0mbeta_u\u001b[0m\u001b[1;33m,\u001b[0m \u001b[0mbeta_v\u001b[0m\u001b[1;33m,\u001b[0m \u001b[0mlambda_1\u001b[0m\u001b[1;33m,\u001b[0m \u001b[0mlambda_2\u001b[0m\u001b[1;33m,\u001b[0m \u001b[0mdt\u001b[0m\u001b[1;33m)\u001b[0m\u001b[1;33m\u001b[0m\u001b[1;33m\u001b[0m\u001b[0m\n\u001b[0m\u001b[0;32m     33\u001b[0m \u001b[1;33m\u001b[0m\u001b[0m\n\u001b[0;32m     34\u001b[0m     \u001b[1;32mreturn\u001b[0m \u001b[0mres\u001b[0m\u001b[1;33m,\u001b[0m \u001b[0mres_mse\u001b[0m\u001b[1;33m\u001b[0m\u001b[1;33m\u001b[0m\u001b[0m\n",
      "\u001b[1;32m<ipython-input-61-b252672eb796>\u001b[0m in \u001b[0;36mmain_gradient_2_sans_proj_normalisation\u001b[1;34m(iteration, u_p, v_p, Y, u_, v_, N, M, lambda_, beta_u, beta_v, lambda_1, lambda_2, dt)\u001b[0m\n\u001b[0;32m     19\u001b[0m \u001b[1;33m\u001b[0m\u001b[0m\n\u001b[0;32m     20\u001b[0m         \u001b[0mv_1\u001b[0m \u001b[1;33m=\u001b[0m \u001b[1;36m1\u001b[0m\u001b[1;33m/\u001b[0m\u001b[0mlambda_2\u001b[0m \u001b[1;33m*\u001b[0m \u001b[0mf\u001b[0m\u001b[1;33m.\u001b[0m\u001b[0mgradient_v_2\u001b[0m\u001b[1;33m(\u001b[0m\u001b[0mN\u001b[0m\u001b[1;33m,\u001b[0m\u001b[0mM\u001b[0m\u001b[1;33m,\u001b[0m\u001b[0mu_p\u001b[0m\u001b[1;33m,\u001b[0m\u001b[0mv_p\u001b[0m\u001b[1;33m,\u001b[0m\u001b[0mY\u001b[0m\u001b[1;33m,\u001b[0m\u001b[0mlambda_\u001b[0m\u001b[1;33m)\u001b[0m \u001b[1;33m*\u001b[0m \u001b[0mdt\u001b[0m\u001b[1;33m\u001b[0m\u001b[1;33m\u001b[0m\u001b[0m\n\u001b[1;32m---> 21\u001b[1;33m         \u001b[0mv_2\u001b[0m \u001b[1;33m=\u001b[0m \u001b[0mtorch\u001b[0m\u001b[1;33m.\u001b[0m\u001b[0msqrt\u001b[0m\u001b[1;33m(\u001b[0m\u001b[1;36m2\u001b[0m\u001b[1;33m/\u001b[0m\u001b[1;33m(\u001b[0m\u001b[0mlambda_2\u001b[0m\u001b[1;33m*\u001b[0m\u001b[0mbeta_v\u001b[0m\u001b[1;33m)\u001b[0m\u001b[1;33m)\u001b[0m \u001b[1;33m*\u001b[0m \u001b[0mtorch\u001b[0m\u001b[1;33m.\u001b[0m\u001b[0mempty\u001b[0m\u001b[1;33m(\u001b[0m\u001b[0mM\u001b[0m\u001b[1;33m)\u001b[0m\u001b[1;33m.\u001b[0m\u001b[0mnormal_\u001b[0m\u001b[1;33m(\u001b[0m\u001b[0mmean\u001b[0m\u001b[1;33m=\u001b[0m\u001b[1;36m0\u001b[0m\u001b[1;33m,\u001b[0m\u001b[0mstd\u001b[0m\u001b[1;33m=\u001b[0m\u001b[0msqrt_dt\u001b[0m\u001b[1;33m)\u001b[0m\u001b[1;33m\u001b[0m\u001b[1;33m\u001b[0m\u001b[0m\n\u001b[0m\u001b[0;32m     22\u001b[0m         \u001b[0mv_3\u001b[0m \u001b[1;33m=\u001b[0m \u001b[1;33m(\u001b[0m\u001b[1;33m(\u001b[0m\u001b[0mM\u001b[0m\u001b[1;33m-\u001b[0m\u001b[1;36m1\u001b[0m\u001b[1;33m)\u001b[0m\u001b[1;33m/\u001b[0m\u001b[1;33m(\u001b[0m\u001b[0mM\u001b[0m\u001b[1;33m*\u001b[0m\u001b[0mlambda_2\u001b[0m\u001b[1;33m*\u001b[0m\u001b[0mbeta_v\u001b[0m\u001b[1;33m)\u001b[0m\u001b[1;33m)\u001b[0m\u001b[1;33m*\u001b[0m\u001b[0mv_p\u001b[0m\u001b[1;33m*\u001b[0m\u001b[0mdt\u001b[0m\u001b[1;33m\u001b[0m\u001b[1;33m\u001b[0m\u001b[0m\n\u001b[0;32m     23\u001b[0m         \u001b[0mv_n\u001b[0m \u001b[1;33m=\u001b[0m \u001b[0mv_p\u001b[0m \u001b[1;33m-\u001b[0m \u001b[0mv_1\u001b[0m \u001b[1;33m+\u001b[0m \u001b[0mv_2\u001b[0m \u001b[1;33m-\u001b[0m \u001b[0mv_3\u001b[0m\u001b[1;33m\u001b[0m\u001b[1;33m\u001b[0m\u001b[0m\n",
      "\u001b[1;31mKeyboardInterrupt\u001b[0m: "
     ]
    }
   ],
   "source": [
    "# MAIN CELL: DO THE COMPUTATION\n",
    "\n",
    "## CHO0SE MSE IN THE SECOND CELL\n",
    "\n",
    "lambda_u_val_1 = 1\n",
    "lambda_v_val_1 = 1\n",
    "\n",
    "list_value_1 = np.logspace(-1,0.5, 10)\n",
    "#list_value_1 = np.arange(0.1, 1, 0.1)\n",
    "#list_value_1 = np.array([1])\n",
    "\n",
    "list_value_2 = np.logspace(-1,0.5, 10)\n",
    "#list_value_2 = np.arange(0.1, 1, 0.1)\n",
    "#list_value_2 = np.array([1])\n",
    "\n",
    "size_of_one_sample=1\n",
    "\n",
    "(overlap_at_each_iterations, overlap_at_final_iteration,\n",
    " mse_at_each_iterations, mse_at_final_iteration) = main(lambda_u_val_1, lambda_v_val_1,\n",
    "                                            size_of_one_sample, list_value_1, list_value_2)"
   ]
  },
  {
   "cell_type": "code",
   "execution_count": 70,
   "metadata": {},
   "outputs": [
    {
     "name": "stdout",
     "output_type": "stream",
     "text": [
      "overlap(u, v): (0.019400743767619133; 0.010840661823749542)\n",
      "overlap(u, v): (0.06011385843157768; 0.0687636286020279)\n",
      "overlap(u, v): (0.07541748881340027; 0.14221253991127014)\n",
      "progress 10.00%\r"
     ]
    },
    {
     "ename": "KeyboardInterrupt",
     "evalue": "",
     "output_type": "error",
     "traceback": [
      "\u001b[1;31m---------------------------------------------------------------------------\u001b[0m",
      "\u001b[1;31mKeyboardInterrupt\u001b[0m                         Traceback (most recent call last)",
      "\u001b[1;32m<ipython-input-70-c7e9683a3526>\u001b[0m in \u001b[0;36m<module>\u001b[1;34m\u001b[0m\n\u001b[0;32m      7\u001b[0m \u001b[1;33m\u001b[0m\u001b[0m\n\u001b[0;32m      8\u001b[0m (overlap_at_each_iterations_2, overlap_at_final_iteration_2,\n\u001b[1;32m----> 9\u001b[1;33m  \u001b[0mmse_at_each_iterations_2\u001b[0m\u001b[1;33m,\u001b[0m \u001b[0mmse_at_final_iteration_2\u001b[0m\u001b[1;33m)\u001b[0m \u001b[1;33m=\u001b[0m \u001b[0mmain\u001b[0m\u001b[1;33m(\u001b[0m\u001b[0mlambda_u_val_2\u001b[0m\u001b[1;33m,\u001b[0m \u001b[0mlambda_v_val_2\u001b[0m\u001b[1;33m,\u001b[0m\u001b[1;33m\u001b[0m\u001b[1;33m\u001b[0m\u001b[0m\n\u001b[0m\u001b[0;32m     10\u001b[0m                                                         size_of_one_sample, list_value_1, list_value_2)\n",
      "\u001b[1;32m<ipython-input-66-6580d947fa5d>\u001b[0m in \u001b[0;36mmain\u001b[1;34m(lambda_u_val, lambda_v_val, size_of_one_sample, list_value_1, list_value_2)\u001b[0m\n\u001b[0;32m     18\u001b[0m             \u001b[1;31m# Calculation\u001b[0m\u001b[1;33m\u001b[0m\u001b[1;33m\u001b[0m\u001b[1;33m\u001b[0m\u001b[0m\n\u001b[0;32m     19\u001b[0m             \u001b[1;32mfor\u001b[0m \u001b[0m_\u001b[0m \u001b[1;32min\u001b[0m \u001b[0mrange\u001b[0m\u001b[1;33m(\u001b[0m\u001b[0msize_of_one_sample\u001b[0m\u001b[1;33m)\u001b[0m\u001b[1;33m:\u001b[0m\u001b[1;33m\u001b[0m\u001b[1;33m\u001b[0m\u001b[0m\n\u001b[1;32m---> 20\u001b[1;33m                 (current_uv_overlap,current_uv_mse)=one_run(lambda_1=lambda_u_val, lambda_2=lambda_v_val,\n\u001b[0m\u001b[0;32m     21\u001b[0m                                                     beta_u=value_to_test_1, beta_v=value_to_test_2)\n\u001b[0;32m     22\u001b[0m                 \u001b[1;31m# Store the overlap at the end of each iterations:\u001b[0m\u001b[1;33m\u001b[0m\u001b[1;33m\u001b[0m\u001b[1;33m\u001b[0m\u001b[0m\n",
      "\u001b[1;32m<ipython-input-65-eddcec7f45c8>\u001b[0m in \u001b[0;36mone_run\u001b[1;34m(lambda_, N, M, beta_u, beta_v, lambda_1, lambda_2, dt, iteration)\u001b[0m\n\u001b[0;32m     30\u001b[0m \u001b[1;33m\u001b[0m\u001b[0m\n\u001b[0;32m     31\u001b[0m     \u001b[1;31m# Perform the gradient descent\u001b[0m\u001b[1;33m\u001b[0m\u001b[1;33m\u001b[0m\u001b[1;33m\u001b[0m\u001b[0m\n\u001b[1;32m---> 32\u001b[1;33m     \u001b[1;33m(\u001b[0m\u001b[0mres\u001b[0m\u001b[1;33m,\u001b[0m \u001b[0mres_mse\u001b[0m\u001b[1;33m)\u001b[0m \u001b[1;33m=\u001b[0m \u001b[0mmain_gradient_2_sans_proj_normalisation\u001b[0m\u001b[1;33m(\u001b[0m\u001b[0miteration\u001b[0m\u001b[1;33m,\u001b[0m \u001b[0mu_p\u001b[0m\u001b[1;33m,\u001b[0m \u001b[0mv_p\u001b[0m\u001b[1;33m,\u001b[0m \u001b[0mY\u001b[0m\u001b[1;33m,\u001b[0m \u001b[0mu_\u001b[0m\u001b[1;33m,\u001b[0m \u001b[0mv_\u001b[0m\u001b[1;33m,\u001b[0m \u001b[0mN\u001b[0m\u001b[1;33m,\u001b[0m \u001b[0mM\u001b[0m\u001b[1;33m,\u001b[0m \u001b[0mlambda_\u001b[0m\u001b[1;33m,\u001b[0m \u001b[0mbeta_u\u001b[0m\u001b[1;33m,\u001b[0m \u001b[0mbeta_v\u001b[0m\u001b[1;33m,\u001b[0m \u001b[0mlambda_1\u001b[0m\u001b[1;33m,\u001b[0m \u001b[0mlambda_2\u001b[0m\u001b[1;33m,\u001b[0m \u001b[0mdt\u001b[0m\u001b[1;33m)\u001b[0m\u001b[1;33m\u001b[0m\u001b[1;33m\u001b[0m\u001b[0m\n\u001b[0m\u001b[0;32m     33\u001b[0m \u001b[1;33m\u001b[0m\u001b[0m\n\u001b[0;32m     34\u001b[0m     \u001b[1;32mreturn\u001b[0m \u001b[0mres\u001b[0m\u001b[1;33m,\u001b[0m \u001b[0mres_mse\u001b[0m\u001b[1;33m\u001b[0m\u001b[1;33m\u001b[0m\u001b[0m\n",
      "\u001b[1;32m<ipython-input-61-b252672eb796>\u001b[0m in \u001b[0;36mmain_gradient_2_sans_proj_normalisation\u001b[1;34m(iteration, u_p, v_p, Y, u_, v_, N, M, lambda_, beta_u, beta_v, lambda_1, lambda_2, dt)\u001b[0m\n\u001b[0;32m     14\u001b[0m \u001b[1;33m\u001b[0m\u001b[0m\n\u001b[0;32m     15\u001b[0m         \u001b[0mu_1\u001b[0m \u001b[1;33m=\u001b[0m \u001b[1;33m(\u001b[0m\u001b[1;36m1\u001b[0m\u001b[1;33m/\u001b[0m\u001b[0mlambda_1\u001b[0m\u001b[1;33m)\u001b[0m \u001b[1;33m*\u001b[0m \u001b[0mf\u001b[0m\u001b[1;33m.\u001b[0m\u001b[0mgradient_u_2\u001b[0m\u001b[1;33m(\u001b[0m\u001b[0mN\u001b[0m\u001b[1;33m,\u001b[0m \u001b[0mM\u001b[0m\u001b[1;33m,\u001b[0m \u001b[0mu_p\u001b[0m\u001b[1;33m,\u001b[0m\u001b[0mv_p\u001b[0m\u001b[1;33m,\u001b[0m\u001b[0mY\u001b[0m\u001b[1;33m,\u001b[0m\u001b[0mlambda_\u001b[0m\u001b[1;33m)\u001b[0m \u001b[1;33m*\u001b[0m \u001b[0mdt\u001b[0m\u001b[1;33m\u001b[0m\u001b[1;33m\u001b[0m\u001b[0m\n\u001b[1;32m---> 16\u001b[1;33m         \u001b[0mu_2\u001b[0m \u001b[1;33m=\u001b[0m \u001b[0mtorch\u001b[0m\u001b[1;33m.\u001b[0m\u001b[0msqrt\u001b[0m\u001b[1;33m(\u001b[0m\u001b[1;36m2\u001b[0m\u001b[1;33m/\u001b[0m\u001b[1;33m(\u001b[0m\u001b[0mlambda_1\u001b[0m\u001b[1;33m*\u001b[0m\u001b[0mbeta_u\u001b[0m\u001b[1;33m)\u001b[0m\u001b[1;33m)\u001b[0m \u001b[1;33m*\u001b[0m \u001b[0mtorch\u001b[0m\u001b[1;33m.\u001b[0m\u001b[0mempty\u001b[0m\u001b[1;33m(\u001b[0m\u001b[0mN\u001b[0m\u001b[1;33m)\u001b[0m\u001b[1;33m.\u001b[0m\u001b[0mnormal_\u001b[0m\u001b[1;33m(\u001b[0m\u001b[0mmean\u001b[0m\u001b[1;33m=\u001b[0m\u001b[1;36m0\u001b[0m\u001b[1;33m,\u001b[0m\u001b[0mstd\u001b[0m\u001b[1;33m=\u001b[0m\u001b[0msqrt_dt\u001b[0m\u001b[1;33m)\u001b[0m\u001b[1;33m\u001b[0m\u001b[1;33m\u001b[0m\u001b[0m\n\u001b[0m\u001b[0;32m     17\u001b[0m         \u001b[0mu_3\u001b[0m \u001b[1;33m=\u001b[0m \u001b[1;33m(\u001b[0m\u001b[1;33m(\u001b[0m\u001b[0mN\u001b[0m\u001b[1;33m-\u001b[0m\u001b[1;36m1\u001b[0m\u001b[1;33m)\u001b[0m\u001b[1;33m/\u001b[0m\u001b[1;33m(\u001b[0m\u001b[0mN\u001b[0m\u001b[1;33m*\u001b[0m\u001b[0mlambda_1\u001b[0m\u001b[1;33m*\u001b[0m\u001b[0mbeta_u\u001b[0m\u001b[1;33m)\u001b[0m\u001b[1;33m)\u001b[0m\u001b[1;33m*\u001b[0m\u001b[0mu_p\u001b[0m\u001b[1;33m*\u001b[0m\u001b[0mdt\u001b[0m\u001b[1;33m\u001b[0m\u001b[1;33m\u001b[0m\u001b[0m\n\u001b[0;32m     18\u001b[0m         \u001b[0mu_n\u001b[0m \u001b[1;33m=\u001b[0m \u001b[0mu_p\u001b[0m \u001b[1;33m-\u001b[0m \u001b[0mu_1\u001b[0m \u001b[1;33m+\u001b[0m \u001b[0mu_2\u001b[0m \u001b[1;33m-\u001b[0m \u001b[0mu_3\u001b[0m\u001b[1;33m\u001b[0m\u001b[1;33m\u001b[0m\u001b[0m\n",
      "\u001b[1;31mKeyboardInterrupt\u001b[0m: "
     ]
    }
   ],
   "source": [
    "# MAIN CELL 2: DO THE COMPUTATION\n",
    "\n",
    "## CHO0SE MSE IN THE SECOND CELL\n",
    "\n",
    "lambda_u_val_2 = 1\n",
    "lambda_v_val_2 = 0.01\n",
    "\n",
    "size_of_one_sample=1\n",
    "\n",
    "(overlap_at_each_iterations_2, overlap_at_final_iteration_2,\n",
    " mse_at_each_iterations_2, mse_at_final_iteration_2) = main(lambda_u_val_2, lambda_v_val_2,\n",
    "                                                        size_of_one_sample, list_value_1, list_value_2)"
   ]
  },
  {
   "cell_type": "code",
   "execution_count": 73,
   "metadata": {},
   "outputs": [],
   "source": [
    "name_value_1=\"beta_u\"\n",
    "name_value_2=\"beta_v\"\n",
    "\n",
    "name_n_1=\"500\"\n",
    "name_m_1=\"500\"\n",
    "\n",
    "name_n_2=\"500\"\n",
    "name_m_2=\"500\"\n",
    "\n",
    "# var = mean(abs(a - a.mean())**2)."
   ]
  },
  {
   "cell_type": "code",
   "execution_count": 74,
   "metadata": {},
   "outputs": [
    {
     "data": {
      "image/png": "[encoded data removed]",
      "text/plain": [
       "<Figure size 864x360 with 4 Axes>"
      ]
     },
     "metadata": {},
     "output_type": "display_data"
    }
   ],
   "source": [
    "## HEAT MAP VARIANCE RUN 1\n",
    "variance_map = np.var(overlap_at_final_iteration.mean(axis=2), axis=1)\n",
    "variance_map = variance_map.reshape(len(list_value_1),len(list_value_2))\n",
    "\n",
    "variance_mse_map = np.var(mse_at_final_iteration.mean(axis=2), axis=1)\n",
    "variance_mse_map = variance_mse_map.reshape(len(list_value_1),len(list_value_2))\n",
    "\n",
    "x, y = np.meshgrid(list_value_2,list_value_1)\n",
    "\n",
    "fig,ax=plt.subplots(1,2, figsize=(12,5), facecolor='white')\n",
    "#fig.tight_layout()\n",
    "fig.subplots_adjust(top=0.8)\n",
    "fig.suptitle(f\"n={name_n_1}, m={name_m_1}; lambda_u={lambda_u_val_1}, lambda_v={lambda_v_val_1}\", size=16)\n",
    "\n",
    "bar0=ax[0].contourf(x,y, variance_map)\n",
    "ax[0].set_title(\"VARIANCE OVERLAP\")\n",
    "ax[0].set_xlabel(f\"{name_value_2}\")\n",
    "ax[0].set_ylabel(f\"{name_value_1}\")\n",
    "\n",
    "bar1 = ax[1].contourf(x,y, variance_mse_map)\n",
    "ax[1].set_title(\"VARIANCE MSE\")\n",
    "ax[1].set_xlabel(f\"{name_value_2}\")\n",
    "ax[1].set_ylabel(f\"{name_value_1}\")\n",
    "\n",
    "plt.colorbar(bar0, ax=ax[0])\n",
    "plt.colorbar(bar1, ax=ax[1])\n",
    "\n",
    "path=f\"C:/Users/Admin/Desktop/n={name_n_1}_m={name_m_1}_lu={lambda_u_val_1}_lv={lambda_v_val_1}_variance.jpg\"\n",
    "plt.savefig(path)\n",
    "\n",
    "plt.show()"
   ]
  },
  {
   "cell_type": "code",
   "execution_count": 75,
   "metadata": {},
   "outputs": [
    {
     "data": {
      "image/png": "[encoded data removed]",
      "text/plain": [
       "<Figure size 864x360 with 4 Axes>"
      ]
     },
     "metadata": {},
     "output_type": "display_data"
    }
   ],
   "source": [
    "## HEAT MAP VARIANCE RUN 2\n",
    "variance_map = np.var(overlap_at_final_iteration_2.mean(axis=2), axis=1)\n",
    "variance_map = variance_map.reshape(len(list_value_1),len(list_value_2))\n",
    "\n",
    "variance_mse_map = np.var(mse_at_final_iteration_2.mean(axis=2), axis=1)\n",
    "variance_mse_map = variance_mse_map.reshape(len(list_value_1),len(list_value_2))\n",
    "\n",
    "x, y = np.meshgrid(list_value_2,list_value_1)\n",
    "\n",
    "fig,ax=plt.subplots(1,2, figsize=(12,5), facecolor='white')\n",
    "#fig.tight_layout()\n",
    "fig.subplots_adjust(top=0.8)\n",
    "fig.suptitle(f\"n={name_n_2}, m={name_m_2}; lambda_u={lambda_u_val_2} and lambda_v={lambda_v_val_2}\", size=16)\n",
    "\n",
    "bar0=ax[0].contourf(x,y, variance_map)\n",
    "ax[0].set_title(\"VARIANCE OVERLAP\")\n",
    "ax[0].set_xlabel(f\"{name_value_2}\")\n",
    "ax[0].set_ylabel(f\"{name_value_1}\")\n",
    "\n",
    "bar1 = ax[1].contourf(x,y, variance_mse_map)\n",
    "ax[1].set_title(\"VARIANCE MSE\")\n",
    "ax[1].set_xlabel(f\"{name_value_2}\")\n",
    "ax[1].set_ylabel(f\"{name_value_1}\")\n",
    "\n",
    "plt.colorbar(bar0, ax=ax[0])\n",
    "plt.colorbar(bar1, ax=ax[1])\n",
    "\n",
    "path=f\"C:/Users/Admin/Desktop/n={name_n_2}_m={name_m_2}_lu={lambda_u_val_2}_lv={lambda_v_val_2}_variance.jpg\"\n",
    "plt.savefig(path)\n",
    "\n",
    "plt.show()"
   ]
  },
  {
   "cell_type": "code",
   "execution_count": 76,
   "metadata": {},
   "outputs": [
    {
     "data": {
      "application/vnd.plotly.v1+json": {
       "config": {
        "plotlyServerURL": "https://plot.ly"
       },
       "data": [
        {
         "colorscale": [
          [
           0,
           "rgb(247,251,255)"
          ],
          [
           0.125,
           "rgb(222,235,247)"
          ],
          [
           0.25,
           "rgb(198,219,239)"
          ],
          [
           0.375,
           "rgb(158,202,225)"
          ],
          [
           0.5,
           "rgb(107,174,214)"
          ],
          [
           0.625,
           "rgb(66,146,198)"
          ],
          [
           0.75,
           "rgb(33,113,181)"
          ],
          [
           0.875,
           "rgb(8,81,156)"
          ],
          [
           1,
           "rgb(8,48,107)"
          ]
         ],
         "name": "n=500, m=500; lu=1, lv=1",
         "opacity": 1,
         "showlegend": true,
         "showscale": false,
         "type": "surface",
         "x": [
          0.1,
          0.14677992676220694,
          0.21544346900318834,
          0.31622776601683794,
          0.46415888336127786,
          0.6812920690579611,
          1,
          1.467799267622069,
          2.1544346900318834,
          3.1622776601683795
         ],
         "y": [
          0.1,
          0.14677992676220694,
          0.21544346900318834,
          0.31622776601683794,
          0.46415888336127786,
          0.6812920690579611,
          1,
          1.467799267622069,
          2.1544346900318834,
          3.1622776601683795
         ],
         "z": [
          [
           0.06965411454439163,
           0.10896140336990356,
           0.1265041083097458,
           0.05252557247877121,
           0.062018267810344696,
           0.10504385828971863,
           0.06286048889160156,
           0.20646870136260986,
           0.12621112167835236,
           0.03943544253706932
          ],
          [
           0.16110673546791077,
           0.09279700368642807,
           0.028353508561849594,
           0.06234417110681534,
           0.16926619410514832,
           0.03263537585735321,
           0.06934520602226257,
           0.12419301271438599,
           0.1696612536907196,
           0.08042430132627487
          ],
          [
           0.06045400723814964,
           0.14722208678722382,
           0.08887667953968048,
           0.07989941537380219,
           0.1292094886302948,
           0.0404532290995121,
           0.13158220052719116,
           0.1102406233549118,
           0.25398051738739014,
           0.2788810133934021
          ],
          [
           0.12190604209899902,
           0.07718189805746078,
           0.04439184442162514,
           0.09813432395458221,
           0.15489864349365234,
           0.08693880587816238,
           0.08653587102890015,
           0.09672002494335175,
           0.5044475793838501,
           0.06329631805419922
          ],
          [
           0.12572550773620605,
           0.0044291066005826,
           0.22517260909080505,
           0.09412501007318497,
           0.10670006275177002,
           0.19957679510116577,
           0.341463178396225,
           0.4605827331542969,
           0.36929070949554443,
           0.4880980849266052
          ],
          [
           0.07639622688293457,
           0.10260763764381409,
           0.019817324355244637,
           0.07752695679664612,
           0.30705517530441284,
           0.1492389440536499,
           0.4057375192642212,
           0.631399393081665,
           0.3534695506095886,
           0.5130771994590759
          ],
          [
           0.12494131922721863,
           0.18953880667686462,
           0.23326417803764343,
           0.26093655824661255,
           0.4378204345703125,
           0.5010970234870911,
           0.5779837369918823,
           0.5341161489486694,
           0.597499668598175,
           0.6473609805107117
          ],
          [
           0.050358328968286514,
           0.03140202909708023,
           0.30102092027664185,
           0.18563756346702576,
           0.2181704044342041,
           0.23845195770263672,
           0.4174487590789795,
           0.6630131006240845,
           0.5986552834510803,
           0.6541033387184143
          ],
          [
           0.10051073133945465,
           0.24798884987831116,
           0.2534938454627991,
           0.2398647964000702,
           0.49480944871902466,
           0.523723304271698,
           0.5280206203460693,
           0.5748035907745361,
           0.6344143152236938,
           0.6279048919677734
          ],
          [
           0.15568441152572632,
           0.11603949218988419,
           0.129492849111557,
           0.5129021406173706,
           0.26143866777420044,
           0.6760940551757812,
           0.5403197407722473,
           0.7013862133026123,
           0.4981222152709961,
           0.029971038922667503
          ]
         ]
        },
        {
         "colorscale": [
          [
           0,
           "rgb(247,252,245)"
          ],
          [
           0.125,
           "rgb(229,245,224)"
          ],
          [
           0.25,
           "rgb(199,233,192)"
          ],
          [
           0.375,
           "rgb(161,217,155)"
          ],
          [
           0.5,
           "rgb(116,196,118)"
          ],
          [
           0.625,
           "rgb(65,171,93)"
          ],
          [
           0.75,
           "rgb(35,139,69)"
          ],
          [
           0.875,
           "rgb(0,109,44)"
          ],
          [
           1,
           "rgb(0,68,27)"
          ]
         ],
         "name": "n=500, m=500; lu=1, lv=0.01",
         "opacity": 0.9,
         "showlegend": true,
         "showscale": false,
         "type": "surface",
         "x": [
          0.1,
          0.14677992676220694,
          0.21544346900318834,
          0.31622776601683794,
          0.46415888336127786,
          0.6812920690579611,
          1,
          1.467799267622069,
          2.1544346900318834,
          3.1622776601683795
         ],
         "y": [
          0.1,
          0.14677992676220694,
          0.21544346900318834,
          0.31622776601683794,
          0.46415888336127786,
          0.6812920690579611,
          1,
          1.467799267622069,
          2.1544346900318834,
          3.1622776601683795
         ],
         "z": [
          [
           0.0394771471619606,
           0.021000515669584274,
           0.05281279236078262,
           0.0719972476363182,
           0.04969162866473198,
           0.20438309013843536,
           0.03307144343852997,
           0.05636473745107651,
           0.08056338876485825,
           0.06279698759317398
          ],
          [
           0.09134360402822495,
           0.033503517508506775,
           0.13817769289016724,
           0.03459516167640686,
           0.036163579672575,
           0.07685878872871399,
           0.08674298226833344,
           0.09292018413543701,
           0.024380631744861603,
           0.14302930235862732
          ],
          [
           0.09806446731090546,
           0.0638384073972702,
           0.028329914435744286,
           0.1396978199481964,
           0.0636652261018753,
           0.14444279670715332,
           0.12489670515060425,
           0.04599091783165932,
           0.16257783770561218,
           0.2091447412967682
          ],
          [
           0.1402498483657837,
           0.04754764586687088,
           0.054242633283138275,
           0.054993752390146255,
           0.11574151366949081,
           0.045797862112522125,
           0.031588539481163025,
           0.03449780493974686,
           0.11095690727233887,
           0.03005879744887352
          ],
          [
           0.05758284404873848,
           0.043657734990119934,
           0.07069310545921326,
           0.04150811955332756,
           0.10996032506227493,
           0.28366610407829285,
           0.09933596849441528,
           0.11146789789199829,
           0.2272559553384781,
           0.044721633195877075
          ],
          [
           0.24711492657661438,
           0.05374196171760559,
           0.09734414517879486,
           0.08171018213033676,
           0.1355123519897461,
           0.14087896049022675,
           0.19598156213760376,
           0.2261989712715149,
           0.0322469100356102,
           0.3922986090183258
          ],
          [
           0.06854832917451859,
           0.08400376886129379,
           0.06159764155745506,
           0.11602551490068436,
           0.1765800416469574,
           0.10283583402633667,
           0.23427093029022217,
           0.05467725917696953,
           0.03947807848453522,
           0.4020010232925415
          ],
          [
           0.17686821520328522,
           0.19569385051727295,
           0.10882161557674408,
           0.2602820098400116,
           0.26795923709869385,
           0.14860957860946655,
           0.10020028799772263,
           0.3698216676712036,
           0.5148676633834839,
           0.43716561794281006
          ],
          [
           0.08809340000152588,
           0.04394427686929703,
           0.1087622418999672,
           0.1543528139591217,
           0.35075831413269043,
           0.4425198435783386,
           0.3511882722377777,
           0.4301615357398987,
           0.6395047903060913,
           0.5883302688598633
          ],
          [
           0.10655996203422546,
           0.036562930792570114,
           0.14892995357513428,
           0.15013061463832855,
           0.31401410698890686,
           0.5430386066436768,
           0.4563905894756317,
           0.4111935794353485,
           0.5509958863258362,
           0.5777369737625122
          ]
         ]
        }
       ],
       "layout": {
        "scene": {
         "xaxis": {
          "title": {
           "text": "beta_v"
          }
         },
         "yaxis": {
          "title": {
           "text": "beta_u"
          }
         },
         "zaxis": {
          "title": {
           "text": "overlap"
          }
         }
        },
        "showlegend": true,
        "template": {
         "data": {
          "bar": [
           {
            "error_x": {
             "color": "#2a3f5f"
            },
            "error_y": {
             "color": "#2a3f5f"
            },
            "marker": {
             "line": {
              "color": "#E5ECF6",
              "width": 0.5
             }
            },
            "type": "bar"
           }
          ],
          "barpolar": [
           {
            "marker": {
             "line": {
              "color": "#E5ECF6",
              "width": 0.5
             }
            },
            "type": "barpolar"
           }
          ],
          "carpet": [
           {
            "aaxis": {
             "endlinecolor": "#2a3f5f",
             "gridcolor": "white",
             "linecolor": "white",
             "minorgridcolor": "white",
             "startlinecolor": "#2a3f5f"
            },
            "baxis": {
             "endlinecolor": "#2a3f5f",
             "gridcolor": "white",
             "linecolor": "white",
             "minorgridcolor": "white",
             "startlinecolor": "#2a3f5f"
            },
            "type": "carpet"
           }
          ],
          "choropleth": [
           {
            "colorbar": {
             "outlinewidth": 0,
             "ticks": ""
            },
            "type": "choropleth"
           }
          ],
          "contour": [
           {
            "colorbar": {
             "outlinewidth": 0,
             "ticks": ""
            },
            "colorscale": [
             [
              0,
              "#0d0887"
             ],
             [
              0.1111111111111111,
              "#46039f"
             ],
             [
              0.2222222222222222,
              "#7201a8"
             ],
             [
              0.3333333333333333,
              "#9c179e"
             ],
             [
              0.4444444444444444,
              "#bd3786"
             ],
             [
              0.5555555555555556,
              "#d8576b"
             ],
             [
              0.6666666666666666,
              "#ed7953"
             ],
             [
              0.7777777777777778,
              "#fb9f3a"
             ],
             [
              0.8888888888888888,
              "#fdca26"
             ],
             [
              1,
              "#f0f921"
             ]
            ],
            "type": "contour"
           }
          ],
          "contourcarpet": [
           {
            "colorbar": {
             "outlinewidth": 0,
             "ticks": ""
            },
            "type": "contourcarpet"
           }
          ],
          "heatmap": [
           {
            "colorbar": {
             "outlinewidth": 0,
             "ticks": ""
            },
            "colorscale": [
             [
              0,
              "#0d0887"
             ],
             [
              0.1111111111111111,
              "#46039f"
             ],
             [
              0.2222222222222222,
              "#7201a8"
             ],
             [
              0.3333333333333333,
              "#9c179e"
             ],
             [
              0.4444444444444444,
              "#bd3786"
             ],
             [
              0.5555555555555556,
              "#d8576b"
             ],
             [
              0.6666666666666666,
              "#ed7953"
             ],
             [
              0.7777777777777778,
              "#fb9f3a"
             ],
             [
              0.8888888888888888,
              "#fdca26"
             ],
             [
              1,
              "#f0f921"
             ]
            ],
            "type": "heatmap"
           }
          ],
          "heatmapgl": [
           {
            "colorbar": {
             "outlinewidth": 0,
             "ticks": ""
            },
            "colorscale": [
             [
              0,
              "#0d0887"
             ],
             [
              0.1111111111111111,
              "#46039f"
             ],
             [
              0.2222222222222222,
              "#7201a8"
             ],
             [
              0.3333333333333333,
              "#9c179e"
             ],
             [
              0.4444444444444444,
              "#bd3786"
             ],
             [
              0.5555555555555556,
              "#d8576b"
             ],
             [
              0.6666666666666666,
              "#ed7953"
             ],
             [
              0.7777777777777778,
              "#fb9f3a"
             ],
             [
              0.8888888888888888,
              "#fdca26"
             ],
             [
              1,
              "#f0f921"
             ]
            ],
            "type": "heatmapgl"
           }
          ],
          "histogram": [
           {
            "marker": {
             "colorbar": {
              "outlinewidth": 0,
              "ticks": ""
             }
            },
            "type": "histogram"
           }
          ],
          "histogram2d": [
           {
            "colorbar": {
             "outlinewidth": 0,
             "ticks": ""
            },
            "colorscale": [
             [
              0,
              "#0d0887"
             ],
             [
              0.1111111111111111,
              "#46039f"
             ],
             [
              0.2222222222222222,
              "#7201a8"
             ],
             [
              0.3333333333333333,
              "#9c179e"
             ],
             [
              0.4444444444444444,
              "#bd3786"
             ],
             [
              0.5555555555555556,
              "#d8576b"
             ],
             [
              0.6666666666666666,
              "#ed7953"
             ],
             [
              0.7777777777777778,
              "#fb9f3a"
             ],
             [
              0.8888888888888888,
              "#fdca26"
             ],
             [
              1,
              "#f0f921"
             ]
            ],
            "type": "histogram2d"
           }
          ],
          "histogram2dcontour": [
           {
            "colorbar": {
             "outlinewidth": 0,
             "ticks": ""
            },
            "colorscale": [
             [
              0,
              "#0d0887"
             ],
             [
              0.1111111111111111,
              "#46039f"
             ],
             [
              0.2222222222222222,
              "#7201a8"
             ],
             [
              0.3333333333333333,
              "#9c179e"
             ],
             [
              0.4444444444444444,
              "#bd3786"
             ],
             [
              0.5555555555555556,
              "#d8576b"
             ],
             [
              0.6666666666666666,
              "#ed7953"
             ],
             [
              0.7777777777777778,
              "#fb9f3a"
             ],
             [
              0.8888888888888888,
              "#fdca26"
             ],
             [
              1,
              "#f0f921"
             ]
            ],
            "type": "histogram2dcontour"
           }
          ],
          "mesh3d": [
           {
            "colorbar": {
             "outlinewidth": 0,
             "ticks": ""
            },
            "type": "mesh3d"
           }
          ],
          "parcoords": [
           {
            "line": {
             "colorbar": {
              "outlinewidth": 0,
              "ticks": ""
             }
            },
            "type": "parcoords"
           }
          ],
          "pie": [
           {
            "automargin": true,
            "type": "pie"
           }
          ],
          "scatter": [
           {
            "marker": {
             "colorbar": {
              "outlinewidth": 0,
              "ticks": ""
             }
            },
            "type": "scatter"
           }
          ],
          "scatter3d": [
           {
            "line": {
             "colorbar": {
              "outlinewidth": 0,
              "ticks": ""
             }
            },
            "marker": {
             "colorbar": {
              "outlinewidth": 0,
              "ticks": ""
             }
            },
            "type": "scatter3d"
           }
          ],
          "scattercarpet": [
           {
            "marker": {
             "colorbar": {
              "outlinewidth": 0,
              "ticks": ""
             }
            },
            "type": "scattercarpet"
           }
          ],
          "scattergeo": [
           {
            "marker": {
             "colorbar": {
              "outlinewidth": 0,
              "ticks": ""
             }
            },
            "type": "scattergeo"
           }
          ],
          "scattergl": [
           {
            "marker": {
             "colorbar": {
              "outlinewidth": 0,
              "ticks": ""
             }
            },
            "type": "scattergl"
           }
          ],
          "scattermapbox": [
           {
            "marker": {
             "colorbar": {
              "outlinewidth": 0,
              "ticks": ""
             }
            },
            "type": "scattermapbox"
           }
          ],
          "scatterpolar": [
           {
            "marker": {
             "colorbar": {
              "outlinewidth": 0,
              "ticks": ""
             }
            },
            "type": "scatterpolar"
           }
          ],
          "scatterpolargl": [
           {
            "marker": {
             "colorbar": {
              "outlinewidth": 0,
              "ticks": ""
             }
            },
            "type": "scatterpolargl"
           }
          ],
          "scatterternary": [
           {
            "marker": {
             "colorbar": {
              "outlinewidth": 0,
              "ticks": ""
             }
            },
            "type": "scatterternary"
           }
          ],
          "surface": [
           {
            "colorbar": {
             "outlinewidth": 0,
             "ticks": ""
            },
            "colorscale": [
             [
              0,
              "#0d0887"
             ],
             [
              0.1111111111111111,
              "#46039f"
             ],
             [
              0.2222222222222222,
              "#7201a8"
             ],
             [
              0.3333333333333333,
              "#9c179e"
             ],
             [
              0.4444444444444444,
              "#bd3786"
             ],
             [
              0.5555555555555556,
              "#d8576b"
             ],
             [
              0.6666666666666666,
              "#ed7953"
             ],
             [
              0.7777777777777778,
              "#fb9f3a"
             ],
             [
              0.8888888888888888,
              "#fdca26"
             ],
             [
              1,
              "#f0f921"
             ]
            ],
            "type": "surface"
           }
          ],
          "table": [
           {
            "cells": {
             "fill": {
              "color": "#EBF0F8"
             },
             "line": {
              "color": "white"
             }
            },
            "header": {
             "fill": {
              "color": "#C8D4E3"
             },
             "line": {
              "color": "white"
             }
            },
            "type": "table"
           }
          ]
         },
         "layout": {
          "annotationdefaults": {
           "arrowcolor": "#2a3f5f",
           "arrowhead": 0,
           "arrowwidth": 1
          },
          "autotypenumbers": "strict",
          "coloraxis": {
           "colorbar": {
            "outlinewidth": 0,
            "ticks": ""
           }
          },
          "colorscale": {
           "diverging": [
            [
             0,
             "#8e0152"
            ],
            [
             0.1,
             "#c51b7d"
            ],
            [
             0.2,
             "#de77ae"
            ],
            [
             0.3,
             "#f1b6da"
            ],
            [
             0.4,
             "#fde0ef"
            ],
            [
             0.5,
             "#f7f7f7"
            ],
            [
             0.6,
             "#e6f5d0"
            ],
            [
             0.7,
             "#b8e186"
            ],
            [
             0.8,
             "#7fbc41"
            ],
            [
             0.9,
             "#4d9221"
            ],
            [
             1,
             "#276419"
            ]
           ],
           "sequential": [
            [
             0,
             "#0d0887"
            ],
            [
             0.1111111111111111,
             "#46039f"
            ],
            [
             0.2222222222222222,
             "#7201a8"
            ],
            [
             0.3333333333333333,
             "#9c179e"
            ],
            [
             0.4444444444444444,
             "#bd3786"
            ],
            [
             0.5555555555555556,
             "#d8576b"
            ],
            [
             0.6666666666666666,
             "#ed7953"
            ],
            [
             0.7777777777777778,
             "#fb9f3a"
            ],
            [
             0.8888888888888888,
             "#fdca26"
            ],
            [
             1,
             "#f0f921"
            ]
           ],
           "sequentialminus": [
            [
             0,
             "#0d0887"
            ],
            [
             0.1111111111111111,
             "#46039f"
            ],
            [
             0.2222222222222222,
             "#7201a8"
            ],
            [
             0.3333333333333333,
             "#9c179e"
            ],
            [
             0.4444444444444444,
             "#bd3786"
            ],
            [
             0.5555555555555556,
             "#d8576b"
            ],
            [
             0.6666666666666666,
             "#ed7953"
            ],
            [
             0.7777777777777778,
             "#fb9f3a"
            ],
            [
             0.8888888888888888,
             "#fdca26"
            ],
            [
             1,
             "#f0f921"
            ]
           ]
          },
          "colorway": [
           "#636efa",
           "#EF553B",
           "#00cc96",
           "#ab63fa",
           "#FFA15A",
           "#19d3f3",
           "#FF6692",
           "#B6E880",
           "#FF97FF",
           "#FECB52"
          ],
          "font": {
           "color": "#2a3f5f"
          },
          "geo": {
           "bgcolor": "white",
           "lakecolor": "white",
           "landcolor": "#E5ECF6",
           "showlakes": true,
           "showland": true,
           "subunitcolor": "white"
          },
          "hoverlabel": {
           "align": "left"
          },
          "hovermode": "closest",
          "mapbox": {
           "style": "light"
          },
          "paper_bgcolor": "white",
          "plot_bgcolor": "#E5ECF6",
          "polar": {
           "angularaxis": {
            "gridcolor": "white",
            "linecolor": "white",
            "ticks": ""
           },
           "bgcolor": "#E5ECF6",
           "radialaxis": {
            "gridcolor": "white",
            "linecolor": "white",
            "ticks": ""
           }
          },
          "scene": {
           "xaxis": {
            "backgroundcolor": "#E5ECF6",
            "gridcolor": "white",
            "gridwidth": 2,
            "linecolor": "white",
            "showbackground": true,
            "ticks": "",
            "zerolinecolor": "white"
           },
           "yaxis": {
            "backgroundcolor": "#E5ECF6",
            "gridcolor": "white",
            "gridwidth": 2,
            "linecolor": "white",
            "showbackground": true,
            "ticks": "",
            "zerolinecolor": "white"
           },
           "zaxis": {
            "backgroundcolor": "#E5ECF6",
            "gridcolor": "white",
            "gridwidth": 2,
            "linecolor": "white",
            "showbackground": true,
            "ticks": "",
            "zerolinecolor": "white"
           }
          },
          "shapedefaults": {
           "line": {
            "color": "#2a3f5f"
           }
          },
          "ternary": {
           "aaxis": {
            "gridcolor": "white",
            "linecolor": "white",
            "ticks": ""
           },
           "baxis": {
            "gridcolor": "white",
            "linecolor": "white",
            "ticks": ""
           },
           "bgcolor": "#E5ECF6",
           "caxis": {
            "gridcolor": "white",
            "linecolor": "white",
            "ticks": ""
           }
          },
          "title": {
           "x": 0.05
          },
          "xaxis": {
           "automargin": true,
           "gridcolor": "white",
           "linecolor": "white",
           "ticks": "",
           "title": {
            "standoff": 15
           },
           "zerolinecolor": "white",
           "zerolinewidth": 2
          },
          "yaxis": {
           "automargin": true,
           "gridcolor": "white",
           "linecolor": "white",
           "ticks": "",
           "title": {
            "standoff": 15
           },
           "zerolinecolor": "white",
           "zerolinewidth": 2
          }
         }
        },
        "title": {
         "text": "OVERLAP:"
        }
       }
      },
      "text/html": [
       "<div>                            <div id=\"557a1452-399a-4def-ac53-2b82d77f7fd9\" class=\"plotly-graph-div\" style=\"height:525px; width:100%;\"></div>            <script type=\"text/javascript\">                require([\"plotly\"], function(Plotly) {                    window.PLOTLYENV=window.PLOTLYENV || {};                                    if (document.getElementById(\"557a1452-399a-4def-ac53-2b82d77f7fd9\")) {                    Plotly.newPlot(                        \"557a1452-399a-4def-ac53-2b82d77f7fd9\",                        [{\"colorscale\": [[0.0, \"rgb(247,251,255)\"], [0.125, \"rgb(222,235,247)\"], [0.25, \"rgb(198,219,239)\"], [0.375, \"rgb(158,202,225)\"], [0.5, \"rgb(107,174,214)\"], [0.625, \"rgb(66,146,198)\"], [0.75, \"rgb(33,113,181)\"], [0.875, \"rgb(8,81,156)\"], [1.0, \"rgb(8,48,107)\"]], \"name\": \"n=500, m=500; lu=1, lv=1\", \"opacity\": 1, \"showlegend\": true, \"showscale\": false, \"type\": \"surface\", \"x\": [0.1, 0.14677992676220694, 0.21544346900318834, 0.31622776601683794, 0.46415888336127786, 0.6812920690579611, 1.0, 1.467799267622069, 2.1544346900318834, 3.1622776601683795], \"y\": [0.1, 0.14677992676220694, 0.21544346900318834, 0.31622776601683794, 0.46415888336127786, 0.6812920690579611, 1.0, 1.467799267622069, 2.1544346900318834, 3.1622776601683795], \"z\": [[0.06965411454439163, 0.10896140336990356, 0.1265041083097458, 0.05252557247877121, 0.062018267810344696, 0.10504385828971863, 0.06286048889160156, 0.20646870136260986, 0.12621112167835236, 0.03943544253706932], [0.16110673546791077, 0.09279700368642807, 0.028353508561849594, 0.06234417110681534, 0.16926619410514832, 0.03263537585735321, 0.06934520602226257, 0.12419301271438599, 0.1696612536907196, 0.08042430132627487], [0.06045400723814964, 0.14722208678722382, 0.08887667953968048, 0.07989941537380219, 0.1292094886302948, 0.0404532290995121, 0.13158220052719116, 0.1102406233549118, 0.25398051738739014, 0.2788810133934021], [0.12190604209899902, 0.07718189805746078, 0.04439184442162514, 0.09813432395458221, 0.15489864349365234, 0.08693880587816238, 0.08653587102890015, 0.09672002494335175, 0.5044475793838501, 0.06329631805419922], [0.12572550773620605, 0.0044291066005826, 0.22517260909080505, 0.09412501007318497, 0.10670006275177002, 0.19957679510116577, 0.341463178396225, 0.4605827331542969, 0.36929070949554443, 0.4880980849266052], [0.07639622688293457, 0.10260763764381409, 0.019817324355244637, 0.07752695679664612, 0.30705517530441284, 0.1492389440536499, 0.4057375192642212, 0.631399393081665, 0.3534695506095886, 0.5130771994590759], [0.12494131922721863, 0.18953880667686462, 0.23326417803764343, 0.26093655824661255, 0.4378204345703125, 0.5010970234870911, 0.5779837369918823, 0.5341161489486694, 0.597499668598175, 0.6473609805107117], [0.050358328968286514, 0.03140202909708023, 0.30102092027664185, 0.18563756346702576, 0.2181704044342041, 0.23845195770263672, 0.4174487590789795, 0.6630131006240845, 0.5986552834510803, 0.6541033387184143], [0.10051073133945465, 0.24798884987831116, 0.2534938454627991, 0.2398647964000702, 0.49480944871902466, 0.523723304271698, 0.5280206203460693, 0.5748035907745361, 0.6344143152236938, 0.6279048919677734], [0.15568441152572632, 0.11603949218988419, 0.129492849111557, 0.5129021406173706, 0.26143866777420044, 0.6760940551757812, 0.5403197407722473, 0.7013862133026123, 0.4981222152709961, 0.029971038922667503]]}, {\"colorscale\": [[0.0, \"rgb(247,252,245)\"], [0.125, \"rgb(229,245,224)\"], [0.25, \"rgb(199,233,192)\"], [0.375, \"rgb(161,217,155)\"], [0.5, \"rgb(116,196,118)\"], [0.625, \"rgb(65,171,93)\"], [0.75, \"rgb(35,139,69)\"], [0.875, \"rgb(0,109,44)\"], [1.0, \"rgb(0,68,27)\"]], \"name\": \"n=500, m=500; lu=1, lv=0.01\", \"opacity\": 0.9, \"showlegend\": true, \"showscale\": false, \"type\": \"surface\", \"x\": [0.1, 0.14677992676220694, 0.21544346900318834, 0.31622776601683794, 0.46415888336127786, 0.6812920690579611, 1.0, 1.467799267622069, 2.1544346900318834, 3.1622776601683795], \"y\": [0.1, 0.14677992676220694, 0.21544346900318834, 0.31622776601683794, 0.46415888336127786, 0.6812920690579611, 1.0, 1.467799267622069, 2.1544346900318834, 3.1622776601683795], \"z\": [[0.0394771471619606, 0.021000515669584274, 0.05281279236078262, 0.0719972476363182, 0.04969162866473198, 0.20438309013843536, 0.03307144343852997, 0.05636473745107651, 0.08056338876485825, 0.06279698759317398], [0.09134360402822495, 0.033503517508506775, 0.13817769289016724, 0.03459516167640686, 0.036163579672575, 0.07685878872871399, 0.08674298226833344, 0.09292018413543701, 0.024380631744861603, 0.14302930235862732], [0.09806446731090546, 0.0638384073972702, 0.028329914435744286, 0.1396978199481964, 0.0636652261018753, 0.14444279670715332, 0.12489670515060425, 0.04599091783165932, 0.16257783770561218, 0.2091447412967682], [0.1402498483657837, 0.04754764586687088, 0.054242633283138275, 0.054993752390146255, 0.11574151366949081, 0.045797862112522125, 0.031588539481163025, 0.03449780493974686, 0.11095690727233887, 0.03005879744887352], [0.05758284404873848, 0.043657734990119934, 0.07069310545921326, 0.04150811955332756, 0.10996032506227493, 0.28366610407829285, 0.09933596849441528, 0.11146789789199829, 0.2272559553384781, 0.044721633195877075], [0.24711492657661438, 0.05374196171760559, 0.09734414517879486, 0.08171018213033676, 0.1355123519897461, 0.14087896049022675, 0.19598156213760376, 0.2261989712715149, 0.0322469100356102, 0.3922986090183258], [0.06854832917451859, 0.08400376886129379, 0.06159764155745506, 0.11602551490068436, 0.1765800416469574, 0.10283583402633667, 0.23427093029022217, 0.05467725917696953, 0.03947807848453522, 0.4020010232925415], [0.17686821520328522, 0.19569385051727295, 0.10882161557674408, 0.2602820098400116, 0.26795923709869385, 0.14860957860946655, 0.10020028799772263, 0.3698216676712036, 0.5148676633834839, 0.43716561794281006], [0.08809340000152588, 0.04394427686929703, 0.1087622418999672, 0.1543528139591217, 0.35075831413269043, 0.4425198435783386, 0.3511882722377777, 0.4301615357398987, 0.6395047903060913, 0.5883302688598633], [0.10655996203422546, 0.036562930792570114, 0.14892995357513428, 0.15013061463832855, 0.31401410698890686, 0.5430386066436768, 0.4563905894756317, 0.4111935794353485, 0.5509958863258362, 0.5777369737625122]]}],                        {\"scene\": {\"xaxis\": {\"title\": {\"text\": \"beta_v\"}}, \"yaxis\": {\"title\": {\"text\": \"beta_u\"}}, \"zaxis\": {\"title\": {\"text\": \"overlap\"}}}, \"showlegend\": true, \"template\": {\"data\": {\"bar\": [{\"error_x\": {\"color\": \"#2a3f5f\"}, \"error_y\": {\"color\": \"#2a3f5f\"}, \"marker\": {\"line\": {\"color\": \"#E5ECF6\", \"width\": 0.5}}, \"type\": \"bar\"}], \"barpolar\": [{\"marker\": {\"line\": {\"color\": \"#E5ECF6\", \"width\": 0.5}}, \"type\": \"barpolar\"}], \"carpet\": [{\"aaxis\": {\"endlinecolor\": \"#2a3f5f\", \"gridcolor\": \"white\", \"linecolor\": \"white\", \"minorgridcolor\": \"white\", \"startlinecolor\": \"#2a3f5f\"}, \"baxis\": {\"endlinecolor\": \"#2a3f5f\", \"gridcolor\": \"white\", \"linecolor\": \"white\", \"minorgridcolor\": \"white\", \"startlinecolor\": \"#2a3f5f\"}, \"type\": \"carpet\"}], \"choropleth\": [{\"colorbar\": {\"outlinewidth\": 0, \"ticks\": \"\"}, \"type\": \"choropleth\"}], \"contour\": [{\"colorbar\": {\"outlinewidth\": 0, \"ticks\": \"\"}, \"colorscale\": [[0.0, \"#0d0887\"], [0.1111111111111111, \"#46039f\"], [0.2222222222222222, \"#7201a8\"], [0.3333333333333333, \"#9c179e\"], [0.4444444444444444, \"#bd3786\"], [0.5555555555555556, \"#d8576b\"], [0.6666666666666666, \"#ed7953\"], [0.7777777777777778, \"#fb9f3a\"], [0.8888888888888888, \"#fdca26\"], [1.0, \"#f0f921\"]], \"type\": \"contour\"}], \"contourcarpet\": [{\"colorbar\": {\"outlinewidth\": 0, \"ticks\": \"\"}, \"type\": \"contourcarpet\"}], \"heatmap\": [{\"colorbar\": {\"outlinewidth\": 0, \"ticks\": \"\"}, \"colorscale\": [[0.0, \"#0d0887\"], [0.1111111111111111, \"#46039f\"], [0.2222222222222222, \"#7201a8\"], [0.3333333333333333, \"#9c179e\"], [0.4444444444444444, \"#bd3786\"], [0.5555555555555556, \"#d8576b\"], [0.6666666666666666, \"#ed7953\"], [0.7777777777777778, \"#fb9f3a\"], [0.8888888888888888, \"#fdca26\"], [1.0, \"#f0f921\"]], \"type\": \"heatmap\"}], \"heatmapgl\": [{\"colorbar\": {\"outlinewidth\": 0, \"ticks\": \"\"}, \"colorscale\": [[0.0, \"#0d0887\"], [0.1111111111111111, \"#46039f\"], [0.2222222222222222, \"#7201a8\"], [0.3333333333333333, \"#9c179e\"], [0.4444444444444444, \"#bd3786\"], [0.5555555555555556, \"#d8576b\"], [0.6666666666666666, \"#ed7953\"], [0.7777777777777778, \"#fb9f3a\"], [0.8888888888888888, \"#fdca26\"], [1.0, \"#f0f921\"]], \"type\": \"heatmapgl\"}], \"histogram\": [{\"marker\": {\"colorbar\": {\"outlinewidth\": 0, \"ticks\": \"\"}}, \"type\": \"histogram\"}], \"histogram2d\": [{\"colorbar\": {\"outlinewidth\": 0, \"ticks\": \"\"}, \"colorscale\": [[0.0, \"#0d0887\"], [0.1111111111111111, \"#46039f\"], [0.2222222222222222, \"#7201a8\"], [0.3333333333333333, \"#9c179e\"], [0.4444444444444444, \"#bd3786\"], [0.5555555555555556, \"#d8576b\"], [0.6666666666666666, \"#ed7953\"], [0.7777777777777778, \"#fb9f3a\"], [0.8888888888888888, \"#fdca26\"], [1.0, \"#f0f921\"]], \"type\": \"histogram2d\"}], \"histogram2dcontour\": [{\"colorbar\": {\"outlinewidth\": 0, \"ticks\": \"\"}, \"colorscale\": [[0.0, \"#0d0887\"], [0.1111111111111111, \"#46039f\"], [0.2222222222222222, \"#7201a8\"], [0.3333333333333333, \"#9c179e\"], [0.4444444444444444, \"#bd3786\"], [0.5555555555555556, \"#d8576b\"], [0.6666666666666666, \"#ed7953\"], [0.7777777777777778, \"#fb9f3a\"], [0.8888888888888888, \"#fdca26\"], [1.0, \"#f0f921\"]], \"type\": \"histogram2dcontour\"}], \"mesh3d\": [{\"colorbar\": {\"outlinewidth\": 0, \"ticks\": \"\"}, \"type\": \"mesh3d\"}], \"parcoords\": [{\"line\": {\"colorbar\": {\"outlinewidth\": 0, \"ticks\": \"\"}}, \"type\": \"parcoords\"}], \"pie\": [{\"automargin\": true, \"type\": \"pie\"}], \"scatter\": [{\"marker\": {\"colorbar\": {\"outlinewidth\": 0, \"ticks\": \"\"}}, \"type\": \"scatter\"}], \"scatter3d\": [{\"line\": {\"colorbar\": {\"outlinewidth\": 0, \"ticks\": \"\"}}, \"marker\": {\"colorbar\": {\"outlinewidth\": 0, \"ticks\": \"\"}}, \"type\": \"scatter3d\"}], \"scattercarpet\": [{\"marker\": {\"colorbar\": {\"outlinewidth\": 0, \"ticks\": \"\"}}, \"type\": \"scattercarpet\"}], \"scattergeo\": [{\"marker\": {\"colorbar\": {\"outlinewidth\": 0, \"ticks\": \"\"}}, \"type\": \"scattergeo\"}], \"scattergl\": [{\"marker\": {\"colorbar\": {\"outlinewidth\": 0, \"ticks\": \"\"}}, \"type\": \"scattergl\"}], \"scattermapbox\": [{\"marker\": {\"colorbar\": {\"outlinewidth\": 0, \"ticks\": \"\"}}, \"type\": \"scattermapbox\"}], \"scatterpolar\": [{\"marker\": {\"colorbar\": {\"outlinewidth\": 0, \"ticks\": \"\"}}, \"type\": \"scatterpolar\"}], \"scatterpolargl\": [{\"marker\": {\"colorbar\": {\"outlinewidth\": 0, \"ticks\": \"\"}}, \"type\": \"scatterpolargl\"}], \"scatterternary\": [{\"marker\": {\"colorbar\": {\"outlinewidth\": 0, \"ticks\": \"\"}}, \"type\": \"scatterternary\"}], \"surface\": [{\"colorbar\": {\"outlinewidth\": 0, \"ticks\": \"\"}, \"colorscale\": [[0.0, \"#0d0887\"], [0.1111111111111111, \"#46039f\"], [0.2222222222222222, \"#7201a8\"], [0.3333333333333333, \"#9c179e\"], [0.4444444444444444, \"#bd3786\"], [0.5555555555555556, \"#d8576b\"], [0.6666666666666666, \"#ed7953\"], [0.7777777777777778, \"#fb9f3a\"], [0.8888888888888888, \"#fdca26\"], [1.0, \"#f0f921\"]], \"type\": \"surface\"}], \"table\": [{\"cells\": {\"fill\": {\"color\": \"#EBF0F8\"}, \"line\": {\"color\": \"white\"}}, \"header\": {\"fill\": {\"color\": \"#C8D4E3\"}, \"line\": {\"color\": \"white\"}}, \"type\": \"table\"}]}, \"layout\": {\"annotationdefaults\": {\"arrowcolor\": \"#2a3f5f\", \"arrowhead\": 0, \"arrowwidth\": 1}, \"autotypenumbers\": \"strict\", \"coloraxis\": {\"colorbar\": {\"outlinewidth\": 0, \"ticks\": \"\"}}, \"colorscale\": {\"diverging\": [[0, \"#8e0152\"], [0.1, \"#c51b7d\"], [0.2, \"#de77ae\"], [0.3, \"#f1b6da\"], [0.4, \"#fde0ef\"], [0.5, \"#f7f7f7\"], [0.6, \"#e6f5d0\"], [0.7, \"#b8e186\"], [0.8, \"#7fbc41\"], [0.9, \"#4d9221\"], [1, \"#276419\"]], \"sequential\": [[0.0, \"#0d0887\"], [0.1111111111111111, \"#46039f\"], [0.2222222222222222, \"#7201a8\"], [0.3333333333333333, \"#9c179e\"], [0.4444444444444444, \"#bd3786\"], [0.5555555555555556, \"#d8576b\"], [0.6666666666666666, \"#ed7953\"], [0.7777777777777778, \"#fb9f3a\"], [0.8888888888888888, \"#fdca26\"], [1.0, \"#f0f921\"]], \"sequentialminus\": [[0.0, \"#0d0887\"], [0.1111111111111111, \"#46039f\"], [0.2222222222222222, \"#7201a8\"], [0.3333333333333333, \"#9c179e\"], [0.4444444444444444, \"#bd3786\"], [0.5555555555555556, \"#d8576b\"], [0.6666666666666666, \"#ed7953\"], [0.7777777777777778, \"#fb9f3a\"], [0.8888888888888888, \"#fdca26\"], [1.0, \"#f0f921\"]]}, \"colorway\": [\"#636efa\", \"#EF553B\", \"#00cc96\", \"#ab63fa\", \"#FFA15A\", \"#19d3f3\", \"#FF6692\", \"#B6E880\", \"#FF97FF\", \"#FECB52\"], \"font\": {\"color\": \"#2a3f5f\"}, \"geo\": {\"bgcolor\": \"white\", \"lakecolor\": \"white\", \"landcolor\": \"#E5ECF6\", \"showlakes\": true, \"showland\": true, \"subunitcolor\": \"white\"}, \"hoverlabel\": {\"align\": \"left\"}, \"hovermode\": \"closest\", \"mapbox\": {\"style\": \"light\"}, \"paper_bgcolor\": \"white\", \"plot_bgcolor\": \"#E5ECF6\", \"polar\": {\"angularaxis\": {\"gridcolor\": \"white\", \"linecolor\": \"white\", \"ticks\": \"\"}, \"bgcolor\": \"#E5ECF6\", \"radialaxis\": {\"gridcolor\": \"white\", \"linecolor\": \"white\", \"ticks\": \"\"}}, \"scene\": {\"xaxis\": {\"backgroundcolor\": \"#E5ECF6\", \"gridcolor\": \"white\", \"gridwidth\": 2, \"linecolor\": \"white\", \"showbackground\": true, \"ticks\": \"\", \"zerolinecolor\": \"white\"}, \"yaxis\": {\"backgroundcolor\": \"#E5ECF6\", \"gridcolor\": \"white\", \"gridwidth\": 2, \"linecolor\": \"white\", \"showbackground\": true, \"ticks\": \"\", \"zerolinecolor\": \"white\"}, \"zaxis\": {\"backgroundcolor\": \"#E5ECF6\", \"gridcolor\": \"white\", \"gridwidth\": 2, \"linecolor\": \"white\", \"showbackground\": true, \"ticks\": \"\", \"zerolinecolor\": \"white\"}}, \"shapedefaults\": {\"line\": {\"color\": \"#2a3f5f\"}}, \"ternary\": {\"aaxis\": {\"gridcolor\": \"white\", \"linecolor\": \"white\", \"ticks\": \"\"}, \"baxis\": {\"gridcolor\": \"white\", \"linecolor\": \"white\", \"ticks\": \"\"}, \"bgcolor\": \"#E5ECF6\", \"caxis\": {\"gridcolor\": \"white\", \"linecolor\": \"white\", \"ticks\": \"\"}}, \"title\": {\"x\": 0.05}, \"xaxis\": {\"automargin\": true, \"gridcolor\": \"white\", \"linecolor\": \"white\", \"ticks\": \"\", \"title\": {\"standoff\": 15}, \"zerolinecolor\": \"white\", \"zerolinewidth\": 2}, \"yaxis\": {\"automargin\": true, \"gridcolor\": \"white\", \"linecolor\": \"white\", \"ticks\": \"\", \"title\": {\"standoff\": 15}, \"zerolinecolor\": \"white\", \"zerolinewidth\": 2}}}, \"title\": {\"text\": \"OVERLAP:\"}},                        {\"responsive\": true}                    ).then(function(){\n",
       "                            \n",
       "var gd = document.getElementById('557a1452-399a-4def-ac53-2b82d77f7fd9');\n",
       "var x = new MutationObserver(function (mutations, observer) {{\n",
       "        var display = window.getComputedStyle(gd).display;\n",
       "        if (!display || display === 'none') {{\n",
       "            console.log([gd, 'removed!']);\n",
       "            Plotly.purge(gd);\n",
       "            observer.disconnect();\n",
       "        }}\n",
       "}});\n",
       "\n",
       "// Listen for the removal of the full notebook cells\n",
       "var notebookContainer = gd.closest('#notebook-container');\n",
       "if (notebookContainer) {{\n",
       "    x.observe(notebookContainer, {childList: true});\n",
       "}}\n",
       "\n",
       "// Listen for the clearing of the current output cell\n",
       "var outputEl = gd.closest('.output');\n",
       "if (outputEl) {{\n",
       "    x.observe(outputEl, {childList: true});\n",
       "}}\n",
       "\n",
       "                        })                };                });            </script>        </div>"
      ]
     },
     "metadata": {},
     "output_type": "display_data"
    }
   ],
   "source": [
    "######################### 3D PLOT BOTH CONFIG\n",
    "\n",
    "x, y = np.meshgrid(list_value_2,list_value_1)\n",
    "overlap_mean=overlap_at_final_iteration.mean(axis=1).mean(axis=1)\n",
    "overlap_mean=overlap_mean.reshape(len(list_value_1),len(list_value_2))\n",
    "\n",
    "overlap_mean_2=overlap_at_final_iteration_2.mean(axis=1).mean(axis=1)\n",
    "overlap_mean_2=overlap_mean_2.reshape(len(list_value_1),len(list_value_2))\n",
    "\n",
    "fig = go.Figure(data=[\n",
    "    go.Surface(name=f\"n={name_n_1}, m={name_m_1}; lu={lambda_u_val_1}, lv={lambda_v_val_1}\",\n",
    "               z=overlap_mean,x=list_value_1, y=list_value_2,\n",
    "               colorscale ='Blues', showscale=False, opacity=1),\n",
    "    go.Surface(name=f\"n={name_n_2}, m={name_m_2}; lu={lambda_u_val_2}, lv={lambda_v_val_2}\",\n",
    "               z=overlap_mean_2,x=list_value_1, y=list_value_2,\n",
    "               colorscale ='Greens', showscale=False, opacity=0.9)])\n",
    "\n",
    "fig.update_layout(\n",
    "    title=f\"OVERLAP:\",\n",
    ")\n",
    "\n",
    "fig.update_layout(showlegend=True, scene = dict(\n",
    "                    xaxis_title=name_value_2,\n",
    "                    yaxis_title=name_value_1,\n",
    "                    zaxis_title=\"overlap\"))\n",
    "fig.update_traces(showlegend=True)\n",
    "\n",
    "fig.show()\n",
    "path=f\"C:/Users/Admin/Desktop/R1_n={name_n_1}_m={name_m_1}_\"\\\n",
    "f\"Ldiff={lambda_u_val_1/lambda_v_val_1}_\"\\\n",
    "f\"R2_n={name_n_2}_m={name_m_2}_\"\\\n",
    "f\"Ldiff={lambda_u_val_2/lambda_v_val_2}_overlap.html\"\n",
    "fig.write_html(path)"
   ]
  },
  {
   "cell_type": "code",
   "execution_count": 22,
   "metadata": {},
   "outputs": [
    {
     "data": {
      "application/vnd.plotly.v1+json": {
       "config": {
        "plotlyServerURL": "https://plot.ly"
       },
       "data": [
        {
         "colorscale": [
          [
           0,
           "rgb(247,251,255)"
          ],
          [
           0.125,
           "rgb(222,235,247)"
          ],
          [
           0.25,
           "rgb(198,219,239)"
          ],
          [
           0.375,
           "rgb(158,202,225)"
          ],
          [
           0.5,
           "rgb(107,174,214)"
          ],
          [
           0.625,
           "rgb(66,146,198)"
          ],
          [
           0.75,
           "rgb(33,113,181)"
          ],
          [
           0.875,
           "rgb(8,81,156)"
          ],
          [
           1,
           "rgb(8,48,107)"
          ]
         ],
         "name": "n=500, m=500; lu=1, lv=1",
         "opacity": 1,
         "showlegend": true,
         "showscale": false,
         "type": "surface",
         "x": [
          0.1,
          0.14677992676220694,
          0.21544346900318834,
          0.31622776601683794,
          0.46415888336127786,
          0.6812920690579611,
          1,
          1.467799267622069,
          2.1544346900318834,
          3.1622776601683795
         ],
         "y": [
          0.1,
          0.14677992676220694,
          0.21544346900318834,
          0.31622776601683794,
          0.46415888336127786,
          0.6812920690579611,
          1,
          1.467799267622069,
          2.1544346900318834,
          3.1622776601683795
         ],
         "z": [
          [
           1.8606915473937988,
           1.7820771932601929,
           1.7469916343688965,
           1.894949197769165,
           1.875963807106018,
           1.789912223815918,
           1.8742790222167969,
           1.5870625972747803,
           1.747577428817749,
           1.9211292266845703
          ],
          [
           1.6777865886688232,
           1.814405918121338,
           1.9432932138442993,
           1.8753113746643066,
           1.661467432975769,
           1.934728980064392,
           1.8613094091415405,
           1.7516140937805176,
           1.660677433013916,
           1.8391512632369995
          ],
          [
           1.8790918588638306,
           1.7055556774139404,
           1.8222464323043823,
           1.8402010202407837,
           1.7415814399719238,
           1.9190936088562012,
           1.7368357181549072,
           1.779518485069275,
           1.4920392036437988,
           1.4422378540039062
          ],
          [
           1.756188154220581,
           1.8456366062164307,
           1.9112164974212646,
           1.8037312030792236,
           1.6902029514312744,
           1.8261222839355469,
           1.8269282579421997,
           1.8065600395202637,
           0.9911051988601685,
           1.8734073638916016
          ],
          [
           1.748548984527588,
           1.9911420345306396,
           1.5496549606323242,
           1.811749815940857,
           1.78659987449646,
           1.600846529006958,
           1.3170735836029053,
           1.0788346529006958,
           1.2614188194274902,
           1.0238037109375
          ],
          [
           1.8472074270248413,
           1.794784665107727,
           1.9603654146194458,
           1.8449456691741943,
           1.3858896493911743,
           1.7015221118927002,
           1.1885247230529785,
           0.7372011542320251,
           1.2930608987808228,
           0.973845362663269
          ],
          [
           1.7501171827316284,
           1.620922565460205,
           1.5334714651107788,
           1.4781266450881958,
           1.1243590116500854,
           0.9978058338165283,
           0.844032347202301,
           0.9317677021026611,
           0.8050004243850708,
           0.7052780389785767
          ],
          [
           1.8992834091186523,
           1.937195897102356,
           1.3979582786560059,
           1.6287249326705933,
           1.5636593103408813,
           1.5230963230133057,
           1.1651023626327515,
           0.673973798751831,
           0.8026894330978394,
           0.6917934417724609
          ],
          [
           1.798978328704834,
           1.504022479057312,
           1.4930124282836914,
           1.5202701091766357,
           1.0103811025619507,
           0.9525537490844727,
           0.9439588189125061,
           0.8503929376602173,
           0.7311714887619019,
           0.7441903352737427
          ],
          [
           1.688631296157837,
           1.767920970916748,
           1.7410142421722412,
           0.9741958379745483,
           1.4771225452423096,
           0.647812008857727,
           0.9193603992462158,
           0.5972278118133545,
           1.0037555694580078,
           1.9400577545166016
          ]
         ]
        },
        {
         "colorscale": [
          [
           0,
           "rgb(247,252,245)"
          ],
          [
           0.125,
           "rgb(229,245,224)"
          ],
          [
           0.25,
           "rgb(199,233,192)"
          ],
          [
           0.375,
           "rgb(161,217,155)"
          ],
          [
           0.5,
           "rgb(116,196,118)"
          ],
          [
           0.625,
           "rgb(65,171,93)"
          ],
          [
           0.75,
           "rgb(35,139,69)"
          ],
          [
           0.875,
           "rgb(0,109,44)"
          ],
          [
           1,
           "rgb(0,68,27)"
          ]
         ],
         "name": "n=500, m=500; lu=1, lv=0.01",
         "opacity": 0.9,
         "showlegend": true,
         "showscale": false,
         "type": "surface",
         "x": [
          0.1,
          0.14677992676220694,
          0.21544346900318834,
          0.31622776601683794,
          0.46415888336127786,
          0.6812920690579611,
          1,
          1.467799267622069,
          2.1544346900318834,
          3.1622776601683795
         ],
         "y": [
          0.1,
          0.14677992676220694,
          0.21544346900318834,
          0.31622776601683794,
          0.46415888336127786,
          0.6812920690579611,
          1,
          1.467799267622069,
          2.1544346900318834,
          3.1622776601683795
         ],
         "z": [
          [
           1.9210454225540161,
           1.9579989910125732,
           1.8943743705749512,
           1.8560055494308472,
           1.9006165266036987,
           1.591233730316162,
           1.9338569641113281,
           1.8872705698013306,
           1.8388729095458984,
           1.8744056224822998
          ],
          [
           1.8173127174377441,
           1.932992935180664,
           1.723644733428955,
           1.930809497833252,
           1.927673101425171,
           1.8462823629379272,
           1.8265140056610107,
           1.8141597509384155,
           1.9512386322021484,
           1.7139413356781006
          ],
          [
           1.8038709163665771,
           1.8723232746124268,
           1.9433400630950928,
           1.7206045389175415,
           1.8726696968078613,
           1.7111141681671143,
           1.750206708908081,
           1.9080183506011963,
           1.6748443841934204,
           1.581710696220398
          ],
          [
           1.7195004224777222,
           1.9049047231674194,
           1.891514778137207,
           1.890012502670288,
           1.768517017364502,
           1.9084042310714722,
           1.9368228912353516,
           1.931004285812378,
           1.7780859470367432,
           1.9398823976516724
          ],
          [
           1.8848342895507812,
           1.9126843214035034,
           1.8586139678955078,
           1.9169833660125732,
           1.7800793647766113,
           1.4326679706573486,
           1.801328182220459,
           1.777064561843872,
           1.5454883575439453,
           1.9105567932128906
          ],
          [
           1.505770206451416,
           1.892516016960144,
           1.805311679840088,
           1.836579442024231,
           1.728975534439087,
           1.718241810798645,
           1.6080374717712402,
           1.5476016998291016,
           1.9355063438415527,
           1.2154027223587036
          ],
          [
           1.862903118133545,
           1.831992268562317,
           1.8768048286437988,
           1.767949104309082,
           1.6468398571014404,
           1.7943286895751953,
           1.5314579010009766,
           1.8906450271606445,
           1.921043872833252,
           1.195997714996338
          ],
          [
           1.6462633609771729,
           1.6086121797561646,
           1.7823567390441895,
           1.479435920715332,
           1.4640817642211914,
           1.7027809619903564,
           1.7995994091033936,
           1.2603569030761719,
           0.9702645540237427,
           1.125669002532959
          ],
          [
           1.8238130807876587,
           1.912111520767212,
           1.782475471496582,
           1.6912941932678223,
           1.2984834909439087,
           1.1149603128433228,
           1.2976233959197998,
           1.1396769285202026,
           0.7209903001785278,
           0.8233394622802734
          ],
          [
           1.7868800163269043,
           1.9268743991851807,
           1.7021398544311523,
           1.6997387409210205,
           1.371971607208252,
           0.9139227271080017,
           1.0872188806533813,
           1.1776129007339478,
           0.8980084657669067,
           0.8445261120796204
          ]
         ]
        }
       ],
       "layout": {
        "scene": {
         "xaxis": {
          "title": {
           "text": "beta_v"
          }
         },
         "yaxis": {
          "title": {
           "text": "beta_u"
          }
         },
         "zaxis": {
          "title": {
           "text": "mse"
          }
         }
        },
        "template": {
         "data": {
          "bar": [
           {
            "error_x": {
             "color": "#2a3f5f"
            },
            "error_y": {
             "color": "#2a3f5f"
            },
            "marker": {
             "line": {
              "color": "#E5ECF6",
              "width": 0.5
             }
            },
            "type": "bar"
           }
          ],
          "barpolar": [
           {
            "marker": {
             "line": {
              "color": "#E5ECF6",
              "width": 0.5
             }
            },
            "type": "barpolar"
           }
          ],
          "carpet": [
           {
            "aaxis": {
             "endlinecolor": "#2a3f5f",
             "gridcolor": "white",
             "linecolor": "white",
             "minorgridcolor": "white",
             "startlinecolor": "#2a3f5f"
            },
            "baxis": {
             "endlinecolor": "#2a3f5f",
             "gridcolor": "white",
             "linecolor": "white",
             "minorgridcolor": "white",
             "startlinecolor": "#2a3f5f"
            },
            "type": "carpet"
           }
          ],
          "choropleth": [
           {
            "colorbar": {
             "outlinewidth": 0,
             "ticks": ""
            },
            "type": "choropleth"
           }
          ],
          "contour": [
           {
            "colorbar": {
             "outlinewidth": 0,
             "ticks": ""
            },
            "colorscale": [
             [
              0,
              "#0d0887"
             ],
             [
              0.1111111111111111,
              "#46039f"
             ],
             [
              0.2222222222222222,
              "#7201a8"
             ],
             [
              0.3333333333333333,
              "#9c179e"
             ],
             [
              0.4444444444444444,
              "#bd3786"
             ],
             [
              0.5555555555555556,
              "#d8576b"
             ],
             [
              0.6666666666666666,
              "#ed7953"
             ],
             [
              0.7777777777777778,
              "#fb9f3a"
             ],
             [
              0.8888888888888888,
              "#fdca26"
             ],
             [
              1,
              "#f0f921"
             ]
            ],
            "type": "contour"
           }
          ],
          "contourcarpet": [
           {
            "colorbar": {
             "outlinewidth": 0,
             "ticks": ""
            },
            "type": "contourcarpet"
           }
          ],
          "heatmap": [
           {
            "colorbar": {
             "outlinewidth": 0,
             "ticks": ""
            },
            "colorscale": [
             [
              0,
              "#0d0887"
             ],
             [
              0.1111111111111111,
              "#46039f"
             ],
             [
              0.2222222222222222,
              "#7201a8"
             ],
             [
              0.3333333333333333,
              "#9c179e"
             ],
             [
              0.4444444444444444,
              "#bd3786"
             ],
             [
              0.5555555555555556,
              "#d8576b"
             ],
             [
              0.6666666666666666,
              "#ed7953"
             ],
             [
              0.7777777777777778,
              "#fb9f3a"
             ],
             [
              0.8888888888888888,
              "#fdca26"
             ],
             [
              1,
              "#f0f921"
             ]
            ],
            "type": "heatmap"
           }
          ],
          "heatmapgl": [
           {
            "colorbar": {
             "outlinewidth": 0,
             "ticks": ""
            },
            "colorscale": [
             [
              0,
              "#0d0887"
             ],
             [
              0.1111111111111111,
              "#46039f"
             ],
             [
              0.2222222222222222,
              "#7201a8"
             ],
             [
              0.3333333333333333,
              "#9c179e"
             ],
             [
              0.4444444444444444,
              "#bd3786"
             ],
             [
              0.5555555555555556,
              "#d8576b"
             ],
             [
              0.6666666666666666,
              "#ed7953"
             ],
             [
              0.7777777777777778,
              "#fb9f3a"
             ],
             [
              0.8888888888888888,
              "#fdca26"
             ],
             [
              1,
              "#f0f921"
             ]
            ],
            "type": "heatmapgl"
           }
          ],
          "histogram": [
           {
            "marker": {
             "colorbar": {
              "outlinewidth": 0,
              "ticks": ""
             }
            },
            "type": "histogram"
           }
          ],
          "histogram2d": [
           {
            "colorbar": {
             "outlinewidth": 0,
             "ticks": ""
            },
            "colorscale": [
             [
              0,
              "#0d0887"
             ],
             [
              0.1111111111111111,
              "#46039f"
             ],
             [
              0.2222222222222222,
              "#7201a8"
             ],
             [
              0.3333333333333333,
              "#9c179e"
             ],
             [
              0.4444444444444444,
              "#bd3786"
             ],
             [
              0.5555555555555556,
              "#d8576b"
             ],
             [
              0.6666666666666666,
              "#ed7953"
             ],
             [
              0.7777777777777778,
              "#fb9f3a"
             ],
             [
              0.8888888888888888,
              "#fdca26"
             ],
             [
              1,
              "#f0f921"
             ]
            ],
            "type": "histogram2d"
           }
          ],
          "histogram2dcontour": [
           {
            "colorbar": {
             "outlinewidth": 0,
             "ticks": ""
            },
            "colorscale": [
             [
              0,
              "#0d0887"
             ],
             [
              0.1111111111111111,
              "#46039f"
             ],
             [
              0.2222222222222222,
              "#7201a8"
             ],
             [
              0.3333333333333333,
              "#9c179e"
             ],
             [
              0.4444444444444444,
              "#bd3786"
             ],
             [
              0.5555555555555556,
              "#d8576b"
             ],
             [
              0.6666666666666666,
              "#ed7953"
             ],
             [
              0.7777777777777778,
              "#fb9f3a"
             ],
             [
              0.8888888888888888,
              "#fdca26"
             ],
             [
              1,
              "#f0f921"
             ]
            ],
            "type": "histogram2dcontour"
           }
          ],
          "mesh3d": [
           {
            "colorbar": {
             "outlinewidth": 0,
             "ticks": ""
            },
            "type": "mesh3d"
           }
          ],
          "parcoords": [
           {
            "line": {
             "colorbar": {
              "outlinewidth": 0,
              "ticks": ""
             }
            },
            "type": "parcoords"
           }
          ],
          "pie": [
           {
            "automargin": true,
            "type": "pie"
           }
          ],
          "scatter": [
           {
            "marker": {
             "colorbar": {
              "outlinewidth": 0,
              "ticks": ""
             }
            },
            "type": "scatter"
           }
          ],
          "scatter3d": [
           {
            "line": {
             "colorbar": {
              "outlinewidth": 0,
              "ticks": ""
             }
            },
            "marker": {
             "colorbar": {
              "outlinewidth": 0,
              "ticks": ""
             }
            },
            "type": "scatter3d"
           }
          ],
          "scattercarpet": [
           {
            "marker": {
             "colorbar": {
              "outlinewidth": 0,
              "ticks": ""
             }
            },
            "type": "scattercarpet"
           }
          ],
          "scattergeo": [
           {
            "marker": {
             "colorbar": {
              "outlinewidth": 0,
              "ticks": ""
             }
            },
            "type": "scattergeo"
           }
          ],
          "scattergl": [
           {
            "marker": {
             "colorbar": {
              "outlinewidth": 0,
              "ticks": ""
             }
            },
            "type": "scattergl"
           }
          ],
          "scattermapbox": [
           {
            "marker": {
             "colorbar": {
              "outlinewidth": 0,
              "ticks": ""
             }
            },
            "type": "scattermapbox"
           }
          ],
          "scatterpolar": [
           {
            "marker": {
             "colorbar": {
              "outlinewidth": 0,
              "ticks": ""
             }
            },
            "type": "scatterpolar"
           }
          ],
          "scatterpolargl": [
           {
            "marker": {
             "colorbar": {
              "outlinewidth": 0,
              "ticks": ""
             }
            },
            "type": "scatterpolargl"
           }
          ],
          "scatterternary": [
           {
            "marker": {
             "colorbar": {
              "outlinewidth": 0,
              "ticks": ""
             }
            },
            "type": "scatterternary"
           }
          ],
          "surface": [
           {
            "colorbar": {
             "outlinewidth": 0,
             "ticks": ""
            },
            "colorscale": [
             [
              0,
              "#0d0887"
             ],
             [
              0.1111111111111111,
              "#46039f"
             ],
             [
              0.2222222222222222,
              "#7201a8"
             ],
             [
              0.3333333333333333,
              "#9c179e"
             ],
             [
              0.4444444444444444,
              "#bd3786"
             ],
             [
              0.5555555555555556,
              "#d8576b"
             ],
             [
              0.6666666666666666,
              "#ed7953"
             ],
             [
              0.7777777777777778,
              "#fb9f3a"
             ],
             [
              0.8888888888888888,
              "#fdca26"
             ],
             [
              1,
              "#f0f921"
             ]
            ],
            "type": "surface"
           }
          ],
          "table": [
           {
            "cells": {
             "fill": {
              "color": "#EBF0F8"
             },
             "line": {
              "color": "white"
             }
            },
            "header": {
             "fill": {
              "color": "#C8D4E3"
             },
             "line": {
              "color": "white"
             }
            },
            "type": "table"
           }
          ]
         },
         "layout": {
          "annotationdefaults": {
           "arrowcolor": "#2a3f5f",
           "arrowhead": 0,
           "arrowwidth": 1
          },
          "autotypenumbers": "strict",
          "coloraxis": {
           "colorbar": {
            "outlinewidth": 0,
            "ticks": ""
           }
          },
          "colorscale": {
           "diverging": [
            [
             0,
             "#8e0152"
            ],
            [
             0.1,
             "#c51b7d"
            ],
            [
             0.2,
             "#de77ae"
            ],
            [
             0.3,
             "#f1b6da"
            ],
            [
             0.4,
             "#fde0ef"
            ],
            [
             0.5,
             "#f7f7f7"
            ],
            [
             0.6,
             "#e6f5d0"
            ],
            [
             0.7,
             "#b8e186"
            ],
            [
             0.8,
             "#7fbc41"
            ],
            [
             0.9,
             "#4d9221"
            ],
            [
             1,
             "#276419"
            ]
           ],
           "sequential": [
            [
             0,
             "#0d0887"
            ],
            [
             0.1111111111111111,
             "#46039f"
            ],
            [
             0.2222222222222222,
             "#7201a8"
            ],
            [
             0.3333333333333333,
             "#9c179e"
            ],
            [
             0.4444444444444444,
             "#bd3786"
            ],
            [
             0.5555555555555556,
             "#d8576b"
            ],
            [
             0.6666666666666666,
             "#ed7953"
            ],
            [
             0.7777777777777778,
             "#fb9f3a"
            ],
            [
             0.8888888888888888,
             "#fdca26"
            ],
            [
             1,
             "#f0f921"
            ]
           ],
           "sequentialminus": [
            [
             0,
             "#0d0887"
            ],
            [
             0.1111111111111111,
             "#46039f"
            ],
            [
             0.2222222222222222,
             "#7201a8"
            ],
            [
             0.3333333333333333,
             "#9c179e"
            ],
            [
             0.4444444444444444,
             "#bd3786"
            ],
            [
             0.5555555555555556,
             "#d8576b"
            ],
            [
             0.6666666666666666,
             "#ed7953"
            ],
            [
             0.7777777777777778,
             "#fb9f3a"
            ],
            [
             0.8888888888888888,
             "#fdca26"
            ],
            [
             1,
             "#f0f921"
            ]
           ]
          },
          "colorway": [
           "#636efa",
           "#EF553B",
           "#00cc96",
           "#ab63fa",
           "#FFA15A",
           "#19d3f3",
           "#FF6692",
           "#B6E880",
           "#FF97FF",
           "#FECB52"
          ],
          "font": {
           "color": "#2a3f5f"
          },
          "geo": {
           "bgcolor": "white",
           "lakecolor": "white",
           "landcolor": "#E5ECF6",
           "showlakes": true,
           "showland": true,
           "subunitcolor": "white"
          },
          "hoverlabel": {
           "align": "left"
          },
          "hovermode": "closest",
          "mapbox": {
           "style": "light"
          },
          "paper_bgcolor": "white",
          "plot_bgcolor": "#E5ECF6",
          "polar": {
           "angularaxis": {
            "gridcolor": "white",
            "linecolor": "white",
            "ticks": ""
           },
           "bgcolor": "#E5ECF6",
           "radialaxis": {
            "gridcolor": "white",
            "linecolor": "white",
            "ticks": ""
           }
          },
          "scene": {
           "xaxis": {
            "backgroundcolor": "#E5ECF6",
            "gridcolor": "white",
            "gridwidth": 2,
            "linecolor": "white",
            "showbackground": true,
            "ticks": "",
            "zerolinecolor": "white"
           },
           "yaxis": {
            "backgroundcolor": "#E5ECF6",
            "gridcolor": "white",
            "gridwidth": 2,
            "linecolor": "white",
            "showbackground": true,
            "ticks": "",
            "zerolinecolor": "white"
           },
           "zaxis": {
            "backgroundcolor": "#E5ECF6",
            "gridcolor": "white",
            "gridwidth": 2,
            "linecolor": "white",
            "showbackground": true,
            "ticks": "",
            "zerolinecolor": "white"
           }
          },
          "shapedefaults": {
           "line": {
            "color": "#2a3f5f"
           }
          },
          "ternary": {
           "aaxis": {
            "gridcolor": "white",
            "linecolor": "white",
            "ticks": ""
           },
           "baxis": {
            "gridcolor": "white",
            "linecolor": "white",
            "ticks": ""
           },
           "bgcolor": "#E5ECF6",
           "caxis": {
            "gridcolor": "white",
            "linecolor": "white",
            "ticks": ""
           }
          },
          "title": {
           "x": 0.05
          },
          "xaxis": {
           "automargin": true,
           "gridcolor": "white",
           "linecolor": "white",
           "ticks": "",
           "title": {
            "standoff": 15
           },
           "zerolinecolor": "white",
           "zerolinewidth": 2
          },
          "yaxis": {
           "automargin": true,
           "gridcolor": "white",
           "linecolor": "white",
           "ticks": "",
           "title": {
            "standoff": 15
           },
           "zerolinecolor": "white",
           "zerolinewidth": 2
          }
         }
        },
        "title": {
         "text": "MSE:"
        }
       }
      },
      "text/html": [
       "<div>                            <div id=\"781b9fd8-01aa-4585-927f-cd3f21c36b3d\" class=\"plotly-graph-div\" style=\"height:525px; width:100%;\"></div>            <script type=\"text/javascript\">                require([\"plotly\"], function(Plotly) {                    window.PLOTLYENV=window.PLOTLYENV || {};                                    if (document.getElementById(\"781b9fd8-01aa-4585-927f-cd3f21c36b3d\")) {                    Plotly.newPlot(                        \"781b9fd8-01aa-4585-927f-cd3f21c36b3d\",                        [{\"colorscale\": [[0.0, \"rgb(247,251,255)\"], [0.125, \"rgb(222,235,247)\"], [0.25, \"rgb(198,219,239)\"], [0.375, \"rgb(158,202,225)\"], [0.5, \"rgb(107,174,214)\"], [0.625, \"rgb(66,146,198)\"], [0.75, \"rgb(33,113,181)\"], [0.875, \"rgb(8,81,156)\"], [1.0, \"rgb(8,48,107)\"]], \"name\": \"n=500, m=500; lu=1, lv=1\", \"opacity\": 1, \"showlegend\": true, \"showscale\": false, \"type\": \"surface\", \"x\": [0.1, 0.14677992676220694, 0.21544346900318834, 0.31622776601683794, 0.46415888336127786, 0.6812920690579611, 1.0, 1.467799267622069, 2.1544346900318834, 3.1622776601683795], \"y\": [0.1, 0.14677992676220694, 0.21544346900318834, 0.31622776601683794, 0.46415888336127786, 0.6812920690579611, 1.0, 1.467799267622069, 2.1544346900318834, 3.1622776601683795], \"z\": [[1.8606915473937988, 1.7820771932601929, 1.7469916343688965, 1.894949197769165, 1.875963807106018, 1.789912223815918, 1.8742790222167969, 1.5870625972747803, 1.747577428817749, 1.9211292266845703], [1.6777865886688232, 1.814405918121338, 1.9432932138442993, 1.8753113746643066, 1.661467432975769, 1.934728980064392, 1.8613094091415405, 1.7516140937805176, 1.660677433013916, 1.8391512632369995], [1.8790918588638306, 1.7055556774139404, 1.8222464323043823, 1.8402010202407837, 1.7415814399719238, 1.9190936088562012, 1.7368357181549072, 1.779518485069275, 1.4920392036437988, 1.4422378540039062], [1.756188154220581, 1.8456366062164307, 1.9112164974212646, 1.8037312030792236, 1.6902029514312744, 1.8261222839355469, 1.8269282579421997, 1.8065600395202637, 0.9911051988601685, 1.8734073638916016], [1.748548984527588, 1.9911420345306396, 1.5496549606323242, 1.811749815940857, 1.78659987449646, 1.600846529006958, 1.3170735836029053, 1.0788346529006958, 1.2614188194274902, 1.0238037109375], [1.8472074270248413, 1.794784665107727, 1.9603654146194458, 1.8449456691741943, 1.3858896493911743, 1.7015221118927002, 1.1885247230529785, 0.7372011542320251, 1.2930608987808228, 0.973845362663269], [1.7501171827316284, 1.620922565460205, 1.5334714651107788, 1.4781266450881958, 1.1243590116500854, 0.9978058338165283, 0.844032347202301, 0.9317677021026611, 0.8050004243850708, 0.7052780389785767], [1.8992834091186523, 1.937195897102356, 1.3979582786560059, 1.6287249326705933, 1.5636593103408813, 1.5230963230133057, 1.1651023626327515, 0.673973798751831, 0.8026894330978394, 0.6917934417724609], [1.798978328704834, 1.504022479057312, 1.4930124282836914, 1.5202701091766357, 1.0103811025619507, 0.9525537490844727, 0.9439588189125061, 0.8503929376602173, 0.7311714887619019, 0.7441903352737427], [1.688631296157837, 1.767920970916748, 1.7410142421722412, 0.9741958379745483, 1.4771225452423096, 0.647812008857727, 0.9193603992462158, 0.5972278118133545, 1.0037555694580078, 1.9400577545166016]]}, {\"colorscale\": [[0.0, \"rgb(247,252,245)\"], [0.125, \"rgb(229,245,224)\"], [0.25, \"rgb(199,233,192)\"], [0.375, \"rgb(161,217,155)\"], [0.5, \"rgb(116,196,118)\"], [0.625, \"rgb(65,171,93)\"], [0.75, \"rgb(35,139,69)\"], [0.875, \"rgb(0,109,44)\"], [1.0, \"rgb(0,68,27)\"]], \"name\": \"n=500, m=500; lu=1, lv=0.01\", \"opacity\": 0.9, \"showlegend\": true, \"showscale\": false, \"type\": \"surface\", \"x\": [0.1, 0.14677992676220694, 0.21544346900318834, 0.31622776601683794, 0.46415888336127786, 0.6812920690579611, 1.0, 1.467799267622069, 2.1544346900318834, 3.1622776601683795], \"y\": [0.1, 0.14677992676220694, 0.21544346900318834, 0.31622776601683794, 0.46415888336127786, 0.6812920690579611, 1.0, 1.467799267622069, 2.1544346900318834, 3.1622776601683795], \"z\": [[1.9210454225540161, 1.9579989910125732, 1.8943743705749512, 1.8560055494308472, 1.9006165266036987, 1.591233730316162, 1.9338569641113281, 1.8872705698013306, 1.8388729095458984, 1.8744056224822998], [1.8173127174377441, 1.932992935180664, 1.723644733428955, 1.930809497833252, 1.927673101425171, 1.8462823629379272, 1.8265140056610107, 1.8141597509384155, 1.9512386322021484, 1.7139413356781006], [1.8038709163665771, 1.8723232746124268, 1.9433400630950928, 1.7206045389175415, 1.8726696968078613, 1.7111141681671143, 1.750206708908081, 1.9080183506011963, 1.6748443841934204, 1.581710696220398], [1.7195004224777222, 1.9049047231674194, 1.891514778137207, 1.890012502670288, 1.768517017364502, 1.9084042310714722, 1.9368228912353516, 1.931004285812378, 1.7780859470367432, 1.9398823976516724], [1.8848342895507812, 1.9126843214035034, 1.8586139678955078, 1.9169833660125732, 1.7800793647766113, 1.4326679706573486, 1.801328182220459, 1.777064561843872, 1.5454883575439453, 1.9105567932128906], [1.505770206451416, 1.892516016960144, 1.805311679840088, 1.836579442024231, 1.728975534439087, 1.718241810798645, 1.6080374717712402, 1.5476016998291016, 1.9355063438415527, 1.2154027223587036], [1.862903118133545, 1.831992268562317, 1.8768048286437988, 1.767949104309082, 1.6468398571014404, 1.7943286895751953, 1.5314579010009766, 1.8906450271606445, 1.921043872833252, 1.195997714996338], [1.6462633609771729, 1.6086121797561646, 1.7823567390441895, 1.479435920715332, 1.4640817642211914, 1.7027809619903564, 1.7995994091033936, 1.2603569030761719, 0.9702645540237427, 1.125669002532959], [1.8238130807876587, 1.912111520767212, 1.782475471496582, 1.6912941932678223, 1.2984834909439087, 1.1149603128433228, 1.2976233959197998, 1.1396769285202026, 0.7209903001785278, 0.8233394622802734], [1.7868800163269043, 1.9268743991851807, 1.7021398544311523, 1.6997387409210205, 1.371971607208252, 0.9139227271080017, 1.0872188806533813, 1.1776129007339478, 0.8980084657669067, 0.8445261120796204]]}],                        {\"scene\": {\"xaxis\": {\"title\": {\"text\": \"beta_v\"}}, \"yaxis\": {\"title\": {\"text\": \"beta_u\"}}, \"zaxis\": {\"title\": {\"text\": \"mse\"}}}, \"template\": {\"data\": {\"bar\": [{\"error_x\": {\"color\": \"#2a3f5f\"}, \"error_y\": {\"color\": \"#2a3f5f\"}, \"marker\": {\"line\": {\"color\": \"#E5ECF6\", \"width\": 0.5}}, \"type\": \"bar\"}], \"barpolar\": [{\"marker\": {\"line\": {\"color\": \"#E5ECF6\", \"width\": 0.5}}, \"type\": \"barpolar\"}], \"carpet\": [{\"aaxis\": {\"endlinecolor\": \"#2a3f5f\", \"gridcolor\": \"white\", \"linecolor\": \"white\", \"minorgridcolor\": \"white\", \"startlinecolor\": \"#2a3f5f\"}, \"baxis\": {\"endlinecolor\": \"#2a3f5f\", \"gridcolor\": \"white\", \"linecolor\": \"white\", \"minorgridcolor\": \"white\", \"startlinecolor\": \"#2a3f5f\"}, \"type\": \"carpet\"}], \"choropleth\": [{\"colorbar\": {\"outlinewidth\": 0, \"ticks\": \"\"}, \"type\": \"choropleth\"}], \"contour\": [{\"colorbar\": {\"outlinewidth\": 0, \"ticks\": \"\"}, \"colorscale\": [[0.0, \"#0d0887\"], [0.1111111111111111, \"#46039f\"], [0.2222222222222222, \"#7201a8\"], [0.3333333333333333, \"#9c179e\"], [0.4444444444444444, \"#bd3786\"], [0.5555555555555556, \"#d8576b\"], [0.6666666666666666, \"#ed7953\"], [0.7777777777777778, \"#fb9f3a\"], [0.8888888888888888, \"#fdca26\"], [1.0, \"#f0f921\"]], \"type\": \"contour\"}], \"contourcarpet\": [{\"colorbar\": {\"outlinewidth\": 0, \"ticks\": \"\"}, \"type\": \"contourcarpet\"}], \"heatmap\": [{\"colorbar\": {\"outlinewidth\": 0, \"ticks\": \"\"}, \"colorscale\": [[0.0, \"#0d0887\"], [0.1111111111111111, \"#46039f\"], [0.2222222222222222, \"#7201a8\"], [0.3333333333333333, \"#9c179e\"], [0.4444444444444444, \"#bd3786\"], [0.5555555555555556, \"#d8576b\"], [0.6666666666666666, \"#ed7953\"], [0.7777777777777778, \"#fb9f3a\"], [0.8888888888888888, \"#fdca26\"], [1.0, \"#f0f921\"]], \"type\": \"heatmap\"}], \"heatmapgl\": [{\"colorbar\": {\"outlinewidth\": 0, \"ticks\": \"\"}, \"colorscale\": [[0.0, \"#0d0887\"], [0.1111111111111111, \"#46039f\"], [0.2222222222222222, \"#7201a8\"], [0.3333333333333333, \"#9c179e\"], [0.4444444444444444, \"#bd3786\"], [0.5555555555555556, \"#d8576b\"], [0.6666666666666666, \"#ed7953\"], [0.7777777777777778, \"#fb9f3a\"], [0.8888888888888888, \"#fdca26\"], [1.0, \"#f0f921\"]], \"type\": \"heatmapgl\"}], \"histogram\": [{\"marker\": {\"colorbar\": {\"outlinewidth\": 0, \"ticks\": \"\"}}, \"type\": \"histogram\"}], \"histogram2d\": [{\"colorbar\": {\"outlinewidth\": 0, \"ticks\": \"\"}, \"colorscale\": [[0.0, \"#0d0887\"], [0.1111111111111111, \"#46039f\"], [0.2222222222222222, \"#7201a8\"], [0.3333333333333333, \"#9c179e\"], [0.4444444444444444, \"#bd3786\"], [0.5555555555555556, \"#d8576b\"], [0.6666666666666666, \"#ed7953\"], [0.7777777777777778, \"#fb9f3a\"], [0.8888888888888888, \"#fdca26\"], [1.0, \"#f0f921\"]], \"type\": \"histogram2d\"}], \"histogram2dcontour\": [{\"colorbar\": {\"outlinewidth\": 0, \"ticks\": \"\"}, \"colorscale\": [[0.0, \"#0d0887\"], [0.1111111111111111, \"#46039f\"], [0.2222222222222222, \"#7201a8\"], [0.3333333333333333, \"#9c179e\"], [0.4444444444444444, \"#bd3786\"], [0.5555555555555556, \"#d8576b\"], [0.6666666666666666, \"#ed7953\"], [0.7777777777777778, \"#fb9f3a\"], [0.8888888888888888, \"#fdca26\"], [1.0, \"#f0f921\"]], \"type\": \"histogram2dcontour\"}], \"mesh3d\": [{\"colorbar\": {\"outlinewidth\": 0, \"ticks\": \"\"}, \"type\": \"mesh3d\"}], \"parcoords\": [{\"line\": {\"colorbar\": {\"outlinewidth\": 0, \"ticks\": \"\"}}, \"type\": \"parcoords\"}], \"pie\": [{\"automargin\": true, \"type\": \"pie\"}], \"scatter\": [{\"marker\": {\"colorbar\": {\"outlinewidth\": 0, \"ticks\": \"\"}}, \"type\": \"scatter\"}], \"scatter3d\": [{\"line\": {\"colorbar\": {\"outlinewidth\": 0, \"ticks\": \"\"}}, \"marker\": {\"colorbar\": {\"outlinewidth\": 0, \"ticks\": \"\"}}, \"type\": \"scatter3d\"}], \"scattercarpet\": [{\"marker\": {\"colorbar\": {\"outlinewidth\": 0, \"ticks\": \"\"}}, \"type\": \"scattercarpet\"}], \"scattergeo\": [{\"marker\": {\"colorbar\": {\"outlinewidth\": 0, \"ticks\": \"\"}}, \"type\": \"scattergeo\"}], \"scattergl\": [{\"marker\": {\"colorbar\": {\"outlinewidth\": 0, \"ticks\": \"\"}}, \"type\": \"scattergl\"}], \"scattermapbox\": [{\"marker\": {\"colorbar\": {\"outlinewidth\": 0, \"ticks\": \"\"}}, \"type\": \"scattermapbox\"}], \"scatterpolar\": [{\"marker\": {\"colorbar\": {\"outlinewidth\": 0, \"ticks\": \"\"}}, \"type\": \"scatterpolar\"}], \"scatterpolargl\": [{\"marker\": {\"colorbar\": {\"outlinewidth\": 0, \"ticks\": \"\"}}, \"type\": \"scatterpolargl\"}], \"scatterternary\": [{\"marker\": {\"colorbar\": {\"outlinewidth\": 0, \"ticks\": \"\"}}, \"type\": \"scatterternary\"}], \"surface\": [{\"colorbar\": {\"outlinewidth\": 0, \"ticks\": \"\"}, \"colorscale\": [[0.0, \"#0d0887\"], [0.1111111111111111, \"#46039f\"], [0.2222222222222222, \"#7201a8\"], [0.3333333333333333, \"#9c179e\"], [0.4444444444444444, \"#bd3786\"], [0.5555555555555556, \"#d8576b\"], [0.6666666666666666, \"#ed7953\"], [0.7777777777777778, \"#fb9f3a\"], [0.8888888888888888, \"#fdca26\"], [1.0, \"#f0f921\"]], \"type\": \"surface\"}], \"table\": [{\"cells\": {\"fill\": {\"color\": \"#EBF0F8\"}, \"line\": {\"color\": \"white\"}}, \"header\": {\"fill\": {\"color\": \"#C8D4E3\"}, \"line\": {\"color\": \"white\"}}, \"type\": \"table\"}]}, \"layout\": {\"annotationdefaults\": {\"arrowcolor\": \"#2a3f5f\", \"arrowhead\": 0, \"arrowwidth\": 1}, \"autotypenumbers\": \"strict\", \"coloraxis\": {\"colorbar\": {\"outlinewidth\": 0, \"ticks\": \"\"}}, \"colorscale\": {\"diverging\": [[0, \"#8e0152\"], [0.1, \"#c51b7d\"], [0.2, \"#de77ae\"], [0.3, \"#f1b6da\"], [0.4, \"#fde0ef\"], [0.5, \"#f7f7f7\"], [0.6, \"#e6f5d0\"], [0.7, \"#b8e186\"], [0.8, \"#7fbc41\"], [0.9, \"#4d9221\"], [1, \"#276419\"]], \"sequential\": [[0.0, \"#0d0887\"], [0.1111111111111111, \"#46039f\"], [0.2222222222222222, \"#7201a8\"], [0.3333333333333333, \"#9c179e\"], [0.4444444444444444, \"#bd3786\"], [0.5555555555555556, \"#d8576b\"], [0.6666666666666666, \"#ed7953\"], [0.7777777777777778, \"#fb9f3a\"], [0.8888888888888888, \"#fdca26\"], [1.0, \"#f0f921\"]], \"sequentialminus\": [[0.0, \"#0d0887\"], [0.1111111111111111, \"#46039f\"], [0.2222222222222222, \"#7201a8\"], [0.3333333333333333, \"#9c179e\"], [0.4444444444444444, \"#bd3786\"], [0.5555555555555556, \"#d8576b\"], [0.6666666666666666, \"#ed7953\"], [0.7777777777777778, \"#fb9f3a\"], [0.8888888888888888, \"#fdca26\"], [1.0, \"#f0f921\"]]}, \"colorway\": [\"#636efa\", \"#EF553B\", \"#00cc96\", \"#ab63fa\", \"#FFA15A\", \"#19d3f3\", \"#FF6692\", \"#B6E880\", \"#FF97FF\", \"#FECB52\"], \"font\": {\"color\": \"#2a3f5f\"}, \"geo\": {\"bgcolor\": \"white\", \"lakecolor\": \"white\", \"landcolor\": \"#E5ECF6\", \"showlakes\": true, \"showland\": true, \"subunitcolor\": \"white\"}, \"hoverlabel\": {\"align\": \"left\"}, \"hovermode\": \"closest\", \"mapbox\": {\"style\": \"light\"}, \"paper_bgcolor\": \"white\", \"plot_bgcolor\": \"#E5ECF6\", \"polar\": {\"angularaxis\": {\"gridcolor\": \"white\", \"linecolor\": \"white\", \"ticks\": \"\"}, \"bgcolor\": \"#E5ECF6\", \"radialaxis\": {\"gridcolor\": \"white\", \"linecolor\": \"white\", \"ticks\": \"\"}}, \"scene\": {\"xaxis\": {\"backgroundcolor\": \"#E5ECF6\", \"gridcolor\": \"white\", \"gridwidth\": 2, \"linecolor\": \"white\", \"showbackground\": true, \"ticks\": \"\", \"zerolinecolor\": \"white\"}, \"yaxis\": {\"backgroundcolor\": \"#E5ECF6\", \"gridcolor\": \"white\", \"gridwidth\": 2, \"linecolor\": \"white\", \"showbackground\": true, \"ticks\": \"\", \"zerolinecolor\": \"white\"}, \"zaxis\": {\"backgroundcolor\": \"#E5ECF6\", \"gridcolor\": \"white\", \"gridwidth\": 2, \"linecolor\": \"white\", \"showbackground\": true, \"ticks\": \"\", \"zerolinecolor\": \"white\"}}, \"shapedefaults\": {\"line\": {\"color\": \"#2a3f5f\"}}, \"ternary\": {\"aaxis\": {\"gridcolor\": \"white\", \"linecolor\": \"white\", \"ticks\": \"\"}, \"baxis\": {\"gridcolor\": \"white\", \"linecolor\": \"white\", \"ticks\": \"\"}, \"bgcolor\": \"#E5ECF6\", \"caxis\": {\"gridcolor\": \"white\", \"linecolor\": \"white\", \"ticks\": \"\"}}, \"title\": {\"x\": 0.05}, \"xaxis\": {\"automargin\": true, \"gridcolor\": \"white\", \"linecolor\": \"white\", \"ticks\": \"\", \"title\": {\"standoff\": 15}, \"zerolinecolor\": \"white\", \"zerolinewidth\": 2}, \"yaxis\": {\"automargin\": true, \"gridcolor\": \"white\", \"linecolor\": \"white\", \"ticks\": \"\", \"title\": {\"standoff\": 15}, \"zerolinecolor\": \"white\", \"zerolinewidth\": 2}}}, \"title\": {\"text\": \"MSE:\"}},                        {\"responsive\": true}                    ).then(function(){\n",
       "                            \n",
       "var gd = document.getElementById('781b9fd8-01aa-4585-927f-cd3f21c36b3d');\n",
       "var x = new MutationObserver(function (mutations, observer) {{\n",
       "        var display = window.getComputedStyle(gd).display;\n",
       "        if (!display || display === 'none') {{\n",
       "            console.log([gd, 'removed!']);\n",
       "            Plotly.purge(gd);\n",
       "            observer.disconnect();\n",
       "        }}\n",
       "}});\n",
       "\n",
       "// Listen for the removal of the full notebook cells\n",
       "var notebookContainer = gd.closest('#notebook-container');\n",
       "if (notebookContainer) {{\n",
       "    x.observe(notebookContainer, {childList: true});\n",
       "}}\n",
       "\n",
       "// Listen for the clearing of the current output cell\n",
       "var outputEl = gd.closest('.output');\n",
       "if (outputEl) {{\n",
       "    x.observe(outputEl, {childList: true});\n",
       "}}\n",
       "\n",
       "                        })                };                });            </script>        </div>"
      ]
     },
     "metadata": {},
     "output_type": "display_data"
    }
   ],
   "source": [
    "######################### 3D PLOT BOTH CONFIG\n",
    "#### MSE\n",
    "x, y = np.meshgrid(list_value_2,list_value_1)\n",
    "mse_mean=mse_at_final_iteration.mean(axis=1).mean(axis=1)\n",
    "mse_mean=mse_mean.reshape(len(list_value_1),len(list_value_2))\n",
    "\n",
    "mse_mean_2=mse_at_final_iteration_2.mean(axis=1).mean(axis=1)\n",
    "mse_mean_2=mse_mean_2.reshape(len(list_value_1),len(list_value_2))\n",
    "\n",
    "fig = go.Figure(data=[\n",
    "    go.Surface(name=f\"n={name_n_1}, m={name_m_1}; lu={lambda_u_val_1}, lv={lambda_v_val_1}\",\n",
    "               z=mse_mean,x=list_value_1, y=list_value_2,\n",
    "               colorscale ='Blues', showscale=False, opacity=1),\n",
    "    go.Surface(name=f\"n={name_n_2}, m={name_m_2}; lu={lambda_u_val_2}, lv={lambda_v_val_2}\",\n",
    "               z=mse_mean_2,x=list_value_1, y=list_value_2,\n",
    "               colorscale ='Greens', showscale=False, opacity=0.9)])\n",
    "\n",
    "fig.update_layout(\n",
    "    title=f\"MSE:\",\n",
    ")\n",
    "fig.update_layout(scene = dict(\n",
    "                    xaxis_title=name_value_2,\n",
    "                    yaxis_title=name_value_1,\n",
    "                    zaxis_title=\"mse\"))\n",
    "fig.update_traces(showlegend=True)\n",
    "\n",
    "fig.show()\n",
    "path=f\"C:/Users/Admin/Desktop/R1_n={name_n_1}_m={name_m_1}_\"\\\n",
    "f\"Ldiff={lambda_u_val_1/lambda_v_val_1}_\"\\\n",
    "f\"R2_n={name_n_2}_m={name_m_2}_\"\\\n",
    "f\"Ldiff={lambda_u_val_2/lambda_v_val_2}_mse.html\"\n",
    "fig.write_html(path)"
   ]
  },
  {
   "cell_type": "code",
   "execution_count": 47,
   "metadata": {},
   "outputs": [
    {
     "data": {
      "application/vnd.plotly.v1+json": {
       "config": {
        "plotlyServerURL": "https://plot.ly"
       },
       "data": [
        {
         "name": "overlap",
         "scene": "scene",
         "showlegend": true,
         "showscale": false,
         "type": "surface",
         "x": [
          0.1,
          0.14677992676220694,
          0.21544346900318834,
          0.31622776601683794,
          0.46415888336127786,
          0.6812920690579611,
          1,
          1.467799267622069,
          2.1544346900318834,
          3.1622776601683795
         ],
         "y": [
          0.1,
          0.14677992676220694,
          0.21544346900318834,
          0.31622776601683794,
          0.46415888336127786,
          0.6812920690579611,
          1,
          1.467799267622069,
          2.1544346900318834,
          3.1622776601683795
         ],
         "z": [
          [
           0.06965411454439163,
           0.10896140336990356,
           0.1265041083097458,
           0.05252557247877121,
           0.062018267810344696,
           0.10504385828971863,
           0.06286048889160156,
           0.20646870136260986,
           0.12621112167835236,
           0.03943544253706932
          ],
          [
           0.16110673546791077,
           0.09279700368642807,
           0.028353508561849594,
           0.06234417110681534,
           0.16926619410514832,
           0.03263537585735321,
           0.06934520602226257,
           0.12419301271438599,
           0.1696612536907196,
           0.08042430132627487
          ],
          [
           0.06045400723814964,
           0.14722208678722382,
           0.08887667953968048,
           0.07989941537380219,
           0.1292094886302948,
           0.0404532290995121,
           0.13158220052719116,
           0.1102406233549118,
           0.25398051738739014,
           0.2788810133934021
          ],
          [
           0.12190604209899902,
           0.07718189805746078,
           0.04439184442162514,
           0.09813432395458221,
           0.15489864349365234,
           0.08693880587816238,
           0.08653587102890015,
           0.09672002494335175,
           0.5044475793838501,
           0.06329631805419922
          ],
          [
           0.12572550773620605,
           0.0044291066005826,
           0.22517260909080505,
           0.09412501007318497,
           0.10670006275177002,
           0.19957679510116577,
           0.341463178396225,
           0.4605827331542969,
           0.36929070949554443,
           0.4880980849266052
          ],
          [
           0.07639622688293457,
           0.10260763764381409,
           0.019817324355244637,
           0.07752695679664612,
           0.30705517530441284,
           0.1492389440536499,
           0.4057375192642212,
           0.631399393081665,
           0.3534695506095886,
           0.5130771994590759
          ],
          [
           0.12494131922721863,
           0.18953880667686462,
           0.23326417803764343,
           0.26093655824661255,
           0.4378204345703125,
           0.5010970234870911,
           0.5779837369918823,
           0.5341161489486694,
           0.597499668598175,
           0.6473609805107117
          ],
          [
           0.050358328968286514,
           0.03140202909708023,
           0.30102092027664185,
           0.18563756346702576,
           0.2181704044342041,
           0.23845195770263672,
           0.4174487590789795,
           0.6630131006240845,
           0.5986552834510803,
           0.6541033387184143
          ],
          [
           0.10051073133945465,
           0.24798884987831116,
           0.2534938454627991,
           0.2398647964000702,
           0.49480944871902466,
           0.523723304271698,
           0.5280206203460693,
           0.5748035907745361,
           0.6344143152236938,
           0.6279048919677734
          ],
          [
           0.15568441152572632,
           0.11603949218988419,
           0.129492849111557,
           0.5129021406173706,
           0.26143866777420044,
           0.6760940551757812,
           0.5403197407722473,
           0.7013862133026123,
           0.4981222152709961,
           0.029971038922667503
          ]
         ]
        },
        {
         "colorscale": [
          [
           0,
           "#440154"
          ],
          [
           0.1111111111111111,
           "#482878"
          ],
          [
           0.2222222222222222,
           "#3e4989"
          ],
          [
           0.3333333333333333,
           "#31688e"
          ],
          [
           0.4444444444444444,
           "#26828e"
          ],
          [
           0.5555555555555556,
           "#1f9e89"
          ],
          [
           0.6666666666666666,
           "#35b779"
          ],
          [
           0.7777777777777778,
           "#6ece58"
          ],
          [
           0.8888888888888888,
           "#b5de2b"
          ],
          [
           1,
           "#fde725"
          ]
         ],
         "name": "mse",
         "scene": "scene2",
         "showlegend": true,
         "showscale": false,
         "type": "surface",
         "x": [
          0.1,
          0.14677992676220694,
          0.21544346900318834,
          0.31622776601683794,
          0.46415888336127786,
          0.6812920690579611,
          1,
          1.467799267622069,
          2.1544346900318834,
          3.1622776601683795
         ],
         "y": [
          0.1,
          0.14677992676220694,
          0.21544346900318834,
          0.31622776601683794,
          0.46415888336127786,
          0.6812920690579611,
          1,
          1.467799267622069,
          2.1544346900318834,
          3.1622776601683795
         ],
         "z": [
          [
           1.8606915473937988,
           1.7820771932601929,
           1.7469916343688965,
           1.894949197769165,
           1.875963807106018,
           1.789912223815918,
           1.8742790222167969,
           1.5870625972747803,
           1.747577428817749,
           1.9211292266845703
          ],
          [
           1.6777865886688232,
           1.814405918121338,
           1.9432932138442993,
           1.8753113746643066,
           1.661467432975769,
           1.934728980064392,
           1.8613094091415405,
           1.7516140937805176,
           1.660677433013916,
           1.8391512632369995
          ],
          [
           1.8790918588638306,
           1.7055556774139404,
           1.8222464323043823,
           1.8402010202407837,
           1.7415814399719238,
           1.9190936088562012,
           1.7368357181549072,
           1.779518485069275,
           1.4920392036437988,
           1.4422378540039062
          ],
          [
           1.756188154220581,
           1.8456366062164307,
           1.9112164974212646,
           1.8037312030792236,
           1.6902029514312744,
           1.8261222839355469,
           1.8269282579421997,
           1.8065600395202637,
           0.9911051988601685,
           1.8734073638916016
          ],
          [
           1.748548984527588,
           1.9911420345306396,
           1.5496549606323242,
           1.811749815940857,
           1.78659987449646,
           1.600846529006958,
           1.3170735836029053,
           1.0788346529006958,
           1.2614188194274902,
           1.0238037109375
          ],
          [
           1.8472074270248413,
           1.794784665107727,
           1.9603654146194458,
           1.8449456691741943,
           1.3858896493911743,
           1.7015221118927002,
           1.1885247230529785,
           0.7372011542320251,
           1.2930608987808228,
           0.973845362663269
          ],
          [
           1.7501171827316284,
           1.620922565460205,
           1.5334714651107788,
           1.4781266450881958,
           1.1243590116500854,
           0.9978058338165283,
           0.844032347202301,
           0.9317677021026611,
           0.8050004243850708,
           0.7052780389785767
          ],
          [
           1.8992834091186523,
           1.937195897102356,
           1.3979582786560059,
           1.6287249326705933,
           1.5636593103408813,
           1.5230963230133057,
           1.1651023626327515,
           0.673973798751831,
           0.8026894330978394,
           0.6917934417724609
          ],
          [
           1.798978328704834,
           1.504022479057312,
           1.4930124282836914,
           1.5202701091766357,
           1.0103811025619507,
           0.9525537490844727,
           0.9439588189125061,
           0.8503929376602173,
           0.7311714887619019,
           0.7441903352737427
          ],
          [
           1.688631296157837,
           1.767920970916748,
           1.7410142421722412,
           0.9741958379745483,
           1.4771225452423096,
           0.647812008857727,
           0.9193603992462158,
           0.5972278118133545,
           1.0037555694580078,
           1.9400577545166016
          ]
         ]
        }
       ],
       "layout": {
        "autosize": false,
        "height": 500,
        "scene": {
         "domain": {
          "x": [
           0,
           0.45
          ],
          "y": [
           0,
           1
          ]
         },
         "xaxis": {
          "title": {
           "text": "beta_v"
          }
         },
         "yaxis": {
          "title": {
           "text": "beta_u"
          }
         },
         "zaxis": {
          "title": {
           "text": "overlap"
          }
         }
        },
        "scene2": {
         "domain": {
          "x": [
           0.55,
           1
          ],
          "y": [
           0,
           1
          ]
         },
         "xaxis": {
          "title": {
           "text": "beta_v"
          }
         },
         "yaxis": {
          "title": {
           "text": "beta_u"
          }
         },
         "zaxis": {
          "title": {
           "text": "overlap"
          }
         }
        },
        "template": {
         "data": {
          "bar": [
           {
            "error_x": {
             "color": "#2a3f5f"
            },
            "error_y": {
             "color": "#2a3f5f"
            },
            "marker": {
             "line": {
              "color": "#E5ECF6",
              "width": 0.5
             }
            },
            "type": "bar"
           }
          ],
          "barpolar": [
           {
            "marker": {
             "line": {
              "color": "#E5ECF6",
              "width": 0.5
             }
            },
            "type": "barpolar"
           }
          ],
          "carpet": [
           {
            "aaxis": {
             "endlinecolor": "#2a3f5f",
             "gridcolor": "white",
             "linecolor": "white",
             "minorgridcolor": "white",
             "startlinecolor": "#2a3f5f"
            },
            "baxis": {
             "endlinecolor": "#2a3f5f",
             "gridcolor": "white",
             "linecolor": "white",
             "minorgridcolor": "white",
             "startlinecolor": "#2a3f5f"
            },
            "type": "carpet"
           }
          ],
          "choropleth": [
           {
            "colorbar": {
             "outlinewidth": 0,
             "ticks": ""
            },
            "type": "choropleth"
           }
          ],
          "contour": [
           {
            "colorbar": {
             "outlinewidth": 0,
             "ticks": ""
            },
            "colorscale": [
             [
              0,
              "#0d0887"
             ],
             [
              0.1111111111111111,
              "#46039f"
             ],
             [
              0.2222222222222222,
              "#7201a8"
             ],
             [
              0.3333333333333333,
              "#9c179e"
             ],
             [
              0.4444444444444444,
              "#bd3786"
             ],
             [
              0.5555555555555556,
              "#d8576b"
             ],
             [
              0.6666666666666666,
              "#ed7953"
             ],
             [
              0.7777777777777778,
              "#fb9f3a"
             ],
             [
              0.8888888888888888,
              "#fdca26"
             ],
             [
              1,
              "#f0f921"
             ]
            ],
            "type": "contour"
           }
          ],
          "contourcarpet": [
           {
            "colorbar": {
             "outlinewidth": 0,
             "ticks": ""
            },
            "type": "contourcarpet"
           }
          ],
          "heatmap": [
           {
            "colorbar": {
             "outlinewidth": 0,
             "ticks": ""
            },
            "colorscale": [
             [
              0,
              "#0d0887"
             ],
             [
              0.1111111111111111,
              "#46039f"
             ],
             [
              0.2222222222222222,
              "#7201a8"
             ],
             [
              0.3333333333333333,
              "#9c179e"
             ],
             [
              0.4444444444444444,
              "#bd3786"
             ],
             [
              0.5555555555555556,
              "#d8576b"
             ],
             [
              0.6666666666666666,
              "#ed7953"
             ],
             [
              0.7777777777777778,
              "#fb9f3a"
             ],
             [
              0.8888888888888888,
              "#fdca26"
             ],
             [
              1,
              "#f0f921"
             ]
            ],
            "type": "heatmap"
           }
          ],
          "heatmapgl": [
           {
            "colorbar": {
             "outlinewidth": 0,
             "ticks": ""
            },
            "colorscale": [
             [
              0,
              "#0d0887"
             ],
             [
              0.1111111111111111,
              "#46039f"
             ],
             [
              0.2222222222222222,
              "#7201a8"
             ],
             [
              0.3333333333333333,
              "#9c179e"
             ],
             [
              0.4444444444444444,
              "#bd3786"
             ],
             [
              0.5555555555555556,
              "#d8576b"
             ],
             [
              0.6666666666666666,
              "#ed7953"
             ],
             [
              0.7777777777777778,
              "#fb9f3a"
             ],
             [
              0.8888888888888888,
              "#fdca26"
             ],
             [
              1,
              "#f0f921"
             ]
            ],
            "type": "heatmapgl"
           }
          ],
          "histogram": [
           {
            "marker": {
             "colorbar": {
              "outlinewidth": 0,
              "ticks": ""
             }
            },
            "type": "histogram"
           }
          ],
          "histogram2d": [
           {
            "colorbar": {
             "outlinewidth": 0,
             "ticks": ""
            },
            "colorscale": [
             [
              0,
              "#0d0887"
             ],
             [
              0.1111111111111111,
              "#46039f"
             ],
             [
              0.2222222222222222,
              "#7201a8"
             ],
             [
              0.3333333333333333,
              "#9c179e"
             ],
             [
              0.4444444444444444,
              "#bd3786"
             ],
             [
              0.5555555555555556,
              "#d8576b"
             ],
             [
              0.6666666666666666,
              "#ed7953"
             ],
             [
              0.7777777777777778,
              "#fb9f3a"
             ],
             [
              0.8888888888888888,
              "#fdca26"
             ],
             [
              1,
              "#f0f921"
             ]
            ],
            "type": "histogram2d"
           }
          ],
          "histogram2dcontour": [
           {
            "colorbar": {
             "outlinewidth": 0,
             "ticks": ""
            },
            "colorscale": [
             [
              0,
              "#0d0887"
             ],
             [
              0.1111111111111111,
              "#46039f"
             ],
             [
              0.2222222222222222,
              "#7201a8"
             ],
             [
              0.3333333333333333,
              "#9c179e"
             ],
             [
              0.4444444444444444,
              "#bd3786"
             ],
             [
              0.5555555555555556,
              "#d8576b"
             ],
             [
              0.6666666666666666,
              "#ed7953"
             ],
             [
              0.7777777777777778,
              "#fb9f3a"
             ],
             [
              0.8888888888888888,
              "#fdca26"
             ],
             [
              1,
              "#f0f921"
             ]
            ],
            "type": "histogram2dcontour"
           }
          ],
          "mesh3d": [
           {
            "colorbar": {
             "outlinewidth": 0,
             "ticks": ""
            },
            "type": "mesh3d"
           }
          ],
          "parcoords": [
           {
            "line": {
             "colorbar": {
              "outlinewidth": 0,
              "ticks": ""
             }
            },
            "type": "parcoords"
           }
          ],
          "pie": [
           {
            "automargin": true,
            "type": "pie"
           }
          ],
          "scatter": [
           {
            "marker": {
             "colorbar": {
              "outlinewidth": 0,
              "ticks": ""
             }
            },
            "type": "scatter"
           }
          ],
          "scatter3d": [
           {
            "line": {
             "colorbar": {
              "outlinewidth": 0,
              "ticks": ""
             }
            },
            "marker": {
             "colorbar": {
              "outlinewidth": 0,
              "ticks": ""
             }
            },
            "type": "scatter3d"
           }
          ],
          "scattercarpet": [
           {
            "marker": {
             "colorbar": {
              "outlinewidth": 0,
              "ticks": ""
             }
            },
            "type": "scattercarpet"
           }
          ],
          "scattergeo": [
           {
            "marker": {
             "colorbar": {
              "outlinewidth": 0,
              "ticks": ""
             }
            },
            "type": "scattergeo"
           }
          ],
          "scattergl": [
           {
            "marker": {
             "colorbar": {
              "outlinewidth": 0,
              "ticks": ""
             }
            },
            "type": "scattergl"
           }
          ],
          "scattermapbox": [
           {
            "marker": {
             "colorbar": {
              "outlinewidth": 0,
              "ticks": ""
             }
            },
            "type": "scattermapbox"
           }
          ],
          "scatterpolar": [
           {
            "marker": {
             "colorbar": {
              "outlinewidth": 0,
              "ticks": ""
             }
            },
            "type": "scatterpolar"
           }
          ],
          "scatterpolargl": [
           {
            "marker": {
             "colorbar": {
              "outlinewidth": 0,
              "ticks": ""
             }
            },
            "type": "scatterpolargl"
           }
          ],
          "scatterternary": [
           {
            "marker": {
             "colorbar": {
              "outlinewidth": 0,
              "ticks": ""
             }
            },
            "type": "scatterternary"
           }
          ],
          "surface": [
           {
            "colorbar": {
             "outlinewidth": 0,
             "ticks": ""
            },
            "colorscale": [
             [
              0,
              "#0d0887"
             ],
             [
              0.1111111111111111,
              "#46039f"
             ],
             [
              0.2222222222222222,
              "#7201a8"
             ],
             [
              0.3333333333333333,
              "#9c179e"
             ],
             [
              0.4444444444444444,
              "#bd3786"
             ],
             [
              0.5555555555555556,
              "#d8576b"
             ],
             [
              0.6666666666666666,
              "#ed7953"
             ],
             [
              0.7777777777777778,
              "#fb9f3a"
             ],
             [
              0.8888888888888888,
              "#fdca26"
             ],
             [
              1,
              "#f0f921"
             ]
            ],
            "type": "surface"
           }
          ],
          "table": [
           {
            "cells": {
             "fill": {
              "color": "#EBF0F8"
             },
             "line": {
              "color": "white"
             }
            },
            "header": {
             "fill": {
              "color": "#C8D4E3"
             },
             "line": {
              "color": "white"
             }
            },
            "type": "table"
           }
          ]
         },
         "layout": {
          "annotationdefaults": {
           "arrowcolor": "#2a3f5f",
           "arrowhead": 0,
           "arrowwidth": 1
          },
          "autotypenumbers": "strict",
          "coloraxis": {
           "colorbar": {
            "outlinewidth": 0,
            "ticks": ""
           }
          },
          "colorscale": {
           "diverging": [
            [
             0,
             "#8e0152"
            ],
            [
             0.1,
             "#c51b7d"
            ],
            [
             0.2,
             "#de77ae"
            ],
            [
             0.3,
             "#f1b6da"
            ],
            [
             0.4,
             "#fde0ef"
            ],
            [
             0.5,
             "#f7f7f7"
            ],
            [
             0.6,
             "#e6f5d0"
            ],
            [
             0.7,
             "#b8e186"
            ],
            [
             0.8,
             "#7fbc41"
            ],
            [
             0.9,
             "#4d9221"
            ],
            [
             1,
             "#276419"
            ]
           ],
           "sequential": [
            [
             0,
             "#0d0887"
            ],
            [
             0.1111111111111111,
             "#46039f"
            ],
            [
             0.2222222222222222,
             "#7201a8"
            ],
            [
             0.3333333333333333,
             "#9c179e"
            ],
            [
             0.4444444444444444,
             "#bd3786"
            ],
            [
             0.5555555555555556,
             "#d8576b"
            ],
            [
             0.6666666666666666,
             "#ed7953"
            ],
            [
             0.7777777777777778,
             "#fb9f3a"
            ],
            [
             0.8888888888888888,
             "#fdca26"
            ],
            [
             1,
             "#f0f921"
            ]
           ],
           "sequentialminus": [
            [
             0,
             "#0d0887"
            ],
            [
             0.1111111111111111,
             "#46039f"
            ],
            [
             0.2222222222222222,
             "#7201a8"
            ],
            [
             0.3333333333333333,
             "#9c179e"
            ],
            [
             0.4444444444444444,
             "#bd3786"
            ],
            [
             0.5555555555555556,
             "#d8576b"
            ],
            [
             0.6666666666666666,
             "#ed7953"
            ],
            [
             0.7777777777777778,
             "#fb9f3a"
            ],
            [
             0.8888888888888888,
             "#fdca26"
            ],
            [
             1,
             "#f0f921"
            ]
           ]
          },
          "colorway": [
           "#636efa",
           "#EF553B",
           "#00cc96",
           "#ab63fa",
           "#FFA15A",
           "#19d3f3",
           "#FF6692",
           "#B6E880",
           "#FF97FF",
           "#FECB52"
          ],
          "font": {
           "color": "#2a3f5f"
          },
          "geo": {
           "bgcolor": "white",
           "lakecolor": "white",
           "landcolor": "#E5ECF6",
           "showlakes": true,
           "showland": true,
           "subunitcolor": "white"
          },
          "hoverlabel": {
           "align": "left"
          },
          "hovermode": "closest",
          "mapbox": {
           "style": "light"
          },
          "paper_bgcolor": "white",
          "plot_bgcolor": "#E5ECF6",
          "polar": {
           "angularaxis": {
            "gridcolor": "white",
            "linecolor": "white",
            "ticks": ""
           },
           "bgcolor": "#E5ECF6",
           "radialaxis": {
            "gridcolor": "white",
            "linecolor": "white",
            "ticks": ""
           }
          },
          "scene": {
           "xaxis": {
            "backgroundcolor": "#E5ECF6",
            "gridcolor": "white",
            "gridwidth": 2,
            "linecolor": "white",
            "showbackground": true,
            "ticks": "",
            "zerolinecolor": "white"
           },
           "yaxis": {
            "backgroundcolor": "#E5ECF6",
            "gridcolor": "white",
            "gridwidth": 2,
            "linecolor": "white",
            "showbackground": true,
            "ticks": "",
            "zerolinecolor": "white"
           },
           "zaxis": {
            "backgroundcolor": "#E5ECF6",
            "gridcolor": "white",
            "gridwidth": 2,
            "linecolor": "white",
            "showbackground": true,
            "ticks": "",
            "zerolinecolor": "white"
           }
          },
          "shapedefaults": {
           "line": {
            "color": "#2a3f5f"
           }
          },
          "ternary": {
           "aaxis": {
            "gridcolor": "white",
            "linecolor": "white",
            "ticks": ""
           },
           "baxis": {
            "gridcolor": "white",
            "linecolor": "white",
            "ticks": ""
           },
           "bgcolor": "#E5ECF6",
           "caxis": {
            "gridcolor": "white",
            "linecolor": "white",
            "ticks": ""
           }
          },
          "title": {
           "x": 0.05
          },
          "xaxis": {
           "automargin": true,
           "gridcolor": "white",
           "linecolor": "white",
           "ticks": "",
           "title": {
            "standoff": 15
           },
           "zerolinecolor": "white",
           "zerolinewidth": 2
          },
          "yaxis": {
           "automargin": true,
           "gridcolor": "white",
           "linecolor": "white",
           "ticks": "",
           "title": {
            "standoff": 15
           },
           "zerolinecolor": "white",
           "zerolinewidth": 2
          }
         }
        },
        "width": 1000
       }
      },
      "text/html": [
       "<div>                            <div id=\"25cfbb52-cb53-4844-a377-37e6124000ad\" class=\"plotly-graph-div\" style=\"height:500px; width:1000px;\"></div>            <script type=\"text/javascript\">                require([\"plotly\"], function(Plotly) {                    window.PLOTLYENV=window.PLOTLYENV || {};                                    if (document.getElementById(\"25cfbb52-cb53-4844-a377-37e6124000ad\")) {                    Plotly.newPlot(                        \"25cfbb52-cb53-4844-a377-37e6124000ad\",                        [{\"name\": \"overlap\", \"scene\": \"scene\", \"showlegend\": true, \"showscale\": false, \"type\": \"surface\", \"x\": [0.1, 0.14677992676220694, 0.21544346900318834, 0.31622776601683794, 0.46415888336127786, 0.6812920690579611, 1.0, 1.467799267622069, 2.1544346900318834, 3.1622776601683795], \"y\": [0.1, 0.14677992676220694, 0.21544346900318834, 0.31622776601683794, 0.46415888336127786, 0.6812920690579611, 1.0, 1.467799267622069, 2.1544346900318834, 3.1622776601683795], \"z\": [[0.06965411454439163, 0.10896140336990356, 0.1265041083097458, 0.05252557247877121, 0.062018267810344696, 0.10504385828971863, 0.06286048889160156, 0.20646870136260986, 0.12621112167835236, 0.03943544253706932], [0.16110673546791077, 0.09279700368642807, 0.028353508561849594, 0.06234417110681534, 0.16926619410514832, 0.03263537585735321, 0.06934520602226257, 0.12419301271438599, 0.1696612536907196, 0.08042430132627487], [0.06045400723814964, 0.14722208678722382, 0.08887667953968048, 0.07989941537380219, 0.1292094886302948, 0.0404532290995121, 0.13158220052719116, 0.1102406233549118, 0.25398051738739014, 0.2788810133934021], [0.12190604209899902, 0.07718189805746078, 0.04439184442162514, 0.09813432395458221, 0.15489864349365234, 0.08693880587816238, 0.08653587102890015, 0.09672002494335175, 0.5044475793838501, 0.06329631805419922], [0.12572550773620605, 0.0044291066005826, 0.22517260909080505, 0.09412501007318497, 0.10670006275177002, 0.19957679510116577, 0.341463178396225, 0.4605827331542969, 0.36929070949554443, 0.4880980849266052], [0.07639622688293457, 0.10260763764381409, 0.019817324355244637, 0.07752695679664612, 0.30705517530441284, 0.1492389440536499, 0.4057375192642212, 0.631399393081665, 0.3534695506095886, 0.5130771994590759], [0.12494131922721863, 0.18953880667686462, 0.23326417803764343, 0.26093655824661255, 0.4378204345703125, 0.5010970234870911, 0.5779837369918823, 0.5341161489486694, 0.597499668598175, 0.6473609805107117], [0.050358328968286514, 0.03140202909708023, 0.30102092027664185, 0.18563756346702576, 0.2181704044342041, 0.23845195770263672, 0.4174487590789795, 0.6630131006240845, 0.5986552834510803, 0.6541033387184143], [0.10051073133945465, 0.24798884987831116, 0.2534938454627991, 0.2398647964000702, 0.49480944871902466, 0.523723304271698, 0.5280206203460693, 0.5748035907745361, 0.6344143152236938, 0.6279048919677734], [0.15568441152572632, 0.11603949218988419, 0.129492849111557, 0.5129021406173706, 0.26143866777420044, 0.6760940551757812, 0.5403197407722473, 0.7013862133026123, 0.4981222152709961, 0.029971038922667503]]}, {\"colorscale\": [[0.0, \"#440154\"], [0.1111111111111111, \"#482878\"], [0.2222222222222222, \"#3e4989\"], [0.3333333333333333, \"#31688e\"], [0.4444444444444444, \"#26828e\"], [0.5555555555555556, \"#1f9e89\"], [0.6666666666666666, \"#35b779\"], [0.7777777777777778, \"#6ece58\"], [0.8888888888888888, \"#b5de2b\"], [1.0, \"#fde725\"]], \"name\": \"mse\", \"scene\": \"scene2\", \"showlegend\": true, \"showscale\": false, \"type\": \"surface\", \"x\": [0.1, 0.14677992676220694, 0.21544346900318834, 0.31622776601683794, 0.46415888336127786, 0.6812920690579611, 1.0, 1.467799267622069, 2.1544346900318834, 3.1622776601683795], \"y\": [0.1, 0.14677992676220694, 0.21544346900318834, 0.31622776601683794, 0.46415888336127786, 0.6812920690579611, 1.0, 1.467799267622069, 2.1544346900318834, 3.1622776601683795], \"z\": [[1.8606915473937988, 1.7820771932601929, 1.7469916343688965, 1.894949197769165, 1.875963807106018, 1.789912223815918, 1.8742790222167969, 1.5870625972747803, 1.747577428817749, 1.9211292266845703], [1.6777865886688232, 1.814405918121338, 1.9432932138442993, 1.8753113746643066, 1.661467432975769, 1.934728980064392, 1.8613094091415405, 1.7516140937805176, 1.660677433013916, 1.8391512632369995], [1.8790918588638306, 1.7055556774139404, 1.8222464323043823, 1.8402010202407837, 1.7415814399719238, 1.9190936088562012, 1.7368357181549072, 1.779518485069275, 1.4920392036437988, 1.4422378540039062], [1.756188154220581, 1.8456366062164307, 1.9112164974212646, 1.8037312030792236, 1.6902029514312744, 1.8261222839355469, 1.8269282579421997, 1.8065600395202637, 0.9911051988601685, 1.8734073638916016], [1.748548984527588, 1.9911420345306396, 1.5496549606323242, 1.811749815940857, 1.78659987449646, 1.600846529006958, 1.3170735836029053, 1.0788346529006958, 1.2614188194274902, 1.0238037109375], [1.8472074270248413, 1.794784665107727, 1.9603654146194458, 1.8449456691741943, 1.3858896493911743, 1.7015221118927002, 1.1885247230529785, 0.7372011542320251, 1.2930608987808228, 0.973845362663269], [1.7501171827316284, 1.620922565460205, 1.5334714651107788, 1.4781266450881958, 1.1243590116500854, 0.9978058338165283, 0.844032347202301, 0.9317677021026611, 0.8050004243850708, 0.7052780389785767], [1.8992834091186523, 1.937195897102356, 1.3979582786560059, 1.6287249326705933, 1.5636593103408813, 1.5230963230133057, 1.1651023626327515, 0.673973798751831, 0.8026894330978394, 0.6917934417724609], [1.798978328704834, 1.504022479057312, 1.4930124282836914, 1.5202701091766357, 1.0103811025619507, 0.9525537490844727, 0.9439588189125061, 0.8503929376602173, 0.7311714887619019, 0.7441903352737427], [1.688631296157837, 1.767920970916748, 1.7410142421722412, 0.9741958379745483, 1.4771225452423096, 0.647812008857727, 0.9193603992462158, 0.5972278118133545, 1.0037555694580078, 1.9400577545166016]]}],                        {\"autosize\": false, \"height\": 500, \"scene\": {\"domain\": {\"x\": [0.0, 0.45], \"y\": [0.0, 1.0]}, \"xaxis\": {\"title\": {\"text\": \"beta_v\"}}, \"yaxis\": {\"title\": {\"text\": \"beta_u\"}}, \"zaxis\": {\"title\": {\"text\": \"overlap\"}}}, \"scene2\": {\"domain\": {\"x\": [0.55, 1.0], \"y\": [0.0, 1.0]}, \"xaxis\": {\"title\": {\"text\": \"beta_v\"}}, \"yaxis\": {\"title\": {\"text\": \"beta_u\"}}, \"zaxis\": {\"title\": {\"text\": \"overlap\"}}}, \"template\": {\"data\": {\"bar\": [{\"error_x\": {\"color\": \"#2a3f5f\"}, \"error_y\": {\"color\": \"#2a3f5f\"}, \"marker\": {\"line\": {\"color\": \"#E5ECF6\", \"width\": 0.5}}, \"type\": \"bar\"}], \"barpolar\": [{\"marker\": {\"line\": {\"color\": \"#E5ECF6\", \"width\": 0.5}}, \"type\": \"barpolar\"}], \"carpet\": [{\"aaxis\": {\"endlinecolor\": \"#2a3f5f\", \"gridcolor\": \"white\", \"linecolor\": \"white\", \"minorgridcolor\": \"white\", \"startlinecolor\": \"#2a3f5f\"}, \"baxis\": {\"endlinecolor\": \"#2a3f5f\", \"gridcolor\": \"white\", \"linecolor\": \"white\", \"minorgridcolor\": \"white\", \"startlinecolor\": \"#2a3f5f\"}, \"type\": \"carpet\"}], \"choropleth\": [{\"colorbar\": {\"outlinewidth\": 0, \"ticks\": \"\"}, \"type\": \"choropleth\"}], \"contour\": [{\"colorbar\": {\"outlinewidth\": 0, \"ticks\": \"\"}, \"colorscale\": [[0.0, \"#0d0887\"], [0.1111111111111111, \"#46039f\"], [0.2222222222222222, \"#7201a8\"], [0.3333333333333333, \"#9c179e\"], [0.4444444444444444, \"#bd3786\"], [0.5555555555555556, \"#d8576b\"], [0.6666666666666666, \"#ed7953\"], [0.7777777777777778, \"#fb9f3a\"], [0.8888888888888888, \"#fdca26\"], [1.0, \"#f0f921\"]], \"type\": \"contour\"}], \"contourcarpet\": [{\"colorbar\": {\"outlinewidth\": 0, \"ticks\": \"\"}, \"type\": \"contourcarpet\"}], \"heatmap\": [{\"colorbar\": {\"outlinewidth\": 0, \"ticks\": \"\"}, \"colorscale\": [[0.0, \"#0d0887\"], [0.1111111111111111, \"#46039f\"], [0.2222222222222222, \"#7201a8\"], [0.3333333333333333, \"#9c179e\"], [0.4444444444444444, \"#bd3786\"], [0.5555555555555556, \"#d8576b\"], [0.6666666666666666, \"#ed7953\"], [0.7777777777777778, \"#fb9f3a\"], [0.8888888888888888, \"#fdca26\"], [1.0, \"#f0f921\"]], \"type\": \"heatmap\"}], \"heatmapgl\": [{\"colorbar\": {\"outlinewidth\": 0, \"ticks\": \"\"}, \"colorscale\": [[0.0, \"#0d0887\"], [0.1111111111111111, \"#46039f\"], [0.2222222222222222, \"#7201a8\"], [0.3333333333333333, \"#9c179e\"], [0.4444444444444444, \"#bd3786\"], [0.5555555555555556, \"#d8576b\"], [0.6666666666666666, \"#ed7953\"], [0.7777777777777778, \"#fb9f3a\"], [0.8888888888888888, \"#fdca26\"], [1.0, \"#f0f921\"]], \"type\": \"heatmapgl\"}], \"histogram\": [{\"marker\": {\"colorbar\": {\"outlinewidth\": 0, \"ticks\": \"\"}}, \"type\": \"histogram\"}], \"histogram2d\": [{\"colorbar\": {\"outlinewidth\": 0, \"ticks\": \"\"}, \"colorscale\": [[0.0, \"#0d0887\"], [0.1111111111111111, \"#46039f\"], [0.2222222222222222, \"#7201a8\"], [0.3333333333333333, \"#9c179e\"], [0.4444444444444444, \"#bd3786\"], [0.5555555555555556, \"#d8576b\"], [0.6666666666666666, \"#ed7953\"], [0.7777777777777778, \"#fb9f3a\"], [0.8888888888888888, \"#fdca26\"], [1.0, \"#f0f921\"]], \"type\": \"histogram2d\"}], \"histogram2dcontour\": [{\"colorbar\": {\"outlinewidth\": 0, \"ticks\": \"\"}, \"colorscale\": [[0.0, \"#0d0887\"], [0.1111111111111111, \"#46039f\"], [0.2222222222222222, \"#7201a8\"], [0.3333333333333333, \"#9c179e\"], [0.4444444444444444, \"#bd3786\"], [0.5555555555555556, \"#d8576b\"], [0.6666666666666666, \"#ed7953\"], [0.7777777777777778, \"#fb9f3a\"], [0.8888888888888888, \"#fdca26\"], [1.0, \"#f0f921\"]], \"type\": \"histogram2dcontour\"}], \"mesh3d\": [{\"colorbar\": {\"outlinewidth\": 0, \"ticks\": \"\"}, \"type\": \"mesh3d\"}], \"parcoords\": [{\"line\": {\"colorbar\": {\"outlinewidth\": 0, \"ticks\": \"\"}}, \"type\": \"parcoords\"}], \"pie\": [{\"automargin\": true, \"type\": \"pie\"}], \"scatter\": [{\"marker\": {\"colorbar\": {\"outlinewidth\": 0, \"ticks\": \"\"}}, \"type\": \"scatter\"}], \"scatter3d\": [{\"line\": {\"colorbar\": {\"outlinewidth\": 0, \"ticks\": \"\"}}, \"marker\": {\"colorbar\": {\"outlinewidth\": 0, \"ticks\": \"\"}}, \"type\": \"scatter3d\"}], \"scattercarpet\": [{\"marker\": {\"colorbar\": {\"outlinewidth\": 0, \"ticks\": \"\"}}, \"type\": \"scattercarpet\"}], \"scattergeo\": [{\"marker\": {\"colorbar\": {\"outlinewidth\": 0, \"ticks\": \"\"}}, \"type\": \"scattergeo\"}], \"scattergl\": [{\"marker\": {\"colorbar\": {\"outlinewidth\": 0, \"ticks\": \"\"}}, \"type\": \"scattergl\"}], \"scattermapbox\": [{\"marker\": {\"colorbar\": {\"outlinewidth\": 0, \"ticks\": \"\"}}, \"type\": \"scattermapbox\"}], \"scatterpolar\": [{\"marker\": {\"colorbar\": {\"outlinewidth\": 0, \"ticks\": \"\"}}, \"type\": \"scatterpolar\"}], \"scatterpolargl\": [{\"marker\": {\"colorbar\": {\"outlinewidth\": 0, \"ticks\": \"\"}}, \"type\": \"scatterpolargl\"}], \"scatterternary\": [{\"marker\": {\"colorbar\": {\"outlinewidth\": 0, \"ticks\": \"\"}}, \"type\": \"scatterternary\"}], \"surface\": [{\"colorbar\": {\"outlinewidth\": 0, \"ticks\": \"\"}, \"colorscale\": [[0.0, \"#0d0887\"], [0.1111111111111111, \"#46039f\"], [0.2222222222222222, \"#7201a8\"], [0.3333333333333333, \"#9c179e\"], [0.4444444444444444, \"#bd3786\"], [0.5555555555555556, \"#d8576b\"], [0.6666666666666666, \"#ed7953\"], [0.7777777777777778, \"#fb9f3a\"], [0.8888888888888888, \"#fdca26\"], [1.0, \"#f0f921\"]], \"type\": \"surface\"}], \"table\": [{\"cells\": {\"fill\": {\"color\": \"#EBF0F8\"}, \"line\": {\"color\": \"white\"}}, \"header\": {\"fill\": {\"color\": \"#C8D4E3\"}, \"line\": {\"color\": \"white\"}}, \"type\": \"table\"}]}, \"layout\": {\"annotationdefaults\": {\"arrowcolor\": \"#2a3f5f\", \"arrowhead\": 0, \"arrowwidth\": 1}, \"autotypenumbers\": \"strict\", \"coloraxis\": {\"colorbar\": {\"outlinewidth\": 0, \"ticks\": \"\"}}, \"colorscale\": {\"diverging\": [[0, \"#8e0152\"], [0.1, \"#c51b7d\"], [0.2, \"#de77ae\"], [0.3, \"#f1b6da\"], [0.4, \"#fde0ef\"], [0.5, \"#f7f7f7\"], [0.6, \"#e6f5d0\"], [0.7, \"#b8e186\"], [0.8, \"#7fbc41\"], [0.9, \"#4d9221\"], [1, \"#276419\"]], \"sequential\": [[0.0, \"#0d0887\"], [0.1111111111111111, \"#46039f\"], [0.2222222222222222, \"#7201a8\"], [0.3333333333333333, \"#9c179e\"], [0.4444444444444444, \"#bd3786\"], [0.5555555555555556, \"#d8576b\"], [0.6666666666666666, \"#ed7953\"], [0.7777777777777778, \"#fb9f3a\"], [0.8888888888888888, \"#fdca26\"], [1.0, \"#f0f921\"]], \"sequentialminus\": [[0.0, \"#0d0887\"], [0.1111111111111111, \"#46039f\"], [0.2222222222222222, \"#7201a8\"], [0.3333333333333333, \"#9c179e\"], [0.4444444444444444, \"#bd3786\"], [0.5555555555555556, \"#d8576b\"], [0.6666666666666666, \"#ed7953\"], [0.7777777777777778, \"#fb9f3a\"], [0.8888888888888888, \"#fdca26\"], [1.0, \"#f0f921\"]]}, \"colorway\": [\"#636efa\", \"#EF553B\", \"#00cc96\", \"#ab63fa\", \"#FFA15A\", \"#19d3f3\", \"#FF6692\", \"#B6E880\", \"#FF97FF\", \"#FECB52\"], \"font\": {\"color\": \"#2a3f5f\"}, \"geo\": {\"bgcolor\": \"white\", \"lakecolor\": \"white\", \"landcolor\": \"#E5ECF6\", \"showlakes\": true, \"showland\": true, \"subunitcolor\": \"white\"}, \"hoverlabel\": {\"align\": \"left\"}, \"hovermode\": \"closest\", \"mapbox\": {\"style\": \"light\"}, \"paper_bgcolor\": \"white\", \"plot_bgcolor\": \"#E5ECF6\", \"polar\": {\"angularaxis\": {\"gridcolor\": \"white\", \"linecolor\": \"white\", \"ticks\": \"\"}, \"bgcolor\": \"#E5ECF6\", \"radialaxis\": {\"gridcolor\": \"white\", \"linecolor\": \"white\", \"ticks\": \"\"}}, \"scene\": {\"xaxis\": {\"backgroundcolor\": \"#E5ECF6\", \"gridcolor\": \"white\", \"gridwidth\": 2, \"linecolor\": \"white\", \"showbackground\": true, \"ticks\": \"\", \"zerolinecolor\": \"white\"}, \"yaxis\": {\"backgroundcolor\": \"#E5ECF6\", \"gridcolor\": \"white\", \"gridwidth\": 2, \"linecolor\": \"white\", \"showbackground\": true, \"ticks\": \"\", \"zerolinecolor\": \"white\"}, \"zaxis\": {\"backgroundcolor\": \"#E5ECF6\", \"gridcolor\": \"white\", \"gridwidth\": 2, \"linecolor\": \"white\", \"showbackground\": true, \"ticks\": \"\", \"zerolinecolor\": \"white\"}}, \"shapedefaults\": {\"line\": {\"color\": \"#2a3f5f\"}}, \"ternary\": {\"aaxis\": {\"gridcolor\": \"white\", \"linecolor\": \"white\", \"ticks\": \"\"}, \"baxis\": {\"gridcolor\": \"white\", \"linecolor\": \"white\", \"ticks\": \"\"}, \"bgcolor\": \"#E5ECF6\", \"caxis\": {\"gridcolor\": \"white\", \"linecolor\": \"white\", \"ticks\": \"\"}}, \"title\": {\"x\": 0.05}, \"xaxis\": {\"automargin\": true, \"gridcolor\": \"white\", \"linecolor\": \"white\", \"ticks\": \"\", \"title\": {\"standoff\": 15}, \"zerolinecolor\": \"white\", \"zerolinewidth\": 2}, \"yaxis\": {\"automargin\": true, \"gridcolor\": \"white\", \"linecolor\": \"white\", \"ticks\": \"\", \"title\": {\"standoff\": 15}, \"zerolinecolor\": \"white\", \"zerolinewidth\": 2}}}, \"width\": 1000},                        {\"responsive\": true}                    ).then(function(){\n",
       "                            \n",
       "var gd = document.getElementById('25cfbb52-cb53-4844-a377-37e6124000ad');\n",
       "var x = new MutationObserver(function (mutations, observer) {{\n",
       "        var display = window.getComputedStyle(gd).display;\n",
       "        if (!display || display === 'none') {{\n",
       "            console.log([gd, 'removed!']);\n",
       "            Plotly.purge(gd);\n",
       "            observer.disconnect();\n",
       "        }}\n",
       "}});\n",
       "\n",
       "// Listen for the removal of the full notebook cells\n",
       "var notebookContainer = gd.closest('#notebook-container');\n",
       "if (notebookContainer) {{\n",
       "    x.observe(notebookContainer, {childList: true});\n",
       "}}\n",
       "\n",
       "// Listen for the clearing of the current output cell\n",
       "var outputEl = gd.closest('.output');\n",
       "if (outputEl) {{\n",
       "    x.observe(outputEl, {childList: true});\n",
       "}}\n",
       "\n",
       "                        })                };                });            </script>        </div>"
      ]
     },
     "metadata": {},
     "output_type": "display_data"
    }
   ],
   "source": [
    "# OVERLAP AND MSE RUN 1\n",
    "\n",
    "from plotly.subplots import make_subplots\n",
    "\n",
    "fig = make_subplots(rows=1, cols=2, specs=[[{'type': 'surface'}, {'type': 'surface'}]])\n",
    "fig.add_trace(go.Surface(z=overlap_mean, x=list_value_2, y=list_value_1,\n",
    "                         name=\"overlap\", showscale=False),\n",
    "             row=1, col=1)\n",
    "fig.add_trace(go.Surface(z=mse_mean, x=list_value_2, y=list_value_1,\n",
    "                         name=\"mse\", showscale=False, colorscale ='viridis'),\n",
    "             row=1, col=2)\n",
    "\n",
    "fig.update_layout(scene = dict(\n",
    "                    xaxis_title=name_value_2,\n",
    "                    yaxis_title=name_value_1,\n",
    "                    zaxis_title=\"overlap\"),\n",
    "                  scene2 = dict(\n",
    "                    xaxis_title=name_value_2,\n",
    "                    yaxis_title=name_value_1,\n",
    "                    zaxis_title=\"mse\"),\n",
    "               autosize=False, width=1000, height=500)\n",
    "\n",
    "fig.update_traces(showlegend=True)\n",
    "\n",
    "fig.show()\n",
    "path=f\"C:/Users/Admin/Desktop/n={name_n_1}_m={name_m_1}_lu={lambda_u_val_1}_lv={lambda_v_val_1}.html\"\n",
    "fig.write_html(path)"
   ]
  },
  {
   "cell_type": "code",
   "execution_count": 239,
   "metadata": {},
   "outputs": [
    {
     "data": {
      "application/vnd.plotly.v1+json": {
       "config": {
        "plotlyServerURL": "https://plot.ly"
       },
       "data": [
        {
         "name": "overlap",
         "scene": "scene",
         "showlegend": true,
         "showscale": false,
         "type": "surface",
         "x": [
          0.1,
          0.14677992676220694,
          0.21544346900318834,
          0.31622776601683794,
          0.46415888336127786,
          0.6812920690579611,
          1,
          1.467799267622069,
          2.1544346900318834,
          3.1622776601683795
         ],
         "y": [
          0.1,
          0.14677992676220694,
          0.21544346900318834,
          0.31622776601683794,
          0.46415888336127786,
          0.6812920690579611,
          1,
          1.467799267622069,
          2.1544346900318834,
          3.1622776601683795
         ],
         "z": [
          [
           0.05271356925368309,
           0.1202627569437027,
           0.0835433304309845,
           0.028017135336995125,
           0.08269397914409637,
           0.11847153306007385,
           0.06812286376953125,
           0.13976678252220154,
           0.23825189471244812,
           0.08117696642875671
          ],
          [
           0.07801252603530884,
           0.17078381776809692,
           0.11407552659511566,
           0.07665885984897614,
           0.05554768070578575,
           0.04102923721075058,
           0.12790805101394653,
           0.1396428793668747,
           0.07750815898180008,
           0.034248653799295425
          ],
          [
           0.1401476114988327,
           0.09934496879577637,
           0.07293158769607544,
           0.019990112632513046,
           0.04950820282101631,
           0.11171559989452362,
           0.06453219801187515,
           0.07412083446979523,
           0.1028888076543808,
           0.029047973453998566
          ],
          [
           0.14477035403251648,
           0.10595235228538513,
           0.11949050426483154,
           0.09801439940929413,
           0.13331791758537292,
           0.16560494899749756,
           0.12868322432041168,
           0.07047989219427109,
           0.09024015069007874,
           0.15573576092720032
          ],
          [
           0.048343874514102936,
           0.032955363392829895,
           0.03203752264380455,
           0.09446288645267487,
           0.15232354402542114,
           0.07293999195098877,
           0.08926717936992645,
           0.11973803490400314,
           0.23903822898864746,
           0.16126218438148499
          ],
          [
           0.08520931005477905,
           0.05165119096636772,
           0.01490103080868721,
           0.05242210626602173,
           0.09345043450593948,
           0.0775146484375,
           0.07496490329504013,
           0.2050401270389557,
           0.07133154571056366,
           0.10560400784015656
          ],
          [
           0.09899089485406876,
           0.05339377373456955,
           0.029711661860346794,
           0.09460048377513885,
           0.21002377569675446,
           0.3577122092247009,
           0.23196375370025635,
           0.5312176942825317,
           0.41762930154800415,
           0.5754408836364746
          ],
          [
           0.079352006316185,
           0.1097797080874443,
           0.08149334788322449,
           0.05920087546110153,
           0.08229054510593414,
           0.15590375661849976,
           0.38557183742523193,
           0.4995635151863098,
           0.5751761198043823,
           0.12479354441165924
          ],
          [
           0.04779168218374252,
           0.07579000294208527,
           0.0850316509604454,
           0.19207823276519775,
           0.13241791725158691,
           0.3915596604347229,
           0.3813322186470032,
           0.22432516515254974,
           0.6446353197097778,
           0.6618442535400391
          ],
          [
           0.10397919267416,
           0.10072517395019531,
           0.314492404460907,
           0.0580768957734108,
           0.4675004482269287,
           0.43205708265304565,
           0.46988198161125183,
           0.35366612672805786,
           0.5988812446594238,
           0.7487462759017944
          ]
         ]
        },
        {
         "colorscale": [
          [
           0,
           "#440154"
          ],
          [
           0.1111111111111111,
           "#482878"
          ],
          [
           0.2222222222222222,
           "#3e4989"
          ],
          [
           0.3333333333333333,
           "#31688e"
          ],
          [
           0.4444444444444444,
           "#26828e"
          ],
          [
           0.5555555555555556,
           "#1f9e89"
          ],
          [
           0.6666666666666666,
           "#35b779"
          ],
          [
           0.7777777777777778,
           "#6ece58"
          ],
          [
           0.8888888888888888,
           "#b5de2b"
          ],
          [
           1,
           "#fde725"
          ]
         ],
         "name": "mse",
         "scene": "scene2",
         "showlegend": true,
         "showscale": false,
         "type": "surface",
         "x": [
          0.1,
          0.14677992676220694,
          0.21544346900318834,
          0.31622776601683794,
          0.46415888336127786,
          0.6812920690579611,
          1,
          1.467799267622069,
          2.1544346900318834,
          3.1622776601683795
         ],
         "y": [
          0.1,
          0.14677992676220694,
          0.21544346900318834,
          0.31622776601683794,
          0.46415888336127786,
          0.6812920690579611,
          1,
          1.467799267622069,
          2.1544346900318834,
          3.1622776601683795
         ],
         "z": [
          [
           1.8945728540420532,
           1.759474515914917,
           1.8329132795333862,
           1.9439656734466553,
           1.8346120119094849,
           1.7630566358566284,
           1.8637542724609375,
           1.7204666137695312,
           1.523496150970459,
           1.8376460075378418
          ],
          [
           1.8439750671386719,
           1.6584324836730957,
           1.771849274635315,
           1.8466821908950806,
           1.8889045715332031,
           1.9179415702819824,
           1.7441840171813965,
           1.7207140922546387,
           1.844983696937561,
           1.9315025806427002
          ],
          [
           1.7197051048278809,
           1.8013100624084473,
           1.8541369438171387,
           1.960019826889038,
           1.9009838104248047,
           1.7765686511993408,
           1.8709356784820557,
           1.8517580032348633,
           1.794222354888916,
           1.941904067993164
          ],
          [
           1.7104592323303223,
           1.7880953550338745,
           1.761019229888916,
           1.803971529006958,
           1.733364224433899,
           1.6687901020050049,
           1.74263334274292,
           1.859040379524231,
           1.8195199966430664,
           1.6885281801223755
          ],
          [
           1.9033122062683105,
           1.9340894222259521,
           1.9359251260757446,
           1.811074137687683,
           1.6953527927398682,
           1.8541200160980225,
           1.8214654922485352,
           1.760523796081543,
           1.521923542022705,
           1.6774758100509644
          ],
          [
           1.829581379890442,
           1.8966975212097168,
           1.970198154449463,
           1.895155906677246,
           1.8130991458892822,
           1.844970941543579,
           1.8500702381134033,
           1.5899198055267334,
           1.8573368787765503,
           1.7887918949127197
          ],
          [
           1.802018642425537,
           1.8932126760482788,
           1.9405767917633057,
           1.8107988834381104,
           1.5799527168273926,
           1.2845755815505981,
           1.536072850227356,
           0.9375645518302917,
           1.1647415161132812,
           0.8491180539131165
          ],
          [
           1.8412960767745972,
           1.7804406881332397,
           1.8370132446289062,
           1.8815982341766357,
           1.8354191780090332,
           1.688192367553711,
           1.2288565635681152,
           1.0008729696273804,
           0.8496475219726562,
           1.750412940979004
          ],
          [
           1.9044166803359985,
           1.8484200239181519,
           1.8299367427825928,
           1.615843653678894,
           1.7351638078689575,
           1.2168805599212646,
           1.237335443496704,
           1.5513497591018677,
           0.7107293605804443,
           0.6763116121292114
          ],
          [
           1.792041540145874,
           1.7985496520996094,
           1.3710155487060547,
           1.8838460445404053,
           1.0649992227554321,
           1.1358859539031982,
           1.0602362155914307,
           1.292668104171753,
           0.8022370934486389,
           0.5025074481964111
          ]
         ]
        }
       ],
       "layout": {
        "scene": {
         "domain": {
          "x": [
           0,
           0.45
          ],
          "y": [
           0,
           1
          ]
         },
         "xaxis": {
          "title": {
           "text": "beta_v"
          }
         },
         "yaxis": {
          "title": {
           "text": "beta_u"
          }
         },
         "zaxis": {
          "title": {
           "text": "overlap"
          }
         }
        },
        "scene2": {
         "domain": {
          "x": [
           0.55,
           1
          ],
          "y": [
           0,
           1
          ]
         }
        },
        "template": {
         "data": {
          "bar": [
           {
            "error_x": {
             "color": "#2a3f5f"
            },
            "error_y": {
             "color": "#2a3f5f"
            },
            "marker": {
             "line": {
              "color": "#E5ECF6",
              "width": 0.5
             }
            },
            "type": "bar"
           }
          ],
          "barpolar": [
           {
            "marker": {
             "line": {
              "color": "#E5ECF6",
              "width": 0.5
             }
            },
            "type": "barpolar"
           }
          ],
          "carpet": [
           {
            "aaxis": {
             "endlinecolor": "#2a3f5f",
             "gridcolor": "white",
             "linecolor": "white",
             "minorgridcolor": "white",
             "startlinecolor": "#2a3f5f"
            },
            "baxis": {
             "endlinecolor": "#2a3f5f",
             "gridcolor": "white",
             "linecolor": "white",
             "minorgridcolor": "white",
             "startlinecolor": "#2a3f5f"
            },
            "type": "carpet"
           }
          ],
          "choropleth": [
           {
            "colorbar": {
             "outlinewidth": 0,
             "ticks": ""
            },
            "type": "choropleth"
           }
          ],
          "contour": [
           {
            "colorbar": {
             "outlinewidth": 0,
             "ticks": ""
            },
            "colorscale": [
             [
              0,
              "#0d0887"
             ],
             [
              0.1111111111111111,
              "#46039f"
             ],
             [
              0.2222222222222222,
              "#7201a8"
             ],
             [
              0.3333333333333333,
              "#9c179e"
             ],
             [
              0.4444444444444444,
              "#bd3786"
             ],
             [
              0.5555555555555556,
              "#d8576b"
             ],
             [
              0.6666666666666666,
              "#ed7953"
             ],
             [
              0.7777777777777778,
              "#fb9f3a"
             ],
             [
              0.8888888888888888,
              "#fdca26"
             ],
             [
              1,
              "#f0f921"
             ]
            ],
            "type": "contour"
           }
          ],
          "contourcarpet": [
           {
            "colorbar": {
             "outlinewidth": 0,
             "ticks": ""
            },
            "type": "contourcarpet"
           }
          ],
          "heatmap": [
           {
            "colorbar": {
             "outlinewidth": 0,
             "ticks": ""
            },
            "colorscale": [
             [
              0,
              "#0d0887"
             ],
             [
              0.1111111111111111,
              "#46039f"
             ],
             [
              0.2222222222222222,
              "#7201a8"
             ],
             [
              0.3333333333333333,
              "#9c179e"
             ],
             [
              0.4444444444444444,
              "#bd3786"
             ],
             [
              0.5555555555555556,
              "#d8576b"
             ],
             [
              0.6666666666666666,
              "#ed7953"
             ],
             [
              0.7777777777777778,
              "#fb9f3a"
             ],
             [
              0.8888888888888888,
              "#fdca26"
             ],
             [
              1,
              "#f0f921"
             ]
            ],
            "type": "heatmap"
           }
          ],
          "heatmapgl": [
           {
            "colorbar": {
             "outlinewidth": 0,
             "ticks": ""
            },
            "colorscale": [
             [
              0,
              "#0d0887"
             ],
             [
              0.1111111111111111,
              "#46039f"
             ],
             [
              0.2222222222222222,
              "#7201a8"
             ],
             [
              0.3333333333333333,
              "#9c179e"
             ],
             [
              0.4444444444444444,
              "#bd3786"
             ],
             [
              0.5555555555555556,
              "#d8576b"
             ],
             [
              0.6666666666666666,
              "#ed7953"
             ],
             [
              0.7777777777777778,
              "#fb9f3a"
             ],
             [
              0.8888888888888888,
              "#fdca26"
             ],
             [
              1,
              "#f0f921"
             ]
            ],
            "type": "heatmapgl"
           }
          ],
          "histogram": [
           {
            "marker": {
             "colorbar": {
              "outlinewidth": 0,
              "ticks": ""
             }
            },
            "type": "histogram"
           }
          ],
          "histogram2d": [
           {
            "colorbar": {
             "outlinewidth": 0,
             "ticks": ""
            },
            "colorscale": [
             [
              0,
              "#0d0887"
             ],
             [
              0.1111111111111111,
              "#46039f"
             ],
             [
              0.2222222222222222,
              "#7201a8"
             ],
             [
              0.3333333333333333,
              "#9c179e"
             ],
             [
              0.4444444444444444,
              "#bd3786"
             ],
             [
              0.5555555555555556,
              "#d8576b"
             ],
             [
              0.6666666666666666,
              "#ed7953"
             ],
             [
              0.7777777777777778,
              "#fb9f3a"
             ],
             [
              0.8888888888888888,
              "#fdca26"
             ],
             [
              1,
              "#f0f921"
             ]
            ],
            "type": "histogram2d"
           }
          ],
          "histogram2dcontour": [
           {
            "colorbar": {
             "outlinewidth": 0,
             "ticks": ""
            },
            "colorscale": [
             [
              0,
              "#0d0887"
             ],
             [
              0.1111111111111111,
              "#46039f"
             ],
             [
              0.2222222222222222,
              "#7201a8"
             ],
             [
              0.3333333333333333,
              "#9c179e"
             ],
             [
              0.4444444444444444,
              "#bd3786"
             ],
             [
              0.5555555555555556,
              "#d8576b"
             ],
             [
              0.6666666666666666,
              "#ed7953"
             ],
             [
              0.7777777777777778,
              "#fb9f3a"
             ],
             [
              0.8888888888888888,
              "#fdca26"
             ],
             [
              1,
              "#f0f921"
             ]
            ],
            "type": "histogram2dcontour"
           }
          ],
          "mesh3d": [
           {
            "colorbar": {
             "outlinewidth": 0,
             "ticks": ""
            },
            "type": "mesh3d"
           }
          ],
          "parcoords": [
           {
            "line": {
             "colorbar": {
              "outlinewidth": 0,
              "ticks": ""
             }
            },
            "type": "parcoords"
           }
          ],
          "pie": [
           {
            "automargin": true,
            "type": "pie"
           }
          ],
          "scatter": [
           {
            "marker": {
             "colorbar": {
              "outlinewidth": 0,
              "ticks": ""
             }
            },
            "type": "scatter"
           }
          ],
          "scatter3d": [
           {
            "line": {
             "colorbar": {
              "outlinewidth": 0,
              "ticks": ""
             }
            },
            "marker": {
             "colorbar": {
              "outlinewidth": 0,
              "ticks": ""
             }
            },
            "type": "scatter3d"
           }
          ],
          "scattercarpet": [
           {
            "marker": {
             "colorbar": {
              "outlinewidth": 0,
              "ticks": ""
             }
            },
            "type": "scattercarpet"
           }
          ],
          "scattergeo": [
           {
            "marker": {
             "colorbar": {
              "outlinewidth": 0,
              "ticks": ""
             }
            },
            "type": "scattergeo"
           }
          ],
          "scattergl": [
           {
            "marker": {
             "colorbar": {
              "outlinewidth": 0,
              "ticks": ""
             }
            },
            "type": "scattergl"
           }
          ],
          "scattermapbox": [
           {
            "marker": {
             "colorbar": {
              "outlinewidth": 0,
              "ticks": ""
             }
            },
            "type": "scattermapbox"
           }
          ],
          "scatterpolar": [
           {
            "marker": {
             "colorbar": {
              "outlinewidth": 0,
              "ticks": ""
             }
            },
            "type": "scatterpolar"
           }
          ],
          "scatterpolargl": [
           {
            "marker": {
             "colorbar": {
              "outlinewidth": 0,
              "ticks": ""
             }
            },
            "type": "scatterpolargl"
           }
          ],
          "scatterternary": [
           {
            "marker": {
             "colorbar": {
              "outlinewidth": 0,
              "ticks": ""
             }
            },
            "type": "scatterternary"
           }
          ],
          "surface": [
           {
            "colorbar": {
             "outlinewidth": 0,
             "ticks": ""
            },
            "colorscale": [
             [
              0,
              "#0d0887"
             ],
             [
              0.1111111111111111,
              "#46039f"
             ],
             [
              0.2222222222222222,
              "#7201a8"
             ],
             [
              0.3333333333333333,
              "#9c179e"
             ],
             [
              0.4444444444444444,
              "#bd3786"
             ],
             [
              0.5555555555555556,
              "#d8576b"
             ],
             [
              0.6666666666666666,
              "#ed7953"
             ],
             [
              0.7777777777777778,
              "#fb9f3a"
             ],
             [
              0.8888888888888888,
              "#fdca26"
             ],
             [
              1,
              "#f0f921"
             ]
            ],
            "type": "surface"
           }
          ],
          "table": [
           {
            "cells": {
             "fill": {
              "color": "#EBF0F8"
             },
             "line": {
              "color": "white"
             }
            },
            "header": {
             "fill": {
              "color": "#C8D4E3"
             },
             "line": {
              "color": "white"
             }
            },
            "type": "table"
           }
          ]
         },
         "layout": {
          "annotationdefaults": {
           "arrowcolor": "#2a3f5f",
           "arrowhead": 0,
           "arrowwidth": 1
          },
          "autotypenumbers": "strict",
          "coloraxis": {
           "colorbar": {
            "outlinewidth": 0,
            "ticks": ""
           }
          },
          "colorscale": {
           "diverging": [
            [
             0,
             "#8e0152"
            ],
            [
             0.1,
             "#c51b7d"
            ],
            [
             0.2,
             "#de77ae"
            ],
            [
             0.3,
             "#f1b6da"
            ],
            [
             0.4,
             "#fde0ef"
            ],
            [
             0.5,
             "#f7f7f7"
            ],
            [
             0.6,
             "#e6f5d0"
            ],
            [
             0.7,
             "#b8e186"
            ],
            [
             0.8,
             "#7fbc41"
            ],
            [
             0.9,
             "#4d9221"
            ],
            [
             1,
             "#276419"
            ]
           ],
           "sequential": [
            [
             0,
             "#0d0887"
            ],
            [
             0.1111111111111111,
             "#46039f"
            ],
            [
             0.2222222222222222,
             "#7201a8"
            ],
            [
             0.3333333333333333,
             "#9c179e"
            ],
            [
             0.4444444444444444,
             "#bd3786"
            ],
            [
             0.5555555555555556,
             "#d8576b"
            ],
            [
             0.6666666666666666,
             "#ed7953"
            ],
            [
             0.7777777777777778,
             "#fb9f3a"
            ],
            [
             0.8888888888888888,
             "#fdca26"
            ],
            [
             1,
             "#f0f921"
            ]
           ],
           "sequentialminus": [
            [
             0,
             "#0d0887"
            ],
            [
             0.1111111111111111,
             "#46039f"
            ],
            [
             0.2222222222222222,
             "#7201a8"
            ],
            [
             0.3333333333333333,
             "#9c179e"
            ],
            [
             0.4444444444444444,
             "#bd3786"
            ],
            [
             0.5555555555555556,
             "#d8576b"
            ],
            [
             0.6666666666666666,
             "#ed7953"
            ],
            [
             0.7777777777777778,
             "#fb9f3a"
            ],
            [
             0.8888888888888888,
             "#fdca26"
            ],
            [
             1,
             "#f0f921"
            ]
           ]
          },
          "colorway": [
           "#636efa",
           "#EF553B",
           "#00cc96",
           "#ab63fa",
           "#FFA15A",
           "#19d3f3",
           "#FF6692",
           "#B6E880",
           "#FF97FF",
           "#FECB52"
          ],
          "font": {
           "color": "#2a3f5f"
          },
          "geo": {
           "bgcolor": "white",
           "lakecolor": "white",
           "landcolor": "#E5ECF6",
           "showlakes": true,
           "showland": true,
           "subunitcolor": "white"
          },
          "hoverlabel": {
           "align": "left"
          },
          "hovermode": "closest",
          "mapbox": {
           "style": "light"
          },
          "paper_bgcolor": "white",
          "plot_bgcolor": "#E5ECF6",
          "polar": {
           "angularaxis": {
            "gridcolor": "white",
            "linecolor": "white",
            "ticks": ""
           },
           "bgcolor": "#E5ECF6",
           "radialaxis": {
            "gridcolor": "white",
            "linecolor": "white",
            "ticks": ""
           }
          },
          "scene": {
           "xaxis": {
            "backgroundcolor": "#E5ECF6",
            "gridcolor": "white",
            "gridwidth": 2,
            "linecolor": "white",
            "showbackground": true,
            "ticks": "",
            "zerolinecolor": "white"
           },
           "yaxis": {
            "backgroundcolor": "#E5ECF6",
            "gridcolor": "white",
            "gridwidth": 2,
            "linecolor": "white",
            "showbackground": true,
            "ticks": "",
            "zerolinecolor": "white"
           },
           "zaxis": {
            "backgroundcolor": "#E5ECF6",
            "gridcolor": "white",
            "gridwidth": 2,
            "linecolor": "white",
            "showbackground": true,
            "ticks": "",
            "zerolinecolor": "white"
           }
          },
          "shapedefaults": {
           "line": {
            "color": "#2a3f5f"
           }
          },
          "ternary": {
           "aaxis": {
            "gridcolor": "white",
            "linecolor": "white",
            "ticks": ""
           },
           "baxis": {
            "gridcolor": "white",
            "linecolor": "white",
            "ticks": ""
           },
           "bgcolor": "#E5ECF6",
           "caxis": {
            "gridcolor": "white",
            "linecolor": "white",
            "ticks": ""
           }
          },
          "title": {
           "x": 0.05
          },
          "xaxis": {
           "automargin": true,
           "gridcolor": "white",
           "linecolor": "white",
           "ticks": "",
           "title": {
            "standoff": 15
           },
           "zerolinecolor": "white",
           "zerolinewidth": 2
          },
          "yaxis": {
           "automargin": true,
           "gridcolor": "white",
           "linecolor": "white",
           "ticks": "",
           "title": {
            "standoff": 15
           },
           "zerolinecolor": "white",
           "zerolinewidth": 2
          }
         }
        },
        "title": {
         "text": "n=500, m=500; lu=1, lv=0.01"
        }
       }
      },
      "text/html": [
       "<div>                            <div id=\"60a51595-0536-4cdd-85f9-9e230ffebb02\" class=\"plotly-graph-div\" style=\"height:525px; width:100%;\"></div>            <script type=\"text/javascript\">                require([\"plotly\"], function(Plotly) {                    window.PLOTLYENV=window.PLOTLYENV || {};                                    if (document.getElementById(\"60a51595-0536-4cdd-85f9-9e230ffebb02\")) {                    Plotly.newPlot(                        \"60a51595-0536-4cdd-85f9-9e230ffebb02\",                        [{\"name\": \"overlap\", \"scene\": \"scene\", \"showlegend\": true, \"showscale\": false, \"type\": \"surface\", \"x\": [0.1, 0.14677992676220694, 0.21544346900318834, 0.31622776601683794, 0.46415888336127786, 0.6812920690579611, 1.0, 1.467799267622069, 2.1544346900318834, 3.1622776601683795], \"y\": [0.1, 0.14677992676220694, 0.21544346900318834, 0.31622776601683794, 0.46415888336127786, 0.6812920690579611, 1.0, 1.467799267622069, 2.1544346900318834, 3.1622776601683795], \"z\": [[0.05271356925368309, 0.1202627569437027, 0.0835433304309845, 0.028017135336995125, 0.08269397914409637, 0.11847153306007385, 0.06812286376953125, 0.13976678252220154, 0.23825189471244812, 0.08117696642875671], [0.07801252603530884, 0.17078381776809692, 0.11407552659511566, 0.07665885984897614, 0.05554768070578575, 0.04102923721075058, 0.12790805101394653, 0.1396428793668747, 0.07750815898180008, 0.034248653799295425], [0.1401476114988327, 0.09934496879577637, 0.07293158769607544, 0.019990112632513046, 0.04950820282101631, 0.11171559989452362, 0.06453219801187515, 0.07412083446979523, 0.1028888076543808, 0.029047973453998566], [0.14477035403251648, 0.10595235228538513, 0.11949050426483154, 0.09801439940929413, 0.13331791758537292, 0.16560494899749756, 0.12868322432041168, 0.07047989219427109, 0.09024015069007874, 0.15573576092720032], [0.048343874514102936, 0.032955363392829895, 0.03203752264380455, 0.09446288645267487, 0.15232354402542114, 0.07293999195098877, 0.08926717936992645, 0.11973803490400314, 0.23903822898864746, 0.16126218438148499], [0.08520931005477905, 0.05165119096636772, 0.01490103080868721, 0.05242210626602173, 0.09345043450593948, 0.0775146484375, 0.07496490329504013, 0.2050401270389557, 0.07133154571056366, 0.10560400784015656], [0.09899089485406876, 0.05339377373456955, 0.029711661860346794, 0.09460048377513885, 0.21002377569675446, 0.3577122092247009, 0.23196375370025635, 0.5312176942825317, 0.41762930154800415, 0.5754408836364746], [0.079352006316185, 0.1097797080874443, 0.08149334788322449, 0.05920087546110153, 0.08229054510593414, 0.15590375661849976, 0.38557183742523193, 0.4995635151863098, 0.5751761198043823, 0.12479354441165924], [0.04779168218374252, 0.07579000294208527, 0.0850316509604454, 0.19207823276519775, 0.13241791725158691, 0.3915596604347229, 0.3813322186470032, 0.22432516515254974, 0.6446353197097778, 0.6618442535400391], [0.10397919267416, 0.10072517395019531, 0.314492404460907, 0.0580768957734108, 0.4675004482269287, 0.43205708265304565, 0.46988198161125183, 0.35366612672805786, 0.5988812446594238, 0.7487462759017944]]}, {\"colorscale\": [[0.0, \"#440154\"], [0.1111111111111111, \"#482878\"], [0.2222222222222222, \"#3e4989\"], [0.3333333333333333, \"#31688e\"], [0.4444444444444444, \"#26828e\"], [0.5555555555555556, \"#1f9e89\"], [0.6666666666666666, \"#35b779\"], [0.7777777777777778, \"#6ece58\"], [0.8888888888888888, \"#b5de2b\"], [1.0, \"#fde725\"]], \"name\": \"mse\", \"scene\": \"scene2\", \"showlegend\": true, \"showscale\": false, \"type\": \"surface\", \"x\": [0.1, 0.14677992676220694, 0.21544346900318834, 0.31622776601683794, 0.46415888336127786, 0.6812920690579611, 1.0, 1.467799267622069, 2.1544346900318834, 3.1622776601683795], \"y\": [0.1, 0.14677992676220694, 0.21544346900318834, 0.31622776601683794, 0.46415888336127786, 0.6812920690579611, 1.0, 1.467799267622069, 2.1544346900318834, 3.1622776601683795], \"z\": [[1.8945728540420532, 1.759474515914917, 1.8329132795333862, 1.9439656734466553, 1.8346120119094849, 1.7630566358566284, 1.8637542724609375, 1.7204666137695312, 1.523496150970459, 1.8376460075378418], [1.8439750671386719, 1.6584324836730957, 1.771849274635315, 1.8466821908950806, 1.8889045715332031, 1.9179415702819824, 1.7441840171813965, 1.7207140922546387, 1.844983696937561, 1.9315025806427002], [1.7197051048278809, 1.8013100624084473, 1.8541369438171387, 1.960019826889038, 1.9009838104248047, 1.7765686511993408, 1.8709356784820557, 1.8517580032348633, 1.794222354888916, 1.941904067993164], [1.7104592323303223, 1.7880953550338745, 1.761019229888916, 1.803971529006958, 1.733364224433899, 1.6687901020050049, 1.74263334274292, 1.859040379524231, 1.8195199966430664, 1.6885281801223755], [1.9033122062683105, 1.9340894222259521, 1.9359251260757446, 1.811074137687683, 1.6953527927398682, 1.8541200160980225, 1.8214654922485352, 1.760523796081543, 1.521923542022705, 1.6774758100509644], [1.829581379890442, 1.8966975212097168, 1.970198154449463, 1.895155906677246, 1.8130991458892822, 1.844970941543579, 1.8500702381134033, 1.5899198055267334, 1.8573368787765503, 1.7887918949127197], [1.802018642425537, 1.8932126760482788, 1.9405767917633057, 1.8107988834381104, 1.5799527168273926, 1.2845755815505981, 1.536072850227356, 0.9375645518302917, 1.1647415161132812, 0.8491180539131165], [1.8412960767745972, 1.7804406881332397, 1.8370132446289062, 1.8815982341766357, 1.8354191780090332, 1.688192367553711, 1.2288565635681152, 1.0008729696273804, 0.8496475219726562, 1.750412940979004], [1.9044166803359985, 1.8484200239181519, 1.8299367427825928, 1.615843653678894, 1.7351638078689575, 1.2168805599212646, 1.237335443496704, 1.5513497591018677, 0.7107293605804443, 0.6763116121292114], [1.792041540145874, 1.7985496520996094, 1.3710155487060547, 1.8838460445404053, 1.0649992227554321, 1.1358859539031982, 1.0602362155914307, 1.292668104171753, 0.8022370934486389, 0.5025074481964111]]}],                        {\"scene\": {\"domain\": {\"x\": [0.0, 0.45], \"y\": [0.0, 1.0]}, \"xaxis\": {\"title\": {\"text\": \"beta_v\"}}, \"yaxis\": {\"title\": {\"text\": \"beta_u\"}}, \"zaxis\": {\"title\": {\"text\": \"overlap\"}}}, \"scene2\": {\"domain\": {\"x\": [0.55, 1.0], \"y\": [0.0, 1.0]}}, \"template\": {\"data\": {\"bar\": [{\"error_x\": {\"color\": \"#2a3f5f\"}, \"error_y\": {\"color\": \"#2a3f5f\"}, \"marker\": {\"line\": {\"color\": \"#E5ECF6\", \"width\": 0.5}}, \"type\": \"bar\"}], \"barpolar\": [{\"marker\": {\"line\": {\"color\": \"#E5ECF6\", \"width\": 0.5}}, \"type\": \"barpolar\"}], \"carpet\": [{\"aaxis\": {\"endlinecolor\": \"#2a3f5f\", \"gridcolor\": \"white\", \"linecolor\": \"white\", \"minorgridcolor\": \"white\", \"startlinecolor\": \"#2a3f5f\"}, \"baxis\": {\"endlinecolor\": \"#2a3f5f\", \"gridcolor\": \"white\", \"linecolor\": \"white\", \"minorgridcolor\": \"white\", \"startlinecolor\": \"#2a3f5f\"}, \"type\": \"carpet\"}], \"choropleth\": [{\"colorbar\": {\"outlinewidth\": 0, \"ticks\": \"\"}, \"type\": \"choropleth\"}], \"contour\": [{\"colorbar\": {\"outlinewidth\": 0, \"ticks\": \"\"}, \"colorscale\": [[0.0, \"#0d0887\"], [0.1111111111111111, \"#46039f\"], [0.2222222222222222, \"#7201a8\"], [0.3333333333333333, \"#9c179e\"], [0.4444444444444444, \"#bd3786\"], [0.5555555555555556, \"#d8576b\"], [0.6666666666666666, \"#ed7953\"], [0.7777777777777778, \"#fb9f3a\"], [0.8888888888888888, \"#fdca26\"], [1.0, \"#f0f921\"]], \"type\": \"contour\"}], \"contourcarpet\": [{\"colorbar\": {\"outlinewidth\": 0, \"ticks\": \"\"}, \"type\": \"contourcarpet\"}], \"heatmap\": [{\"colorbar\": {\"outlinewidth\": 0, \"ticks\": \"\"}, \"colorscale\": [[0.0, \"#0d0887\"], [0.1111111111111111, \"#46039f\"], [0.2222222222222222, \"#7201a8\"], [0.3333333333333333, \"#9c179e\"], [0.4444444444444444, \"#bd3786\"], [0.5555555555555556, \"#d8576b\"], [0.6666666666666666, \"#ed7953\"], [0.7777777777777778, \"#fb9f3a\"], [0.8888888888888888, \"#fdca26\"], [1.0, \"#f0f921\"]], \"type\": \"heatmap\"}], \"heatmapgl\": [{\"colorbar\": {\"outlinewidth\": 0, \"ticks\": \"\"}, \"colorscale\": [[0.0, \"#0d0887\"], [0.1111111111111111, \"#46039f\"], [0.2222222222222222, \"#7201a8\"], [0.3333333333333333, \"#9c179e\"], [0.4444444444444444, \"#bd3786\"], [0.5555555555555556, \"#d8576b\"], [0.6666666666666666, \"#ed7953\"], [0.7777777777777778, \"#fb9f3a\"], [0.8888888888888888, \"#fdca26\"], [1.0, \"#f0f921\"]], \"type\": \"heatmapgl\"}], \"histogram\": [{\"marker\": {\"colorbar\": {\"outlinewidth\": 0, \"ticks\": \"\"}}, \"type\": \"histogram\"}], \"histogram2d\": [{\"colorbar\": {\"outlinewidth\": 0, \"ticks\": \"\"}, \"colorscale\": [[0.0, \"#0d0887\"], [0.1111111111111111, \"#46039f\"], [0.2222222222222222, \"#7201a8\"], [0.3333333333333333, \"#9c179e\"], [0.4444444444444444, \"#bd3786\"], [0.5555555555555556, \"#d8576b\"], [0.6666666666666666, \"#ed7953\"], [0.7777777777777778, \"#fb9f3a\"], [0.8888888888888888, \"#fdca26\"], [1.0, \"#f0f921\"]], \"type\": \"histogram2d\"}], \"histogram2dcontour\": [{\"colorbar\": {\"outlinewidth\": 0, \"ticks\": \"\"}, \"colorscale\": [[0.0, \"#0d0887\"], [0.1111111111111111, \"#46039f\"], [0.2222222222222222, \"#7201a8\"], [0.3333333333333333, \"#9c179e\"], [0.4444444444444444, \"#bd3786\"], [0.5555555555555556, \"#d8576b\"], [0.6666666666666666, \"#ed7953\"], [0.7777777777777778, \"#fb9f3a\"], [0.8888888888888888, \"#fdca26\"], [1.0, \"#f0f921\"]], \"type\": \"histogram2dcontour\"}], \"mesh3d\": [{\"colorbar\": {\"outlinewidth\": 0, \"ticks\": \"\"}, \"type\": \"mesh3d\"}], \"parcoords\": [{\"line\": {\"colorbar\": {\"outlinewidth\": 0, \"ticks\": \"\"}}, \"type\": \"parcoords\"}], \"pie\": [{\"automargin\": true, \"type\": \"pie\"}], \"scatter\": [{\"marker\": {\"colorbar\": {\"outlinewidth\": 0, \"ticks\": \"\"}}, \"type\": \"scatter\"}], \"scatter3d\": [{\"line\": {\"colorbar\": {\"outlinewidth\": 0, \"ticks\": \"\"}}, \"marker\": {\"colorbar\": {\"outlinewidth\": 0, \"ticks\": \"\"}}, \"type\": \"scatter3d\"}], \"scattercarpet\": [{\"marker\": {\"colorbar\": {\"outlinewidth\": 0, \"ticks\": \"\"}}, \"type\": \"scattercarpet\"}], \"scattergeo\": [{\"marker\": {\"colorbar\": {\"outlinewidth\": 0, \"ticks\": \"\"}}, \"type\": \"scattergeo\"}], \"scattergl\": [{\"marker\": {\"colorbar\": {\"outlinewidth\": 0, \"ticks\": \"\"}}, \"type\": \"scattergl\"}], \"scattermapbox\": [{\"marker\": {\"colorbar\": {\"outlinewidth\": 0, \"ticks\": \"\"}}, \"type\": \"scattermapbox\"}], \"scatterpolar\": [{\"marker\": {\"colorbar\": {\"outlinewidth\": 0, \"ticks\": \"\"}}, \"type\": \"scatterpolar\"}], \"scatterpolargl\": [{\"marker\": {\"colorbar\": {\"outlinewidth\": 0, \"ticks\": \"\"}}, \"type\": \"scatterpolargl\"}], \"scatterternary\": [{\"marker\": {\"colorbar\": {\"outlinewidth\": 0, \"ticks\": \"\"}}, \"type\": \"scatterternary\"}], \"surface\": [{\"colorbar\": {\"outlinewidth\": 0, \"ticks\": \"\"}, \"colorscale\": [[0.0, \"#0d0887\"], [0.1111111111111111, \"#46039f\"], [0.2222222222222222, \"#7201a8\"], [0.3333333333333333, \"#9c179e\"], [0.4444444444444444, \"#bd3786\"], [0.5555555555555556, \"#d8576b\"], [0.6666666666666666, \"#ed7953\"], [0.7777777777777778, \"#fb9f3a\"], [0.8888888888888888, \"#fdca26\"], [1.0, \"#f0f921\"]], \"type\": \"surface\"}], \"table\": [{\"cells\": {\"fill\": {\"color\": \"#EBF0F8\"}, \"line\": {\"color\": \"white\"}}, \"header\": {\"fill\": {\"color\": \"#C8D4E3\"}, \"line\": {\"color\": \"white\"}}, \"type\": \"table\"}]}, \"layout\": {\"annotationdefaults\": {\"arrowcolor\": \"#2a3f5f\", \"arrowhead\": 0, \"arrowwidth\": 1}, \"autotypenumbers\": \"strict\", \"coloraxis\": {\"colorbar\": {\"outlinewidth\": 0, \"ticks\": \"\"}}, \"colorscale\": {\"diverging\": [[0, \"#8e0152\"], [0.1, \"#c51b7d\"], [0.2, \"#de77ae\"], [0.3, \"#f1b6da\"], [0.4, \"#fde0ef\"], [0.5, \"#f7f7f7\"], [0.6, \"#e6f5d0\"], [0.7, \"#b8e186\"], [0.8, \"#7fbc41\"], [0.9, \"#4d9221\"], [1, \"#276419\"]], \"sequential\": [[0.0, \"#0d0887\"], [0.1111111111111111, \"#46039f\"], [0.2222222222222222, \"#7201a8\"], [0.3333333333333333, \"#9c179e\"], [0.4444444444444444, \"#bd3786\"], [0.5555555555555556, \"#d8576b\"], [0.6666666666666666, \"#ed7953\"], [0.7777777777777778, \"#fb9f3a\"], [0.8888888888888888, \"#fdca26\"], [1.0, \"#f0f921\"]], \"sequentialminus\": [[0.0, \"#0d0887\"], [0.1111111111111111, \"#46039f\"], [0.2222222222222222, \"#7201a8\"], [0.3333333333333333, \"#9c179e\"], [0.4444444444444444, \"#bd3786\"], [0.5555555555555556, \"#d8576b\"], [0.6666666666666666, \"#ed7953\"], [0.7777777777777778, \"#fb9f3a\"], [0.8888888888888888, \"#fdca26\"], [1.0, \"#f0f921\"]]}, \"colorway\": [\"#636efa\", \"#EF553B\", \"#00cc96\", \"#ab63fa\", \"#FFA15A\", \"#19d3f3\", \"#FF6692\", \"#B6E880\", \"#FF97FF\", \"#FECB52\"], \"font\": {\"color\": \"#2a3f5f\"}, \"geo\": {\"bgcolor\": \"white\", \"lakecolor\": \"white\", \"landcolor\": \"#E5ECF6\", \"showlakes\": true, \"showland\": true, \"subunitcolor\": \"white\"}, \"hoverlabel\": {\"align\": \"left\"}, \"hovermode\": \"closest\", \"mapbox\": {\"style\": \"light\"}, \"paper_bgcolor\": \"white\", \"plot_bgcolor\": \"#E5ECF6\", \"polar\": {\"angularaxis\": {\"gridcolor\": \"white\", \"linecolor\": \"white\", \"ticks\": \"\"}, \"bgcolor\": \"#E5ECF6\", \"radialaxis\": {\"gridcolor\": \"white\", \"linecolor\": \"white\", \"ticks\": \"\"}}, \"scene\": {\"xaxis\": {\"backgroundcolor\": \"#E5ECF6\", \"gridcolor\": \"white\", \"gridwidth\": 2, \"linecolor\": \"white\", \"showbackground\": true, \"ticks\": \"\", \"zerolinecolor\": \"white\"}, \"yaxis\": {\"backgroundcolor\": \"#E5ECF6\", \"gridcolor\": \"white\", \"gridwidth\": 2, \"linecolor\": \"white\", \"showbackground\": true, \"ticks\": \"\", \"zerolinecolor\": \"white\"}, \"zaxis\": {\"backgroundcolor\": \"#E5ECF6\", \"gridcolor\": \"white\", \"gridwidth\": 2, \"linecolor\": \"white\", \"showbackground\": true, \"ticks\": \"\", \"zerolinecolor\": \"white\"}}, \"shapedefaults\": {\"line\": {\"color\": \"#2a3f5f\"}}, \"ternary\": {\"aaxis\": {\"gridcolor\": \"white\", \"linecolor\": \"white\", \"ticks\": \"\"}, \"baxis\": {\"gridcolor\": \"white\", \"linecolor\": \"white\", \"ticks\": \"\"}, \"bgcolor\": \"#E5ECF6\", \"caxis\": {\"gridcolor\": \"white\", \"linecolor\": \"white\", \"ticks\": \"\"}}, \"title\": {\"x\": 0.05}, \"xaxis\": {\"automargin\": true, \"gridcolor\": \"white\", \"linecolor\": \"white\", \"ticks\": \"\", \"title\": {\"standoff\": 15}, \"zerolinecolor\": \"white\", \"zerolinewidth\": 2}, \"yaxis\": {\"automargin\": true, \"gridcolor\": \"white\", \"linecolor\": \"white\", \"ticks\": \"\", \"title\": {\"standoff\": 15}, \"zerolinecolor\": \"white\", \"zerolinewidth\": 2}}}, \"title\": {\"text\": \"n=500, m=500; lu=1, lv=0.01\"}},                        {\"responsive\": true}                    ).then(function(){\n",
       "                            \n",
       "var gd = document.getElementById('60a51595-0536-4cdd-85f9-9e230ffebb02');\n",
       "var x = new MutationObserver(function (mutations, observer) {{\n",
       "        var display = window.getComputedStyle(gd).display;\n",
       "        if (!display || display === 'none') {{\n",
       "            console.log([gd, 'removed!']);\n",
       "            Plotly.purge(gd);\n",
       "            observer.disconnect();\n",
       "        }}\n",
       "}});\n",
       "\n",
       "// Listen for the removal of the full notebook cells\n",
       "var notebookContainer = gd.closest('#notebook-container');\n",
       "if (notebookContainer) {{\n",
       "    x.observe(notebookContainer, {childList: true});\n",
       "}}\n",
       "\n",
       "// Listen for the clearing of the current output cell\n",
       "var outputEl = gd.closest('.output');\n",
       "if (outputEl) {{\n",
       "    x.observe(outputEl, {childList: true});\n",
       "}}\n",
       "\n",
       "                        })                };                });            </script>        </div>"
      ]
     },
     "metadata": {},
     "output_type": "display_data"
    }
   ],
   "source": [
    "# OVERLAP AND MSE RUN 2\n",
    "\n",
    "from plotly.subplots import make_subplots\n",
    "\n",
    "fig = make_subplots(rows=1, cols=2, specs=[[{'type': 'surface'}, {'type': 'surface'}]])\n",
    "fig.add_trace(go.Surface(z=overlap_mean_2, x=list_value_2, y=list_value_1,\n",
    "                         name=\"overlap\", showscale=False),\n",
    "             row=1, col=1)\n",
    "fig.add_trace(go.Surface(z=mse_mean_2, x=list_value_2, y=list_value_1,\n",
    "                         name=\"mse\", showscale=False, colorscale ='viridis'),\n",
    "             row=1, col=2)\n",
    "\n",
    "fig.update_layout(\n",
    "    title=f\"n={name_n_2}, m={name_m_2}; lu={lambda_u_val_2}, lv={lambda_v_val_2}\",\n",
    ")\n",
    "fig.update_layout(scene = dict(\n",
    "                    xaxis_title=name_value_2,\n",
    "                    yaxis_title=name_value_1,\n",
    "                    zaxis_title=\"overlap\"),\n",
    "                  scene2 = dict(\n",
    "                    xaxis_title=name_value_2,\n",
    "                    yaxis_title=name_value_1,\n",
    "                    zaxis_title=\"mse\"),\n",
    "               autosize=False, width=1000, height=500)\n",
    "fig.update_traces(showlegend=True)\n",
    "\n",
    "fig.show()\n",
    "path=f\"C:/Users/Admin/Desktop/n={name_n_2}_m={name_m_2}_lu={lambda_u_val_2}_lv={lambda_v_val_2}.html\"\n",
    "fig.write_html(path)"
   ]
  },
  {
   "cell_type": "code",
   "execution_count": 246,
   "metadata": {},
   "outputs": [
    {
     "data": {
      "application/vnd.plotly.v1+json": {
       "config": {
        "plotlyServerURL": "https://plot.ly"
       },
       "data": [
        {
         "name": "overlap_u",
         "scene": "scene",
         "showlegend": true,
         "showscale": false,
         "type": "surface",
         "x": [
          0.1,
          0.14677992676220694,
          0.21544346900318834,
          0.31622776601683794,
          0.46415888336127786,
          0.6812920690579611,
          1,
          1.467799267622069,
          2.1544346900318834,
          3.1622776601683795
         ],
         "y": [
          0.1,
          0.14677992676220694,
          0.21544346900318834,
          0.31622776601683794,
          0.46415888336127786,
          0.6812920690579611,
          1,
          1.467799267622069,
          2.1544346900318834,
          3.1622776601683795
         ],
         "z": [
          [
           0.012353007681667805,
           0.022520530968904495,
           0.17401866614818573,
           0.11758343875408173,
           0.07262606918811798,
           0.0724296122789383,
           0.007482004351913929,
           0.07955452799797058,
           0.12405263632535934,
           0.013292565010488033
          ],
          [
           0.002580095548182726,
           0.0921509861946106,
           0.00856279581785202,
           0.06952624022960663,
           0.10751800239086151,
           0.015262747183442116,
           0.07603369653224945,
           0.021222516894340515,
           0.034018587321043015,
           0.0921127200126648
          ],
          [
           0.19137810170650482,
           0.08595947176218033,
           0.07895639538764954,
           0.006288215052336454,
           0.0019738292321562767,
           0.010740518569946289,
           0.15140412747859955,
           0.14151102304458618,
           0.20836032927036285,
           0.01448568794876337
          ],
          [
           0.07105661183595657,
           0.1374635547399521,
           0.058245860040187836,
           0.03140667825937271,
           0.14218342304229736,
           0.057149410247802734,
           0.3172167241573334,
           0.19886642694473267,
           0.13208504021167755,
           0.07824709266424179
          ],
          [
           0.11426316201686859,
           0.10807150602340698,
           0.013740922324359417,
           0.14449407160282135,
           0.08265095949172974,
           0.11417394876480103,
           0.35591208934783936,
           0.2870202362537384,
           0.28927817940711975,
           0.4960167706012726
          ],
          [
           0.05017794668674469,
           0.1561737209558487,
           0.0798707902431488,
           0.28613004088401794,
           0.1358243077993393,
           0.5885559320449829,
           0.485185444355011,
           0.36188429594039917,
           0.37521880865097046,
           0.5060626864433289
          ],
          [
           0.014834434725344181,
           0.03399789705872536,
           0.07479289174079895,
           0.41460976004600525,
           0.14635276794433594,
           0.3278028070926666,
           0.5112839341163635,
           0.5977568030357361,
           0.698767900466919,
           0.09445598721504211
          ],
          [
           0.31200549006462097,
           0.0065655517391860485,
           0.24444885551929474,
           0.4358746409416199,
           0.5110800266265869,
           0.3988998532295227,
           0.5083143711090088,
           0.5767132043838501,
           0.573743462562561,
           0.561604917049408
          ],
          [
           0.09342800080776215,
           0.44589829444885254,
           0.4279979467391968,
           0.4640394449234009,
           0.017499150708317757,
           0.4545484185218811,
           0.6093012094497681,
           0.30592089891433716,
           0.5132089853286743,
           0.6056563854217529
          ],
          [
           0.24220815300941467,
           0.571159839630127,
           0.2246914654970169,
           0.660797119140625,
           0.5824543237686157,
           0.011169902980327606,
           0.6387822031974792,
           0.6575275659561157,
           0.6053555607795715,
           0.1568842977285385
          ]
         ]
        },
        {
         "name": "overlap_v",
         "opacity": 0.9,
         "scene": "scene",
         "showlegend": true,
         "showscale": false,
         "type": "surface",
         "x": [
          0.1,
          0.14677992676220694,
          0.21544346900318834,
          0.31622776601683794,
          0.46415888336127786,
          0.6812920690579611,
          1,
          1.467799267622069,
          2.1544346900318834,
          3.1622776601683795
         ],
         "y": [
          0.1,
          0.14677992676220694,
          0.21544346900318834,
          0.31622776601683794,
          0.46415888336127786,
          0.6812920690579611,
          1,
          1.467799267622069,
          2.1544346900318834,
          3.1622776601683795
         ],
         "z": [
          [
           0.011876046657562256,
           0.01821858435869217,
           0.059889402240514755,
           0.09189272671937943,
           0.11131840944290161,
           0.06115048751235008,
           0.06647227704524994,
           0.04063919931650162,
           0.0662674531340599,
           0.0822913646697998
          ],
          [
           0.06045445427298546,
           0.09424196183681488,
           0.037269581109285355,
           0.09963254630565643,
           0.10926345735788345,
           0.02425113134086132,
           0.12179357558488846,
           0.24730680882930756,
           0.19003447890281677,
           0.051786214113235474
          ],
          [
           0.01779288239777088,
           0.09131903946399689,
           0.018717234954237938,
           0.2654542028903961,
           0.018160579726099968,
           0.15767008066177368,
           0.25232017040252686,
           0.30033087730407715,
           0.10566408932209015,
           0.47474560141563416
          ],
          [
           0.05981152877211571,
           0.03708499297499657,
           0.0225042924284935,
           0.14605851471424103,
           0.16577735543251038,
           0.1706688553094864,
           0.39576780796051025,
           0.556786060333252,
           0.19281604886054993,
           0.1871722936630249
          ],
          [
           0.011571014299988747,
           0.13469643890857697,
           0.06828837096691132,
           0.07512783259153366,
           0.07604112476110458,
           0.14163602888584137,
           0.4608287811279297,
           0.33053815364837646,
           0.3853341341018677,
           0.4986399710178375
          ],
          [
           0.02361931838095188,
           0.10411395877599716,
           0.03824009746313095,
           0.23156970739364624,
           0.06843161582946777,
           0.38755226135253906,
           0.4386322796344757,
           0.4673084318637848,
           0.5137999653816223,
           0.6227394342422485
          ],
          [
           0.034221094101667404,
           0.11400739848613739,
           0.26881730556488037,
           0.22794674336910248,
           0.06547600775957108,
           0.17928151786327362,
           0.48076561093330383,
           0.6806728839874268,
           0.7414447069168091,
           0.023326624184846878
          ],
          [
           0.1595652997493744,
           0.17184686660766602,
           0.10476278513669968,
           0.3081037104129791,
           0.3412020802497864,
           0.38592529296875,
           0.5171607732772827,
           0.6113447546958923,
           0.6191902160644531,
           0.5633131265640259
          ],
          [
           0.02818738855421543,
           0.09996619075536728,
           0.2089865803718567,
           0.31333455443382263,
           0.09848830103874207,
           0.28048986196517944,
           0.6587995290756226,
           0.3545818328857422,
           0.5901061296463013,
           0.6310241222381592
          ],
          [
           0.07919976860284805,
           0.26375046372413635,
           0.0271719079464674,
           0.44703197479248047,
           0.49617767333984375,
           0.0442059226334095,
           0.6668215990066528,
           0.7291612029075623,
           0.6008584499359131,
           0.15351718664169312
          ]
         ]
        },
        {
         "colorscale": [
          [
           0,
           "#440154"
          ],
          [
           0.1111111111111111,
           "#482878"
          ],
          [
           0.2222222222222222,
           "#3e4989"
          ],
          [
           0.3333333333333333,
           "#31688e"
          ],
          [
           0.4444444444444444,
           "#26828e"
          ],
          [
           0.5555555555555556,
           "#1f9e89"
          ],
          [
           0.6666666666666666,
           "#35b779"
          ],
          [
           0.7777777777777778,
           "#6ece58"
          ],
          [
           0.8888888888888888,
           "#b5de2b"
          ],
          [
           1,
           "#fde725"
          ]
         ],
         "name": "mse_u",
         "scene": "scene2",
         "showlegend": true,
         "showscale": false,
         "type": "surface",
         "x": [
          0.1,
          0.14677992676220694,
          0.21544346900318834,
          0.31622776601683794,
          0.46415888336127786,
          0.6812920690579611,
          1,
          1.467799267622069,
          2.1544346900318834,
          3.1622776601683795
         ],
         "y": [
          0.1,
          0.14677992676220694,
          0.21544346900318834,
          0.31622776601683794,
          0.46415888336127786,
          0.6812920690579611,
          1,
          1.467799267622069,
          2.1544346900318834,
          3.1622776601683795
         ],
         "z": [
          [
           1.9752938747406006,
           1.9549589157104492,
           1.6519626379013062,
           1.7648330926895142,
           1.8547478914260864,
           1.8551406860351562,
           1.985036015510559,
           1.8408907651901245,
           1.751894474029541,
           1.9734152555465698
          ],
          [
           1.9948399066925049,
           1.815698266029358,
           1.9828741550445557,
           1.860948085784912,
           1.784963846206665,
           1.9694746732711792,
           1.8479326963424683,
           1.957554817199707,
           1.9319632053375244,
           1.8157747983932495
          ],
          [
           1.6172436475753784,
           1.828080415725708,
           1.8420872688293457,
           1.9874236583709717,
           1.9960523843765259,
           1.9785187244415283,
           1.6971914768218994,
           1.7169781923294067,
           1.5832793712615967,
           1.9710289239883423
          ],
          [
           1.8578869104385376,
           1.7250730991363525,
           1.8835082054138184,
           1.9371864795684814,
           1.715633511543274,
           1.8857014179229736,
           1.3655658960342407,
           1.6022671461105347,
           1.7358298301696777,
           1.843505859375
          ],
          [
           1.7714735269546509,
           1.7838571071624756,
           1.9725183248519897,
           1.7110121250152588,
           1.8346978425979614,
           1.7716522216796875,
           1.2881757020950317,
           1.4259599447250366,
           1.4214434623718262,
           1.0079665184020996
          ],
          [
           1.899644136428833,
           1.6876521110534668,
           1.8402583599090576,
           1.4277398586273193,
           1.72835111618042,
           0.822888195514679,
           1.0296292304992676,
           1.2762316465377808,
           1.2495619058609009,
           0.9878746867179871
          ],
          [
           1.970331072807312,
           1.932004451751709,
           1.8504142761230469,
           1.1707805395126343,
           1.7072943449020386,
           1.3443946838378906,
           0.9774324297904968,
           0.8044865131378174,
           0.6024643778800964,
           1.81108820438385
          ],
          [
           1.3759887218475342,
           1.9868687391281128,
           1.511102318763733,
           1.1282503604888916,
           0.9778398275375366,
           1.2022002935409546,
           0.983371913433075,
           0.8465740084648132,
           0.8525129556655884,
           0.8767901659011841
          ],
          [
           1.8131440877914429,
           1.1082035303115845,
           1.144004225730896,
           1.0719211101531982,
           1.9650015830993652,
           1.0909031629562378,
           0.7813971042633057,
           1.3881580829620361,
           0.9735819101333618,
           0.7886866927146912
          ],
          [
           1.5155836343765259,
           0.857680082321167,
           1.5506168603897095,
           0.6784059405326843,
           0.8350914120674133,
           1.977660059928894,
           0.7224360108375549,
           0.6849449276924133,
           0.7892892360687256,
           1.686231255531311
          ]
         ]
        },
        {
         "colorscale": [
          [
           0,
           "#440154"
          ],
          [
           0.1111111111111111,
           "#482878"
          ],
          [
           0.2222222222222222,
           "#3e4989"
          ],
          [
           0.3333333333333333,
           "#31688e"
          ],
          [
           0.4444444444444444,
           "#26828e"
          ],
          [
           0.5555555555555556,
           "#1f9e89"
          ],
          [
           0.6666666666666666,
           "#35b779"
          ],
          [
           0.7777777777777778,
           "#6ece58"
          ],
          [
           0.8888888888888888,
           "#b5de2b"
          ],
          [
           1,
           "#fde725"
          ]
         ],
         "name": "mse_v",
         "opacity": 0.9,
         "scene": "scene2",
         "showlegend": true,
         "showscale": false,
         "type": "surface",
         "x": [
          0.1,
          0.14677992676220694,
          0.21544346900318834,
          0.31622776601683794,
          0.46415888336127786,
          0.6812920690579611,
          1,
          1.467799267622069,
          2.1544346900318834,
          3.1622776601683795
         ],
         "y": [
          0.1,
          0.14677992676220694,
          0.21544346900318834,
          0.31622776601683794,
          0.46415888336127786,
          0.6812920690579611,
          1,
          1.467799267622069,
          2.1544346900318834,
          3.1622776601683795
         ],
         "z": [
          [
           1.9762476682662964,
           1.9635626077651978,
           1.8802211284637451,
           1.8162145614624023,
           1.7773629426956177,
           1.8776990175247192,
           1.8670554161071777,
           1.9187219142913818,
           1.8674652576446533,
           1.8354171514511108
          ],
          [
           1.8790910243988037,
           1.8115161657333374,
           1.9254604578018188,
           1.8007348775863647,
           1.7814733982086182,
           1.9514977931976318,
           1.7564128637313843,
           1.5053863525390625,
           1.6199313402175903,
           1.8964275121688843
          ],
          [
           1.9644142389297485,
           1.8173619508743286,
           1.9625657796859741,
           1.4690912961959839,
           1.9636788368225098,
           1.684659481048584,
           1.4953596591949463,
           1.3993384838104248,
           1.7886719703674316,
           1.050508975982666
          ],
          [
           1.8803770542144775,
           1.9258298873901367,
           1.9549915790557861,
           1.7078828811645508,
           1.6684452295303345,
           1.6586620807647705,
           1.2084643840789795,
           0.8864278197288513,
           1.6143680810928345,
           1.6256555318832397
          ],
          [
           1.9768582582473755,
           1.7306067943572998,
           1.8634227514266968,
           1.8497445583343506,
           1.847917914390564,
           1.71672785282135,
           1.0783427953720093,
           1.3389238119125366,
           1.229331612586975,
           1.002719759941101
          ],
          [
           1.952761173248291,
           1.7917715311050415,
           1.923519253730774,
           1.5368610620498657,
           1.863136887550354,
           1.2248951196670532,
           1.1227357387542725,
           1.0653833150863647,
           0.9724000692367554,
           0.7545212507247925
          ],
          [
           1.9315578937530518,
           1.7719852924346924,
           1.462365746498108,
           1.5441062450408936,
           1.8690481185913086,
           1.6414368152618408,
           1.0384691953659058,
           0.6386541128158569,
           0.5171103477478027,
           1.9533467292785645
          ],
          [
           1.6808688640594482,
           1.6563066244125366,
           1.7904740571975708,
           1.3837929964065552,
           1.3175958395004272,
           1.2281495332717896,
           0.9656784534454346,
           0.7773104906082153,
           0.7616197466850281,
           0.8733738660812378
          ],
          [
           1.9436248540878296,
           1.8000677824020386,
           1.5820269584655762,
           1.3733309507369995,
           1.803023338317871,
           1.4390203952789307,
           0.6824010610580444,
           1.290836215019226,
           0.8197882175445557,
           0.7379512786865234
          ],
          [
           1.8416002988815308,
           1.472499132156372,
           1.9456559419631958,
           1.1059361696243286,
           1.0076448917388916,
           1.911588191986084,
           0.6663572192192078,
           0.5416775345802307,
           0.7982828617095947,
           1.6929653882980347
          ]
         ]
        }
       ],
       "layout": {
        "scene": {
         "domain": {
          "x": [
           0,
           0.45
          ],
          "y": [
           0,
           1
          ]
         },
         "xaxis": {
          "title": {
           "text": "beta_v"
          }
         },
         "yaxis": {
          "title": {
           "text": "beta_u"
          }
         },
         "zaxis": {
          "title": {
           "text": "overlap"
          }
         }
        },
        "scene2": {
         "domain": {
          "x": [
           0.55,
           1
          ],
          "y": [
           0,
           1
          ]
         }
        },
        "template": {
         "data": {
          "bar": [
           {
            "error_x": {
             "color": "#2a3f5f"
            },
            "error_y": {
             "color": "#2a3f5f"
            },
            "marker": {
             "line": {
              "color": "#E5ECF6",
              "width": 0.5
             }
            },
            "type": "bar"
           }
          ],
          "barpolar": [
           {
            "marker": {
             "line": {
              "color": "#E5ECF6",
              "width": 0.5
             }
            },
            "type": "barpolar"
           }
          ],
          "carpet": [
           {
            "aaxis": {
             "endlinecolor": "#2a3f5f",
             "gridcolor": "white",
             "linecolor": "white",
             "minorgridcolor": "white",
             "startlinecolor": "#2a3f5f"
            },
            "baxis": {
             "endlinecolor": "#2a3f5f",
             "gridcolor": "white",
             "linecolor": "white",
             "minorgridcolor": "white",
             "startlinecolor": "#2a3f5f"
            },
            "type": "carpet"
           }
          ],
          "choropleth": [
           {
            "colorbar": {
             "outlinewidth": 0,
             "ticks": ""
            },
            "type": "choropleth"
           }
          ],
          "contour": [
           {
            "colorbar": {
             "outlinewidth": 0,
             "ticks": ""
            },
            "colorscale": [
             [
              0,
              "#0d0887"
             ],
             [
              0.1111111111111111,
              "#46039f"
             ],
             [
              0.2222222222222222,
              "#7201a8"
             ],
             [
              0.3333333333333333,
              "#9c179e"
             ],
             [
              0.4444444444444444,
              "#bd3786"
             ],
             [
              0.5555555555555556,
              "#d8576b"
             ],
             [
              0.6666666666666666,
              "#ed7953"
             ],
             [
              0.7777777777777778,
              "#fb9f3a"
             ],
             [
              0.8888888888888888,
              "#fdca26"
             ],
             [
              1,
              "#f0f921"
             ]
            ],
            "type": "contour"
           }
          ],
          "contourcarpet": [
           {
            "colorbar": {
             "outlinewidth": 0,
             "ticks": ""
            },
            "type": "contourcarpet"
           }
          ],
          "heatmap": [
           {
            "colorbar": {
             "outlinewidth": 0,
             "ticks": ""
            },
            "colorscale": [
             [
              0,
              "#0d0887"
             ],
             [
              0.1111111111111111,
              "#46039f"
             ],
             [
              0.2222222222222222,
              "#7201a8"
             ],
             [
              0.3333333333333333,
              "#9c179e"
             ],
             [
              0.4444444444444444,
              "#bd3786"
             ],
             [
              0.5555555555555556,
              "#d8576b"
             ],
             [
              0.6666666666666666,
              "#ed7953"
             ],
             [
              0.7777777777777778,
              "#fb9f3a"
             ],
             [
              0.8888888888888888,
              "#fdca26"
             ],
             [
              1,
              "#f0f921"
             ]
            ],
            "type": "heatmap"
           }
          ],
          "heatmapgl": [
           {
            "colorbar": {
             "outlinewidth": 0,
             "ticks": ""
            },
            "colorscale": [
             [
              0,
              "#0d0887"
             ],
             [
              0.1111111111111111,
              "#46039f"
             ],
             [
              0.2222222222222222,
              "#7201a8"
             ],
             [
              0.3333333333333333,
              "#9c179e"
             ],
             [
              0.4444444444444444,
              "#bd3786"
             ],
             [
              0.5555555555555556,
              "#d8576b"
             ],
             [
              0.6666666666666666,
              "#ed7953"
             ],
             [
              0.7777777777777778,
              "#fb9f3a"
             ],
             [
              0.8888888888888888,
              "#fdca26"
             ],
             [
              1,
              "#f0f921"
             ]
            ],
            "type": "heatmapgl"
           }
          ],
          "histogram": [
           {
            "marker": {
             "colorbar": {
              "outlinewidth": 0,
              "ticks": ""
             }
            },
            "type": "histogram"
           }
          ],
          "histogram2d": [
           {
            "colorbar": {
             "outlinewidth": 0,
             "ticks": ""
            },
            "colorscale": [
             [
              0,
              "#0d0887"
             ],
             [
              0.1111111111111111,
              "#46039f"
             ],
             [
              0.2222222222222222,
              "#7201a8"
             ],
             [
              0.3333333333333333,
              "#9c179e"
             ],
             [
              0.4444444444444444,
              "#bd3786"
             ],
             [
              0.5555555555555556,
              "#d8576b"
             ],
             [
              0.6666666666666666,
              "#ed7953"
             ],
             [
              0.7777777777777778,
              "#fb9f3a"
             ],
             [
              0.8888888888888888,
              "#fdca26"
             ],
             [
              1,
              "#f0f921"
             ]
            ],
            "type": "histogram2d"
           }
          ],
          "histogram2dcontour": [
           {
            "colorbar": {
             "outlinewidth": 0,
             "ticks": ""
            },
            "colorscale": [
             [
              0,
              "#0d0887"
             ],
             [
              0.1111111111111111,
              "#46039f"
             ],
             [
              0.2222222222222222,
              "#7201a8"
             ],
             [
              0.3333333333333333,
              "#9c179e"
             ],
             [
              0.4444444444444444,
              "#bd3786"
             ],
             [
              0.5555555555555556,
              "#d8576b"
             ],
             [
              0.6666666666666666,
              "#ed7953"
             ],
             [
              0.7777777777777778,
              "#fb9f3a"
             ],
             [
              0.8888888888888888,
              "#fdca26"
             ],
             [
              1,
              "#f0f921"
             ]
            ],
            "type": "histogram2dcontour"
           }
          ],
          "mesh3d": [
           {
            "colorbar": {
             "outlinewidth": 0,
             "ticks": ""
            },
            "type": "mesh3d"
           }
          ],
          "parcoords": [
           {
            "line": {
             "colorbar": {
              "outlinewidth": 0,
              "ticks": ""
             }
            },
            "type": "parcoords"
           }
          ],
          "pie": [
           {
            "automargin": true,
            "type": "pie"
           }
          ],
          "scatter": [
           {
            "marker": {
             "colorbar": {
              "outlinewidth": 0,
              "ticks": ""
             }
            },
            "type": "scatter"
           }
          ],
          "scatter3d": [
           {
            "line": {
             "colorbar": {
              "outlinewidth": 0,
              "ticks": ""
             }
            },
            "marker": {
             "colorbar": {
              "outlinewidth": 0,
              "ticks": ""
             }
            },
            "type": "scatter3d"
           }
          ],
          "scattercarpet": [
           {
            "marker": {
             "colorbar": {
              "outlinewidth": 0,
              "ticks": ""
             }
            },
            "type": "scattercarpet"
           }
          ],
          "scattergeo": [
           {
            "marker": {
             "colorbar": {
              "outlinewidth": 0,
              "ticks": ""
             }
            },
            "type": "scattergeo"
           }
          ],
          "scattergl": [
           {
            "marker": {
             "colorbar": {
              "outlinewidth": 0,
              "ticks": ""
             }
            },
            "type": "scattergl"
           }
          ],
          "scattermapbox": [
           {
            "marker": {
             "colorbar": {
              "outlinewidth": 0,
              "ticks": ""
             }
            },
            "type": "scattermapbox"
           }
          ],
          "scatterpolar": [
           {
            "marker": {
             "colorbar": {
              "outlinewidth": 0,
              "ticks": ""
             }
            },
            "type": "scatterpolar"
           }
          ],
          "scatterpolargl": [
           {
            "marker": {
             "colorbar": {
              "outlinewidth": 0,
              "ticks": ""
             }
            },
            "type": "scatterpolargl"
           }
          ],
          "scatterternary": [
           {
            "marker": {
             "colorbar": {
              "outlinewidth": 0,
              "ticks": ""
             }
            },
            "type": "scatterternary"
           }
          ],
          "surface": [
           {
            "colorbar": {
             "outlinewidth": 0,
             "ticks": ""
            },
            "colorscale": [
             [
              0,
              "#0d0887"
             ],
             [
              0.1111111111111111,
              "#46039f"
             ],
             [
              0.2222222222222222,
              "#7201a8"
             ],
             [
              0.3333333333333333,
              "#9c179e"
             ],
             [
              0.4444444444444444,
              "#bd3786"
             ],
             [
              0.5555555555555556,
              "#d8576b"
             ],
             [
              0.6666666666666666,
              "#ed7953"
             ],
             [
              0.7777777777777778,
              "#fb9f3a"
             ],
             [
              0.8888888888888888,
              "#fdca26"
             ],
             [
              1,
              "#f0f921"
             ]
            ],
            "type": "surface"
           }
          ],
          "table": [
           {
            "cells": {
             "fill": {
              "color": "#EBF0F8"
             },
             "line": {
              "color": "white"
             }
            },
            "header": {
             "fill": {
              "color": "#C8D4E3"
             },
             "line": {
              "color": "white"
             }
            },
            "type": "table"
           }
          ]
         },
         "layout": {
          "annotationdefaults": {
           "arrowcolor": "#2a3f5f",
           "arrowhead": 0,
           "arrowwidth": 1
          },
          "autotypenumbers": "strict",
          "coloraxis": {
           "colorbar": {
            "outlinewidth": 0,
            "ticks": ""
           }
          },
          "colorscale": {
           "diverging": [
            [
             0,
             "#8e0152"
            ],
            [
             0.1,
             "#c51b7d"
            ],
            [
             0.2,
             "#de77ae"
            ],
            [
             0.3,
             "#f1b6da"
            ],
            [
             0.4,
             "#fde0ef"
            ],
            [
             0.5,
             "#f7f7f7"
            ],
            [
             0.6,
             "#e6f5d0"
            ],
            [
             0.7,
             "#b8e186"
            ],
            [
             0.8,
             "#7fbc41"
            ],
            [
             0.9,
             "#4d9221"
            ],
            [
             1,
             "#276419"
            ]
           ],
           "sequential": [
            [
             0,
             "#0d0887"
            ],
            [
             0.1111111111111111,
             "#46039f"
            ],
            [
             0.2222222222222222,
             "#7201a8"
            ],
            [
             0.3333333333333333,
             "#9c179e"
            ],
            [
             0.4444444444444444,
             "#bd3786"
            ],
            [
             0.5555555555555556,
             "#d8576b"
            ],
            [
             0.6666666666666666,
             "#ed7953"
            ],
            [
             0.7777777777777778,
             "#fb9f3a"
            ],
            [
             0.8888888888888888,
             "#fdca26"
            ],
            [
             1,
             "#f0f921"
            ]
           ],
           "sequentialminus": [
            [
             0,
             "#0d0887"
            ],
            [
             0.1111111111111111,
             "#46039f"
            ],
            [
             0.2222222222222222,
             "#7201a8"
            ],
            [
             0.3333333333333333,
             "#9c179e"
            ],
            [
             0.4444444444444444,
             "#bd3786"
            ],
            [
             0.5555555555555556,
             "#d8576b"
            ],
            [
             0.6666666666666666,
             "#ed7953"
            ],
            [
             0.7777777777777778,
             "#fb9f3a"
            ],
            [
             0.8888888888888888,
             "#fdca26"
            ],
            [
             1,
             "#f0f921"
            ]
           ]
          },
          "colorway": [
           "#636efa",
           "#EF553B",
           "#00cc96",
           "#ab63fa",
           "#FFA15A",
           "#19d3f3",
           "#FF6692",
           "#B6E880",
           "#FF97FF",
           "#FECB52"
          ],
          "font": {
           "color": "#2a3f5f"
          },
          "geo": {
           "bgcolor": "white",
           "lakecolor": "white",
           "landcolor": "#E5ECF6",
           "showlakes": true,
           "showland": true,
           "subunitcolor": "white"
          },
          "hoverlabel": {
           "align": "left"
          },
          "hovermode": "closest",
          "mapbox": {
           "style": "light"
          },
          "paper_bgcolor": "white",
          "plot_bgcolor": "#E5ECF6",
          "polar": {
           "angularaxis": {
            "gridcolor": "white",
            "linecolor": "white",
            "ticks": ""
           },
           "bgcolor": "#E5ECF6",
           "radialaxis": {
            "gridcolor": "white",
            "linecolor": "white",
            "ticks": ""
           }
          },
          "scene": {
           "xaxis": {
            "backgroundcolor": "#E5ECF6",
            "gridcolor": "white",
            "gridwidth": 2,
            "linecolor": "white",
            "showbackground": true,
            "ticks": "",
            "zerolinecolor": "white"
           },
           "yaxis": {
            "backgroundcolor": "#E5ECF6",
            "gridcolor": "white",
            "gridwidth": 2,
            "linecolor": "white",
            "showbackground": true,
            "ticks": "",
            "zerolinecolor": "white"
           },
           "zaxis": {
            "backgroundcolor": "#E5ECF6",
            "gridcolor": "white",
            "gridwidth": 2,
            "linecolor": "white",
            "showbackground": true,
            "ticks": "",
            "zerolinecolor": "white"
           }
          },
          "shapedefaults": {
           "line": {
            "color": "#2a3f5f"
           }
          },
          "ternary": {
           "aaxis": {
            "gridcolor": "white",
            "linecolor": "white",
            "ticks": ""
           },
           "baxis": {
            "gridcolor": "white",
            "linecolor": "white",
            "ticks": ""
           },
           "bgcolor": "#E5ECF6",
           "caxis": {
            "gridcolor": "white",
            "linecolor": "white",
            "ticks": ""
           }
          },
          "title": {
           "x": 0.05
          },
          "xaxis": {
           "automargin": true,
           "gridcolor": "white",
           "linecolor": "white",
           "ticks": "",
           "title": {
            "standoff": 15
           },
           "zerolinecolor": "white",
           "zerolinewidth": 2
          },
          "yaxis": {
           "automargin": true,
           "gridcolor": "white",
           "linecolor": "white",
           "ticks": "",
           "title": {
            "standoff": 15
           },
           "zerolinecolor": "white",
           "zerolinewidth": 2
          }
         }
        },
        "title": {
         "text": "n=500, m=500; lu=1, lv=1"
        }
       }
      },
      "text/html": [
       "<div>                            <div id=\"d654b35d-c2be-46d8-817d-94ab456abc73\" class=\"plotly-graph-div\" style=\"height:525px; width:100%;\"></div>            <script type=\"text/javascript\">                require([\"plotly\"], function(Plotly) {                    window.PLOTLYENV=window.PLOTLYENV || {};                                    if (document.getElementById(\"d654b35d-c2be-46d8-817d-94ab456abc73\")) {                    Plotly.newPlot(                        \"d654b35d-c2be-46d8-817d-94ab456abc73\",                        [{\"name\": \"overlap_u\", \"scene\": \"scene\", \"showlegend\": true, \"showscale\": false, \"type\": \"surface\", \"x\": [0.1, 0.14677992676220694, 0.21544346900318834, 0.31622776601683794, 0.46415888336127786, 0.6812920690579611, 1.0, 1.467799267622069, 2.1544346900318834, 3.1622776601683795], \"y\": [0.1, 0.14677992676220694, 0.21544346900318834, 0.31622776601683794, 0.46415888336127786, 0.6812920690579611, 1.0, 1.467799267622069, 2.1544346900318834, 3.1622776601683795], \"z\": [[0.012353007681667805, 0.022520530968904495, 0.17401866614818573, 0.11758343875408173, 0.07262606918811798, 0.0724296122789383, 0.007482004351913929, 0.07955452799797058, 0.12405263632535934, 0.013292565010488033], [0.002580095548182726, 0.0921509861946106, 0.00856279581785202, 0.06952624022960663, 0.10751800239086151, 0.015262747183442116, 0.07603369653224945, 0.021222516894340515, 0.034018587321043015, 0.0921127200126648], [0.19137810170650482, 0.08595947176218033, 0.07895639538764954, 0.006288215052336454, 0.0019738292321562767, 0.010740518569946289, 0.15140412747859955, 0.14151102304458618, 0.20836032927036285, 0.01448568794876337], [0.07105661183595657, 0.1374635547399521, 0.058245860040187836, 0.03140667825937271, 0.14218342304229736, 0.057149410247802734, 0.3172167241573334, 0.19886642694473267, 0.13208504021167755, 0.07824709266424179], [0.11426316201686859, 0.10807150602340698, 0.013740922324359417, 0.14449407160282135, 0.08265095949172974, 0.11417394876480103, 0.35591208934783936, 0.2870202362537384, 0.28927817940711975, 0.4960167706012726], [0.05017794668674469, 0.1561737209558487, 0.0798707902431488, 0.28613004088401794, 0.1358243077993393, 0.5885559320449829, 0.485185444355011, 0.36188429594039917, 0.37521880865097046, 0.5060626864433289], [0.014834434725344181, 0.03399789705872536, 0.07479289174079895, 0.41460976004600525, 0.14635276794433594, 0.3278028070926666, 0.5112839341163635, 0.5977568030357361, 0.698767900466919, 0.09445598721504211], [0.31200549006462097, 0.0065655517391860485, 0.24444885551929474, 0.4358746409416199, 0.5110800266265869, 0.3988998532295227, 0.5083143711090088, 0.5767132043838501, 0.573743462562561, 0.561604917049408], [0.09342800080776215, 0.44589829444885254, 0.4279979467391968, 0.4640394449234009, 0.017499150708317757, 0.4545484185218811, 0.6093012094497681, 0.30592089891433716, 0.5132089853286743, 0.6056563854217529], [0.24220815300941467, 0.571159839630127, 0.2246914654970169, 0.660797119140625, 0.5824543237686157, 0.011169902980327606, 0.6387822031974792, 0.6575275659561157, 0.6053555607795715, 0.1568842977285385]]}, {\"name\": \"overlap_v\", \"opacity\": 0.9, \"scene\": \"scene\", \"showlegend\": true, \"showscale\": false, \"type\": \"surface\", \"x\": [0.1, 0.14677992676220694, 0.21544346900318834, 0.31622776601683794, 0.46415888336127786, 0.6812920690579611, 1.0, 1.467799267622069, 2.1544346900318834, 3.1622776601683795], \"y\": [0.1, 0.14677992676220694, 0.21544346900318834, 0.31622776601683794, 0.46415888336127786, 0.6812920690579611, 1.0, 1.467799267622069, 2.1544346900318834, 3.1622776601683795], \"z\": [[0.011876046657562256, 0.01821858435869217, 0.059889402240514755, 0.09189272671937943, 0.11131840944290161, 0.06115048751235008, 0.06647227704524994, 0.04063919931650162, 0.0662674531340599, 0.0822913646697998], [0.06045445427298546, 0.09424196183681488, 0.037269581109285355, 0.09963254630565643, 0.10926345735788345, 0.02425113134086132, 0.12179357558488846, 0.24730680882930756, 0.19003447890281677, 0.051786214113235474], [0.01779288239777088, 0.09131903946399689, 0.018717234954237938, 0.2654542028903961, 0.018160579726099968, 0.15767008066177368, 0.25232017040252686, 0.30033087730407715, 0.10566408932209015, 0.47474560141563416], [0.05981152877211571, 0.03708499297499657, 0.0225042924284935, 0.14605851471424103, 0.16577735543251038, 0.1706688553094864, 0.39576780796051025, 0.556786060333252, 0.19281604886054993, 0.1871722936630249], [0.011571014299988747, 0.13469643890857697, 0.06828837096691132, 0.07512783259153366, 0.07604112476110458, 0.14163602888584137, 0.4608287811279297, 0.33053815364837646, 0.3853341341018677, 0.4986399710178375], [0.02361931838095188, 0.10411395877599716, 0.03824009746313095, 0.23156970739364624, 0.06843161582946777, 0.38755226135253906, 0.4386322796344757, 0.4673084318637848, 0.5137999653816223, 0.6227394342422485], [0.034221094101667404, 0.11400739848613739, 0.26881730556488037, 0.22794674336910248, 0.06547600775957108, 0.17928151786327362, 0.48076561093330383, 0.6806728839874268, 0.7414447069168091, 0.023326624184846878], [0.1595652997493744, 0.17184686660766602, 0.10476278513669968, 0.3081037104129791, 0.3412020802497864, 0.38592529296875, 0.5171607732772827, 0.6113447546958923, 0.6191902160644531, 0.5633131265640259], [0.02818738855421543, 0.09996619075536728, 0.2089865803718567, 0.31333455443382263, 0.09848830103874207, 0.28048986196517944, 0.6587995290756226, 0.3545818328857422, 0.5901061296463013, 0.6310241222381592], [0.07919976860284805, 0.26375046372413635, 0.0271719079464674, 0.44703197479248047, 0.49617767333984375, 0.0442059226334095, 0.6668215990066528, 0.7291612029075623, 0.6008584499359131, 0.15351718664169312]]}, {\"colorscale\": [[0.0, \"#440154\"], [0.1111111111111111, \"#482878\"], [0.2222222222222222, \"#3e4989\"], [0.3333333333333333, \"#31688e\"], [0.4444444444444444, \"#26828e\"], [0.5555555555555556, \"#1f9e89\"], [0.6666666666666666, \"#35b779\"], [0.7777777777777778, \"#6ece58\"], [0.8888888888888888, \"#b5de2b\"], [1.0, \"#fde725\"]], \"name\": \"mse_u\", \"scene\": \"scene2\", \"showlegend\": true, \"showscale\": false, \"type\": \"surface\", \"x\": [0.1, 0.14677992676220694, 0.21544346900318834, 0.31622776601683794, 0.46415888336127786, 0.6812920690579611, 1.0, 1.467799267622069, 2.1544346900318834, 3.1622776601683795], \"y\": [0.1, 0.14677992676220694, 0.21544346900318834, 0.31622776601683794, 0.46415888336127786, 0.6812920690579611, 1.0, 1.467799267622069, 2.1544346900318834, 3.1622776601683795], \"z\": [[1.9752938747406006, 1.9549589157104492, 1.6519626379013062, 1.7648330926895142, 1.8547478914260864, 1.8551406860351562, 1.985036015510559, 1.8408907651901245, 1.751894474029541, 1.9734152555465698], [1.9948399066925049, 1.815698266029358, 1.9828741550445557, 1.860948085784912, 1.784963846206665, 1.9694746732711792, 1.8479326963424683, 1.957554817199707, 1.9319632053375244, 1.8157747983932495], [1.6172436475753784, 1.828080415725708, 1.8420872688293457, 1.9874236583709717, 1.9960523843765259, 1.9785187244415283, 1.6971914768218994, 1.7169781923294067, 1.5832793712615967, 1.9710289239883423], [1.8578869104385376, 1.7250730991363525, 1.8835082054138184, 1.9371864795684814, 1.715633511543274, 1.8857014179229736, 1.3655658960342407, 1.6022671461105347, 1.7358298301696777, 1.843505859375], [1.7714735269546509, 1.7838571071624756, 1.9725183248519897, 1.7110121250152588, 1.8346978425979614, 1.7716522216796875, 1.2881757020950317, 1.4259599447250366, 1.4214434623718262, 1.0079665184020996], [1.899644136428833, 1.6876521110534668, 1.8402583599090576, 1.4277398586273193, 1.72835111618042, 0.822888195514679, 1.0296292304992676, 1.2762316465377808, 1.2495619058609009, 0.9878746867179871], [1.970331072807312, 1.932004451751709, 1.8504142761230469, 1.1707805395126343, 1.7072943449020386, 1.3443946838378906, 0.9774324297904968, 0.8044865131378174, 0.6024643778800964, 1.81108820438385], [1.3759887218475342, 1.9868687391281128, 1.511102318763733, 1.1282503604888916, 0.9778398275375366, 1.2022002935409546, 0.983371913433075, 0.8465740084648132, 0.8525129556655884, 0.8767901659011841], [1.8131440877914429, 1.1082035303115845, 1.144004225730896, 1.0719211101531982, 1.9650015830993652, 1.0909031629562378, 0.7813971042633057, 1.3881580829620361, 0.9735819101333618, 0.7886866927146912], [1.5155836343765259, 0.857680082321167, 1.5506168603897095, 0.6784059405326843, 0.8350914120674133, 1.977660059928894, 0.7224360108375549, 0.6849449276924133, 0.7892892360687256, 1.686231255531311]]}, {\"colorscale\": [[0.0, \"#440154\"], [0.1111111111111111, \"#482878\"], [0.2222222222222222, \"#3e4989\"], [0.3333333333333333, \"#31688e\"], [0.4444444444444444, \"#26828e\"], [0.5555555555555556, \"#1f9e89\"], [0.6666666666666666, \"#35b779\"], [0.7777777777777778, \"#6ece58\"], [0.8888888888888888, \"#b5de2b\"], [1.0, \"#fde725\"]], \"name\": \"mse_v\", \"opacity\": 0.9, \"scene\": \"scene2\", \"showlegend\": true, \"showscale\": false, \"type\": \"surface\", \"x\": [0.1, 0.14677992676220694, 0.21544346900318834, 0.31622776601683794, 0.46415888336127786, 0.6812920690579611, 1.0, 1.467799267622069, 2.1544346900318834, 3.1622776601683795], \"y\": [0.1, 0.14677992676220694, 0.21544346900318834, 0.31622776601683794, 0.46415888336127786, 0.6812920690579611, 1.0, 1.467799267622069, 2.1544346900318834, 3.1622776601683795], \"z\": [[1.9762476682662964, 1.9635626077651978, 1.8802211284637451, 1.8162145614624023, 1.7773629426956177, 1.8776990175247192, 1.8670554161071777, 1.9187219142913818, 1.8674652576446533, 1.8354171514511108], [1.8790910243988037, 1.8115161657333374, 1.9254604578018188, 1.8007348775863647, 1.7814733982086182, 1.9514977931976318, 1.7564128637313843, 1.5053863525390625, 1.6199313402175903, 1.8964275121688843], [1.9644142389297485, 1.8173619508743286, 1.9625657796859741, 1.4690912961959839, 1.9636788368225098, 1.684659481048584, 1.4953596591949463, 1.3993384838104248, 1.7886719703674316, 1.050508975982666], [1.8803770542144775, 1.9258298873901367, 1.9549915790557861, 1.7078828811645508, 1.6684452295303345, 1.6586620807647705, 1.2084643840789795, 0.8864278197288513, 1.6143680810928345, 1.6256555318832397], [1.9768582582473755, 1.7306067943572998, 1.8634227514266968, 1.8497445583343506, 1.847917914390564, 1.71672785282135, 1.0783427953720093, 1.3389238119125366, 1.229331612586975, 1.002719759941101], [1.952761173248291, 1.7917715311050415, 1.923519253730774, 1.5368610620498657, 1.863136887550354, 1.2248951196670532, 1.1227357387542725, 1.0653833150863647, 0.9724000692367554, 0.7545212507247925], [1.9315578937530518, 1.7719852924346924, 1.462365746498108, 1.5441062450408936, 1.8690481185913086, 1.6414368152618408, 1.0384691953659058, 0.6386541128158569, 0.5171103477478027, 1.9533467292785645], [1.6808688640594482, 1.6563066244125366, 1.7904740571975708, 1.3837929964065552, 1.3175958395004272, 1.2281495332717896, 0.9656784534454346, 0.7773104906082153, 0.7616197466850281, 0.8733738660812378], [1.9436248540878296, 1.8000677824020386, 1.5820269584655762, 1.3733309507369995, 1.803023338317871, 1.4390203952789307, 0.6824010610580444, 1.290836215019226, 0.8197882175445557, 0.7379512786865234], [1.8416002988815308, 1.472499132156372, 1.9456559419631958, 1.1059361696243286, 1.0076448917388916, 1.911588191986084, 0.6663572192192078, 0.5416775345802307, 0.7982828617095947, 1.6929653882980347]]}],                        {\"scene\": {\"domain\": {\"x\": [0.0, 0.45], \"y\": [0.0, 1.0]}, \"xaxis\": {\"title\": {\"text\": \"beta_v\"}}, \"yaxis\": {\"title\": {\"text\": \"beta_u\"}}, \"zaxis\": {\"title\": {\"text\": \"overlap\"}}}, \"scene2\": {\"domain\": {\"x\": [0.55, 1.0], \"y\": [0.0, 1.0]}}, \"template\": {\"data\": {\"bar\": [{\"error_x\": {\"color\": \"#2a3f5f\"}, \"error_y\": {\"color\": \"#2a3f5f\"}, \"marker\": {\"line\": {\"color\": \"#E5ECF6\", \"width\": 0.5}}, \"type\": \"bar\"}], \"barpolar\": [{\"marker\": {\"line\": {\"color\": \"#E5ECF6\", \"width\": 0.5}}, \"type\": \"barpolar\"}], \"carpet\": [{\"aaxis\": {\"endlinecolor\": \"#2a3f5f\", \"gridcolor\": \"white\", \"linecolor\": \"white\", \"minorgridcolor\": \"white\", \"startlinecolor\": \"#2a3f5f\"}, \"baxis\": {\"endlinecolor\": \"#2a3f5f\", \"gridcolor\": \"white\", \"linecolor\": \"white\", \"minorgridcolor\": \"white\", \"startlinecolor\": \"#2a3f5f\"}, \"type\": \"carpet\"}], \"choropleth\": [{\"colorbar\": {\"outlinewidth\": 0, \"ticks\": \"\"}, \"type\": \"choropleth\"}], \"contour\": [{\"colorbar\": {\"outlinewidth\": 0, \"ticks\": \"\"}, \"colorscale\": [[0.0, \"#0d0887\"], [0.1111111111111111, \"#46039f\"], [0.2222222222222222, \"#7201a8\"], [0.3333333333333333, \"#9c179e\"], [0.4444444444444444, \"#bd3786\"], [0.5555555555555556, \"#d8576b\"], [0.6666666666666666, \"#ed7953\"], [0.7777777777777778, \"#fb9f3a\"], [0.8888888888888888, \"#fdca26\"], [1.0, \"#f0f921\"]], \"type\": \"contour\"}], \"contourcarpet\": [{\"colorbar\": {\"outlinewidth\": 0, \"ticks\": \"\"}, \"type\": \"contourcarpet\"}], \"heatmap\": [{\"colorbar\": {\"outlinewidth\": 0, \"ticks\": \"\"}, \"colorscale\": [[0.0, \"#0d0887\"], [0.1111111111111111, \"#46039f\"], [0.2222222222222222, \"#7201a8\"], [0.3333333333333333, \"#9c179e\"], [0.4444444444444444, \"#bd3786\"], [0.5555555555555556, \"#d8576b\"], [0.6666666666666666, \"#ed7953\"], [0.7777777777777778, \"#fb9f3a\"], [0.8888888888888888, \"#fdca26\"], [1.0, \"#f0f921\"]], \"type\": \"heatmap\"}], \"heatmapgl\": [{\"colorbar\": {\"outlinewidth\": 0, \"ticks\": \"\"}, \"colorscale\": [[0.0, \"#0d0887\"], [0.1111111111111111, \"#46039f\"], [0.2222222222222222, \"#7201a8\"], [0.3333333333333333, \"#9c179e\"], [0.4444444444444444, \"#bd3786\"], [0.5555555555555556, \"#d8576b\"], [0.6666666666666666, \"#ed7953\"], [0.7777777777777778, \"#fb9f3a\"], [0.8888888888888888, \"#fdca26\"], [1.0, \"#f0f921\"]], \"type\": \"heatmapgl\"}], \"histogram\": [{\"marker\": {\"colorbar\": {\"outlinewidth\": 0, \"ticks\": \"\"}}, \"type\": \"histogram\"}], \"histogram2d\": [{\"colorbar\": {\"outlinewidth\": 0, \"ticks\": \"\"}, \"colorscale\": [[0.0, \"#0d0887\"], [0.1111111111111111, \"#46039f\"], [0.2222222222222222, \"#7201a8\"], [0.3333333333333333, \"#9c179e\"], [0.4444444444444444, \"#bd3786\"], [0.5555555555555556, \"#d8576b\"], [0.6666666666666666, \"#ed7953\"], [0.7777777777777778, \"#fb9f3a\"], [0.8888888888888888, \"#fdca26\"], [1.0, \"#f0f921\"]], \"type\": \"histogram2d\"}], \"histogram2dcontour\": [{\"colorbar\": {\"outlinewidth\": 0, \"ticks\": \"\"}, \"colorscale\": [[0.0, \"#0d0887\"], [0.1111111111111111, \"#46039f\"], [0.2222222222222222, \"#7201a8\"], [0.3333333333333333, \"#9c179e\"], [0.4444444444444444, \"#bd3786\"], [0.5555555555555556, \"#d8576b\"], [0.6666666666666666, \"#ed7953\"], [0.7777777777777778, \"#fb9f3a\"], [0.8888888888888888, \"#fdca26\"], [1.0, \"#f0f921\"]], \"type\": \"histogram2dcontour\"}], \"mesh3d\": [{\"colorbar\": {\"outlinewidth\": 0, \"ticks\": \"\"}, \"type\": \"mesh3d\"}], \"parcoords\": [{\"line\": {\"colorbar\": {\"outlinewidth\": 0, \"ticks\": \"\"}}, \"type\": \"parcoords\"}], \"pie\": [{\"automargin\": true, \"type\": \"pie\"}], \"scatter\": [{\"marker\": {\"colorbar\": {\"outlinewidth\": 0, \"ticks\": \"\"}}, \"type\": \"scatter\"}], \"scatter3d\": [{\"line\": {\"colorbar\": {\"outlinewidth\": 0, \"ticks\": \"\"}}, \"marker\": {\"colorbar\": {\"outlinewidth\": 0, \"ticks\": \"\"}}, \"type\": \"scatter3d\"}], \"scattercarpet\": [{\"marker\": {\"colorbar\": {\"outlinewidth\": 0, \"ticks\": \"\"}}, \"type\": \"scattercarpet\"}], \"scattergeo\": [{\"marker\": {\"colorbar\": {\"outlinewidth\": 0, \"ticks\": \"\"}}, \"type\": \"scattergeo\"}], \"scattergl\": [{\"marker\": {\"colorbar\": {\"outlinewidth\": 0, \"ticks\": \"\"}}, \"type\": \"scattergl\"}], \"scattermapbox\": [{\"marker\": {\"colorbar\": {\"outlinewidth\": 0, \"ticks\": \"\"}}, \"type\": \"scattermapbox\"}], \"scatterpolar\": [{\"marker\": {\"colorbar\": {\"outlinewidth\": 0, \"ticks\": \"\"}}, \"type\": \"scatterpolar\"}], \"scatterpolargl\": [{\"marker\": {\"colorbar\": {\"outlinewidth\": 0, \"ticks\": \"\"}}, \"type\": \"scatterpolargl\"}], \"scatterternary\": [{\"marker\": {\"colorbar\": {\"outlinewidth\": 0, \"ticks\": \"\"}}, \"type\": \"scatterternary\"}], \"surface\": [{\"colorbar\": {\"outlinewidth\": 0, \"ticks\": \"\"}, \"colorscale\": [[0.0, \"#0d0887\"], [0.1111111111111111, \"#46039f\"], [0.2222222222222222, \"#7201a8\"], [0.3333333333333333, \"#9c179e\"], [0.4444444444444444, \"#bd3786\"], [0.5555555555555556, \"#d8576b\"], [0.6666666666666666, \"#ed7953\"], [0.7777777777777778, \"#fb9f3a\"], [0.8888888888888888, \"#fdca26\"], [1.0, \"#f0f921\"]], \"type\": \"surface\"}], \"table\": [{\"cells\": {\"fill\": {\"color\": \"#EBF0F8\"}, \"line\": {\"color\": \"white\"}}, \"header\": {\"fill\": {\"color\": \"#C8D4E3\"}, \"line\": {\"color\": \"white\"}}, \"type\": \"table\"}]}, \"layout\": {\"annotationdefaults\": {\"arrowcolor\": \"#2a3f5f\", \"arrowhead\": 0, \"arrowwidth\": 1}, \"autotypenumbers\": \"strict\", \"coloraxis\": {\"colorbar\": {\"outlinewidth\": 0, \"ticks\": \"\"}}, \"colorscale\": {\"diverging\": [[0, \"#8e0152\"], [0.1, \"#c51b7d\"], [0.2, \"#de77ae\"], [0.3, \"#f1b6da\"], [0.4, \"#fde0ef\"], [0.5, \"#f7f7f7\"], [0.6, \"#e6f5d0\"], [0.7, \"#b8e186\"], [0.8, \"#7fbc41\"], [0.9, \"#4d9221\"], [1, \"#276419\"]], \"sequential\": [[0.0, \"#0d0887\"], [0.1111111111111111, \"#46039f\"], [0.2222222222222222, \"#7201a8\"], [0.3333333333333333, \"#9c179e\"], [0.4444444444444444, \"#bd3786\"], [0.5555555555555556, \"#d8576b\"], [0.6666666666666666, \"#ed7953\"], [0.7777777777777778, \"#fb9f3a\"], [0.8888888888888888, \"#fdca26\"], [1.0, \"#f0f921\"]], \"sequentialminus\": [[0.0, \"#0d0887\"], [0.1111111111111111, \"#46039f\"], [0.2222222222222222, \"#7201a8\"], [0.3333333333333333, \"#9c179e\"], [0.4444444444444444, \"#bd3786\"], [0.5555555555555556, \"#d8576b\"], [0.6666666666666666, \"#ed7953\"], [0.7777777777777778, \"#fb9f3a\"], [0.8888888888888888, \"#fdca26\"], [1.0, \"#f0f921\"]]}, \"colorway\": [\"#636efa\", \"#EF553B\", \"#00cc96\", \"#ab63fa\", \"#FFA15A\", \"#19d3f3\", \"#FF6692\", \"#B6E880\", \"#FF97FF\", \"#FECB52\"], \"font\": {\"color\": \"#2a3f5f\"}, \"geo\": {\"bgcolor\": \"white\", \"lakecolor\": \"white\", \"landcolor\": \"#E5ECF6\", \"showlakes\": true, \"showland\": true, \"subunitcolor\": \"white\"}, \"hoverlabel\": {\"align\": \"left\"}, \"hovermode\": \"closest\", \"mapbox\": {\"style\": \"light\"}, \"paper_bgcolor\": \"white\", \"plot_bgcolor\": \"#E5ECF6\", \"polar\": {\"angularaxis\": {\"gridcolor\": \"white\", \"linecolor\": \"white\", \"ticks\": \"\"}, \"bgcolor\": \"#E5ECF6\", \"radialaxis\": {\"gridcolor\": \"white\", \"linecolor\": \"white\", \"ticks\": \"\"}}, \"scene\": {\"xaxis\": {\"backgroundcolor\": \"#E5ECF6\", \"gridcolor\": \"white\", \"gridwidth\": 2, \"linecolor\": \"white\", \"showbackground\": true, \"ticks\": \"\", \"zerolinecolor\": \"white\"}, \"yaxis\": {\"backgroundcolor\": \"#E5ECF6\", \"gridcolor\": \"white\", \"gridwidth\": 2, \"linecolor\": \"white\", \"showbackground\": true, \"ticks\": \"\", \"zerolinecolor\": \"white\"}, \"zaxis\": {\"backgroundcolor\": \"#E5ECF6\", \"gridcolor\": \"white\", \"gridwidth\": 2, \"linecolor\": \"white\", \"showbackground\": true, \"ticks\": \"\", \"zerolinecolor\": \"white\"}}, \"shapedefaults\": {\"line\": {\"color\": \"#2a3f5f\"}}, \"ternary\": {\"aaxis\": {\"gridcolor\": \"white\", \"linecolor\": \"white\", \"ticks\": \"\"}, \"baxis\": {\"gridcolor\": \"white\", \"linecolor\": \"white\", \"ticks\": \"\"}, \"bgcolor\": \"#E5ECF6\", \"caxis\": {\"gridcolor\": \"white\", \"linecolor\": \"white\", \"ticks\": \"\"}}, \"title\": {\"x\": 0.05}, \"xaxis\": {\"automargin\": true, \"gridcolor\": \"white\", \"linecolor\": \"white\", \"ticks\": \"\", \"title\": {\"standoff\": 15}, \"zerolinecolor\": \"white\", \"zerolinewidth\": 2}, \"yaxis\": {\"automargin\": true, \"gridcolor\": \"white\", \"linecolor\": \"white\", \"ticks\": \"\", \"title\": {\"standoff\": 15}, \"zerolinecolor\": \"white\", \"zerolinewidth\": 2}}}, \"title\": {\"text\": \"n=500, m=500; lu=1, lv=1\"}},                        {\"responsive\": true}                    ).then(function(){\n",
       "                            \n",
       "var gd = document.getElementById('d654b35d-c2be-46d8-817d-94ab456abc73');\n",
       "var x = new MutationObserver(function (mutations, observer) {{\n",
       "        var display = window.getComputedStyle(gd).display;\n",
       "        if (!display || display === 'none') {{\n",
       "            console.log([gd, 'removed!']);\n",
       "            Plotly.purge(gd);\n",
       "            observer.disconnect();\n",
       "        }}\n",
       "}});\n",
       "\n",
       "// Listen for the removal of the full notebook cells\n",
       "var notebookContainer = gd.closest('#notebook-container');\n",
       "if (notebookContainer) {{\n",
       "    x.observe(notebookContainer, {childList: true});\n",
       "}}\n",
       "\n",
       "// Listen for the clearing of the current output cell\n",
       "var outputEl = gd.closest('.output');\n",
       "if (outputEl) {{\n",
       "    x.observe(outputEl, {childList: true});\n",
       "}}\n",
       "\n",
       "                        })                };                });            </script>        </div>"
      ]
     },
     "metadata": {},
     "output_type": "display_data"
    }
   ],
   "source": [
    "# OVERLAP AND MSE RUN 1 _ U et V séparés!\n",
    "\n",
    "from plotly.subplots import make_subplots\n",
    "\n",
    "array_u_overlap, array_v_overlap=overlap_at_final_iteration.mean(axis=1).T\n",
    "\n",
    "array_u_overlap=array_u_overlap.reshape(len(list_value_1),len(list_value_2))\n",
    "array_v_overlap=array_v_overlap.reshape(len(list_value_1),len(list_value_2))\n",
    "#array_v_overlap=array_v_overlap+0.1\n",
    "\n",
    "array_u_mse, array_v_mse=mse_at_final_iteration.mean(axis=1).T\n",
    "\n",
    "array_u_mse=array_u_mse.reshape(len(list_value_1),len(list_value_2))\n",
    "array_v_mse=array_v_mse.reshape(len(list_value_1),len(list_value_2))\n",
    "#array_v_mse=array_v_mse+0.1\n",
    "\n",
    "fig = make_subplots(rows=1, cols=2, specs=[[{'type': 'surface'}, {'type': 'surface'}]])\n",
    "fig.add_trace(go.Surface(z=array_u_overlap, x=list_value_2, y=list_value_1,\n",
    "                         name=\"overlap_u\", showscale=False),\n",
    "             row=1, col=1)\n",
    "fig.add_trace(go.Surface(z=array_v_overlap, x=list_value_2, y=list_value_1,\n",
    "                         name=\"overlap_v\", showscale=False, opacity=0.9),\n",
    "             row=1, col=1)\n",
    "\n",
    "fig.add_trace(go.Surface(z=array_u_mse, x=list_value_2, y=list_value_1,\n",
    "                         name=\"mse_u\", showscale=False, colorscale ='viridis'),\n",
    "             row=1, col=2)\n",
    "fig.add_trace(go.Surface(z=array_v_mse, x=list_value_2, y=list_value_1,\n",
    "                         name=\"mse_v\", showscale=False, colorscale ='viridis', opacity=0.9),\n",
    "             row=1, col=2)\n",
    "\n",
    "fig.update_layout(\n",
    "    title=f\"n={name_n_1}, m={name_m_1}; lu={lambda_u_val_1}, lv={lambda_v_val_1}\",\n",
    ")\n",
    "fig.update_layout(scene = dict(\n",
    "                    xaxis_title=name_value_2,\n",
    "                    yaxis_title=name_value_1,\n",
    "                    zaxis_title=\"overlap\"),\n",
    "                  scene2 = dict(\n",
    "                    xaxis_title=name_value_2,\n",
    "                    yaxis_title=name_value_1,\n",
    "                    zaxis_title=\"mse\"),\n",
    "               autosize=False, width=1000, height=500)\n",
    "fig.update_traces(showlegend=True)\n",
    "\n",
    "fig.show()\n",
    "path=f\"C:/Users/Admin/Desktop/n={name_n_1}_m={name_m_1}_lu={lambda_u_val_1}_lv={lambda_v_val_1}_uv.html\"\n",
    "fig.write_html(path)"
   ]
  },
  {
   "cell_type": "code",
   "execution_count": 243,
   "metadata": {},
   "outputs": [
    {
     "data": {
      "application/vnd.plotly.v1+json": {
       "config": {
        "plotlyServerURL": "https://plot.ly"
       },
       "data": [
        {
         "name": "overlap_u",
         "scene": "scene",
         "showlegend": true,
         "showscale": false,
         "type": "surface",
         "x": [
          0.1,
          0.14677992676220694,
          0.21544346900318834,
          0.31622776601683794,
          0.46415888336127786,
          0.6812920690579611,
          1,
          1.467799267622069,
          2.1544346900318834,
          3.1622776601683795
         ],
         "y": [
          0.1,
          0.14677992676220694,
          0.21544346900318834,
          0.31622776601683794,
          0.46415888336127786,
          0.6812920690579611,
          1,
          1.467799267622069,
          2.1544346900318834,
          3.1622776601683795
         ],
         "z": [
          [
           0.07133043557405472,
           0.15483374893665314,
           0.05284271761775017,
           0.04779040440917015,
           0.06929660588502884,
           0.1352592557668686,
           0.0808028057217598,
           0.13009773194789886,
           0.14482541382312775,
           0.023562192916870117
          ],
          [
           0.0211319737136364,
           0.06316316872835159,
           0.05918058380484581,
           0.12539394199848175,
           0.10817211866378784,
           0.028436236083507538,
           0.16871124505996704,
           0.09893622249364853,
           0.15406164526939392,
           0.020469484850764275
          ],
          [
           0.17112696170806885,
           0.04406924173235893,
           0.13062921166419983,
           0.013966784812510014,
           0.0580790676176548,
           0.17895564436912537,
           0.023381199687719345,
           0.08535337448120117,
           0.13997896015644073,
           0.018261490389704704
          ],
          [
           0.17336034774780273,
           0.07190796732902527,
           0.12078134715557098,
           0.08656679838895798,
           0.20576797425746918,
           0.15335406363010406,
           0.03652605041861534,
           0.006481493823230267,
           0.04513103887438774,
           0.16206401586532593
          ],
          [
           0.04732183367013931,
           0.040563926100730896,
           0.04734659194946289,
           0.14776864647865295,
           0.05454230308532715,
           0.057175539433956146,
           0.1543477326631546,
           0.13915710151195526,
           0.2822924852371216,
           0.19246815145015717
          ],
          [
           0.15299072861671448,
           0.05512051284313202,
           0.02513929083943367,
           0.02895219996571541,
           0.00342229544185102,
           0.01907394453883171,
           0.03695087507367134,
           0.25710394978523254,
           0.001702966634184122,
           0.20565900206565857
          ],
          [
           0.02550540491938591,
           0.024268560111522675,
           0.012702159583568573,
           0.11389937996864319,
           0.3496186137199402,
           0.43324387073516846,
           0.23138532042503357,
           0.5524635314941406,
           0.5540202260017395,
           0.5482410192489624
          ],
          [
           0.026516733691096306,
           0.1775238960981369,
           0.0911952555179596,
           0.04107470437884331,
           0.07635229825973511,
           0.21096114814281464,
           0.5270078778266907,
           0.5822957754135132,
           0.6065052151679993,
           0.17065078020095825
          ],
          [
           0.06554971635341644,
           0.05478750541806221,
           0.08150121569633484,
           0.25010916590690613,
           0.19674518704414368,
           0.4957325756549835,
           0.5311498641967773,
           0.264059841632843,
           0.6142973899841309,
           0.7227925658226013
          ],
          [
           0.09591575711965561,
           0.13490024209022522,
           0.40125516057014465,
           0.011593456380069256,
           0.5931124687194824,
           0.499411404132843,
           0.5512664914131165,
           0.5088746547698975,
           0.6308992505073547,
           0.7698910236358643
          ]
         ]
        },
        {
         "name": "overlap_v",
         "opacity": 0.9,
         "scene": "scene",
         "showlegend": true,
         "showscale": false,
         "type": "surface",
         "x": [
          0.1,
          0.14677992676220694,
          0.21544346900318834,
          0.31622776601683794,
          0.46415888336127786,
          0.6812920690579611,
          1,
          1.467799267622069,
          2.1544346900318834,
          3.1622776601683795
         ],
         "y": [
          0.1,
          0.14677992676220694,
          0.21544346900318834,
          0.31622776601683794,
          0.46415888336127786,
          0.6812920690579611,
          1,
          1.467799267622069,
          2.1544346900318834,
          3.1622776601683795
         ],
         "z": [
          [
           0.03409670293331146,
           0.08569175750017166,
           0.11424394696950912,
           0.008243866264820099,
           0.0960913598537445,
           0.10168381780385971,
           0.055442925542593,
           0.1494358479976654,
           0.3316783905029297,
           0.1387917399406433
          ],
          [
           0.13489307463169098,
           0.27840447425842285,
           0.16897046566009521,
           0.02792377397418022,
           0.0029232429806143045,
           0.05362223461270332,
           0.08710487186908722,
           0.18034954369068146,
           0.0009546708897687495,
           0.04802782088518143
          ],
          [
           0.10916826128959656,
           0.1546206921339035,
           0.015233969315886497,
           0.026013441383838654,
           0.04093733802437782,
           0.04447555169463158,
           0.10568319261074066,
           0.06288829445838928,
           0.06579866260290146,
           0.03983445465564728
          ],
          [
           0.11618034541606903,
           0.139996737241745,
           0.1181996613740921,
           0.10946199297904968,
           0.060867857187986374,
           0.17785581946372986,
           0.22084040939807892,
           0.13447828590869904,
           0.13534925878047943,
           0.1494075059890747
          ],
          [
           0.04936591163277626,
           0.025346804410219193,
           0.01672845333814621,
           0.041157130151987076,
           0.25010478496551514,
           0.0887044370174408,
           0.024186620488762856,
           0.10031896829605103,
           0.19578397274017334,
           0.1300562024116516
          ],
          [
           0.017427897080779076,
           0.048181869089603424,
           0.004662771243602037,
           0.07589201629161835,
           0.18347857892513275,
           0.135955348610878,
           0.11297892779111862,
           0.15297631919384003,
           0.14096012711524963,
           0.0055490159429609776
          ],
          [
           0.1724763810634613,
           0.08251898735761642,
           0.046721164137125015,
           0.07530158758163452,
           0.07042894512414932,
           0.2821805775165558,
           0.23254218697547913,
           0.5099718570709229,
           0.2812384068965912,
           0.602640688419342
          ],
          [
           0.13218727707862854,
           0.04203552380204201,
           0.07179144024848938,
           0.07732705026865005,
           0.08822879195213318,
           0.10084635019302368,
           0.244135782122612,
           0.41683125495910645,
           0.5438470244407654,
           0.07893631607294083
          ],
          [
           0.030033648014068604,
           0.09679250419139862,
           0.08856208622455597,
           0.13404729962348938,
           0.06809064745903015,
           0.2873867154121399,
           0.2315145879983902,
           0.18459048867225647,
           0.6749732494354248,
           0.6008959412574768
          ],
          [
           0.1120426282286644,
           0.066550113260746,
           0.22772961854934692,
           0.10456033796072006,
           0.3418883979320526,
           0.3647027313709259,
           0.3884974718093872,
           0.19845758378505707,
           0.5668632388114929,
           0.7276014685630798
          ]
         ]
        },
        {
         "colorscale": [
          [
           0,
           "#440154"
          ],
          [
           0.1111111111111111,
           "#482878"
          ],
          [
           0.2222222222222222,
           "#3e4989"
          ],
          [
           0.3333333333333333,
           "#31688e"
          ],
          [
           0.4444444444444444,
           "#26828e"
          ],
          [
           0.5555555555555556,
           "#1f9e89"
          ],
          [
           0.6666666666666666,
           "#35b779"
          ],
          [
           0.7777777777777778,
           "#6ece58"
          ],
          [
           0.8888888888888888,
           "#b5de2b"
          ],
          [
           1,
           "#fde725"
          ]
         ],
         "name": "mse_u",
         "scene": "scene2",
         "showlegend": true,
         "showscale": false,
         "type": "surface",
         "x": [
          0.1,
          0.14677992676220694,
          0.21544346900318834,
          0.31622776601683794,
          0.46415888336127786,
          0.6812920690579611,
          1,
          1.467799267622069,
          2.1544346900318834,
          3.1622776601683795
         ],
         "y": [
          0.1,
          0.14677992676220694,
          0.21544346900318834,
          0.31622776601683794,
          0.46415888336127786,
          0.6812920690579611,
          1,
          1.467799267622069,
          2.1544346900318834,
          3.1622776601683795
         ],
         "z": [
          [
           1.8573390245437622,
           1.690332293510437,
           1.8943148851394653,
           1.9044189453125,
           1.861406683921814,
           1.7294812202453613,
           1.8383945226669312,
           1.739804983139038,
           1.7103490829467773,
           1.9528756141662598
          ],
          [
           1.9577364921569824,
           1.873673677444458,
           1.8816393613815308,
           1.7492120265960693,
           1.7836560010910034,
           1.9431273937225342,
           1.6625776290893555,
           1.802127480506897,
           1.691877007484436,
           1.959060788154602
          ],
          [
           1.6577460765838623,
           1.911861538887024,
           1.7387418746948242,
           1.9720666408538818,
           1.88384211063385,
           1.6420886516571045,
           1.953237771987915,
           1.82929265499115,
           1.7200422286987305,
           1.9634771347045898
          ],
          [
           1.6532793045043945,
           1.8561841249465942,
           1.7584375143051147,
           1.8268671035766602,
           1.5884642601013184,
           1.6932917833328247,
           1.9269475936889648,
           1.987037181854248,
           1.9097381830215454,
           1.6758718490600586
          ],
          [
           1.9053564071655273,
           1.918872356414795,
           1.9053068161010742,
           1.7044625282287598,
           1.8909152746200562,
           1.8856490850448608,
           1.6913044452667236,
           1.721685767173767,
           1.4354150295257568,
           1.6150637865066528
          ],
          [
           1.694018840789795,
           1.8897594213485718,
           1.9497215747833252,
           1.9420956373214722,
           1.9931553602218628,
           1.9618525505065918,
           1.926098346710205,
           1.4857919216156006,
           1.996593952178955,
           1.588681936264038
          ],
          [
           1.9489893913269043,
           1.951463222503662,
           1.9745956659317017,
           1.7722011804580688,
           1.3007628917694092,
           1.1335123777389526,
           1.5372294187545776,
           0.8950729370117188,
           0.8919596076011658,
           0.9035178422927856
          ],
          [
           1.9469670057296753,
           1.644952416419983,
           1.817609429359436,
           1.917850375175476,
           1.8472955226898193,
           1.5780776739120483,
           0.9459844827651978,
           0.8354082703590393,
           0.7869893908500671,
           1.658698558807373
          ],
          [
           1.8689007759094238,
           1.8904250860214233,
           1.8369978666305542,
           1.499781847000122,
           1.6065094470977783,
           1.0085346698760986,
           0.9377002716064453,
           1.4718804359436035,
           0.7714051604270935,
           0.5544149279594421
          ],
          [
           1.8081685304641724,
           1.7301995754241943,
           1.1974897384643555,
           1.9768130779266357,
           0.8137753009796143,
           1.0011773109436035,
           0.8974673748016357,
           0.9822509288787842,
           0.7382009029388428,
           0.4602177143096924
          ]
         ]
        },
        {
         "colorscale": [
          [
           0,
           "#440154"
          ],
          [
           0.1111111111111111,
           "#482878"
          ],
          [
           0.2222222222222222,
           "#3e4989"
          ],
          [
           0.3333333333333333,
           "#31688e"
          ],
          [
           0.4444444444444444,
           "#26828e"
          ],
          [
           0.5555555555555556,
           "#1f9e89"
          ],
          [
           0.6666666666666666,
           "#35b779"
          ],
          [
           0.7777777777777778,
           "#6ece58"
          ],
          [
           0.8888888888888888,
           "#b5de2b"
          ],
          [
           1,
           "#fde725"
          ]
         ],
         "name": "mse_v",
         "opacity": 0.9,
         "scene": "scene2",
         "showlegend": true,
         "showscale": false,
         "type": "surface",
         "x": [
          0.1,
          0.14677992676220694,
          0.21544346900318834,
          0.31622776601683794,
          0.46415888336127786,
          0.6812920690579611,
          1,
          1.467799267622069,
          2.1544346900318834,
          3.1622776601683795
         ],
         "y": [
          0.1,
          0.14677992676220694,
          0.21544346900318834,
          0.31622776601683794,
          0.46415888336127786,
          0.6812920690579611,
          1,
          1.467799267622069,
          2.1544346900318834,
          3.1622776601683795
         ],
         "z": [
          [
           1.9318066835403442,
           1.828616738319397,
           1.7715116739273071,
           1.983512282371521,
           1.8078173398971558,
           1.7966320514678955,
           1.8891140222549438,
           1.701128363609314,
           1.3366432189941406,
           1.7224164009094238
          ],
          [
           1.7302137613296509,
           1.4431911706924438,
           1.6620591878890991,
           1.9441523551940918,
           1.9941532611846924,
           1.8927556276321411,
           1.825790524482727,
           1.63930082321167,
           1.998090386390686,
           1.9039442539215088
          ],
          [
           1.7816640138626099,
           1.6907587051391602,
           1.9695320129394531,
           1.9479730129241943,
           1.9181256294250488,
           1.9110487699508667,
           1.7886335849761963,
           1.8742233514785767,
           1.868402361869812,
           1.9203310012817383
          ],
          [
           1.76763916015625,
           1.7200065851211548,
           1.7636009454727173,
           1.7810759544372559,
           1.8782641887664795,
           1.6442883014678955,
           1.5583192110061646,
           1.7310435771942139,
           1.7293018102645874,
           1.7011845111846924
          ],
          [
           1.9012680053710938,
           1.9493064880371094,
           1.966543436050415,
           1.9176857471466064,
           1.4997901916503906,
           1.8225908279418945,
           1.9516265392303467,
           1.7993617057800293,
           1.6084321737289429,
           1.7398878335952759
          ],
          [
           1.9651439189910889,
           1.9036357402801514,
           1.9906748533248901,
           1.8482162952423096,
           1.633042812347412,
           1.7280893325805664,
           1.7740422487258911,
           1.6940478086471558,
           1.7180798053741455,
           1.988901972770691
          ],
          [
           1.6550477743148804,
           1.8349621295928955,
           1.9065580368041992,
           1.8493964672088623,
           1.8591424226760864,
           1.4356387853622437,
           1.5349162817001343,
           0.9800561666488647,
           1.4375234842300415,
           0.7947182655334473
          ],
          [
           1.735625147819519,
           1.9159289598464966,
           1.856417179107666,
           1.8453459739685059,
           1.8235429525375366,
           1.7983070611953735,
           1.5117285251617432,
           1.1663376092910767,
           0.9123056530952454,
           1.8421272039413452
          ],
          [
           1.9399325847625732,
           1.8064149618148804,
           1.8228756189346313,
           1.731905460357666,
           1.8638181686401367,
           1.4252265691757202,
           1.536970615386963,
           1.6308190822601318,
           0.6500535607337952,
           0.7982082366943359
          ],
          [
           1.7759146690368652,
           1.8668997287750244,
           1.544541358947754,
           1.7908790111541748,
           1.31622314453125,
           1.2705944776535034,
           1.2230050563812256,
           1.6030851602554321,
           0.8662732839584351,
           0.5447971224784851
          ]
         ]
        }
       ],
       "layout": {
        "scene": {
         "domain": {
          "x": [
           0,
           0.45
          ],
          "y": [
           0,
           1
          ]
         },
         "xaxis": {
          "title": {
           "text": "beta_v"
          }
         },
         "yaxis": {
          "title": {
           "text": "beta_u"
          }
         },
         "zaxis": {
          "title": {
           "text": "overlap"
          }
         }
        },
        "scene2": {
         "domain": {
          "x": [
           0.55,
           1
          ],
          "y": [
           0,
           1
          ]
         }
        },
        "template": {
         "data": {
          "bar": [
           {
            "error_x": {
             "color": "#2a3f5f"
            },
            "error_y": {
             "color": "#2a3f5f"
            },
            "marker": {
             "line": {
              "color": "#E5ECF6",
              "width": 0.5
             }
            },
            "type": "bar"
           }
          ],
          "barpolar": [
           {
            "marker": {
             "line": {
              "color": "#E5ECF6",
              "width": 0.5
             }
            },
            "type": "barpolar"
           }
          ],
          "carpet": [
           {
            "aaxis": {
             "endlinecolor": "#2a3f5f",
             "gridcolor": "white",
             "linecolor": "white",
             "minorgridcolor": "white",
             "startlinecolor": "#2a3f5f"
            },
            "baxis": {
             "endlinecolor": "#2a3f5f",
             "gridcolor": "white",
             "linecolor": "white",
             "minorgridcolor": "white",
             "startlinecolor": "#2a3f5f"
            },
            "type": "carpet"
           }
          ],
          "choropleth": [
           {
            "colorbar": {
             "outlinewidth": 0,
             "ticks": ""
            },
            "type": "choropleth"
           }
          ],
          "contour": [
           {
            "colorbar": {
             "outlinewidth": 0,
             "ticks": ""
            },
            "colorscale": [
             [
              0,
              "#0d0887"
             ],
             [
              0.1111111111111111,
              "#46039f"
             ],
             [
              0.2222222222222222,
              "#7201a8"
             ],
             [
              0.3333333333333333,
              "#9c179e"
             ],
             [
              0.4444444444444444,
              "#bd3786"
             ],
             [
              0.5555555555555556,
              "#d8576b"
             ],
             [
              0.6666666666666666,
              "#ed7953"
             ],
             [
              0.7777777777777778,
              "#fb9f3a"
             ],
             [
              0.8888888888888888,
              "#fdca26"
             ],
             [
              1,
              "#f0f921"
             ]
            ],
            "type": "contour"
           }
          ],
          "contourcarpet": [
           {
            "colorbar": {
             "outlinewidth": 0,
             "ticks": ""
            },
            "type": "contourcarpet"
           }
          ],
          "heatmap": [
           {
            "colorbar": {
             "outlinewidth": 0,
             "ticks": ""
            },
            "colorscale": [
             [
              0,
              "#0d0887"
             ],
             [
              0.1111111111111111,
              "#46039f"
             ],
             [
              0.2222222222222222,
              "#7201a8"
             ],
             [
              0.3333333333333333,
              "#9c179e"
             ],
             [
              0.4444444444444444,
              "#bd3786"
             ],
             [
              0.5555555555555556,
              "#d8576b"
             ],
             [
              0.6666666666666666,
              "#ed7953"
             ],
             [
              0.7777777777777778,
              "#fb9f3a"
             ],
             [
              0.8888888888888888,
              "#fdca26"
             ],
             [
              1,
              "#f0f921"
             ]
            ],
            "type": "heatmap"
           }
          ],
          "heatmapgl": [
           {
            "colorbar": {
             "outlinewidth": 0,
             "ticks": ""
            },
            "colorscale": [
             [
              0,
              "#0d0887"
             ],
             [
              0.1111111111111111,
              "#46039f"
             ],
             [
              0.2222222222222222,
              "#7201a8"
             ],
             [
              0.3333333333333333,
              "#9c179e"
             ],
             [
              0.4444444444444444,
              "#bd3786"
             ],
             [
              0.5555555555555556,
              "#d8576b"
             ],
             [
              0.6666666666666666,
              "#ed7953"
             ],
             [
              0.7777777777777778,
              "#fb9f3a"
             ],
             [
              0.8888888888888888,
              "#fdca26"
             ],
             [
              1,
              "#f0f921"
             ]
            ],
            "type": "heatmapgl"
           }
          ],
          "histogram": [
           {
            "marker": {
             "colorbar": {
              "outlinewidth": 0,
              "ticks": ""
             }
            },
            "type": "histogram"
           }
          ],
          "histogram2d": [
           {
            "colorbar": {
             "outlinewidth": 0,
             "ticks": ""
            },
            "colorscale": [
             [
              0,
              "#0d0887"
             ],
             [
              0.1111111111111111,
              "#46039f"
             ],
             [
              0.2222222222222222,
              "#7201a8"
             ],
             [
              0.3333333333333333,
              "#9c179e"
             ],
             [
              0.4444444444444444,
              "#bd3786"
             ],
             [
              0.5555555555555556,
              "#d8576b"
             ],
             [
              0.6666666666666666,
              "#ed7953"
             ],
             [
              0.7777777777777778,
              "#fb9f3a"
             ],
             [
              0.8888888888888888,
              "#fdca26"
             ],
             [
              1,
              "#f0f921"
             ]
            ],
            "type": "histogram2d"
           }
          ],
          "histogram2dcontour": [
           {
            "colorbar": {
             "outlinewidth": 0,
             "ticks": ""
            },
            "colorscale": [
             [
              0,
              "#0d0887"
             ],
             [
              0.1111111111111111,
              "#46039f"
             ],
             [
              0.2222222222222222,
              "#7201a8"
             ],
             [
              0.3333333333333333,
              "#9c179e"
             ],
             [
              0.4444444444444444,
              "#bd3786"
             ],
             [
              0.5555555555555556,
              "#d8576b"
             ],
             [
              0.6666666666666666,
              "#ed7953"
             ],
             [
              0.7777777777777778,
              "#fb9f3a"
             ],
             [
              0.8888888888888888,
              "#fdca26"
             ],
             [
              1,
              "#f0f921"
             ]
            ],
            "type": "histogram2dcontour"
           }
          ],
          "mesh3d": [
           {
            "colorbar": {
             "outlinewidth": 0,
             "ticks": ""
            },
            "type": "mesh3d"
           }
          ],
          "parcoords": [
           {
            "line": {
             "colorbar": {
              "outlinewidth": 0,
              "ticks": ""
             }
            },
            "type": "parcoords"
           }
          ],
          "pie": [
           {
            "automargin": true,
            "type": "pie"
           }
          ],
          "scatter": [
           {
            "marker": {
             "colorbar": {
              "outlinewidth": 0,
              "ticks": ""
             }
            },
            "type": "scatter"
           }
          ],
          "scatter3d": [
           {
            "line": {
             "colorbar": {
              "outlinewidth": 0,
              "ticks": ""
             }
            },
            "marker": {
             "colorbar": {
              "outlinewidth": 0,
              "ticks": ""
             }
            },
            "type": "scatter3d"
           }
          ],
          "scattercarpet": [
           {
            "marker": {
             "colorbar": {
              "outlinewidth": 0,
              "ticks": ""
             }
            },
            "type": "scattercarpet"
           }
          ],
          "scattergeo": [
           {
            "marker": {
             "colorbar": {
              "outlinewidth": 0,
              "ticks": ""
             }
            },
            "type": "scattergeo"
           }
          ],
          "scattergl": [
           {
            "marker": {
             "colorbar": {
              "outlinewidth": 0,
              "ticks": ""
             }
            },
            "type": "scattergl"
           }
          ],
          "scattermapbox": [
           {
            "marker": {
             "colorbar": {
              "outlinewidth": 0,
              "ticks": ""
             }
            },
            "type": "scattermapbox"
           }
          ],
          "scatterpolar": [
           {
            "marker": {
             "colorbar": {
              "outlinewidth": 0,
              "ticks": ""
             }
            },
            "type": "scatterpolar"
           }
          ],
          "scatterpolargl": [
           {
            "marker": {
             "colorbar": {
              "outlinewidth": 0,
              "ticks": ""
             }
            },
            "type": "scatterpolargl"
           }
          ],
          "scatterternary": [
           {
            "marker": {
             "colorbar": {
              "outlinewidth": 0,
              "ticks": ""
             }
            },
            "type": "scatterternary"
           }
          ],
          "surface": [
           {
            "colorbar": {
             "outlinewidth": 0,
             "ticks": ""
            },
            "colorscale": [
             [
              0,
              "#0d0887"
             ],
             [
              0.1111111111111111,
              "#46039f"
             ],
             [
              0.2222222222222222,
              "#7201a8"
             ],
             [
              0.3333333333333333,
              "#9c179e"
             ],
             [
              0.4444444444444444,
              "#bd3786"
             ],
             [
              0.5555555555555556,
              "#d8576b"
             ],
             [
              0.6666666666666666,
              "#ed7953"
             ],
             [
              0.7777777777777778,
              "#fb9f3a"
             ],
             [
              0.8888888888888888,
              "#fdca26"
             ],
             [
              1,
              "#f0f921"
             ]
            ],
            "type": "surface"
           }
          ],
          "table": [
           {
            "cells": {
             "fill": {
              "color": "#EBF0F8"
             },
             "line": {
              "color": "white"
             }
            },
            "header": {
             "fill": {
              "color": "#C8D4E3"
             },
             "line": {
              "color": "white"
             }
            },
            "type": "table"
           }
          ]
         },
         "layout": {
          "annotationdefaults": {
           "arrowcolor": "#2a3f5f",
           "arrowhead": 0,
           "arrowwidth": 1
          },
          "autotypenumbers": "strict",
          "coloraxis": {
           "colorbar": {
            "outlinewidth": 0,
            "ticks": ""
           }
          },
          "colorscale": {
           "diverging": [
            [
             0,
             "#8e0152"
            ],
            [
             0.1,
             "#c51b7d"
            ],
            [
             0.2,
             "#de77ae"
            ],
            [
             0.3,
             "#f1b6da"
            ],
            [
             0.4,
             "#fde0ef"
            ],
            [
             0.5,
             "#f7f7f7"
            ],
            [
             0.6,
             "#e6f5d0"
            ],
            [
             0.7,
             "#b8e186"
            ],
            [
             0.8,
             "#7fbc41"
            ],
            [
             0.9,
             "#4d9221"
            ],
            [
             1,
             "#276419"
            ]
           ],
           "sequential": [
            [
             0,
             "#0d0887"
            ],
            [
             0.1111111111111111,
             "#46039f"
            ],
            [
             0.2222222222222222,
             "#7201a8"
            ],
            [
             0.3333333333333333,
             "#9c179e"
            ],
            [
             0.4444444444444444,
             "#bd3786"
            ],
            [
             0.5555555555555556,
             "#d8576b"
            ],
            [
             0.6666666666666666,
             "#ed7953"
            ],
            [
             0.7777777777777778,
             "#fb9f3a"
            ],
            [
             0.8888888888888888,
             "#fdca26"
            ],
            [
             1,
             "#f0f921"
            ]
           ],
           "sequentialminus": [
            [
             0,
             "#0d0887"
            ],
            [
             0.1111111111111111,
             "#46039f"
            ],
            [
             0.2222222222222222,
             "#7201a8"
            ],
            [
             0.3333333333333333,
             "#9c179e"
            ],
            [
             0.4444444444444444,
             "#bd3786"
            ],
            [
             0.5555555555555556,
             "#d8576b"
            ],
            [
             0.6666666666666666,
             "#ed7953"
            ],
            [
             0.7777777777777778,
             "#fb9f3a"
            ],
            [
             0.8888888888888888,
             "#fdca26"
            ],
            [
             1,
             "#f0f921"
            ]
           ]
          },
          "colorway": [
           "#636efa",
           "#EF553B",
           "#00cc96",
           "#ab63fa",
           "#FFA15A",
           "#19d3f3",
           "#FF6692",
           "#B6E880",
           "#FF97FF",
           "#FECB52"
          ],
          "font": {
           "color": "#2a3f5f"
          },
          "geo": {
           "bgcolor": "white",
           "lakecolor": "white",
           "landcolor": "#E5ECF6",
           "showlakes": true,
           "showland": true,
           "subunitcolor": "white"
          },
          "hoverlabel": {
           "align": "left"
          },
          "hovermode": "closest",
          "mapbox": {
           "style": "light"
          },
          "paper_bgcolor": "white",
          "plot_bgcolor": "#E5ECF6",
          "polar": {
           "angularaxis": {
            "gridcolor": "white",
            "linecolor": "white",
            "ticks": ""
           },
           "bgcolor": "#E5ECF6",
           "radialaxis": {
            "gridcolor": "white",
            "linecolor": "white",
            "ticks": ""
           }
          },
          "scene": {
           "xaxis": {
            "backgroundcolor": "#E5ECF6",
            "gridcolor": "white",
            "gridwidth": 2,
            "linecolor": "white",
            "showbackground": true,
            "ticks": "",
            "zerolinecolor": "white"
           },
           "yaxis": {
            "backgroundcolor": "#E5ECF6",
            "gridcolor": "white",
            "gridwidth": 2,
            "linecolor": "white",
            "showbackground": true,
            "ticks": "",
            "zerolinecolor": "white"
           },
           "zaxis": {
            "backgroundcolor": "#E5ECF6",
            "gridcolor": "white",
            "gridwidth": 2,
            "linecolor": "white",
            "showbackground": true,
            "ticks": "",
            "zerolinecolor": "white"
           }
          },
          "shapedefaults": {
           "line": {
            "color": "#2a3f5f"
           }
          },
          "ternary": {
           "aaxis": {
            "gridcolor": "white",
            "linecolor": "white",
            "ticks": ""
           },
           "baxis": {
            "gridcolor": "white",
            "linecolor": "white",
            "ticks": ""
           },
           "bgcolor": "#E5ECF6",
           "caxis": {
            "gridcolor": "white",
            "linecolor": "white",
            "ticks": ""
           }
          },
          "title": {
           "x": 0.05
          },
          "xaxis": {
           "automargin": true,
           "gridcolor": "white",
           "linecolor": "white",
           "ticks": "",
           "title": {
            "standoff": 15
           },
           "zerolinecolor": "white",
           "zerolinewidth": 2
          },
          "yaxis": {
           "automargin": true,
           "gridcolor": "white",
           "linecolor": "white",
           "ticks": "",
           "title": {
            "standoff": 15
           },
           "zerolinecolor": "white",
           "zerolinewidth": 2
          }
         }
        },
        "title": {
         "text": "n=500, m=500; lu=1, lv=0.01"
        }
       }
      },
      "text/html": [
       "<div>                            <div id=\"14ccec9a-2102-40fc-a54e-ed117a63541d\" class=\"plotly-graph-div\" style=\"height:525px; width:100%;\"></div>            <script type=\"text/javascript\">                require([\"plotly\"], function(Plotly) {                    window.PLOTLYENV=window.PLOTLYENV || {};                                    if (document.getElementById(\"14ccec9a-2102-40fc-a54e-ed117a63541d\")) {                    Plotly.newPlot(                        \"14ccec9a-2102-40fc-a54e-ed117a63541d\",                        [{\"name\": \"overlap_u\", \"scene\": \"scene\", \"showlegend\": true, \"showscale\": false, \"type\": \"surface\", \"x\": [0.1, 0.14677992676220694, 0.21544346900318834, 0.31622776601683794, 0.46415888336127786, 0.6812920690579611, 1.0, 1.467799267622069, 2.1544346900318834, 3.1622776601683795], \"y\": [0.1, 0.14677992676220694, 0.21544346900318834, 0.31622776601683794, 0.46415888336127786, 0.6812920690579611, 1.0, 1.467799267622069, 2.1544346900318834, 3.1622776601683795], \"z\": [[0.07133043557405472, 0.15483374893665314, 0.05284271761775017, 0.04779040440917015, 0.06929660588502884, 0.1352592557668686, 0.0808028057217598, 0.13009773194789886, 0.14482541382312775, 0.023562192916870117], [0.0211319737136364, 0.06316316872835159, 0.05918058380484581, 0.12539394199848175, 0.10817211866378784, 0.028436236083507538, 0.16871124505996704, 0.09893622249364853, 0.15406164526939392, 0.020469484850764275], [0.17112696170806885, 0.04406924173235893, 0.13062921166419983, 0.013966784812510014, 0.0580790676176548, 0.17895564436912537, 0.023381199687719345, 0.08535337448120117, 0.13997896015644073, 0.018261490389704704], [0.17336034774780273, 0.07190796732902527, 0.12078134715557098, 0.08656679838895798, 0.20576797425746918, 0.15335406363010406, 0.03652605041861534, 0.006481493823230267, 0.04513103887438774, 0.16206401586532593], [0.04732183367013931, 0.040563926100730896, 0.04734659194946289, 0.14776864647865295, 0.05454230308532715, 0.057175539433956146, 0.1543477326631546, 0.13915710151195526, 0.2822924852371216, 0.19246815145015717], [0.15299072861671448, 0.05512051284313202, 0.02513929083943367, 0.02895219996571541, 0.00342229544185102, 0.01907394453883171, 0.03695087507367134, 0.25710394978523254, 0.001702966634184122, 0.20565900206565857], [0.02550540491938591, 0.024268560111522675, 0.012702159583568573, 0.11389937996864319, 0.3496186137199402, 0.43324387073516846, 0.23138532042503357, 0.5524635314941406, 0.5540202260017395, 0.5482410192489624], [0.026516733691096306, 0.1775238960981369, 0.0911952555179596, 0.04107470437884331, 0.07635229825973511, 0.21096114814281464, 0.5270078778266907, 0.5822957754135132, 0.6065052151679993, 0.17065078020095825], [0.06554971635341644, 0.05478750541806221, 0.08150121569633484, 0.25010916590690613, 0.19674518704414368, 0.4957325756549835, 0.5311498641967773, 0.264059841632843, 0.6142973899841309, 0.7227925658226013], [0.09591575711965561, 0.13490024209022522, 0.40125516057014465, 0.011593456380069256, 0.5931124687194824, 0.499411404132843, 0.5512664914131165, 0.5088746547698975, 0.6308992505073547, 0.7698910236358643]]}, {\"name\": \"overlap_v\", \"opacity\": 0.9, \"scene\": \"scene\", \"showlegend\": true, \"showscale\": false, \"type\": \"surface\", \"x\": [0.1, 0.14677992676220694, 0.21544346900318834, 0.31622776601683794, 0.46415888336127786, 0.6812920690579611, 1.0, 1.467799267622069, 2.1544346900318834, 3.1622776601683795], \"y\": [0.1, 0.14677992676220694, 0.21544346900318834, 0.31622776601683794, 0.46415888336127786, 0.6812920690579611, 1.0, 1.467799267622069, 2.1544346900318834, 3.1622776601683795], \"z\": [[0.03409670293331146, 0.08569175750017166, 0.11424394696950912, 0.008243866264820099, 0.0960913598537445, 0.10168381780385971, 0.055442925542593, 0.1494358479976654, 0.3316783905029297, 0.1387917399406433], [0.13489307463169098, 0.27840447425842285, 0.16897046566009521, 0.02792377397418022, 0.0029232429806143045, 0.05362223461270332, 0.08710487186908722, 0.18034954369068146, 0.0009546708897687495, 0.04802782088518143], [0.10916826128959656, 0.1546206921339035, 0.015233969315886497, 0.026013441383838654, 0.04093733802437782, 0.04447555169463158, 0.10568319261074066, 0.06288829445838928, 0.06579866260290146, 0.03983445465564728], [0.11618034541606903, 0.139996737241745, 0.1181996613740921, 0.10946199297904968, 0.060867857187986374, 0.17785581946372986, 0.22084040939807892, 0.13447828590869904, 0.13534925878047943, 0.1494075059890747], [0.04936591163277626, 0.025346804410219193, 0.01672845333814621, 0.041157130151987076, 0.25010478496551514, 0.0887044370174408, 0.024186620488762856, 0.10031896829605103, 0.19578397274017334, 0.1300562024116516], [0.017427897080779076, 0.048181869089603424, 0.004662771243602037, 0.07589201629161835, 0.18347857892513275, 0.135955348610878, 0.11297892779111862, 0.15297631919384003, 0.14096012711524963, 0.0055490159429609776], [0.1724763810634613, 0.08251898735761642, 0.046721164137125015, 0.07530158758163452, 0.07042894512414932, 0.2821805775165558, 0.23254218697547913, 0.5099718570709229, 0.2812384068965912, 0.602640688419342], [0.13218727707862854, 0.04203552380204201, 0.07179144024848938, 0.07732705026865005, 0.08822879195213318, 0.10084635019302368, 0.244135782122612, 0.41683125495910645, 0.5438470244407654, 0.07893631607294083], [0.030033648014068604, 0.09679250419139862, 0.08856208622455597, 0.13404729962348938, 0.06809064745903015, 0.2873867154121399, 0.2315145879983902, 0.18459048867225647, 0.6749732494354248, 0.6008959412574768], [0.1120426282286644, 0.066550113260746, 0.22772961854934692, 0.10456033796072006, 0.3418883979320526, 0.3647027313709259, 0.3884974718093872, 0.19845758378505707, 0.5668632388114929, 0.7276014685630798]]}, {\"colorscale\": [[0.0, \"#440154\"], [0.1111111111111111, \"#482878\"], [0.2222222222222222, \"#3e4989\"], [0.3333333333333333, \"#31688e\"], [0.4444444444444444, \"#26828e\"], [0.5555555555555556, \"#1f9e89\"], [0.6666666666666666, \"#35b779\"], [0.7777777777777778, \"#6ece58\"], [0.8888888888888888, \"#b5de2b\"], [1.0, \"#fde725\"]], \"name\": \"mse_u\", \"scene\": \"scene2\", \"showlegend\": true, \"showscale\": false, \"type\": \"surface\", \"x\": [0.1, 0.14677992676220694, 0.21544346900318834, 0.31622776601683794, 0.46415888336127786, 0.6812920690579611, 1.0, 1.467799267622069, 2.1544346900318834, 3.1622776601683795], \"y\": [0.1, 0.14677992676220694, 0.21544346900318834, 0.31622776601683794, 0.46415888336127786, 0.6812920690579611, 1.0, 1.467799267622069, 2.1544346900318834, 3.1622776601683795], \"z\": [[1.8573390245437622, 1.690332293510437, 1.8943148851394653, 1.9044189453125, 1.861406683921814, 1.7294812202453613, 1.8383945226669312, 1.739804983139038, 1.7103490829467773, 1.9528756141662598], [1.9577364921569824, 1.873673677444458, 1.8816393613815308, 1.7492120265960693, 1.7836560010910034, 1.9431273937225342, 1.6625776290893555, 1.802127480506897, 1.691877007484436, 1.959060788154602], [1.6577460765838623, 1.911861538887024, 1.7387418746948242, 1.9720666408538818, 1.88384211063385, 1.6420886516571045, 1.953237771987915, 1.82929265499115, 1.7200422286987305, 1.9634771347045898], [1.6532793045043945, 1.8561841249465942, 1.7584375143051147, 1.8268671035766602, 1.5884642601013184, 1.6932917833328247, 1.9269475936889648, 1.987037181854248, 1.9097381830215454, 1.6758718490600586], [1.9053564071655273, 1.918872356414795, 1.9053068161010742, 1.7044625282287598, 1.8909152746200562, 1.8856490850448608, 1.6913044452667236, 1.721685767173767, 1.4354150295257568, 1.6150637865066528], [1.694018840789795, 1.8897594213485718, 1.9497215747833252, 1.9420956373214722, 1.9931553602218628, 1.9618525505065918, 1.926098346710205, 1.4857919216156006, 1.996593952178955, 1.588681936264038], [1.9489893913269043, 1.951463222503662, 1.9745956659317017, 1.7722011804580688, 1.3007628917694092, 1.1335123777389526, 1.5372294187545776, 0.8950729370117188, 0.8919596076011658, 0.9035178422927856], [1.9469670057296753, 1.644952416419983, 1.817609429359436, 1.917850375175476, 1.8472955226898193, 1.5780776739120483, 0.9459844827651978, 0.8354082703590393, 0.7869893908500671, 1.658698558807373], [1.8689007759094238, 1.8904250860214233, 1.8369978666305542, 1.499781847000122, 1.6065094470977783, 1.0085346698760986, 0.9377002716064453, 1.4718804359436035, 0.7714051604270935, 0.5544149279594421], [1.8081685304641724, 1.7301995754241943, 1.1974897384643555, 1.9768130779266357, 0.8137753009796143, 1.0011773109436035, 0.8974673748016357, 0.9822509288787842, 0.7382009029388428, 0.4602177143096924]]}, {\"colorscale\": [[0.0, \"#440154\"], [0.1111111111111111, \"#482878\"], [0.2222222222222222, \"#3e4989\"], [0.3333333333333333, \"#31688e\"], [0.4444444444444444, \"#26828e\"], [0.5555555555555556, \"#1f9e89\"], [0.6666666666666666, \"#35b779\"], [0.7777777777777778, \"#6ece58\"], [0.8888888888888888, \"#b5de2b\"], [1.0, \"#fde725\"]], \"name\": \"mse_v\", \"opacity\": 0.9, \"scene\": \"scene2\", \"showlegend\": true, \"showscale\": false, \"type\": \"surface\", \"x\": [0.1, 0.14677992676220694, 0.21544346900318834, 0.31622776601683794, 0.46415888336127786, 0.6812920690579611, 1.0, 1.467799267622069, 2.1544346900318834, 3.1622776601683795], \"y\": [0.1, 0.14677992676220694, 0.21544346900318834, 0.31622776601683794, 0.46415888336127786, 0.6812920690579611, 1.0, 1.467799267622069, 2.1544346900318834, 3.1622776601683795], \"z\": [[1.9318066835403442, 1.828616738319397, 1.7715116739273071, 1.983512282371521, 1.8078173398971558, 1.7966320514678955, 1.8891140222549438, 1.701128363609314, 1.3366432189941406, 1.7224164009094238], [1.7302137613296509, 1.4431911706924438, 1.6620591878890991, 1.9441523551940918, 1.9941532611846924, 1.8927556276321411, 1.825790524482727, 1.63930082321167, 1.998090386390686, 1.9039442539215088], [1.7816640138626099, 1.6907587051391602, 1.9695320129394531, 1.9479730129241943, 1.9181256294250488, 1.9110487699508667, 1.7886335849761963, 1.8742233514785767, 1.868402361869812, 1.9203310012817383], [1.76763916015625, 1.7200065851211548, 1.7636009454727173, 1.7810759544372559, 1.8782641887664795, 1.6442883014678955, 1.5583192110061646, 1.7310435771942139, 1.7293018102645874, 1.7011845111846924], [1.9012680053710938, 1.9493064880371094, 1.966543436050415, 1.9176857471466064, 1.4997901916503906, 1.8225908279418945, 1.9516265392303467, 1.7993617057800293, 1.6084321737289429, 1.7398878335952759], [1.9651439189910889, 1.9036357402801514, 1.9906748533248901, 1.8482162952423096, 1.633042812347412, 1.7280893325805664, 1.7740422487258911, 1.6940478086471558, 1.7180798053741455, 1.988901972770691], [1.6550477743148804, 1.8349621295928955, 1.9065580368041992, 1.8493964672088623, 1.8591424226760864, 1.4356387853622437, 1.5349162817001343, 0.9800561666488647, 1.4375234842300415, 0.7947182655334473], [1.735625147819519, 1.9159289598464966, 1.856417179107666, 1.8453459739685059, 1.8235429525375366, 1.7983070611953735, 1.5117285251617432, 1.1663376092910767, 0.9123056530952454, 1.8421272039413452], [1.9399325847625732, 1.8064149618148804, 1.8228756189346313, 1.731905460357666, 1.8638181686401367, 1.4252265691757202, 1.536970615386963, 1.6308190822601318, 0.6500535607337952, 0.7982082366943359], [1.7759146690368652, 1.8668997287750244, 1.544541358947754, 1.7908790111541748, 1.31622314453125, 1.2705944776535034, 1.2230050563812256, 1.6030851602554321, 0.8662732839584351, 0.5447971224784851]]}],                        {\"scene\": {\"domain\": {\"x\": [0.0, 0.45], \"y\": [0.0, 1.0]}, \"xaxis\": {\"title\": {\"text\": \"beta_v\"}}, \"yaxis\": {\"title\": {\"text\": \"beta_u\"}}, \"zaxis\": {\"title\": {\"text\": \"overlap\"}}}, \"scene2\": {\"domain\": {\"x\": [0.55, 1.0], \"y\": [0.0, 1.0]}}, \"template\": {\"data\": {\"bar\": [{\"error_x\": {\"color\": \"#2a3f5f\"}, \"error_y\": {\"color\": \"#2a3f5f\"}, \"marker\": {\"line\": {\"color\": \"#E5ECF6\", \"width\": 0.5}}, \"type\": \"bar\"}], \"barpolar\": [{\"marker\": {\"line\": {\"color\": \"#E5ECF6\", \"width\": 0.5}}, \"type\": \"barpolar\"}], \"carpet\": [{\"aaxis\": {\"endlinecolor\": \"#2a3f5f\", \"gridcolor\": \"white\", \"linecolor\": \"white\", \"minorgridcolor\": \"white\", \"startlinecolor\": \"#2a3f5f\"}, \"baxis\": {\"endlinecolor\": \"#2a3f5f\", \"gridcolor\": \"white\", \"linecolor\": \"white\", \"minorgridcolor\": \"white\", \"startlinecolor\": \"#2a3f5f\"}, \"type\": \"carpet\"}], \"choropleth\": [{\"colorbar\": {\"outlinewidth\": 0, \"ticks\": \"\"}, \"type\": \"choropleth\"}], \"contour\": [{\"colorbar\": {\"outlinewidth\": 0, \"ticks\": \"\"}, \"colorscale\": [[0.0, \"#0d0887\"], [0.1111111111111111, \"#46039f\"], [0.2222222222222222, \"#7201a8\"], [0.3333333333333333, \"#9c179e\"], [0.4444444444444444, \"#bd3786\"], [0.5555555555555556, \"#d8576b\"], [0.6666666666666666, \"#ed7953\"], [0.7777777777777778, \"#fb9f3a\"], [0.8888888888888888, \"#fdca26\"], [1.0, \"#f0f921\"]], \"type\": \"contour\"}], \"contourcarpet\": [{\"colorbar\": {\"outlinewidth\": 0, \"ticks\": \"\"}, \"type\": \"contourcarpet\"}], \"heatmap\": [{\"colorbar\": {\"outlinewidth\": 0, \"ticks\": \"\"}, \"colorscale\": [[0.0, \"#0d0887\"], [0.1111111111111111, \"#46039f\"], [0.2222222222222222, \"#7201a8\"], [0.3333333333333333, \"#9c179e\"], [0.4444444444444444, \"#bd3786\"], [0.5555555555555556, \"#d8576b\"], [0.6666666666666666, \"#ed7953\"], [0.7777777777777778, \"#fb9f3a\"], [0.8888888888888888, \"#fdca26\"], [1.0, \"#f0f921\"]], \"type\": \"heatmap\"}], \"heatmapgl\": [{\"colorbar\": {\"outlinewidth\": 0, \"ticks\": \"\"}, \"colorscale\": [[0.0, \"#0d0887\"], [0.1111111111111111, \"#46039f\"], [0.2222222222222222, \"#7201a8\"], [0.3333333333333333, \"#9c179e\"], [0.4444444444444444, \"#bd3786\"], [0.5555555555555556, \"#d8576b\"], [0.6666666666666666, \"#ed7953\"], [0.7777777777777778, \"#fb9f3a\"], [0.8888888888888888, \"#fdca26\"], [1.0, \"#f0f921\"]], \"type\": \"heatmapgl\"}], \"histogram\": [{\"marker\": {\"colorbar\": {\"outlinewidth\": 0, \"ticks\": \"\"}}, \"type\": \"histogram\"}], \"histogram2d\": [{\"colorbar\": {\"outlinewidth\": 0, \"ticks\": \"\"}, \"colorscale\": [[0.0, \"#0d0887\"], [0.1111111111111111, \"#46039f\"], [0.2222222222222222, \"#7201a8\"], [0.3333333333333333, \"#9c179e\"], [0.4444444444444444, \"#bd3786\"], [0.5555555555555556, \"#d8576b\"], [0.6666666666666666, \"#ed7953\"], [0.7777777777777778, \"#fb9f3a\"], [0.8888888888888888, \"#fdca26\"], [1.0, \"#f0f921\"]], \"type\": \"histogram2d\"}], \"histogram2dcontour\": [{\"colorbar\": {\"outlinewidth\": 0, \"ticks\": \"\"}, \"colorscale\": [[0.0, \"#0d0887\"], [0.1111111111111111, \"#46039f\"], [0.2222222222222222, \"#7201a8\"], [0.3333333333333333, \"#9c179e\"], [0.4444444444444444, \"#bd3786\"], [0.5555555555555556, \"#d8576b\"], [0.6666666666666666, \"#ed7953\"], [0.7777777777777778, \"#fb9f3a\"], [0.8888888888888888, \"#fdca26\"], [1.0, \"#f0f921\"]], \"type\": \"histogram2dcontour\"}], \"mesh3d\": [{\"colorbar\": {\"outlinewidth\": 0, \"ticks\": \"\"}, \"type\": \"mesh3d\"}], \"parcoords\": [{\"line\": {\"colorbar\": {\"outlinewidth\": 0, \"ticks\": \"\"}}, \"type\": \"parcoords\"}], \"pie\": [{\"automargin\": true, \"type\": \"pie\"}], \"scatter\": [{\"marker\": {\"colorbar\": {\"outlinewidth\": 0, \"ticks\": \"\"}}, \"type\": \"scatter\"}], \"scatter3d\": [{\"line\": {\"colorbar\": {\"outlinewidth\": 0, \"ticks\": \"\"}}, \"marker\": {\"colorbar\": {\"outlinewidth\": 0, \"ticks\": \"\"}}, \"type\": \"scatter3d\"}], \"scattercarpet\": [{\"marker\": {\"colorbar\": {\"outlinewidth\": 0, \"ticks\": \"\"}}, \"type\": \"scattercarpet\"}], \"scattergeo\": [{\"marker\": {\"colorbar\": {\"outlinewidth\": 0, \"ticks\": \"\"}}, \"type\": \"scattergeo\"}], \"scattergl\": [{\"marker\": {\"colorbar\": {\"outlinewidth\": 0, \"ticks\": \"\"}}, \"type\": \"scattergl\"}], \"scattermapbox\": [{\"marker\": {\"colorbar\": {\"outlinewidth\": 0, \"ticks\": \"\"}}, \"type\": \"scattermapbox\"}], \"scatterpolar\": [{\"marker\": {\"colorbar\": {\"outlinewidth\": 0, \"ticks\": \"\"}}, \"type\": \"scatterpolar\"}], \"scatterpolargl\": [{\"marker\": {\"colorbar\": {\"outlinewidth\": 0, \"ticks\": \"\"}}, \"type\": \"scatterpolargl\"}], \"scatterternary\": [{\"marker\": {\"colorbar\": {\"outlinewidth\": 0, \"ticks\": \"\"}}, \"type\": \"scatterternary\"}], \"surface\": [{\"colorbar\": {\"outlinewidth\": 0, \"ticks\": \"\"}, \"colorscale\": [[0.0, \"#0d0887\"], [0.1111111111111111, \"#46039f\"], [0.2222222222222222, \"#7201a8\"], [0.3333333333333333, \"#9c179e\"], [0.4444444444444444, \"#bd3786\"], [0.5555555555555556, \"#d8576b\"], [0.6666666666666666, \"#ed7953\"], [0.7777777777777778, \"#fb9f3a\"], [0.8888888888888888, \"#fdca26\"], [1.0, \"#f0f921\"]], \"type\": \"surface\"}], \"table\": [{\"cells\": {\"fill\": {\"color\": \"#EBF0F8\"}, \"line\": {\"color\": \"white\"}}, \"header\": {\"fill\": {\"color\": \"#C8D4E3\"}, \"line\": {\"color\": \"white\"}}, \"type\": \"table\"}]}, \"layout\": {\"annotationdefaults\": {\"arrowcolor\": \"#2a3f5f\", \"arrowhead\": 0, \"arrowwidth\": 1}, \"autotypenumbers\": \"strict\", \"coloraxis\": {\"colorbar\": {\"outlinewidth\": 0, \"ticks\": \"\"}}, \"colorscale\": {\"diverging\": [[0, \"#8e0152\"], [0.1, \"#c51b7d\"], [0.2, \"#de77ae\"], [0.3, \"#f1b6da\"], [0.4, \"#fde0ef\"], [0.5, \"#f7f7f7\"], [0.6, \"#e6f5d0\"], [0.7, \"#b8e186\"], [0.8, \"#7fbc41\"], [0.9, \"#4d9221\"], [1, \"#276419\"]], \"sequential\": [[0.0, \"#0d0887\"], [0.1111111111111111, \"#46039f\"], [0.2222222222222222, \"#7201a8\"], [0.3333333333333333, \"#9c179e\"], [0.4444444444444444, \"#bd3786\"], [0.5555555555555556, \"#d8576b\"], [0.6666666666666666, \"#ed7953\"], [0.7777777777777778, \"#fb9f3a\"], [0.8888888888888888, \"#fdca26\"], [1.0, \"#f0f921\"]], \"sequentialminus\": [[0.0, \"#0d0887\"], [0.1111111111111111, \"#46039f\"], [0.2222222222222222, \"#7201a8\"], [0.3333333333333333, \"#9c179e\"], [0.4444444444444444, \"#bd3786\"], [0.5555555555555556, \"#d8576b\"], [0.6666666666666666, \"#ed7953\"], [0.7777777777777778, \"#fb9f3a\"], [0.8888888888888888, \"#fdca26\"], [1.0, \"#f0f921\"]]}, \"colorway\": [\"#636efa\", \"#EF553B\", \"#00cc96\", \"#ab63fa\", \"#FFA15A\", \"#19d3f3\", \"#FF6692\", \"#B6E880\", \"#FF97FF\", \"#FECB52\"], \"font\": {\"color\": \"#2a3f5f\"}, \"geo\": {\"bgcolor\": \"white\", \"lakecolor\": \"white\", \"landcolor\": \"#E5ECF6\", \"showlakes\": true, \"showland\": true, \"subunitcolor\": \"white\"}, \"hoverlabel\": {\"align\": \"left\"}, \"hovermode\": \"closest\", \"mapbox\": {\"style\": \"light\"}, \"paper_bgcolor\": \"white\", \"plot_bgcolor\": \"#E5ECF6\", \"polar\": {\"angularaxis\": {\"gridcolor\": \"white\", \"linecolor\": \"white\", \"ticks\": \"\"}, \"bgcolor\": \"#E5ECF6\", \"radialaxis\": {\"gridcolor\": \"white\", \"linecolor\": \"white\", \"ticks\": \"\"}}, \"scene\": {\"xaxis\": {\"backgroundcolor\": \"#E5ECF6\", \"gridcolor\": \"white\", \"gridwidth\": 2, \"linecolor\": \"white\", \"showbackground\": true, \"ticks\": \"\", \"zerolinecolor\": \"white\"}, \"yaxis\": {\"backgroundcolor\": \"#E5ECF6\", \"gridcolor\": \"white\", \"gridwidth\": 2, \"linecolor\": \"white\", \"showbackground\": true, \"ticks\": \"\", \"zerolinecolor\": \"white\"}, \"zaxis\": {\"backgroundcolor\": \"#E5ECF6\", \"gridcolor\": \"white\", \"gridwidth\": 2, \"linecolor\": \"white\", \"showbackground\": true, \"ticks\": \"\", \"zerolinecolor\": \"white\"}}, \"shapedefaults\": {\"line\": {\"color\": \"#2a3f5f\"}}, \"ternary\": {\"aaxis\": {\"gridcolor\": \"white\", \"linecolor\": \"white\", \"ticks\": \"\"}, \"baxis\": {\"gridcolor\": \"white\", \"linecolor\": \"white\", \"ticks\": \"\"}, \"bgcolor\": \"#E5ECF6\", \"caxis\": {\"gridcolor\": \"white\", \"linecolor\": \"white\", \"ticks\": \"\"}}, \"title\": {\"x\": 0.05}, \"xaxis\": {\"automargin\": true, \"gridcolor\": \"white\", \"linecolor\": \"white\", \"ticks\": \"\", \"title\": {\"standoff\": 15}, \"zerolinecolor\": \"white\", \"zerolinewidth\": 2}, \"yaxis\": {\"automargin\": true, \"gridcolor\": \"white\", \"linecolor\": \"white\", \"ticks\": \"\", \"title\": {\"standoff\": 15}, \"zerolinecolor\": \"white\", \"zerolinewidth\": 2}}}, \"title\": {\"text\": \"n=500, m=500; lu=1, lv=0.01\"}},                        {\"responsive\": true}                    ).then(function(){\n",
       "                            \n",
       "var gd = document.getElementById('14ccec9a-2102-40fc-a54e-ed117a63541d');\n",
       "var x = new MutationObserver(function (mutations, observer) {{\n",
       "        var display = window.getComputedStyle(gd).display;\n",
       "        if (!display || display === 'none') {{\n",
       "            console.log([gd, 'removed!']);\n",
       "            Plotly.purge(gd);\n",
       "            observer.disconnect();\n",
       "        }}\n",
       "}});\n",
       "\n",
       "// Listen for the removal of the full notebook cells\n",
       "var notebookContainer = gd.closest('#notebook-container');\n",
       "if (notebookContainer) {{\n",
       "    x.observe(notebookContainer, {childList: true});\n",
       "}}\n",
       "\n",
       "// Listen for the clearing of the current output cell\n",
       "var outputEl = gd.closest('.output');\n",
       "if (outputEl) {{\n",
       "    x.observe(outputEl, {childList: true});\n",
       "}}\n",
       "\n",
       "                        })                };                });            </script>        </div>"
      ]
     },
     "metadata": {},
     "output_type": "display_data"
    }
   ],
   "source": [
    "# OVERLAP AND MSE RUN 2 _ U et V séparés!\n",
    "\n",
    "from plotly.subplots import make_subplots\n",
    "\n",
    "array_u_overlap, array_v_overlap=overlap_at_final_iteration_2.mean(axis=1).T\n",
    "\n",
    "array_u_overlap=array_u_overlap.reshape(len(list_value_1),len(list_value_2))\n",
    "array_v_overlap=array_v_overlap.reshape(len(list_value_1),len(list_value_2))\n",
    "#array_v_overlap=array_v_overlap+0.1\n",
    "\n",
    "array_u_mse, array_v_mse=mse_at_final_iteration_2.mean(axis=1).T\n",
    "\n",
    "array_u_mse=array_u_mse.reshape(len(list_value_1),len(list_value_2))\n",
    "array_v_mse=array_v_mse.reshape(len(list_value_1),len(list_value_2))\n",
    "#array_v_mse=array_v_mse+0.1\n",
    "\n",
    "fig = make_subplots(rows=1, cols=2, specs=[[{'type': 'surface'}, {'type': 'surface'}]])\n",
    "fig.add_trace(go.Surface(z=array_u_overlap, x=list_value_2, y=list_value_1,\n",
    "                         name=\"overlap_u\", showscale=False),\n",
    "             row=1, col=1)\n",
    "fig.add_trace(go.Surface(z=array_v_overlap, x=list_value_2, y=list_value_1,\n",
    "                         name=\"overlap_v\", showscale=False, opacity=0.9),\n",
    "             row=1, col=1)\n",
    "\n",
    "fig.add_trace(go.Surface(z=array_u_mse, x=list_value_2, y=list_value_1,\n",
    "                         name=\"mse_u\", showscale=False, colorscale ='viridis'),\n",
    "             row=1, col=2)\n",
    "fig.add_trace(go.Surface(z=array_v_mse, x=list_value_2, y=list_value_1,\n",
    "                         name=\"mse_v\", showscale=False,colorscale ='viridis', opacity=0.9),\n",
    "             row=1, col=2)\n",
    "\n",
    "fig.update_layout(\n",
    "    title=f\"n={name_n_2}, m={name_m_2}; lu={lambda_u_val_2}, lv={lambda_v_val_2}\",\n",
    ")\n",
    "fig.update_layout(scene = dict(\n",
    "                    xaxis_title=name_value_2,\n",
    "                    yaxis_title=name_value_1,\n",
    "                    zaxis_title=\"overlap\"),\n",
    "                  scene2 = dict(\n",
    "                    xaxis_title=name_value_2,\n",
    "                    yaxis_title=name_value_1,\n",
    "                    zaxis_title=\"mse\"),\n",
    "               autosize=False, width=1000, height=500)\n",
    "fig.update_traces(showlegend=True)\n",
    "\n",
    "fig.show()\n",
    "path=f\"C:/Users/Admin/Desktop/n={name_n_2}_m={name_m_2}_lu={lambda_u_val_2}_lv={lambda_v_val_2}_uv.html\"\n",
    "fig.write_html(path)"
   ]
  },
  {
   "cell_type": "code",
   "execution_count": null,
   "metadata": {},
   "outputs": [],
   "source": [
    "                                    ####################\n",
    "                                    ##### OLD GRAPH ####\n",
    "                                    ####################"
   ]
  },
  {
   "cell_type": "code",
   "execution_count": 6,
   "metadata": {},
   "outputs": [
    {
     "ename": "NameError",
     "evalue": "name 'overlap_at_final_iteration' is not defined",
     "output_type": "error",
     "traceback": [
      "\u001b[1;31m---------------------------------------------------------------------------\u001b[0m",
      "\u001b[1;31mNameError\u001b[0m                                 Traceback (most recent call last)",
      "\u001b[1;32m<ipython-input-6-1f231733fc7a>\u001b[0m in \u001b[0;36m<module>\u001b[1;34m\u001b[0m\n\u001b[0;32m      1\u001b[0m \u001b[1;31m######################### 3D PLOT OVERLAP AVEC PLOTLY\u001b[0m\u001b[1;33m\u001b[0m\u001b[1;33m\u001b[0m\u001b[1;33m\u001b[0m\u001b[0m\n\u001b[0;32m      2\u001b[0m \u001b[1;31m# U et V séparés!\u001b[0m\u001b[1;33m\u001b[0m\u001b[1;33m\u001b[0m\u001b[1;33m\u001b[0m\u001b[0m\n\u001b[1;32m----> 3\u001b[1;33m \u001b[0marray_u\u001b[0m\u001b[1;33m,\u001b[0m \u001b[0marray_v\u001b[0m\u001b[1;33m=\u001b[0m\u001b[0moverlap_at_final_iteration\u001b[0m\u001b[1;33m.\u001b[0m\u001b[0mmean\u001b[0m\u001b[1;33m(\u001b[0m\u001b[0maxis\u001b[0m\u001b[1;33m=\u001b[0m\u001b[1;36m1\u001b[0m\u001b[1;33m)\u001b[0m\u001b[1;33m.\u001b[0m\u001b[0mT\u001b[0m\u001b[1;33m\u001b[0m\u001b[1;33m\u001b[0m\u001b[0m\n\u001b[0m\u001b[0;32m      4\u001b[0m \u001b[1;33m\u001b[0m\u001b[0m\n\u001b[0;32m      5\u001b[0m \u001b[0marray_u\u001b[0m\u001b[1;33m=\u001b[0m\u001b[0marray_u\u001b[0m\u001b[1;33m.\u001b[0m\u001b[0mreshape\u001b[0m\u001b[1;33m(\u001b[0m\u001b[0mlen\u001b[0m\u001b[1;33m(\u001b[0m\u001b[0mlist_value_1\u001b[0m\u001b[1;33m)\u001b[0m\u001b[1;33m,\u001b[0m\u001b[0mlen\u001b[0m\u001b[1;33m(\u001b[0m\u001b[0mlist_value_2\u001b[0m\u001b[1;33m)\u001b[0m\u001b[1;33m)\u001b[0m\u001b[1;33m\u001b[0m\u001b[1;33m\u001b[0m\u001b[0m\n",
      "\u001b[1;31mNameError\u001b[0m: name 'overlap_at_final_iteration' is not defined"
     ]
    }
   ],
   "source": [
    "######################### 3D PLOT OVERLAP AVEC PLOTLY\n",
    "# U et V séparés!\n",
    "array_u, array_v=overlap_at_final_iteration.mean(axis=1).T\n",
    "\n",
    "array_u=array_u.reshape(len(list_value_1),len(list_value_2))\n",
    "array_v=array_v.reshape(len(list_value_1),len(list_value_2))\n",
    "array_v=array_v+0.1\n",
    "\n",
    "fig = go.Figure(data=[\n",
    "    go.Surface(z=array_u,x=list_value_1, y=list_value_2),\n",
    "    go.Surface(z=array_v,x=list_value_1, y=list_value_2,showscale=False, opacity=0.9)])\n",
    "\n",
    "fig.update_layout(\n",
    "    title=\"OVERLAP: \",\n",
    ")\n",
    "fig.update_layout(scene = dict(\n",
    "                    xaxis_title=name_value_2,\n",
    "                    yaxis_title=name_value_1,\n",
    "                    zaxis_title=\"overlap\"))\n",
    "\n",
    "fig.show()\n",
    "fig.write_html(\"C:/Users/Admin/Desktop/overlap_uv.html\")"
   ]
  },
  {
   "cell_type": "code",
   "execution_count": 7,
   "metadata": {},
   "outputs": [
    {
     "ename": "NameError",
     "evalue": "name 'mse_at_final_iteration' is not defined",
     "output_type": "error",
     "traceback": [
      "\u001b[1;31m---------------------------------------------------------------------------\u001b[0m",
      "\u001b[1;31mNameError\u001b[0m                                 Traceback (most recent call last)",
      "\u001b[1;32m<ipython-input-7-79a39d88f188>\u001b[0m in \u001b[0;36m<module>\u001b[1;34m\u001b[0m\n\u001b[0;32m      1\u001b[0m \u001b[1;31m######################### 3D PLOT MSE AVEC PLOTLY\u001b[0m\u001b[1;33m\u001b[0m\u001b[1;33m\u001b[0m\u001b[1;33m\u001b[0m\u001b[0m\n\u001b[1;32m----> 2\u001b[1;33m \u001b[0mmse_mean\u001b[0m\u001b[1;33m=\u001b[0m\u001b[0mmse_at_final_iteration\u001b[0m\u001b[1;33m.\u001b[0m\u001b[0mmean\u001b[0m\u001b[1;33m(\u001b[0m\u001b[0maxis\u001b[0m\u001b[1;33m=\u001b[0m\u001b[1;36m1\u001b[0m\u001b[1;33m)\u001b[0m\u001b[1;33m.\u001b[0m\u001b[0mmean\u001b[0m\u001b[1;33m(\u001b[0m\u001b[0maxis\u001b[0m\u001b[1;33m=\u001b[0m\u001b[1;36m1\u001b[0m\u001b[1;33m)\u001b[0m\u001b[1;33m\u001b[0m\u001b[1;33m\u001b[0m\u001b[0m\n\u001b[0m\u001b[0;32m      3\u001b[0m \u001b[0mx\u001b[0m\u001b[1;33m,\u001b[0m \u001b[0my\u001b[0m \u001b[1;33m=\u001b[0m \u001b[0mnp\u001b[0m\u001b[1;33m.\u001b[0m\u001b[0mmeshgrid\u001b[0m\u001b[1;33m(\u001b[0m\u001b[0mlist_value_2\u001b[0m\u001b[1;33m,\u001b[0m\u001b[0mlist_value_1\u001b[0m\u001b[1;33m)\u001b[0m\u001b[1;33m\u001b[0m\u001b[1;33m\u001b[0m\u001b[0m\n\u001b[0;32m      4\u001b[0m \u001b[0mmse_mean\u001b[0m\u001b[1;33m=\u001b[0m\u001b[0mmse_mean\u001b[0m\u001b[1;33m.\u001b[0m\u001b[0mreshape\u001b[0m\u001b[1;33m(\u001b[0m\u001b[0mlen\u001b[0m\u001b[1;33m(\u001b[0m\u001b[0mlist_value_1\u001b[0m\u001b[1;33m)\u001b[0m\u001b[1;33m,\u001b[0m\u001b[0mlen\u001b[0m\u001b[1;33m(\u001b[0m\u001b[0mlist_value_2\u001b[0m\u001b[1;33m)\u001b[0m\u001b[1;33m)\u001b[0m\u001b[1;33m\u001b[0m\u001b[1;33m\u001b[0m\u001b[0m\n\u001b[0;32m      5\u001b[0m \u001b[1;33m\u001b[0m\u001b[0m\n",
      "\u001b[1;31mNameError\u001b[0m: name 'mse_at_final_iteration' is not defined"
     ]
    }
   ],
   "source": [
    "######################### 3D PLOT MSE AVEC PLOTLY\n",
    "mse_mean=mse_at_final_iteration.mean(axis=1).mean(axis=1)\n",
    "x, y = np.meshgrid(list_value_2,list_value_1)\n",
    "mse_mean=mse_mean.reshape(len(list_value_1),len(list_value_2))\n",
    "\n",
    "fig = go.Figure(data=[go.Surface(z=mse_mean, x=list_value_2, y=list_value_1)])\n",
    "\n",
    "fig.update_layout(\n",
    "    title=\"MSE: \",\n",
    ")\n",
    "fig.update_layout(scene = dict(\n",
    "                    xaxis_title=name_value_2,\n",
    "                    yaxis_title=name_value_1,\n",
    "                    zaxis_title=\"mse\"))\n",
    "\n",
    "fig.show()\n",
    "fig.write_html(\"C:/Users/Admin/Desktop/mse.html\")"
   ]
  },
  {
   "cell_type": "code",
   "execution_count": 8,
   "metadata": {},
   "outputs": [
    {
     "ename": "NameError",
     "evalue": "name 'mse_at_final_iteration' is not defined",
     "output_type": "error",
     "traceback": [
      "\u001b[1;31m---------------------------------------------------------------------------\u001b[0m",
      "\u001b[1;31mNameError\u001b[0m                                 Traceback (most recent call last)",
      "\u001b[1;32m<ipython-input-8-17fe471046e4>\u001b[0m in \u001b[0;36m<module>\u001b[1;34m\u001b[0m\n\u001b[0;32m      1\u001b[0m \u001b[1;31m######################### 3D PLOT MSE AVEC PLOTLY\u001b[0m\u001b[1;33m\u001b[0m\u001b[1;33m\u001b[0m\u001b[1;33m\u001b[0m\u001b[0m\n\u001b[0;32m      2\u001b[0m \u001b[1;31m# U et V séparés!\u001b[0m\u001b[1;33m\u001b[0m\u001b[1;33m\u001b[0m\u001b[1;33m\u001b[0m\u001b[0m\n\u001b[1;32m----> 3\u001b[1;33m \u001b[0marray_u\u001b[0m\u001b[1;33m,\u001b[0m \u001b[0marray_v\u001b[0m\u001b[1;33m=\u001b[0m\u001b[0mmse_at_final_iteration\u001b[0m\u001b[1;33m.\u001b[0m\u001b[0mmean\u001b[0m\u001b[1;33m(\u001b[0m\u001b[0maxis\u001b[0m\u001b[1;33m=\u001b[0m\u001b[1;36m1\u001b[0m\u001b[1;33m)\u001b[0m\u001b[1;33m.\u001b[0m\u001b[0mT\u001b[0m\u001b[1;33m\u001b[0m\u001b[1;33m\u001b[0m\u001b[0m\n\u001b[0m\u001b[0;32m      4\u001b[0m \u001b[1;33m\u001b[0m\u001b[0m\n\u001b[0;32m      5\u001b[0m \u001b[0marray_u\u001b[0m\u001b[1;33m=\u001b[0m\u001b[0marray_u\u001b[0m\u001b[1;33m.\u001b[0m\u001b[0mreshape\u001b[0m\u001b[1;33m(\u001b[0m\u001b[0mlen\u001b[0m\u001b[1;33m(\u001b[0m\u001b[0mlist_value_1\u001b[0m\u001b[1;33m)\u001b[0m\u001b[1;33m,\u001b[0m\u001b[0mlen\u001b[0m\u001b[1;33m(\u001b[0m\u001b[0mlist_value_2\u001b[0m\u001b[1;33m)\u001b[0m\u001b[1;33m)\u001b[0m\u001b[1;33m\u001b[0m\u001b[1;33m\u001b[0m\u001b[0m\n",
      "\u001b[1;31mNameError\u001b[0m: name 'mse_at_final_iteration' is not defined"
     ]
    }
   ],
   "source": [
    "######################### 3D PLOT MSE AVEC PLOTLY\n",
    "# U et V séparés!\n",
    "array_u, array_v=mse_at_final_iteration.mean(axis=1).T\n",
    "\n",
    "array_u=array_u.reshape(len(list_value_1),len(list_value_2))\n",
    "array_v=array_v.reshape(len(list_value_1),len(list_value_2))\n",
    "array_v=array_v+0.1\n",
    "\n",
    "fig = go.Figure(data=[\n",
    "    go.Surface(z=array_u,x=list_value_1, y=list_value_2),\n",
    "    go.Surface(z=array_v,x=list_value_1, y=list_value_2,showscale=False, opacity=0.9)])\n",
    "\n",
    "fig.update_layout(\n",
    "    title=\"MSE: \",\n",
    ")\n",
    "fig.update_layout(scene = dict(\n",
    "                    xaxis_title=name_value_2,\n",
    "                    yaxis_title=name_value_1,\n",
    "                    zaxis_title=\"mse\"))\n",
    "\n",
    "fig.show()\n",
    "fig.write_html(\"C:/Users/Admin/Desktop/mse_uv.html\")"
   ]
  },
  {
   "cell_type": "code",
   "execution_count": 127,
   "metadata": {},
   "outputs": [
    {
     "data": {
      "image/png": "[encoded data removed]",
      "text/plain": [
       "<Figure size 432x288 with 1 Axes>"
      ]
     },
     "metadata": {},
     "output_type": "display_data"
    }
   ],
   "source": [
    "# overlap_at_each_iterations = FIRST CONFIG\n",
    "# overlap_at_each_iterations_2 = SECOND CONFIG\n",
    "\n",
    "######################### 3D PLOT OVERLAP\n",
    "x, y = np.meshgrid(list_value_2,list_value_1)\n",
    "overlap_mean=overlap_at_final_iteration.mean(axis=1).mean(axis=1)\n",
    "overlap_mean=overlap_mean.reshape(len(list_value_1),len(list_value_2))\n",
    "\n",
    "fig=plt.figure(facecolor='white')\n",
    "ax=plt.axes(projection='3d')\n",
    "ax.contour3D(x,y,overlap_mean, 50)\n",
    "\n",
    "ax.set_title(\"OVERLAP\")\n",
    "ax.set_xlabel(f\"{name_value_2}\")\n",
    "ax.set_ylabel(f\"{name_value_1}\")\n",
    "\n",
    "plt.show()"
   ]
  },
  {
   "cell_type": "code",
   "execution_count": null,
   "metadata": {},
   "outputs": [],
   "source": [
    "# overlap_at_each_iterations = FIRST CONFIG\n",
    "# overlap_at_each_iterations_2 = SECOND CONFIG\n",
    "\n",
    "# STABILISATION OVERLAP AVEC PLOTLY\n",
    "# CHANGER SELECTED_RUN !\n",
    "selected_run=0\n",
    "\n",
    "var_u,var_v=np.var(overlap_at_each_iterations[selected_run], axis=0).T\n",
    "overlap_u,overlap_v=overlap_at_each_iterations.mean(1)[selected_run].T\n",
    "\n",
    "x=[i for i in range(len(overlap_u))]\n",
    "\n",
    "fig=go.Figure(data=[go.Scatter(\n",
    "        x=x,\n",
    "        y=overlap_u,\n",
    "        error_y=dict(\n",
    "            type='data', # value of error bar given in data coordinates\n",
    "            array=var_u,\n",
    "            visible=True),\n",
    "        name=\"u overlap\"\n",
    "    ),\n",
    "      go.Scatter(\n",
    "        x=x,\n",
    "        y=overlap_v,\n",
    "        error_y=dict(\n",
    "            type='data', # value of error bar given in data coordinates\n",
    "            array=var_v,\n",
    "            visible=True),\n",
    "        name=\"v overlap\"     \n",
    "      )])\n",
    "\n",
    "fig.update_layout(\n",
    "    title=\"Stabilisation overlap pour: \"+f\"{name_value_1}={list_value_1[selected_run//len(list_value_2)]}\"\n",
    "                    + f\" & {name_value_2}={list_value_2[selected_run%len(list_value_2)]}\",\n",
    "    xaxis_title=\"Iterations\",\n",
    "    yaxis_title=\"Overlap\",\n",
    ")\n",
    "\n",
    "fig.show()"
   ]
  },
  {
   "cell_type": "code",
   "execution_count": null,
   "metadata": {},
   "outputs": [],
   "source": [
    "# mse_at_each_iterations = FIRST CONFIG\n",
    "# mse_at_each_iterations_2 = SECOND CONFIG\n",
    "\n",
    "# STABILISATION MSE AVEC PLOTLY\n",
    "# CHANGER SELECTED_RUN !\n",
    "selected_run=0\n",
    "\n",
    "var_u,var_v=np.var(mse_at_each_iterations[selected_run], axis=0).T\n",
    "mse_u,mse_v=mse_at_each_iterations.mean(1)[selected_run].T\n",
    "\n",
    "x=[i for i in range(len(mse_u))]\n",
    "\n",
    "fig=go.Figure(data=[go.Scatter(\n",
    "        x=x,\n",
    "        y=mse_u,\n",
    "        error_y=dict(\n",
    "            type='data', # value of error bar given in data coordinates\n",
    "            array=var_u,\n",
    "            visible=True),\n",
    "        name=\"u mse\"\n",
    "    ),\n",
    "      go.Scatter(\n",
    "        x=x,\n",
    "        y=mse_v,\n",
    "        error_y=dict(\n",
    "            type='data', # value of error bar given in data coordinates\n",
    "            array=var_v,\n",
    "            visible=True),\n",
    "        name=\"v mse\"     \n",
    "      )])\n",
    "\n",
    "fig.update_layout(\n",
    "    title=\"Stabilisation mse pour: \"+f\"{name_value_1}={list_value_1[selected_run//len(list_value_2)]}\"\n",
    "                    + f\" & {name_value_2}={list_value_2[selected_run%len(list_value_2)]}\",\n",
    "    xaxis_title=\"Iterations\",\n",
    "    yaxis_title=\"MSE\",\n",
    ")\n",
    "\n",
    "fig.show()"
   ]
  },
  {
   "cell_type": "code",
   "execution_count": null,
   "metadata": {},
   "outputs": [],
   "source": [
    "# GRAPH STABILISATION DES OVERLAPS\n",
    "fig, axs = plt.subplots(len(list_value_1)*len(list_value_2), figsize=(20,200), facecolor='white')\n",
    "fig.tight_layout()\n",
    "\n",
    "for i in range(len(list_value_1)*len(list_value_2)):\n",
    "    axs[i].grid()\n",
    "    axs[i].set_ylabel(\"overlap\")\n",
    "    axs[i].set_title(f\"{name_value_1}={list_value_1[i//len(list_value_2)]}\"\n",
    "                    + f\" & {name_value_2}={list_value_2[i%len(list_value_2)]}\")\n",
    "    #for run_in_on_sample in range(size_of_one_sample):\n",
    "    axs[i].plot(overlap_at_each_iterations.mean(1)[i])"
   ]
  },
  {
   "cell_type": "code",
   "execution_count": null,
   "metadata": {},
   "outputs": [],
   "source": [
    "# GRAPH STABILISATION DES MEAN SQUARRE ERRORS\n",
    "fig, axs = plt.subplots(len(list_value_1)*len(list_value_2), figsize=(20,200), facecolor='white')\n",
    "fig.tight_layout()\n",
    "\n",
    "for i in range(len(list_value_1)*len(list_value_2)):\n",
    "    axs[i].grid()\n",
    "    axs[i].set_ylabel(\"mse\")\n",
    "    axs[i].set_title(f\"{name_value_1}={list_value_1[i//len(list_value_2)]}\"\n",
    "                    + f\" & {name_value_2}={list_value_2[i%len(list_value_2)]}\")\n",
    "    for run_in_on_sample in range(size_of_one_sample):\n",
    "        axs[i].plot(mse_at_each_iterations[i][run_in_on_sample])"
   ]
  },
  {
   "cell_type": "code",
   "execution_count": 2,
   "metadata": {},
   "outputs": [
    {
     "ename": "NameError",
     "evalue": "name 'np' is not defined",
     "output_type": "error",
     "traceback": [
      "\u001b[1;31m---------------------------------------------------------------------------\u001b[0m",
      "\u001b[1;31mNameError\u001b[0m                                 Traceback (most recent call last)",
      "\u001b[1;32m<ipython-input-2-d1348aff74f7>\u001b[0m in \u001b[0;36m<module>\u001b[1;34m\u001b[0m\n\u001b[1;32m----> 1\u001b[1;33m \u001b[0mx\u001b[0m\u001b[1;33m,\u001b[0m \u001b[0my\u001b[0m \u001b[1;33m=\u001b[0m \u001b[0mnp\u001b[0m\u001b[1;33m.\u001b[0m\u001b[0mmeshgrid\u001b[0m\u001b[1;33m(\u001b[0m\u001b[0mlist_value_2\u001b[0m\u001b[1;33m,\u001b[0m\u001b[0mlist_value_1\u001b[0m\u001b[1;33m)\u001b[0m\u001b[1;33m\u001b[0m\u001b[1;33m\u001b[0m\u001b[0m\n\u001b[0m\u001b[0;32m      2\u001b[0m \u001b[0moverlap_mean\u001b[0m\u001b[1;33m=\u001b[0m\u001b[0moverlap_at_final_iteration\u001b[0m\u001b[1;33m.\u001b[0m\u001b[0mmean\u001b[0m\u001b[1;33m(\u001b[0m\u001b[0maxis\u001b[0m\u001b[1;33m=\u001b[0m\u001b[1;36m1\u001b[0m\u001b[1;33m)\u001b[0m\u001b[1;33m.\u001b[0m\u001b[0mmean\u001b[0m\u001b[1;33m(\u001b[0m\u001b[0maxis\u001b[0m\u001b[1;33m=\u001b[0m\u001b[1;36m1\u001b[0m\u001b[1;33m)\u001b[0m\u001b[1;33m\u001b[0m\u001b[1;33m\u001b[0m\u001b[0m\n\u001b[0;32m      3\u001b[0m \u001b[0moverlap_mean\u001b[0m\u001b[1;33m=\u001b[0m\u001b[0moverlap_mean\u001b[0m\u001b[1;33m.\u001b[0m\u001b[0mreshape\u001b[0m\u001b[1;33m(\u001b[0m\u001b[0mlen\u001b[0m\u001b[1;33m(\u001b[0m\u001b[0mlist_value_1\u001b[0m\u001b[1;33m)\u001b[0m\u001b[1;33m,\u001b[0m\u001b[0mlen\u001b[0m\u001b[1;33m(\u001b[0m\u001b[0mlist_value_2\u001b[0m\u001b[1;33m)\u001b[0m\u001b[1;33m)\u001b[0m\u001b[1;33m\u001b[0m\u001b[1;33m\u001b[0m\u001b[0m\n\u001b[0;32m      4\u001b[0m \u001b[1;33m\u001b[0m\u001b[0m\n\u001b[0;32m      5\u001b[0m \u001b[0mfig\u001b[0m\u001b[1;33m,\u001b[0m\u001b[0max\u001b[0m\u001b[1;33m=\u001b[0m\u001b[0mplt\u001b[0m\u001b[1;33m.\u001b[0m\u001b[0msubplots\u001b[0m\u001b[1;33m(\u001b[0m\u001b[1;36m1\u001b[0m\u001b[1;33m,\u001b[0m\u001b[1;36m1\u001b[0m\u001b[1;33m,\u001b[0m \u001b[0mfacecolor\u001b[0m\u001b[1;33m=\u001b[0m\u001b[1;34m'white'\u001b[0m\u001b[1;33m)\u001b[0m\u001b[1;33m\u001b[0m\u001b[1;33m\u001b[0m\u001b[0m\n",
      "\u001b[1;31mNameError\u001b[0m: name 'np' is not defined"
     ]
    }
   ],
   "source": [
    "############ OVERLAP:\n",
    "x, y = np.meshgrid(list_value_2,list_value_1)\n",
    "overlap_mean=overlap_at_final_iteration.mean(axis=1).mean(axis=1)\n",
    "overlap_mean=overlap_mean.reshape(len(list_value_1),len(list_value_2))\n",
    "\n",
    "fig,ax=plt.subplots(1,1, facecolor='white')\n",
    "plt.contourf(x,y,overlap_mean, 20)\n",
    "\n",
    "ax.set_title(\"OVERLAP\")\n",
    "ax.set_xlabel(f\"{name_value_2}\")\n",
    "ax.set_ylabel(f\"{name_value_1}\")\n",
    "\n",
    "# specify levels from vmim to vmax\n",
    "levels = np.linspace(overlap_mean.min(), overlap_mean.max(), 10)\n",
    "plt.colorbar(ticks=levels)\n",
    "plt.show()"
   ]
  },
  {
   "cell_type": "code",
   "execution_count": 1,
   "metadata": {},
   "outputs": [
    {
     "ename": "NameError",
     "evalue": "name 'plt' is not defined",
     "output_type": "error",
     "traceback": [
      "\u001b[0;31m---------------------------------------------------------------------------\u001b[0m",
      "\u001b[0;31mNameError\u001b[0m                                 Traceback (most recent call last)",
      "\u001b[0;32m<ipython-input-1-634919c64580>\u001b[0m in \u001b[0;36m<module>\u001b[0;34m\u001b[0m\n\u001b[0;32m----> 1\u001b[0;31m \u001b[0mfig\u001b[0m\u001b[0;34m,\u001b[0m\u001b[0max\u001b[0m\u001b[0;34m=\u001b[0m\u001b[0mplt\u001b[0m\u001b[0;34m.\u001b[0m\u001b[0msubplots\u001b[0m\u001b[0;34m(\u001b[0m\u001b[0;36m1\u001b[0m\u001b[0;34m,\u001b[0m\u001b[0;36m1\u001b[0m\u001b[0;34m,\u001b[0m \u001b[0mfacecolor\u001b[0m\u001b[0;34m=\u001b[0m\u001b[0;34m'white'\u001b[0m\u001b[0;34m)\u001b[0m\u001b[0;34m\u001b[0m\u001b[0;34m\u001b[0m\u001b[0m\n\u001b[0m\u001b[1;32m      2\u001b[0m \u001b[0;34m\u001b[0m\u001b[0m\n\u001b[1;32m      3\u001b[0m \u001b[0max\u001b[0m\u001b[0;34m.\u001b[0m\u001b[0mset_title\u001b[0m\u001b[0;34m(\u001b[0m\u001b[0;34m\"OVERLAP\"\u001b[0m\u001b[0;34m)\u001b[0m\u001b[0;34m\u001b[0m\u001b[0;34m\u001b[0m\u001b[0m\n\u001b[1;32m      4\u001b[0m \u001b[0max\u001b[0m\u001b[0;34m.\u001b[0m\u001b[0mset_xlabel\u001b[0m\u001b[0;34m(\u001b[0m\u001b[0;34mf\"{name_value_2}\"\u001b[0m\u001b[0;34m)\u001b[0m\u001b[0;34m\u001b[0m\u001b[0;34m\u001b[0m\u001b[0m\n\u001b[1;32m      5\u001b[0m \u001b[0max\u001b[0m\u001b[0;34m.\u001b[0m\u001b[0mset_ylabel\u001b[0m\u001b[0;34m(\u001b[0m\u001b[0;34mf\"{name_value_1}\"\u001b[0m\u001b[0;34m)\u001b[0m\u001b[0;34m\u001b[0m\u001b[0;34m\u001b[0m\u001b[0m\n",
      "\u001b[0;31mNameError\u001b[0m: name 'plt' is not defined"
     ]
    }
   ],
   "source": [
    "fig,ax=plt.subplots(1,1, facecolor='white')\n",
    "\n",
    "ax.set_title(\"OVERLAP\")\n",
    "ax.set_xlabel(f\"{name_value_2}\")\n",
    "ax.set_ylabel(f\"{name_value_1}\")\n",
    "\n",
    "# contour noir sur le graph\n",
    "cnt = ax.contour(x,y,overlap_mean, 20, origin='lower', colors='black')\n",
    "ax.clabel(cnt, fontsize=8)\n",
    "\n",
    "# graph avec shading\n",
    "pcm=ax.pcolormesh(x, y, overlap_mean, shading=\"gouraud\")\n",
    "\n",
    "fig.colorbar(pcm)"
   ]
  },
  {
   "cell_type": "code",
   "execution_count": 1,
   "metadata": {},
   "outputs": [
    {
     "ename": "NameError",
     "evalue": "name 'plt' is not defined",
     "output_type": "error",
     "traceback": [
      "\u001b[1;31m---------------------------------------------------------------------------\u001b[0m",
      "\u001b[1;31mNameError\u001b[0m                                 Traceback (most recent call last)",
      "\u001b[1;32m<ipython-input-1-ceea85300880>\u001b[0m in \u001b[0;36m<module>\u001b[1;34m\u001b[0m\n\u001b[1;32m----> 1\u001b[1;33m \u001b[0mfig\u001b[0m\u001b[1;33m,\u001b[0m\u001b[0max\u001b[0m\u001b[1;33m=\u001b[0m\u001b[0mplt\u001b[0m\u001b[1;33m.\u001b[0m\u001b[0msubplots\u001b[0m\u001b[1;33m(\u001b[0m\u001b[1;36m1\u001b[0m\u001b[1;33m,\u001b[0m\u001b[1;36m1\u001b[0m\u001b[1;33m,\u001b[0m \u001b[0mfacecolor\u001b[0m\u001b[1;33m=\u001b[0m\u001b[1;34m'white'\u001b[0m\u001b[1;33m)\u001b[0m\u001b[1;33m\u001b[0m\u001b[1;33m\u001b[0m\u001b[0m\n\u001b[0m\u001b[0;32m      2\u001b[0m \u001b[0mplt\u001b[0m\u001b[1;33m.\u001b[0m\u001b[0mcontour\u001b[0m\u001b[1;33m(\u001b[0m\u001b[0mx\u001b[0m\u001b[1;33m,\u001b[0m\u001b[0my\u001b[0m\u001b[1;33m,\u001b[0m\u001b[0moverlap_mean\u001b[0m\u001b[1;33m)\u001b[0m\u001b[1;33m\u001b[0m\u001b[1;33m\u001b[0m\u001b[0m\n\u001b[0;32m      3\u001b[0m \u001b[1;33m\u001b[0m\u001b[0m\n\u001b[0;32m      4\u001b[0m \u001b[0max\u001b[0m\u001b[1;33m.\u001b[0m\u001b[0mset_title\u001b[0m\u001b[1;33m(\u001b[0m\u001b[1;34m\"OVERLAP\"\u001b[0m\u001b[1;33m)\u001b[0m\u001b[1;33m\u001b[0m\u001b[1;33m\u001b[0m\u001b[0m\n\u001b[0;32m      5\u001b[0m \u001b[0max\u001b[0m\u001b[1;33m.\u001b[0m\u001b[0mset_xlabel\u001b[0m\u001b[1;33m(\u001b[0m\u001b[1;34mf\"{name_value_2}\"\u001b[0m\u001b[1;33m)\u001b[0m\u001b[1;33m\u001b[0m\u001b[1;33m\u001b[0m\u001b[0m\n",
      "\u001b[1;31mNameError\u001b[0m: name 'plt' is not defined"
     ]
    }
   ],
   "source": [
    "fig,ax=plt.subplots(1,1, facecolor='white')\n",
    "plt.contour(x,y,overlap_mean)\n",
    "\n",
    "ax.set_title(\"OVERLAP\")\n",
    "ax.set_xlabel(f\"{name_value_2}\")\n",
    "ax.set_ylabel(f\"{name_value_1}\")\n",
    "\n",
    "# specify levels from vmim to vmax\n",
    "levels = np.linspace(overlap_mean.min(), overlap_mean.max(), 10)\n",
    "plt.colorbar(ticks=levels)\n",
    "plt.show()"
   ]
  },
  {
   "cell_type": "code",
   "execution_count": 23,
   "metadata": {},
   "outputs": [],
   "source": [
    "# with: [0.20049438 0.41059345 0.49443045 0.3862359  0.52844316 0.56942856]\n",
    "\n",
    "# xx= [[0.5 1.  2. ]\n",
    "#      [0.5 1.  2. ]]\n",
    "\n",
    "# yy= [[0.5 0.5 0.5]\n",
    "#      [1.  1.  1. ]]\n",
    "\n",
    "# res= [[0.20049438 0.41059345 0.49443045]\n",
    "#       [0.3862359  0.52844316 0.56942856]]"
   ]
  },
  {
   "cell_type": "code",
   "execution_count": 3,
   "metadata": {},
   "outputs": [
    {
     "ename": "NameError",
     "evalue": "name 'mse_at_final_iteration' is not defined",
     "output_type": "error",
     "traceback": [
      "\u001b[1;31m---------------------------------------------------------------------------\u001b[0m",
      "\u001b[1;31mNameError\u001b[0m                                 Traceback (most recent call last)",
      "\u001b[1;32m<ipython-input-3-8f9a56c8c3a6>\u001b[0m in \u001b[0;36m<module>\u001b[1;34m\u001b[0m\n\u001b[0;32m      1\u001b[0m \u001b[1;31m############ MSE:\u001b[0m\u001b[1;33m\u001b[0m\u001b[1;33m\u001b[0m\u001b[1;33m\u001b[0m\u001b[0m\n\u001b[1;32m----> 2\u001b[1;33m \u001b[0mmse_mean\u001b[0m\u001b[1;33m=\u001b[0m\u001b[0mmse_at_final_iteration\u001b[0m\u001b[1;33m.\u001b[0m\u001b[0mmean\u001b[0m\u001b[1;33m(\u001b[0m\u001b[0maxis\u001b[0m\u001b[1;33m=\u001b[0m\u001b[1;36m1\u001b[0m\u001b[1;33m)\u001b[0m\u001b[1;33m.\u001b[0m\u001b[0mmean\u001b[0m\u001b[1;33m(\u001b[0m\u001b[0maxis\u001b[0m\u001b[1;33m=\u001b[0m\u001b[1;36m1\u001b[0m\u001b[1;33m)\u001b[0m\u001b[1;33m\u001b[0m\u001b[1;33m\u001b[0m\u001b[0m\n\u001b[0m\u001b[0;32m      3\u001b[0m \u001b[1;33m\u001b[0m\u001b[0m\n\u001b[0;32m      4\u001b[0m \u001b[0mx\u001b[0m\u001b[1;33m,\u001b[0m \u001b[0my\u001b[0m \u001b[1;33m=\u001b[0m \u001b[0mnp\u001b[0m\u001b[1;33m.\u001b[0m\u001b[0mmeshgrid\u001b[0m\u001b[1;33m(\u001b[0m\u001b[0mlist_value_2\u001b[0m\u001b[1;33m,\u001b[0m\u001b[0mlist_value_1\u001b[0m\u001b[1;33m)\u001b[0m\u001b[1;33m\u001b[0m\u001b[1;33m\u001b[0m\u001b[0m\n\u001b[0;32m      5\u001b[0m \u001b[1;33m\u001b[0m\u001b[0m\n",
      "\u001b[1;31mNameError\u001b[0m: name 'mse_at_final_iteration' is not defined"
     ]
    }
   ],
   "source": [
    "############ MSE:\n",
    "mse_mean=mse_at_final_iteration.mean(axis=1).mean(axis=1)\n",
    "\n",
    "x, y = np.meshgrid(list_value_2,list_value_1)\n",
    "\n",
    "mse_mean=mse_mean.reshape(len(list_value_1),len(list_value_2))\n",
    "\n",
    "fig,ax=plt.subplots(1,1, facecolor='white')\n",
    "plt.contourf(x,y,mse_mean, 10)\n",
    "\n",
    "ax.set_title(\"MSE\")\n",
    "ax.set_xlabel(f\"{name_value_2}\")\n",
    "ax.set_ylabel(f\"{name_value_1}\")\n",
    "\n",
    "# specify levels from vmim to vmax\n",
    "levels = np.linspace(mse_mean.min(), mse_mean.max(), 10)\n",
    "plt.colorbar(ticks=levels)\n",
    "plt.show()"
   ]
  },
  {
   "cell_type": "code",
   "execution_count": 4,
   "metadata": {},
   "outputs": [
    {
     "ename": "NameError",
     "evalue": "name 'plt' is not defined",
     "output_type": "error",
     "traceback": [
      "\u001b[1;31m---------------------------------------------------------------------------\u001b[0m",
      "\u001b[1;31mNameError\u001b[0m                                 Traceback (most recent call last)",
      "\u001b[1;32m<ipython-input-4-0934c91616b7>\u001b[0m in \u001b[0;36m<module>\u001b[1;34m\u001b[0m\n\u001b[1;32m----> 1\u001b[1;33m \u001b[0mfig\u001b[0m\u001b[1;33m,\u001b[0m\u001b[0max\u001b[0m\u001b[1;33m=\u001b[0m\u001b[0mplt\u001b[0m\u001b[1;33m.\u001b[0m\u001b[0msubplots\u001b[0m\u001b[1;33m(\u001b[0m\u001b[1;36m1\u001b[0m\u001b[1;33m,\u001b[0m\u001b[1;36m1\u001b[0m\u001b[1;33m,\u001b[0m \u001b[0mfacecolor\u001b[0m\u001b[1;33m=\u001b[0m\u001b[1;34m'white'\u001b[0m\u001b[1;33m)\u001b[0m\u001b[1;33m\u001b[0m\u001b[1;33m\u001b[0m\u001b[0m\n\u001b[0m\u001b[0;32m      2\u001b[0m \u001b[1;33m\u001b[0m\u001b[0m\n\u001b[0;32m      3\u001b[0m \u001b[0max\u001b[0m\u001b[1;33m.\u001b[0m\u001b[0mset_title\u001b[0m\u001b[1;33m(\u001b[0m\u001b[1;34m\"MSE\"\u001b[0m\u001b[1;33m)\u001b[0m\u001b[1;33m\u001b[0m\u001b[1;33m\u001b[0m\u001b[0m\n\u001b[0;32m      4\u001b[0m \u001b[0max\u001b[0m\u001b[1;33m.\u001b[0m\u001b[0mset_xlabel\u001b[0m\u001b[1;33m(\u001b[0m\u001b[1;34mf\"{name_value_2}\"\u001b[0m\u001b[1;33m)\u001b[0m\u001b[1;33m\u001b[0m\u001b[1;33m\u001b[0m\u001b[0m\n\u001b[0;32m      5\u001b[0m \u001b[0max\u001b[0m\u001b[1;33m.\u001b[0m\u001b[0mset_ylabel\u001b[0m\u001b[1;33m(\u001b[0m\u001b[1;34mf\"{name_value_1}\"\u001b[0m\u001b[1;33m)\u001b[0m\u001b[1;33m\u001b[0m\u001b[1;33m\u001b[0m\u001b[0m\n",
      "\u001b[1;31mNameError\u001b[0m: name 'plt' is not defined"
     ]
    }
   ],
   "source": [
    "fig,ax=plt.subplots(1,1, facecolor='white')\n",
    "\n",
    "ax.set_title(\"MSE\")\n",
    "ax.set_xlabel(f\"{name_value_2}\")\n",
    "ax.set_ylabel(f\"{name_value_1}\")\n",
    "\n",
    "# contour noir sur le graph\n",
    "cnt = ax.contour(x,y,mse_mean, origin='lower', colors='black')\n",
    "ax.clabel(cnt, fontsize=8)\n",
    "\n",
    "# graph avec shading\n",
    "pcm=ax.pcolormesh(x, y, mse_mean, shading=\"gouraud\")\n",
    "\n",
    "fig.colorbar(pcm)"
   ]
  },
  {
   "cell_type": "code",
   "execution_count": 5,
   "metadata": {},
   "outputs": [
    {
     "ename": "NameError",
     "evalue": "name 'plt' is not defined",
     "output_type": "error",
     "traceback": [
      "\u001b[1;31m---------------------------------------------------------------------------\u001b[0m",
      "\u001b[1;31mNameError\u001b[0m                                 Traceback (most recent call last)",
      "\u001b[1;32m<ipython-input-5-9f21f4ae0716>\u001b[0m in \u001b[0;36m<module>\u001b[1;34m\u001b[0m\n\u001b[1;32m----> 1\u001b[1;33m \u001b[0mfig\u001b[0m\u001b[1;33m,\u001b[0m\u001b[0max\u001b[0m\u001b[1;33m=\u001b[0m\u001b[0mplt\u001b[0m\u001b[1;33m.\u001b[0m\u001b[0msubplots\u001b[0m\u001b[1;33m(\u001b[0m\u001b[1;36m1\u001b[0m\u001b[1;33m,\u001b[0m\u001b[1;36m1\u001b[0m\u001b[1;33m,\u001b[0m \u001b[0mfacecolor\u001b[0m\u001b[1;33m=\u001b[0m\u001b[1;34m'white'\u001b[0m\u001b[1;33m)\u001b[0m\u001b[1;33m\u001b[0m\u001b[1;33m\u001b[0m\u001b[0m\n\u001b[0m\u001b[0;32m      2\u001b[0m \u001b[1;33m\u001b[0m\u001b[0m\n\u001b[0;32m      3\u001b[0m \u001b[0max\u001b[0m\u001b[1;33m.\u001b[0m\u001b[0mset_title\u001b[0m\u001b[1;33m(\u001b[0m\u001b[1;34m\"MSE\"\u001b[0m\u001b[1;33m)\u001b[0m\u001b[1;33m\u001b[0m\u001b[1;33m\u001b[0m\u001b[0m\n\u001b[0;32m      4\u001b[0m \u001b[0max\u001b[0m\u001b[1;33m.\u001b[0m\u001b[0mset_xlabel\u001b[0m\u001b[1;33m(\u001b[0m\u001b[1;34mf\"{name_value_2}\"\u001b[0m\u001b[1;33m)\u001b[0m\u001b[1;33m\u001b[0m\u001b[1;33m\u001b[0m\u001b[0m\n\u001b[0;32m      5\u001b[0m \u001b[0max\u001b[0m\u001b[1;33m.\u001b[0m\u001b[0mset_ylabel\u001b[0m\u001b[1;33m(\u001b[0m\u001b[1;34mf\"{name_value_1}\"\u001b[0m\u001b[1;33m)\u001b[0m\u001b[1;33m\u001b[0m\u001b[1;33m\u001b[0m\u001b[0m\n",
      "\u001b[1;31mNameError\u001b[0m: name 'plt' is not defined"
     ]
    }
   ],
   "source": [
    "fig,ax=plt.subplots(1,1, facecolor='white')\n",
    "\n",
    "ax.set_title(\"MSE\")\n",
    "ax.set_xlabel(f\"{name_value_2}\")\n",
    "ax.set_ylabel(f\"{name_value_1}\")\n",
    "\n",
    "plt.contour(x,y,mse_mean)\n",
    "\n",
    "# specify levels from vmim to vmax\n",
    "levels = np.linspace(mse_mean.min(), mse_mean.max(), 10)\n",
    "plt.colorbar(ticks=levels)\n",
    "plt.show()"
   ]
  },
  {
   "cell_type": "code",
   "execution_count": null,
   "metadata": {},
   "outputs": [],
   "source": [
    "###################################### OLD GRAPH:\n",
    "# GRAPH STABILISATION DES OVERLAPS\n",
    "fig, axs = plt.subplots(1, facecolor='white')\n",
    "fig.tight_layout()\n",
    "\n",
    "selected_run=0\n",
    "x=[i for i in range(len(overlap_u))]\n",
    "\n",
    "var_u,var_v=np.var(overlap_at_each_iterations[selected_run], axis=0).T\n",
    "overlap_u,overlap_v=overlap_at_each_iterations.mean(1)[selected_run].T\n",
    "\n",
    "axs.grid()\n",
    "axs.set_ylabel(\"overlap\")\n",
    "axs.set_xlabel(\"iterations\")\n",
    "axs.set_title(f\"{name_value_1}={list_value_1[selected_run//len(list_value_2)]}\"\n",
    "                    + f\" & {name_value_2}={list_value_2[selected_run%len(list_value_2)]}\")\n",
    "    #for run_in_on_sample in range(size_of_one_sample):\n",
    "axs.errorbar(x, overlap_u, yerr=var_u,capsize=2, label=\"u overlap\");\n",
    "axs.plot(overlap_u, label=\"v overlap\")\n",
    "axs.plot(overlap_v, label=\"v overlap\")\n",
    "plt.legend(loc='upper right', bbox_to_anchor=(1.3, 1))"
   ]
  },
  {
   "cell_type": "code",
   "execution_count": null,
   "metadata": {},
   "outputs": [],
   "source": [
    "###################################### OLD GRAPH:\n",
    "\n",
    "# PRINT THE OVERLAP IN FUNCTION OF THE STEP\n",
    "\n",
    "# On calcul la moyenne des overlaps à chaque itérations dans un même sample avec:\n",
    "# overlap_at_each_iterations.mean(axis=1)\n",
    "#\n",
    "# ~ moyenne_sample_1 = run_1_s1 + run_2_s2 + ... / size_of_one_sample\n",
    "# ~ moyenne_sample_2 = run_1_s2 + run_2_s2 + ... / size_of_one_sample\n",
    "# ...\n",
    "\n",
    "# On calcul la moyenne des overlaps u et v à chaque itérations pour chaque sample avec:\n",
    "# overlap_at_each_iterations.mean(axis=1)\n",
    "#\n",
    "# ~ moyenne_sample_1_uv = (moyenne_sample_1_u + moyenne_sample_1_v)/2\n",
    "# ...\n",
    "\n",
    "overlap_at_each_iterations_per_sample=overlap_at_each_iterations.mean(axis=1).mean(axis=2)\n",
    "\n",
    "plt.figure(facecolor='white')\n",
    "plt.grid()\n",
    "plt.ylabel(\"overlap\")\n",
    "plt.xlabel(\"iterations\")\n",
    "color=iter(cm.rainbow(np.linspace(0,1,len(list_value_1)*len(list_value_2))))\n",
    "\n",
    "for i in range(len(list_value_1)*len(list_value_2)):\n",
    "    c=next(color)\n",
    "    plt.plot(overlap_at_each_iterations_per_sample[i], \n",
    "             label=f\"{name_value_1}={list_value_1[i//len(list_value_2)]}\"\n",
    "            + f\" & {name_value_2}={list_value_2[i%len(list_value_2)]}\", color=c)\n",
    "plt.legend(loc='upper right', bbox_to_anchor=(2, 1))"
   ]
  },
  {
   "cell_type": "code",
   "execution_count": null,
   "metadata": {},
   "outputs": [],
   "source": [
    "###################################### OLD GRAPH:\n",
    "# PRINT THE MSE IN FUNCTION OF THE STEP\n",
    "# same as the cell above but with the men squarre error:\n",
    "\n",
    "mse_at_each_iterations_per_sample=mse_at_each_iterations.mean(axis=1).mean(axis=2)\n",
    "\n",
    "plt.figure(facecolor='white')\n",
    "plt.grid()\n",
    "plt.ylabel(\"mse\")\n",
    "plt.xlabel(\"iterations\")\n",
    "color=iter(cm.rainbow(np.linspace(0,1,len(list_value_1)*len(list_value_2))))\n",
    "\n",
    "for i in range(len(list_value_1)*len(list_value_2)):\n",
    "    c=next(color)\n",
    "    plt.plot(mse_at_each_iterations_per_sample[i], \n",
    "             label=f\"{name_value_1}={list_value_1[i//len(list_value_2)]}\"\n",
    "            + f\" & {name_value_2}={list_value_2[i%len(list_value_2)]}\", color=c)\n",
    "plt.legend(loc='upper right', bbox_to_anchor=(2, 1))\n"
   ]
  },
  {
   "cell_type": "code",
   "execution_count": null,
   "metadata": {},
   "outputs": [],
   "source": [
    "######################################:\n",
    "if len(stabilisation_check)==0:\n",
    "            #print(\"INIT\")\n",
    "            stabilisation_check=np.append(stabilisation_check, [[res_u,res_v]], axis=0)\n",
    "        elif len(stabilisation_check)==200:\n",
    "            #print(\"FINISH\")\n",
    "            print(f\"overlap(u, v): ({res_u}; {res_v})\")\n",
    "            return np.array(res), np.array(res_mse)\n",
    "        elif (np.abs(stabilisation_check-[res_u,res_v])<0.01).all():\n",
    "            #print(\"ADD\")\n",
    "            stabilisation_check=np.append(stabilisation_check, [[res_u,res_v]], axis=0)\n",
    "        else:\n",
    "            #print(\"RESET\")\n",
    "            stabilisation_check=np.empty((0,2))"
   ]
  }
 ],
 "metadata": {
  "kernelspec": {
   "display_name": "Python 3",
   "language": "python",
   "name": "python3"
  },
  "language_info": {
   "codemirror_mode": {
    "name": "ipython",
    "version": 3
   },
   "file_extension": ".py",
   "mimetype": "text/x-python",
   "name": "python",
   "nbconvert_exporter": "python",
   "pygments_lexer": "ipython3",
   "version": "3.8.5"
  }
 },
 "nbformat": 4,
 "nbformat_minor": 4
}
