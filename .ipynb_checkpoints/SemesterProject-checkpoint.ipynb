{
 "cells": [
  {
   "cell_type": "markdown",
   "metadata": {
    "colab_type": "text",
    "id": "view-in-github"
   },
   "source": [
    "<a href=\"https://colab.research.google.com/github/otto2B/ProjetLTHC/blob/main/SemesterProject.ipynb\" target=\"_parent\"><img src=\"https://colab.research.google.com/assets/colab-badge.svg\" alt=\"Open In Colab\"/></a>"
   ]
  },
  {
   "cell_type": "markdown",
   "metadata": {
    "id": "1haW_Jz54oDA"
   },
   "source": [
    "Voir https://tel.archives-ouvertes.fr/tel-02976034/document"
   ]
  },
  {
   "cell_type": "code",
   "execution_count": 2,
   "metadata": {},
   "outputs": [],
   "source": [
    "import torch\n",
    "import numpy as np\n",
    "import matplotlib.pyplot as plt\n",
    "import PROJECT.util as f\n",
    "from matplotlib.pyplot import cm\n",
    "from mpl_toolkits import mplot3d\n",
    "import plotly.graph_objects as go\n",
    "import pandas as pd"
   ]
  },
  {
   "cell_type": "code",
   "execution_count": 3,
   "metadata": {
    "id": "5Xap5T7TyQFQ"
   },
   "outputs": [],
   "source": [
    "def main_gradient_2_sans_proj_normalisation(u_p, v_p, Y, u_, v_, N, M, lambda_, beta_u, beta_v, lambda_1, lambda_2, dt):\n",
    "\n",
    "    res = []\n",
    "\n",
    "    for i in range(5000):\n",
    "\n",
    "        # Computation\n",
    "        sqrt_dt = torch.sqrt(dt)\n",
    "\n",
    "        u_1 = (1/lambda_1) * f.gradient_u_2(N, M, u_p,v_p,Y,lambda_) * dt\n",
    "        u_2 = torch.sqrt(2/(lambda_1*beta_u)) * torch.empty(N).normal_(mean=0,std=sqrt_dt)\n",
    "        u_3 = ((N-1)/(N*lambda_1*beta_u))*u_p*dt\n",
    "        u_n = u_p - u_1 + u_2 - u_3\n",
    "\n",
    "        v_1 = 1/lambda_2 * f.gradient_v_2(N,M,u_p,v_p,Y,lambda_) * dt\n",
    "        v_2 = torch.sqrt(2/(lambda_2*beta_v)) * torch.empty(M).normal_(mean=0,std=sqrt_dt)\n",
    "        v_3 = ((M-1)/(M*lambda_2*beta_v))*v_p*dt\n",
    "        v_n = v_p - v_1 + v_2 - v_3\n",
    "\n",
    "        # Normalisation\n",
    "        u_n = u_n / torch.linalg.norm(u_n)\n",
    "        v_n = v_n / torch.linalg.norm(v_n)\n",
    "        u_n = u_n * torch.sqrt(N)\n",
    "        v_n = v_n * torch.sqrt(M)\n",
    "\n",
    "        # Re-asign for the loop\n",
    "        u_p = u_n\n",
    "        v_p = v_n\n",
    "    \n",
    "        res_u = f.overlap(u_,u_n,N)\n",
    "        res_v = f.overlap(v_,v_n,M)\n",
    "        res.append((res_u,res_v))\n",
    "\n",
    "    return np.array(res)"
   ]
  },
  {
   "cell_type": "code",
   "execution_count": 4,
   "metadata": {
    "id": "5gxXxS-zt36X"
   },
   "outputs": [],
   "source": [
    "def main(lambda_=2):\n",
    "  #Size of the matrix Y\n",
    "  N = torch.tensor(500)\n",
    "  M = torch.tensor(500)\n",
    "\n",
    "  # lambda\n",
    "  lambda_ = torch.tensor(lambda_)\n",
    "\n",
    "  #temperatures\n",
    "  beta_u = torch.tensor(float(\"inf\"))\n",
    "  beta_v = torch.tensor(float(\"inf\"))\n",
    "\n",
    "  #learning rates\n",
    "  lambda_1 = torch.tensor(1)\n",
    "  lambda_2 = torch.tensor(1)\n",
    "\n",
    "  # Pas de temps\n",
    "  dt = torch.tensor(1/100)\n",
    "\n",
    "  res_u = []\n",
    "  res_v = []\n",
    "\n",
    "  u_ = f.generate_vector(N)\n",
    "  v_ = f.generate_vector(M)\n",
    "  #print(u_.is_cuda)\n",
    "  #print(v_.is_cuda)\n",
    "\n",
    "  Y = f.generate_Y(N, M, u_,v_, lambda_)\n",
    "  #print(Y)\n",
    "\n",
    "  # Conditions initiales\n",
    "  u_p = f.generate_vector(N)\n",
    "  v_p = f.generate_vector(M)\n",
    "\n",
    "  # Perform the gradient descent\n",
    "  # you can use with i=1 or 2:\n",
    "  # main_gradient_i_avec_proj\n",
    "  # main_gradient_i_sans_proj_normalisation\n",
    "  # main_gradient_i_sans_proj\n",
    "  res = main_gradient_2_sans_proj_normalisation(u_p, v_p, Y, u_, v_, N, M, lambda_, beta_u, beta_v, lambda_1, lambda_2, dt)\n",
    "\n",
    "  # Do you want to write the result in a file ?\n",
    "  #fu.writeIntoFile(abs(u_overlap).item(), abs(v_overlap).item(), N.item(), M.item(), lambda_.item(), beta_u.item(), beta_v.item(), lambda_1.item(), lambda_2.item(), dt.item())\n",
    "\n",
    "\n",
    "  return res\n"
   ]
  },
  {
   "cell_type": "code",
   "execution_count": 102,
   "metadata": {
    "id": "r7ixsU1gztCe"
   },
   "outputs": [],
   "source": []
  },
  {
   "cell_type": "code",
   "execution_count": 103,
   "metadata": {
    "colab": {
     "base_uri": "https://localhost:8080/",
     "height": 286
    },
    "id": "1kfb7JhEzK6N",
    "outputId": "5a933770-d9e6-4f9c-8064-3ec224e64e4f"
   },
   "outputs": [
    {
     "data": {
      "text/plain": [
       "(-1.0, 1.0)"
      ]
     },
     "execution_count": 103,
     "metadata": {
      "tags": []
     },
     "output_type": "execute_result"
    },
    {
     "data": {
      "image/png": "[encoded data removed]",
      "text/plain": [
       "<Figure size 432x288 with 1 Axes>"
      ]
     },
     "metadata": {
      "needs_background": "light",
      "tags": []
     },
     "output_type": "display_data"
    }
   ],
   "source": [
    "plt.plot(main(2.0))\n",
    "plt.grid()\n",
    "plt.ylim(-1,1.)"
   ]
  },
  {
   "cell_type": "code",
   "execution_count": 129,
   "metadata": {
    "id": "b9Kc06EBt4dI"
   },
   "outputs": [],
   "source": [
    "lambda_ = 1.8\n",
    "l = [main(lambda_) for _ in range(10)]"
   ]
  },
  {
   "cell_type": "code",
   "execution_count": 130,
   "metadata": {
    "colab": {
     "base_uri": "https://localhost:8080/",
     "height": 286
    },
    "id": "HwZALjXJwsid",
    "outputId": "b5a207a7-7b22-4a9d-a1c8-ce1d0fd351eb"
   },
   "outputs": [
    {
     "data": {
      "text/plain": [
       "(-1.0, 1.0)"
      ]
     },
     "execution_count": 130,
     "metadata": {
      "tags": []
     },
     "output_type": "execute_result"
    },
    {
     "data": {
      "image/png": "[encoded data removed]",
      "text/plain": [
       "<Figure size 432x288 with 1 Axes>"
      ]
     },
     "metadata": {
      "needs_background": "light",
      "tags": []
     },
     "output_type": "display_data"
    }
   ],
   "source": [
    "for i in range(len(l)):\n",
    "  plt.plot((l[i]))\n",
    "\n",
    "plt.grid()\n",
    "plt.ylim(-1,1.)"
   ]
  },
  {
   "cell_type": "code",
   "execution_count": 131,
   "metadata": {
    "colab": {
     "base_uri": "https://localhost:8080/"
    },
    "id": "BdjnJTSsz9ce",
    "outputId": "8e6c76b3-9151-468c-cdd2-0144c106870c"
   },
   "outputs": [
    {
     "data": {
      "text/plain": [
       "array([[-0.7077739 , -0.67686826],\n",
       "       [-0.6530745 , -0.6719208 ],\n",
       "       [-0.7019381 , -0.68069935],\n",
       "       [-0.6784533 , -0.67983913],\n",
       "       [-0.65560436, -0.646517  ],\n",
       "       [-0.6151227 , -0.6758418 ],\n",
       "       [-0.6167172 , -0.5915856 ],\n",
       "       [ 0.7093388 ,  0.700468  ],\n",
       "       [ 0.6241189 ,  0.64093983],\n",
       "       [ 0.7122248 ,  0.6996653 ]], dtype=float32)"
      ]
     },
     "execution_count": 131,
     "metadata": {
      "tags": []
     },
     "output_type": "execute_result"
    }
   ],
   "source": [
    "final = np.array([x[-1] for x in l])\n",
    "final"
   ]
  },
  {
   "cell_type": "code",
   "execution_count": 132,
   "metadata": {
    "colab": {
     "base_uri": "https://localhost:8080/"
    },
    "id": "VK4uYdKX3T-J",
    "outputId": "be33041f-7016-46f7-ac3a-c955c1c7617a"
   },
   "outputs": [
    {
     "data": {
      "text/plain": [
       "array([0.6674367 , 0.66643447], dtype=float32)"
      ]
     },
     "execution_count": 132,
     "metadata": {
      "tags": []
     },
     "output_type": "execute_result"
    }
   ],
   "source": [
    "np.abs(final).mean(axis=0)"
   ]
  },
  {
   "cell_type": "code",
   "execution_count": 133,
   "metadata": {
    "colab": {
     "base_uri": "https://localhost:8080/"
    },
    "id": "i58in23M3iv7",
    "outputId": "f5cffd4f-26c9-45d1-96b1-43ed93ad8f2d"
   },
   "outputs": [
    {
     "data": {
      "text/plain": [
       "array([0.00142325, 0.00095222], dtype=float32)"
      ]
     },
     "execution_count": 133,
     "metadata": {
      "tags": []
     },
     "output_type": "execute_result"
    }
   ],
   "source": [
    "np.abs(final).var(axis=0)"
   ]
  },
  {
   "cell_type": "code",
   "execution_count": 134,
   "metadata": {
    "colab": {
     "base_uri": "https://localhost:8080/"
    },
    "id": "nfj-SoTv2haO",
    "outputId": "6461e910-c497-47c5-bc10-6013ee3e7bcd"
   },
   "outputs": [
    {
     "data": {
      "text/plain": [
       "0.6666666666666666"
      ]
     },
     "execution_count": 134,
     "metadata": {
      "tags": []
     },
     "output_type": "execute_result"
    }
   ],
   "source": [
    "(1-1/lambda_)**0.5"
   ]
  },
  {
   "cell_type": "code",
   "execution_count": null,
   "metadata": {
    "id": "tJ5owxyT3mtG"
   },
   "outputs": [],
   "source": []
  }
 ],
 "metadata": {
  "colab": {
   "authorship_tag": "ABX9TyMHihL04EGeiDTt5YcsiVkS",
   "collapsed_sections": [],
   "include_colab_link": true,
   "name": "SemesterProject.ipynb",
   "provenance": []
  },
  "kernelspec": {
   "display_name": "Python 3",
   "language": "python",
   "name": "python3"
  },
  "language_info": {
   "codemirror_mode": {
    "name": "ipython",
    "version": 3
   },
   "file_extension": ".py",
   "mimetype": "text/x-python",
   "name": "python",
   "nbconvert_exporter": "python",
   "pygments_lexer": "ipython3",
   "version": "3.8.8"
  }
 },
 "nbformat": 4,
 "nbformat_minor": 1
}
